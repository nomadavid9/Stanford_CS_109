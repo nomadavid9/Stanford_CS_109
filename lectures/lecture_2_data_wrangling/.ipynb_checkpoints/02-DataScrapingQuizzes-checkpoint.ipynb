{
 "cells": [
  {
   "cell_type": "code",
   "execution_count": 557,
   "metadata": {
    "collapsed": true,
    "slideshow": {
     "slide_type": "skip"
    }
   },
   "outputs": [],
   "source": [
    "## all imports\n",
    "from IPython.display import HTML\n",
    "import numpy as np\n",
    "import urllib\n",
    "from urllib.request import urlopen\n",
    "import bs4 #this is beautiful soup\n",
    "import time\n",
    "import operator\n",
    "import socket\n",
    "import _pickle as cPickle\n",
    "import re # regular expressions\n",
    "from IPython.display import display, HTML\n",
    "\n",
    "from pandas import Series\n",
    "import pandas as pd\n",
    "from pandas import DataFrame\n",
    "\n",
    "import matplotlib\n",
    "import matplotlib.pyplot as plt\n",
    "%matplotlib inline\n",
    "\n",
    "import seaborn as sns\n",
    "sns.set_context(\"talk\")\n",
    "sns.set_style(\"white\")"
   ]
  },
  {
   "cell_type": "markdown",
   "metadata": {
    "slideshow": {
     "slide_type": "skip"
    }
   },
   "source": [
    "API registrations\n",
    "=================\n",
    "\n",
    "If you would like to run all the examples in this notebook, you need to register for the following APIs:\n",
    "\n",
    "* Rotten Tomatoes\n",
    "\n",
    "http://developer.rottentomatoes.com/member/register\n",
    "\n",
    "* Twitter\n",
    "\n",
    "https://apps.twitter.com/app/new\n",
    "\n",
    "* Twitter instructions\n",
    "\n",
    "https://twittercommunity.com/t/how-to-get-my-api-key/7033"
   ]
  },
  {
   "cell_type": "markdown",
   "metadata": {
    "slideshow": {
     "slide_type": "slide"
    }
   },
   "source": [
    "CS109\n",
    "=====\n",
    "\n",
    "Verena Kaynig-Fittkau, Joe Blitzstein, Hanspeter Pfister\n",
    "\n",
    "* vkaynig@seas.harvard.edu\n",
    "* staff@cs109.org"
   ]
  },
  {
   "cell_type": "markdown",
   "metadata": {
    "slideshow": {
     "slide_type": "slide"
    }
   },
   "source": [
    "Announcements\n",
    "==============\n",
    "\n",
    "* Over 400 sign ups on github!\n",
    "* If you are still missing, fill out the survey, time is running out!\n",
    "* Make sure you are on Piazza!\n",
    "\n",
    "\n",
    "* More [git help](https://www.youtube.com/channel/UC0-KaiZFXBlGOFN71YsEV8g/videos)\n",
    "\n",
    "\n",
    "* HW0 is due on Thursday \n",
    "* HW1 is coming out on Thursday\n"
   ]
  },
  {
   "cell_type": "markdown",
   "metadata": {
    "slideshow": {
     "slide_type": "slide"
    }
   },
   "source": [
    "Todays lecture:\n",
    "===============\n",
    "\n",
    "* introduction to pandas\n",
    "    - read a table\n",
    "    - do some plots\n",
    "\n",
    "* all about data scraping\n",
    "* ***What is it? ***\n",
    "* How to do it:\n",
    "    - from a website\n",
    "    - with an API"
   ]
  },
  {
   "cell_type": "markdown",
   "metadata": {
    "slideshow": {
     "slide_type": "slide"
    }
   },
   "source": [
    "IPython Notebooks:\n",
    "===================\n",
    "\n",
    "![IPython](images/ipython.png \"IPython\")"
   ]
  },
  {
   "cell_type": "markdown",
   "metadata": {
    "collapsed": true,
    "slideshow": {
     "slide_type": "slide"
    }
   },
   "source": [
    "IPython Notebooks:\n",
    "===================\n",
    "\n",
    "* These slides are an IPython notebook!\n",
    "* https://github.com/damianavila/live_reveal"
   ]
  },
  {
   "cell_type": "code",
   "execution_count": 535,
   "metadata": {},
   "outputs": [
    {
     "name": "stdout",
     "output_type": "stream",
     "text": [
      "Hello CS109\n",
      "I love IPython\n"
     ]
    }
   ],
   "source": [
    "print(\"Hello CS109\")\n",
    "\n",
    "print(\"I love IPython\")\n",
    "\n",
    "# Ipython notebook have tab completion!\n",
    "# and inbuild help\n",
    "  \n",
    "a = np.zeros(3)"
   ]
  },
  {
   "cell_type": "markdown",
   "metadata": {
    "slideshow": {
     "slide_type": "slide"
    }
   },
   "source": [
    "General advice about programming\n",
    "==================================\n",
    "\n",
    "* You will find nearly everything on google\n",
    "* Try: length of a list in python\n",
    "* A programmer is someone who can turn stack overflow snippets into running code\n",
    "* Use tab completion\n",
    "* Make your variable names meaningful\n"
   ]
  },
  {
   "cell_type": "markdown",
   "metadata": {
    "slideshow": {
     "slide_type": "slide"
    }
   },
   "source": [
    "How to load a table\n",
    "===================\n",
    "\n",
    "* we use Pandas for this\n",
    "* Pandas can do a __lot__ more\n",
    "* more about it later"
   ]
  },
  {
   "cell_type": "markdown",
   "metadata": {
    "slideshow": {
     "slide_type": "slide"
    }
   },
   "source": [
    "The MovieLens data\n",
    "===================\n",
    "\n",
    "http://grouplens.org/datasets/movielens/\n",
    "\n",
    "![Grouplens](images/grouplens.jpg \"Grouplens\")\n",
    "\n",
    "Example inspired by [Greg Reda](http://www.gregreda.com/2013/10/26/using-pandas-on-the-movielens-dataset/)"
   ]
  },
  {
   "cell_type": "markdown",
   "metadata": {
    "slideshow": {
     "slide_type": "slide"
    }
   },
   "source": [
    "Read the user data\n",
    "=================="
   ]
  },
  {
   "cell_type": "code",
   "execution_count": 536,
   "metadata": {
    "slideshow": {
     "slide_type": "-"
    }
   },
   "outputs": [
    {
     "data": {
      "text/html": [
       "<div>\n",
       "<style>\n",
       "    .dataframe thead tr:only-child th {\n",
       "        text-align: right;\n",
       "    }\n",
       "\n",
       "    .dataframe thead th {\n",
       "        text-align: left;\n",
       "    }\n",
       "\n",
       "    .dataframe tbody tr th {\n",
       "        vertical-align: top;\n",
       "    }\n",
       "</style>\n",
       "<table border=\"1\" class=\"dataframe\">\n",
       "  <thead>\n",
       "    <tr style=\"text-align: right;\">\n",
       "      <th></th>\n",
       "      <th>user_id</th>\n",
       "      <th>age</th>\n",
       "      <th>sex</th>\n",
       "      <th>occupation</th>\n",
       "      <th>zip_code</th>\n",
       "    </tr>\n",
       "  </thead>\n",
       "  <tbody>\n",
       "    <tr>\n",
       "      <th>0</th>\n",
       "      <td>1</td>\n",
       "      <td>24</td>\n",
       "      <td>M</td>\n",
       "      <td>technician</td>\n",
       "      <td>85711</td>\n",
       "    </tr>\n",
       "    <tr>\n",
       "      <th>1</th>\n",
       "      <td>2</td>\n",
       "      <td>53</td>\n",
       "      <td>F</td>\n",
       "      <td>other</td>\n",
       "      <td>94043</td>\n",
       "    </tr>\n",
       "    <tr>\n",
       "      <th>2</th>\n",
       "      <td>3</td>\n",
       "      <td>23</td>\n",
       "      <td>M</td>\n",
       "      <td>writer</td>\n",
       "      <td>32067</td>\n",
       "    </tr>\n",
       "    <tr>\n",
       "      <th>3</th>\n",
       "      <td>4</td>\n",
       "      <td>24</td>\n",
       "      <td>M</td>\n",
       "      <td>technician</td>\n",
       "      <td>43537</td>\n",
       "    </tr>\n",
       "    <tr>\n",
       "      <th>4</th>\n",
       "      <td>5</td>\n",
       "      <td>33</td>\n",
       "      <td>F</td>\n",
       "      <td>other</td>\n",
       "      <td>15213</td>\n",
       "    </tr>\n",
       "  </tbody>\n",
       "</table>\n",
       "</div>"
      ],
      "text/plain": [
       "   user_id  age sex  occupation zip_code\n",
       "0        1   24   M  technician    85711\n",
       "1        2   53   F       other    94043\n",
       "2        3   23   M      writer    32067\n",
       "3        4   24   M  technician    43537\n",
       "4        5   33   F       other    15213"
      ]
     },
     "execution_count": 536,
     "metadata": {},
     "output_type": "execute_result"
    }
   ],
   "source": [
    "# pass in column names for each CSV\n",
    "u_cols = ['user_id', 'age', 'sex', 'occupation', 'zip_code']\n",
    "\n",
    "users = pd.read_csv(\n",
    "    'http://files.grouplens.org/datasets/movielens/ml-100k/u.user', \n",
    "    sep='|', names=u_cols)\n",
    "\n",
    "users.head()"
   ]
  },
  {
   "cell_type": "markdown",
   "metadata": {
    "slideshow": {
     "slide_type": "slide"
    }
   },
   "source": [
    "Read the ratings\n",
    "============"
   ]
  },
  {
   "cell_type": "code",
   "execution_count": 537,
   "metadata": {},
   "outputs": [
    {
     "data": {
      "text/html": [
       "<div>\n",
       "<style>\n",
       "    .dataframe thead tr:only-child th {\n",
       "        text-align: right;\n",
       "    }\n",
       "\n",
       "    .dataframe thead th {\n",
       "        text-align: left;\n",
       "    }\n",
       "\n",
       "    .dataframe tbody tr th {\n",
       "        vertical-align: top;\n",
       "    }\n",
       "</style>\n",
       "<table border=\"1\" class=\"dataframe\">\n",
       "  <thead>\n",
       "    <tr style=\"text-align: right;\">\n",
       "      <th></th>\n",
       "      <th>user_id</th>\n",
       "      <th>movie_id</th>\n",
       "      <th>rating</th>\n",
       "      <th>unix_timestamp</th>\n",
       "    </tr>\n",
       "  </thead>\n",
       "  <tbody>\n",
       "    <tr>\n",
       "      <th>0</th>\n",
       "      <td>196</td>\n",
       "      <td>242</td>\n",
       "      <td>3</td>\n",
       "      <td>881250949</td>\n",
       "    </tr>\n",
       "    <tr>\n",
       "      <th>1</th>\n",
       "      <td>186</td>\n",
       "      <td>302</td>\n",
       "      <td>3</td>\n",
       "      <td>891717742</td>\n",
       "    </tr>\n",
       "    <tr>\n",
       "      <th>2</th>\n",
       "      <td>22</td>\n",
       "      <td>377</td>\n",
       "      <td>1</td>\n",
       "      <td>878887116</td>\n",
       "    </tr>\n",
       "    <tr>\n",
       "      <th>3</th>\n",
       "      <td>244</td>\n",
       "      <td>51</td>\n",
       "      <td>2</td>\n",
       "      <td>880606923</td>\n",
       "    </tr>\n",
       "    <tr>\n",
       "      <th>4</th>\n",
       "      <td>166</td>\n",
       "      <td>346</td>\n",
       "      <td>1</td>\n",
       "      <td>886397596</td>\n",
       "    </tr>\n",
       "  </tbody>\n",
       "</table>\n",
       "</div>"
      ],
      "text/plain": [
       "   user_id  movie_id  rating  unix_timestamp\n",
       "0      196       242       3       881250949\n",
       "1      186       302       3       891717742\n",
       "2       22       377       1       878887116\n",
       "3      244        51       2       880606923\n",
       "4      166       346       1       886397596"
      ]
     },
     "execution_count": 537,
     "metadata": {},
     "output_type": "execute_result"
    }
   ],
   "source": [
    "r_cols = ['user_id', 'movie_id', 'rating', 'unix_timestamp']\n",
    "ratings = pd.read_csv(\n",
    "    'http://files.grouplens.org/datasets/movielens/ml-100k/u.data', \n",
    "    sep='\\t', names=r_cols)\n",
    "\n",
    "ratings.head() "
   ]
  },
  {
   "cell_type": "markdown",
   "metadata": {
    "slideshow": {
     "slide_type": "slide"
    }
   },
   "source": [
    "Now data about the movies\n",
    "========================="
   ]
  },
  {
   "cell_type": "code",
   "execution_count": 538,
   "metadata": {},
   "outputs": [
    {
     "data": {
      "text/html": [
       "<div>\n",
       "<style>\n",
       "    .dataframe thead tr:only-child th {\n",
       "        text-align: right;\n",
       "    }\n",
       "\n",
       "    .dataframe thead th {\n",
       "        text-align: left;\n",
       "    }\n",
       "\n",
       "    .dataframe tbody tr th {\n",
       "        vertical-align: top;\n",
       "    }\n",
       "</style>\n",
       "<table border=\"1\" class=\"dataframe\">\n",
       "  <thead>\n",
       "    <tr style=\"text-align: right;\">\n",
       "      <th></th>\n",
       "      <th>movie_id</th>\n",
       "      <th>title</th>\n",
       "      <th>release_date</th>\n",
       "      <th>video_release_date</th>\n",
       "      <th>imdb_url</th>\n",
       "    </tr>\n",
       "  </thead>\n",
       "  <tbody>\n",
       "    <tr>\n",
       "      <th>0</th>\n",
       "      <td>1</td>\n",
       "      <td>Toy Story (1995)</td>\n",
       "      <td>01-Jan-1995</td>\n",
       "      <td>NaN</td>\n",
       "      <td>http://us.imdb.com/M/title-exact?Toy%20Story%2...</td>\n",
       "    </tr>\n",
       "    <tr>\n",
       "      <th>1</th>\n",
       "      <td>2</td>\n",
       "      <td>GoldenEye (1995)</td>\n",
       "      <td>01-Jan-1995</td>\n",
       "      <td>NaN</td>\n",
       "      <td>http://us.imdb.com/M/title-exact?GoldenEye%20(...</td>\n",
       "    </tr>\n",
       "    <tr>\n",
       "      <th>2</th>\n",
       "      <td>3</td>\n",
       "      <td>Four Rooms (1995)</td>\n",
       "      <td>01-Jan-1995</td>\n",
       "      <td>NaN</td>\n",
       "      <td>http://us.imdb.com/M/title-exact?Four%20Rooms%...</td>\n",
       "    </tr>\n",
       "    <tr>\n",
       "      <th>3</th>\n",
       "      <td>4</td>\n",
       "      <td>Get Shorty (1995)</td>\n",
       "      <td>01-Jan-1995</td>\n",
       "      <td>NaN</td>\n",
       "      <td>http://us.imdb.com/M/title-exact?Get%20Shorty%...</td>\n",
       "    </tr>\n",
       "    <tr>\n",
       "      <th>4</th>\n",
       "      <td>5</td>\n",
       "      <td>Copycat (1995)</td>\n",
       "      <td>01-Jan-1995</td>\n",
       "      <td>NaN</td>\n",
       "      <td>http://us.imdb.com/M/title-exact?Copycat%20(1995)</td>\n",
       "    </tr>\n",
       "  </tbody>\n",
       "</table>\n",
       "</div>"
      ],
      "text/plain": [
       "   movie_id              title release_date  video_release_date  \\\n",
       "0         1   Toy Story (1995)  01-Jan-1995                 NaN   \n",
       "1         2   GoldenEye (1995)  01-Jan-1995                 NaN   \n",
       "2         3  Four Rooms (1995)  01-Jan-1995                 NaN   \n",
       "3         4  Get Shorty (1995)  01-Jan-1995                 NaN   \n",
       "4         5     Copycat (1995)  01-Jan-1995                 NaN   \n",
       "\n",
       "                                            imdb_url  \n",
       "0  http://us.imdb.com/M/title-exact?Toy%20Story%2...  \n",
       "1  http://us.imdb.com/M/title-exact?GoldenEye%20(...  \n",
       "2  http://us.imdb.com/M/title-exact?Four%20Rooms%...  \n",
       "3  http://us.imdb.com/M/title-exact?Get%20Shorty%...  \n",
       "4  http://us.imdb.com/M/title-exact?Copycat%20(1995)  "
      ]
     },
     "execution_count": 538,
     "metadata": {},
     "output_type": "execute_result"
    }
   ],
   "source": [
    "# the movies file contains columns indicating the movie's genres\n",
    "# let's only load the first five columns of the file with usecols\n",
    "m_cols = ['movie_id', 'title', 'release_date', \n",
    "            'video_release_date', 'imdb_url']\n",
    "\n",
    "movies = pd.read_csv(\n",
    "    'http://files.grouplens.org/datasets/movielens/ml-100k/u.item', \n",
    "    sep='|', names=m_cols, usecols=range(5), encoding=\"latin1\")\n",
    "\n",
    "movies.head()"
   ]
  },
  {
   "cell_type": "markdown",
   "metadata": {
    "slideshow": {
     "slide_type": "slide"
    }
   },
   "source": [
    "Get information about data\n",
    "======================="
   ]
  },
  {
   "cell_type": "code",
   "execution_count": 539,
   "metadata": {},
   "outputs": [
    {
     "name": "stdout",
     "output_type": "stream",
     "text": [
      "movie_id                int64\n",
      "title                  object\n",
      "release_date           object\n",
      "video_release_date    float64\n",
      "imdb_url               object\n",
      "dtype: object\n",
      "          movie_id  video_release_date\n",
      "count  1682.000000                 0.0\n",
      "mean    841.500000                 NaN\n",
      "std     485.695893                 NaN\n",
      "min       1.000000                 NaN\n",
      "25%     421.250000                 NaN\n",
      "50%     841.500000                 NaN\n",
      "75%    1261.750000                 NaN\n",
      "max    1682.000000                 NaN\n"
     ]
    }
   ],
   "source": [
    "print(movies.dtypes)\n",
    "print\n",
    "print(movies.describe())\n",
    "# *** Why only those two columns? ***"
   ]
  },
  {
   "cell_type": "markdown",
   "metadata": {
    "slideshow": {
     "slide_type": "slide"
    }
   },
   "source": [
    "Selecting data\n",
    "==============\n",
    "\n",
    "* DataFrame => group of Series with shared index\n",
    "* single DataFrame column => Series"
   ]
  },
  {
   "cell_type": "code",
   "execution_count": 540,
   "metadata": {
    "slideshow": {
     "slide_type": "slide"
    }
   },
   "outputs": [
    {
     "name": "stdout",
     "output_type": "stream",
     "text": [
      "user_id                4\n",
      "age                   24\n",
      "sex                    M\n",
      "occupation    technician\n",
      "zip_code           43537\n",
      "Name: 3, dtype: object\n"
     ]
    }
   ],
   "source": [
    "users.head()\n",
    "#users['occupation'].head()\n",
    "## *** Where did the nice design go? ***\n",
    "#columns_you_want = ['occupation', 'sex'] \n",
    "users[columns_you_want].head()\n",
    "\n",
    "users.head()\n",
    "\n",
    "print(users.iloc[3])"
   ]
  },
  {
   "cell_type": "markdown",
   "metadata": {
    "slideshow": {
     "slide_type": "slide"
    }
   },
   "source": [
    "Filtering data\n",
    "==============\n",
    "\n",
    "Select users older than 25"
   ]
  },
  {
   "cell_type": "code",
   "execution_count": 541,
   "metadata": {},
   "outputs": [
    {
     "data": {
      "text/html": [
       "<div>\n",
       "<style>\n",
       "    .dataframe thead tr:only-child th {\n",
       "        text-align: right;\n",
       "    }\n",
       "\n",
       "    .dataframe thead th {\n",
       "        text-align: left;\n",
       "    }\n",
       "\n",
       "    .dataframe tbody tr th {\n",
       "        vertical-align: top;\n",
       "    }\n",
       "</style>\n",
       "<table border=\"1\" class=\"dataframe\">\n",
       "  <thead>\n",
       "    <tr style=\"text-align: right;\">\n",
       "      <th></th>\n",
       "      <th>user_id</th>\n",
       "      <th>age</th>\n",
       "      <th>sex</th>\n",
       "      <th>occupation</th>\n",
       "      <th>zip_code</th>\n",
       "    </tr>\n",
       "  </thead>\n",
       "  <tbody>\n",
       "    <tr>\n",
       "      <th>1</th>\n",
       "      <td>2</td>\n",
       "      <td>53</td>\n",
       "      <td>F</td>\n",
       "      <td>other</td>\n",
       "      <td>94043</td>\n",
       "    </tr>\n",
       "    <tr>\n",
       "      <th>4</th>\n",
       "      <td>5</td>\n",
       "      <td>33</td>\n",
       "      <td>F</td>\n",
       "      <td>other</td>\n",
       "      <td>15213</td>\n",
       "    </tr>\n",
       "    <tr>\n",
       "      <th>5</th>\n",
       "      <td>6</td>\n",
       "      <td>42</td>\n",
       "      <td>M</td>\n",
       "      <td>executive</td>\n",
       "      <td>98101</td>\n",
       "    </tr>\n",
       "    <tr>\n",
       "      <th>6</th>\n",
       "      <td>7</td>\n",
       "      <td>57</td>\n",
       "      <td>M</td>\n",
       "      <td>administrator</td>\n",
       "      <td>91344</td>\n",
       "    </tr>\n",
       "    <tr>\n",
       "      <th>7</th>\n",
       "      <td>8</td>\n",
       "      <td>36</td>\n",
       "      <td>M</td>\n",
       "      <td>administrator</td>\n",
       "      <td>05201</td>\n",
       "    </tr>\n",
       "  </tbody>\n",
       "</table>\n",
       "</div>"
      ],
      "text/plain": [
       "   user_id  age sex     occupation zip_code\n",
       "1        2   53   F          other    94043\n",
       "4        5   33   F          other    15213\n",
       "5        6   42   M      executive    98101\n",
       "6        7   57   M  administrator    91344\n",
       "7        8   36   M  administrator    05201"
      ]
     },
     "execution_count": 541,
     "metadata": {},
     "output_type": "execute_result"
    }
   ],
   "source": [
    "oldUsers = users[users.age > 25]\n",
    "oldUsers.head()"
   ]
  },
  {
   "cell_type": "markdown",
   "metadata": {
    "slideshow": {
     "slide_type": "slide"
    }
   },
   "source": [
    "Quiz:\n",
    "=====\n",
    "\n",
    "* show users aged 40 and male\n",
    "\n",
    "* show the mean age of female programmers"
   ]
  },
  {
   "cell_type": "code",
   "execution_count": 542,
   "metadata": {
    "slideshow": {
     "slide_type": "slide"
    }
   },
   "outputs": [
    {
     "data": {
      "text/html": [
       "<div>\n",
       "<style>\n",
       "    .dataframe thead tr:only-child th {\n",
       "        text-align: right;\n",
       "    }\n",
       "\n",
       "    .dataframe thead th {\n",
       "        text-align: left;\n",
       "    }\n",
       "\n",
       "    .dataframe tbody tr th {\n",
       "        vertical-align: top;\n",
       "    }\n",
       "</style>\n",
       "<table border=\"1\" class=\"dataframe\">\n",
       "  <thead>\n",
       "    <tr style=\"text-align: right;\">\n",
       "      <th></th>\n",
       "      <th>user_id</th>\n",
       "      <th>age</th>\n",
       "      <th>sex</th>\n",
       "      <th>occupation</th>\n",
       "      <th>zip_code</th>\n",
       "    </tr>\n",
       "  </thead>\n",
       "  <tbody>\n",
       "    <tr>\n",
       "      <th>18</th>\n",
       "      <td>19</td>\n",
       "      <td>40</td>\n",
       "      <td>M</td>\n",
       "      <td>librarian</td>\n",
       "      <td>02138</td>\n",
       "    </tr>\n",
       "    <tr>\n",
       "      <th>82</th>\n",
       "      <td>83</td>\n",
       "      <td>40</td>\n",
       "      <td>M</td>\n",
       "      <td>other</td>\n",
       "      <td>44133</td>\n",
       "    </tr>\n",
       "    <tr>\n",
       "      <th>115</th>\n",
       "      <td>116</td>\n",
       "      <td>40</td>\n",
       "      <td>M</td>\n",
       "      <td>healthcare</td>\n",
       "      <td>97232</td>\n",
       "    </tr>\n",
       "    <tr>\n",
       "      <th>199</th>\n",
       "      <td>200</td>\n",
       "      <td>40</td>\n",
       "      <td>M</td>\n",
       "      <td>programmer</td>\n",
       "      <td>93402</td>\n",
       "    </tr>\n",
       "    <tr>\n",
       "      <th>283</th>\n",
       "      <td>284</td>\n",
       "      <td>40</td>\n",
       "      <td>M</td>\n",
       "      <td>executive</td>\n",
       "      <td>92629</td>\n",
       "    </tr>\n",
       "    <tr>\n",
       "      <th>289</th>\n",
       "      <td>290</td>\n",
       "      <td>40</td>\n",
       "      <td>M</td>\n",
       "      <td>engineer</td>\n",
       "      <td>93550</td>\n",
       "    </tr>\n",
       "    <tr>\n",
       "      <th>308</th>\n",
       "      <td>309</td>\n",
       "      <td>40</td>\n",
       "      <td>M</td>\n",
       "      <td>scientist</td>\n",
       "      <td>70802</td>\n",
       "    </tr>\n",
       "    <tr>\n",
       "      <th>357</th>\n",
       "      <td>358</td>\n",
       "      <td>40</td>\n",
       "      <td>M</td>\n",
       "      <td>educator</td>\n",
       "      <td>10022</td>\n",
       "    </tr>\n",
       "    <tr>\n",
       "      <th>397</th>\n",
       "      <td>398</td>\n",
       "      <td>40</td>\n",
       "      <td>M</td>\n",
       "      <td>other</td>\n",
       "      <td>60008</td>\n",
       "    </tr>\n",
       "    <tr>\n",
       "      <th>564</th>\n",
       "      <td>565</td>\n",
       "      <td>40</td>\n",
       "      <td>M</td>\n",
       "      <td>student</td>\n",
       "      <td>55422</td>\n",
       "    </tr>\n",
       "    <tr>\n",
       "      <th>646</th>\n",
       "      <td>647</td>\n",
       "      <td>40</td>\n",
       "      <td>M</td>\n",
       "      <td>educator</td>\n",
       "      <td>45810</td>\n",
       "    </tr>\n",
       "    <tr>\n",
       "      <th>791</th>\n",
       "      <td>792</td>\n",
       "      <td>40</td>\n",
       "      <td>M</td>\n",
       "      <td>programmer</td>\n",
       "      <td>12205</td>\n",
       "    </tr>\n",
       "    <tr>\n",
       "      <th>841</th>\n",
       "      <td>842</td>\n",
       "      <td>40</td>\n",
       "      <td>M</td>\n",
       "      <td>writer</td>\n",
       "      <td>93055</td>\n",
       "    </tr>\n",
       "    <tr>\n",
       "      <th>917</th>\n",
       "      <td>918</td>\n",
       "      <td>40</td>\n",
       "      <td>M</td>\n",
       "      <td>scientist</td>\n",
       "      <td>70116</td>\n",
       "    </tr>\n",
       "  </tbody>\n",
       "</table>\n",
       "</div>"
      ],
      "text/plain": [
       "     user_id  age sex  occupation zip_code\n",
       "18        19   40   M   librarian    02138\n",
       "82        83   40   M       other    44133\n",
       "115      116   40   M  healthcare    97232\n",
       "199      200   40   M  programmer    93402\n",
       "283      284   40   M   executive    92629\n",
       "289      290   40   M    engineer    93550\n",
       "308      309   40   M   scientist    70802\n",
       "357      358   40   M    educator    10022\n",
       "397      398   40   M       other    60008\n",
       "564      565   40   M     student    55422\n",
       "646      647   40   M    educator    45810\n",
       "791      792   40   M  programmer    12205\n",
       "841      842   40   M      writer    93055\n",
       "917      918   40   M   scientist    70116"
      ]
     },
     "execution_count": 542,
     "metadata": {},
     "output_type": "execute_result"
    }
   ],
   "source": [
    "# users aged 40 AND male\n",
    "# your code here\n",
    "forty_and_male = users[(users.age == 40) & (users.sex == \"M\")]\n",
    "forty_and_male"
   ]
  },
  {
   "cell_type": "code",
   "execution_count": 543,
   "metadata": {
    "slideshow": {
     "slide_type": "slide"
    }
   },
   "outputs": [
    {
     "name": "stdout",
     "output_type": "stream",
     "text": [
      "32 is the average age for the female programmers in this set.\n"
     ]
    }
   ],
   "source": [
    "## users who are female and programmers\n",
    "# your code here\n",
    "female_programmers = users[(users.sex == \"F\") & (users.occupation == \"programmer\")]\n",
    "female_programmers\n",
    "## show statistic summary or compute mean\n",
    "# your code here\n",
    "fem_prog_mean_age = female_programmers.age.mean()\n",
    "rounded = round(fem_prog_mean_age)\n",
    "print(str(round(fem_prog_mean_age)) + \" is the average age for the female programmers in this set.\")"
   ]
  },
  {
   "cell_type": "markdown",
   "metadata": {
    "slideshow": {
     "slide_type": "slide"
    }
   },
   "source": [
    "Split-apply-combine\n",
    "===================\n",
    "\n",
    "* splitting the data into groups based on some criteria\n",
    "* applying a function to each group independently\n",
    "* combining the results into a data structure"
   ]
  },
  {
   "cell_type": "markdown",
   "metadata": {
    "slideshow": {
     "slide_type": "slide"
    }
   },
   "source": [
    "Split-apply-combine\n",
    "===================\n",
    "\n",
    "<img src=http://i.imgur.com/yjNkiwL.png></img>"
   ]
  },
  {
   "cell_type": "markdown",
   "metadata": {
    "slideshow": {
     "slide_type": "slide"
    }
   },
   "source": [
    "Find Diligent Users\n",
    "===================\n",
    "\n",
    "* split data per user ID\n",
    "* count ratings\n",
    "* combine result"
   ]
  },
  {
   "cell_type": "code",
   "execution_count": 544,
   "metadata": {
    "slideshow": {
     "slide_type": "slide"
    }
   },
   "outputs": [
    {
     "data": {
      "text/plain": [
       "user_id\n",
       "1     272\n",
       "2      62\n",
       "3      54\n",
       "4      24\n",
       "5     175\n",
       "6     211\n",
       "7     403\n",
       "8      59\n",
       "9      22\n",
       "10    184\n",
       "Name: movie_id, dtype: int64"
      ]
     },
     "execution_count": 544,
     "metadata": {},
     "output_type": "execute_result"
    }
   ],
   "source": [
    "ratings.head(10)\n",
    "## split data\n",
    "grouped_data = ratings['movie_id'].groupby(ratings['user_id'])\n",
    "\n",
    "## count and combine\n",
    "ratings_per_user = grouped_data.count()\n",
    "\n",
    "ratings_per_user.head(10)"
   ]
  },
  {
   "cell_type": "markdown",
   "metadata": {
    "slideshow": {
     "slide_type": "slide"
    }
   },
   "source": [
    "Quiz\n",
    "====\n",
    "\n",
    "* get the average rating per movie\n",
    "* advanced: get the movie titles with the highest average rating"
   ]
  },
  {
   "cell_type": "code",
   "execution_count": 545,
   "metadata": {},
   "outputs": [
    {
     "name": "stdout",
     "output_type": "stream",
     "text": [
      "Average ratings:\n",
      "   movie_id  rating\n",
      "0         1    3.88\n",
      "1         2    3.21\n",
      "2         3    3.03\n",
      "3         4    3.55\n",
      "4         5    3.30\n",
      "\n"
     ]
    }
   ],
   "source": [
    "#Create Series movie_id to Rating\n",
    "temp = ratings['rating'].groupby(ratings['movie_id'])\n",
    "#average\n",
    "temp_series = temp.mean()\n",
    "\n",
    "#Turn into a dataframe and round to 2 decimal places\n",
    "average_ratings = pd.DataFrame({'movie_id':temp_series.index, 'rating':temp_series.values})\n",
    "#round\n",
    "average_ratings['rating'] = average_ratings.rating.round(2)\n",
    "\n",
    "print(\"Average ratings:\")\n",
    "print(average_ratings.head())\n",
    "print()"
   ]
  },
  {
   "cell_type": "code",
   "execution_count": 546,
   "metadata": {},
   "outputs": [
    {
     "name": "stdout",
     "output_type": "stream",
     "text": [
      "ratings by count dataframe\n",
      "   movie_id  ratings_count\n",
      "0         1            452\n",
      "1         2            131\n",
      "2         3             90\n",
      "3         4            209\n",
      "4         5             86\n",
      "\n"
     ]
    }
   ],
   "source": [
    "#Create Series movie_id to rating_count\n",
    "temp_series_2 = ratings.groupby(ratings[\"movie_id\"]).size()\n",
    "\n",
    "#Turn into a dataframe \n",
    "ratings_count = pd.DataFrame({'movie_id':temp_series_2.index, 'ratings_count':temp_series_2.values})\n",
    "\n",
    "print(\"ratings by count dataframe\")\n",
    "print(ratings_count.head())\n",
    "print()"
   ]
  },
  {
   "cell_type": "code",
   "execution_count": 547,
   "metadata": {},
   "outputs": [
    {
     "name": "stdout",
     "output_type": "stream",
     "text": [
      "     movie_id                           title release_date  \\\n",
      "49         50                Star Wars (1977)  01-Jan-1977   \n",
      "257       258                  Contact (1997)  11-Jul-1997   \n",
      "99        100                    Fargo (1996)  14-Feb-1997   \n",
      "180       181       Return of the Jedi (1983)  14-Mar-1997   \n",
      "293       294                Liar Liar (1997)  21-Mar-1997   \n",
      "285       286     English Patient, The (1996)  15-Nov-1996   \n",
      "287       288                   Scream (1996)  20-Dec-1996   \n",
      "0           1                Toy Story (1995)  01-Jan-1995   \n",
      "299       300            Air Force One (1997)  01-Jan-1997   \n",
      "120       121   Independence Day (ID4) (1996)  03-Jul-1996   \n",
      "173       174  Raiders of the Lost Ark (1981)  01-Jan-1981   \n",
      "126       127           Godfather, The (1972)  01-Jan-1972   \n",
      "\n",
      "     video_release_date                                           imdb_url  \\\n",
      "49                  NaN  http://us.imdb.com/M/title-exact?Star%20Wars%2...   \n",
      "257                 NaN          http://us.imdb.com/Title?Contact+(1997/I)   \n",
      "99                  NaN    http://us.imdb.com/M/title-exact?Fargo%20(1996)   \n",
      "180                 NaN  http://us.imdb.com/M/title-exact?Return%20of%2...   \n",
      "293                 NaN          http://us.imdb.com/Title?Liar+Liar+(1997)   \n",
      "285                 NaN  http://us.imdb.com/M/title-exact?English%20Pat...   \n",
      "287                 NaN   http://us.imdb.com/M/title-exact?Scream%20(1996)   \n",
      "0                   NaN  http://us.imdb.com/M/title-exact?Toy%20Story%2...   \n",
      "299                 NaN  http://us.imdb.com/M/title-exact?Air+Force+One...   \n",
      "120                 NaN  http://us.imdb.com/M/title-exact?Independence%...   \n",
      "173                 NaN  http://us.imdb.com/M/title-exact?Raiders%20of%...   \n",
      "126                 NaN  http://us.imdb.com/M/title-exact?Godfather,%20...   \n",
      "\n",
      "     ratings_count  avg_rating  \n",
      "49             583        4.36  \n",
      "257            509        3.80  \n",
      "99             508        4.16  \n",
      "180            507        4.01  \n",
      "293            485        3.16  \n",
      "285            481        3.66  \n",
      "287            478        3.44  \n",
      "0              452        3.88  \n",
      "299            431        3.63  \n",
      "120            429        3.44  \n",
      "173            420        4.25  \n",
      "126            413        4.28  \n"
     ]
    }
   ],
   "source": [
    "movies['ratings_count'] = movies['movie_id'].map(ratings_count.set_index('movie_id')['ratings_count'])\n",
    "movies['avg_rating'] = movies['movie_id'].map(average_ratings.set_index('movie_id')['rating'])\n",
    "top_movies = movies.sort_values(by=['ratings_count', \"avg_rating\"], ascending=False)\n",
    "print(top_movies.head(12))"
   ]
  },
  {
   "cell_type": "code",
   "execution_count": 553,
   "metadata": {},
   "outputs": [
    {
     "data": {
      "text/html": [
       "<table border=\"1\" class=\"dataframe\">\n",
       "  <thead>\n",
       "    <tr style=\"text-align: right;\">\n",
       "      <th></th>\n",
       "      <th>movie_id</th>\n",
       "      <th>title</th>\n",
       "      <th>release_date</th>\n",
       "      <th>avg_rating</th>\n",
       "      <th>ratings_count</th>\n",
       "    </tr>\n",
       "  </thead>\n",
       "  <tbody>\n",
       "    <tr>\n",
       "      <th>1</th>\n",
       "      <td>50</td>\n",
       "      <td>Star Wars (1977)</td>\n",
       "      <td>01-Jan-1977</td>\n",
       "      <td>4.36</td>\n",
       "      <td>583</td>\n",
       "    </tr>\n",
       "    <tr>\n",
       "      <th>2</th>\n",
       "      <td>258</td>\n",
       "      <td>Contact (1997)</td>\n",
       "      <td>11-Jul-1997</td>\n",
       "      <td>3.80</td>\n",
       "      <td>509</td>\n",
       "    </tr>\n",
       "    <tr>\n",
       "      <th>3</th>\n",
       "      <td>100</td>\n",
       "      <td>Fargo (1996)</td>\n",
       "      <td>14-Feb-1997</td>\n",
       "      <td>4.16</td>\n",
       "      <td>508</td>\n",
       "    </tr>\n",
       "    <tr>\n",
       "      <th>4</th>\n",
       "      <td>181</td>\n",
       "      <td>Return of the Jedi (1983)</td>\n",
       "      <td>14-Mar-1997</td>\n",
       "      <td>4.01</td>\n",
       "      <td>507</td>\n",
       "    </tr>\n",
       "    <tr>\n",
       "      <th>5</th>\n",
       "      <td>294</td>\n",
       "      <td>Liar Liar (1997)</td>\n",
       "      <td>21-Mar-1997</td>\n",
       "      <td>3.16</td>\n",
       "      <td>485</td>\n",
       "    </tr>\n",
       "    <tr>\n",
       "      <th>6</th>\n",
       "      <td>286</td>\n",
       "      <td>English Patient, The (1996)</td>\n",
       "      <td>15-Nov-1996</td>\n",
       "      <td>3.66</td>\n",
       "      <td>481</td>\n",
       "    </tr>\n",
       "    <tr>\n",
       "      <th>7</th>\n",
       "      <td>288</td>\n",
       "      <td>Scream (1996)</td>\n",
       "      <td>20-Dec-1996</td>\n",
       "      <td>3.44</td>\n",
       "      <td>478</td>\n",
       "    </tr>\n",
       "    <tr>\n",
       "      <th>8</th>\n",
       "      <td>1</td>\n",
       "      <td>Toy Story (1995)</td>\n",
       "      <td>01-Jan-1995</td>\n",
       "      <td>3.88</td>\n",
       "      <td>452</td>\n",
       "    </tr>\n",
       "    <tr>\n",
       "      <th>9</th>\n",
       "      <td>300</td>\n",
       "      <td>Air Force One (1997)</td>\n",
       "      <td>01-Jan-1997</td>\n",
       "      <td>3.63</td>\n",
       "      <td>431</td>\n",
       "    </tr>\n",
       "    <tr>\n",
       "      <th>10</th>\n",
       "      <td>121</td>\n",
       "      <td>Independence Day (ID4) (1996)</td>\n",
       "      <td>03-Jul-1996</td>\n",
       "      <td>3.44</td>\n",
       "      <td>429</td>\n",
       "    </tr>\n",
       "  </tbody>\n",
       "</table>"
      ],
      "text/plain": [
       "<IPython.core.display.HTML object>"
      ]
     },
     "metadata": {},
     "output_type": "display_data"
    }
   ],
   "source": [
    "#Pick relevant Columns from movies df\n",
    "top_movies_simplified = top_movies[['movie_id','title', 'release_date','avg_rating', 'ratings_count']]\n",
    "\n",
    "#top 10 movies\n",
    "top_10_movies = top_movies_simplified[0:10]\n",
    "\n",
    "#update index to display \"top 10\" nature of list.\n",
    "top_10_movies.index = np.arange(1, len(top_10_movies) + 1)\n",
    "\n",
    "#Print raw html version of final table\n",
    "display(HTML(top_10_movies.to_html()))"
   ]
  },
  {
   "cell_type": "code",
   "execution_count": 184,
   "metadata": {
    "slideshow": {
     "slide_type": "slide"
    }
   },
   "outputs": [
    {
     "name": "stdout",
     "output_type": "stream",
     "text": [
      "Good movie ids:\n",
      "Int64Index([814, 1122, 1189, 1201, 1293, 1467, 1500, 1536, 1599, 1653], dtype='int64', name='movie_id')\n",
      "Best movie titles\n",
      "813                         Great Day in Harlem, A (1994)\n",
      "1121                       They Made Me a Criminal (1939)\n",
      "1188                                   Prefontaine (1997)\n",
      "1200           Marlene Dietrich: Shadow and Light (1996) \n",
      "1292                                      Star Kid (1997)\n",
      "1466                 Saint of Fort Washington, The (1993)\n",
      "1499                            Santa with Muscles (1996)\n",
      "1535                                 Aiqing wansui (1994)\n",
      "1598                        Someone Else's America (1995)\n",
      "1652    Entertaining Angels: The Dorothy Day Story (1996)\n",
      "Name: title, dtype: object\n"
     ]
    }
   ],
   "source": [
    "print(\"Good movie ids:\")\n",
    "print(good_movie_ids)\n",
    "\n",
    "print(\"Best movie titles\")\n",
    "best_movie_titles = movies[movies.movie_id.isin(good_movie_ids)].title\n",
    "print(best_movie_titles)"
   ]
  },
  {
   "cell_type": "code",
   "execution_count": 242,
   "metadata": {
    "slideshow": {
     "slide_type": "slide"
    }
   },
   "outputs": [
    {
     "name": "stdout",
     "output_type": "stream",
     "text": [
      "Number of ratings by id\n",
      "<pandas.core.groupby.SeriesGroupBy object at 0x000001C764465748>\n"
     ]
    }
   ],
   "source": [
    "print(\"Number of ratings by id\")\n",
    "most_rated_by_id = ratings[\"movie_id\"].groupby(ratings[\"rating\"])\n",
    "print(most_rated_by_id)"
   ]
  },
  {
   "cell_type": "markdown",
   "metadata": {
    "slideshow": {
     "slide_type": "slide"
    }
   },
   "source": [
    "Passing a Function\n",
    "==================\n"
   ]
  },
  {
   "cell_type": "code",
   "execution_count": null,
   "metadata": {
    "collapsed": true
   },
   "outputs": [],
   "source": [
    "average_ratings = grouped_data.apply(lambda f: f.mean())\n",
    "average_ratings.head()"
   ]
  },
  {
   "cell_type": "markdown",
   "metadata": {
    "slideshow": {
     "slide_type": "slide"
    }
   },
   "source": [
    "Quiz\n",
    "====\n",
    "\n",
    "* get the average rating per user\n",
    "* advanced: list all occupations and if they are male or female dominant"
   ]
  },
  {
   "cell_type": "code",
   "execution_count": null,
   "metadata": {
    "collapsed": true,
    "slideshow": {
     "slide_type": "slide"
    }
   },
   "outputs": [],
   "source": [
    "# get the average rating per user\n",
    "# your code here"
   ]
  },
  {
   "cell_type": "code",
   "execution_count": null,
   "metadata": {
    "collapsed": true,
    "slideshow": {
     "slide_type": "slide"
    }
   },
   "outputs": [],
   "source": [
    "# list all occupations and if they are male or female dominant\n",
    "# your code here"
   ]
  },
  {
   "cell_type": "code",
   "execution_count": null,
   "metadata": {
    "collapsed": true,
    "slideshow": {
     "slide_type": "slide"
    }
   },
   "outputs": [],
   "source": [
    "print 'number of male users: '\n",
    "print sum(users['sex'] == 'M')\n",
    "\n",
    "print 'number of female users: '\n",
    "print sum(users['sex'] == 'F')"
   ]
  },
  {
   "cell_type": "markdown",
   "metadata": {
    "slideshow": {
     "slide_type": "slide"
    }
   },
   "source": [
    "Pandas \"wrapup\"\n",
    "==========\n",
    "\n",
    "- create data frames\n",
    "- get sub-frames\n",
    "- filter data \n",
    "- use group-by\n",
    "- apply a user defined function\n",
    "\n",
    "\n",
    "![cute panda](images/cute_panda.jpg)"
   ]
  },
  {
   "cell_type": "markdown",
   "metadata": {
    "slideshow": {
     "slide_type": "slide"
    }
   },
   "source": [
    "Python data scraping\n",
    "====================\n",
    "\n",
    "* Why scrape the web?\n",
    "    - vast source of information\n",
    "    - automate tasks\n",
    "    - keep up with sites\n",
    "    - fun!\n",
    "\n",
    "** Can you think of examples ? **"
   ]
  },
  {
   "cell_type": "markdown",
   "metadata": {
    "slideshow": {
     "slide_type": "slide"
    }
   },
   "source": [
    "Read and Tweet!\n",
    "=================\n",
    "\n",
    "![ReadTweet](http://developer.nytimes.com/files/readtweet.jpg)\n",
    "\n",
    "* by Justin Blinder\n",
    "* http://projects.justinblinder.com/We-Read-We-Tweet"
   ]
  },
  {
   "cell_type": "markdown",
   "metadata": {
    "slideshow": {
     "slide_type": "skip"
    }
   },
   "source": [
    "“We Read, We Tweet” geographically visualizes the dissemination of New York Times articles through Twitter. Each line connects the location of a tweet to the contextual location of the New York Times article it referenced. The lines are generated in a sequence based on the time in which a tweet occurs. The project explores digital news distribution in a temporal and spatial context through the social space of Twitter."
   ]
  },
  {
   "cell_type": "markdown",
   "metadata": {
    "slideshow": {
     "slide_type": "slide"
    }
   },
   "source": [
    "Twitter Sentiments\n",
    "=================\n",
    "\n",
    "![TwitterSentiments](http://www.csc.ncsu.edu/faculty/healey/tweet_viz/figs/tweet-viz-ex.png\n",
    " \"Twitter Sentiments\")\n",
    "\n",
    "* by Healey and Ramaswamy\n",
    "* http://www.csc.ncsu.edu/faculty/healey/tweet_viz/tweet_app/"
   ]
  },
  {
   "cell_type": "markdown",
   "metadata": {
    "slideshow": {
     "slide_type": "skip"
    }
   },
   "source": [
    "Type a keyword into the input field, then click the Query button. Recent tweets that contain your keyword are pulled from Twitter and visualized in the Sentiment tab as circles. Hover your mouse over a tweet or click on it to see its text."
   ]
  },
  {
   "cell_type": "markdown",
   "metadata": {
    "slideshow": {
     "slide_type": "slide"
    }
   },
   "source": [
    "Python data scraping\n",
    "====================\n",
    "\n",
    "* copyrights and permission:\n",
    "    - be careful and polite\n",
    "    - give credit\n",
    "    - care about media law\n",
    "    - don't be evil (no spam, overloading sites, etc.)"
   ]
  },
  {
   "cell_type": "markdown",
   "metadata": {
    "slideshow": {
     "slide_type": "slide"
    }
   },
   "source": [
    "Robots.txt\n",
    "==========\n",
    "\n",
    "![Robots.txt](images/robots_txt.jpg \"Robots.txt\")"
   ]
  },
  {
   "cell_type": "markdown",
   "metadata": {
    "slideshow": {
     "slide_type": "slide"
    }
   },
   "source": [
    "Robots.txt\n",
    "==========\n",
    "\n",
    "* specified by web site owner\n",
    "* gives instructions to web robots (aka your script)\n",
    "* is located at the top-level directory of the web server\n",
    "\n",
    "http://www.example.com/robots.txt\n",
    "\n",
    "If you want you can also have a look at\n",
    "\n",
    "http://google.com/robots.txt"
   ]
  },
  {
   "cell_type": "markdown",
   "metadata": {
    "slideshow": {
     "slide_type": "slide"
    }
   },
   "source": [
    "Robots.txt\n",
    "==========\n",
    "\n",
    "*** What does this one do? ***"
   ]
  },
  {
   "cell_type": "raw",
   "metadata": {},
   "source": [
    "\n",
    "User-agent: Google\n",
    "Disallow:\n",
    "\n",
    "User-agent: *\n",
    "Disallow: /"
   ]
  },
  {
   "cell_type": "markdown",
   "metadata": {
    "slideshow": {
     "slide_type": "slide"
    }
   },
   "source": [
    "Things to consider:\n",
    "-------------------\n",
    "\n",
    "* can be just ignored\n",
    "* can be a security risk - *** Why? ***"
   ]
  },
  {
   "cell_type": "markdown",
   "metadata": {
    "slideshow": {
     "slide_type": "slide"
    }
   },
   "source": [
    "Scraping with Python:\n",
    "=====================\n",
    "\n",
    "* scraping is all about HTML tags\n",
    "* bad news: \n",
    "    - need to learn about tags\n",
    "    - websites can be ugly"
   ]
  },
  {
   "cell_type": "markdown",
   "metadata": {
    "slideshow": {
     "slide_type": "slide"
    }
   },
   "source": [
    "HTML\n",
    "=====\n",
    "\n",
    "* HyperText Markup Language\n",
    "\n",
    "* standard for creating webpages\n",
    "\n",
    "* HTML tags \n",
    "    - have angle brackets\n",
    "    - typically come in pairs"
   ]
  },
  {
   "cell_type": "markdown",
   "metadata": {
    "slideshow": {
     "slide_type": "skip"
    }
   },
   "source": [
    "This is an example for a minimal webpage defined in HTML tags. The root tag is `<html>` and then you have the `<head>` tag. This part of the page typically includes the title of the page and might also have other meta information like the author or keywords that are important for search engines. The `<body>` tag marks the actual content of the page. You can play around with the `<h2>` tag trying different header levels. They range from 1 to 6. "
   ]
  },
  {
   "cell_type": "code",
   "execution_count": null,
   "metadata": {
    "collapsed": true,
    "slideshow": {
     "slide_type": "slide"
    }
   },
   "outputs": [],
   "source": [
    "htmlString = \"\"\"<!DOCTYPE html>\n",
    "<html>\n",
    "  <head>\n",
    "    <title>This is a title</title>\n",
    "  </head>\n",
    "  <body>\n",
    "    <h2> Test </h2>\n",
    "    <p>Hello world!</p>\n",
    "  </body>\n",
    "</html>\"\"\"\n",
    "\n",
    "htmlOutput = HTML(htmlString)\n",
    "htmlOutput"
   ]
  },
  {
   "cell_type": "markdown",
   "metadata": {
    "slideshow": {
     "slide_type": "slide"
    }
   },
   "source": [
    "Useful Tags\n",
    "===========\n",
    "\n",
    "* heading\n",
    "`<h1></h1> ... <h6></h6>`\n",
    "\n",
    "* paragraph\n",
    "`<p></p>` \n",
    "\n",
    "* line break\n",
    "`<br>` \n",
    "\n",
    "* link with attribute\n",
    "\n",
    "`<a href=\"http://www.example.com/\">An example link</a>`\n"
   ]
  },
  {
   "cell_type": "markdown",
   "metadata": {
    "slideshow": {
     "slide_type": "slide"
    }
   },
   "source": [
    "Scraping with Python:\n",
    "=====================\n",
    "\n",
    "* example of a beautifully simple webpage:\n",
    "\n",
    "http://www.crummy.com/software/BeautifulSoup"
   ]
  },
  {
   "cell_type": "markdown",
   "metadata": {
    "slideshow": {
     "slide_type": "slide"
    }
   },
   "source": [
    "Scraping with Python:\n",
    "=====================\n",
    "\n",
    "* good news: \n",
    "    - some browsers help\n",
    "    - look for: inspect element\n",
    "    - need only basic html\n",
    "    \n",
    "** Try 'Ctrl-Shift I' in Chrome **\n",
    "\n",
    "** Try 'Command-Option I' in Safari **\n"
   ]
  },
  {
   "cell_type": "markdown",
   "metadata": {
    "slideshow": {
     "slide_type": "slide"
    }
   },
   "source": [
    "Scraping with Python\n",
    "==================\n",
    "\n",
    "* different useful libraries:\n",
    "    - urllib\n",
    "    - beautifulsoup\n",
    "    - pattern\n",
    "    - soupy\n",
    "    - LXML\n",
    "    - ...\n",
    "    "
   ]
  },
  {
   "cell_type": "markdown",
   "metadata": {
    "slideshow": {
     "slide_type": "skip"
    }
   },
   "source": [
    "The following cell just defines a url as a string and then reads the data from that url using the `urllib` library. If you uncomment the print command you see that we got the whole HTML content of the page into the string variable source."
   ]
  },
  {
   "cell_type": "code",
   "execution_count": null,
   "metadata": {
    "collapsed": true,
    "slideshow": {
     "slide_type": "slide"
    }
   },
   "outputs": [],
   "source": [
    "url = 'http://www.crummy.com/software/BeautifulSoup'\n",
    "source = urllib2.urlopen(url).read()\n",
    "print source"
   ]
  },
  {
   "cell_type": "markdown",
   "metadata": {
    "slideshow": {
     "slide_type": "slide"
    }
   },
   "source": [
    "Quiz :\n",
    "======\n",
    "\n",
    "* Is the word 'Alice' mentioned on the beautiful soup homepage?\n",
    "* How often does the word 'Soup' occur on the site?\n",
    "    - hint: use `.count()`\n",
    "* At what index occurs the substring 'alien video games' ?\n",
    "    - hint: use `.find()`"
   ]
  },
  {
   "cell_type": "code",
   "execution_count": null,
   "metadata": {
    "collapsed": true,
    "slideshow": {
     "slide_type": "slide"
    }
   },
   "outputs": [],
   "source": [
    "## is 'Alice' in source?\n",
    "\n",
    "## count occurences of 'Soup'\n",
    "\n",
    "## find index of 'alien video games'"
   ]
  },
  {
   "cell_type": "markdown",
   "metadata": {
    "slideshow": {
     "slide_type": "slide"
    }
   },
   "source": [
    "Beautiful Soup\n",
    "==============\n",
    "\n",
    "* designed to make your life easier\n",
    "* many good functions for parsing html code"
   ]
  },
  {
   "cell_type": "markdown",
   "metadata": {
    "slideshow": {
     "slide_type": "slide"
    }
   },
   "source": [
    "Some examples\n",
    "=============\n"
   ]
  },
  {
   "cell_type": "code",
   "execution_count": null,
   "metadata": {
    "collapsed": true
   },
   "outputs": [],
   "source": [
    "## get bs4 object\n",
    "soup = bs4.BeautifulSoup(source)\n",
    " \n",
    "## compare the two print statements\n",
    "#print soup\n",
    "#print soup.prettify()\n",
    "\n",
    "## show how to find all a tags\n",
    "soup.findAll('a')\n",
    "\n",
    "## ***Why does this not work? ***\n",
    "#soup.findAll('Soup')"
   ]
  },
  {
   "cell_type": "markdown",
   "metadata": {
    "slideshow": {
     "slide_type": "slide"
    }
   },
   "source": [
    "Some examples\n",
    "============="
   ]
  },
  {
   "cell_type": "code",
   "execution_count": null,
   "metadata": {
    "collapsed": true
   },
   "outputs": [],
   "source": [
    "## get attribute value from an element:\n",
    "## find tag: this only returns the first occurrence, not all tags in the string\n",
    "first_tag = soup.find('a')\n",
    "\n",
    "## get attribute `href`\n",
    "first_tag.get('href')\n",
    "\n",
    "## get all links in the page\n",
    "link_list = [l.get('href') for l in soup.findAll('a')]\n",
    "link_list"
   ]
  },
  {
   "cell_type": "code",
   "execution_count": null,
   "metadata": {
    "collapsed": true,
    "slideshow": {
     "slide_type": "slide"
    }
   },
   "outputs": [],
   "source": [
    "## filter all external links\n",
    "# create an empty list to collect the valid links\n",
    "external_links = []\n",
    "\n",
    "# write a loop to filter the links\n",
    "# if it starts with 'http' we are happy\n",
    "for l in link_list:\n",
    "    if l[:4] == 'http':\n",
    "        external_links.append(l)\n",
    "\n",
    "# this throws an error! It says something about 'NoneType'"
   ]
  },
  {
   "cell_type": "code",
   "execution_count": null,
   "metadata": {
    "collapsed": true,
    "slideshow": {
     "slide_type": "slide"
    }
   },
   "outputs": [],
   "source": [
    "# lets investigate. Have a close look at the link_list:\n",
    "link_list\n",
    "\n",
    "# Seems that there are None elements!\n",
    "# Let's verify\n",
    "#print sum([l is None for l in link_list])\n",
    "\n",
    "# So there are two elements in the list that are None!"
   ]
  },
  {
   "cell_type": "code",
   "execution_count": null,
   "metadata": {
    "collapsed": true,
    "slideshow": {
     "slide_type": "slide"
    }
   },
   "outputs": [],
   "source": [
    "# Let's filter those objects out in the for loop\n",
    "external_links = []\n",
    "\n",
    "# write a loop to filter the links\n",
    "# if it is not None and starts with 'http' we are happy\n",
    "for l in link_list:\n",
    "    if l is not None and l[:4] == 'http':\n",
    "        external_links.append(l)\n",
    "        \n",
    "external_links"
   ]
  },
  {
   "cell_type": "markdown",
   "metadata": {
    "slideshow": {
     "slide_type": "skip"
    }
   },
   "source": [
    "Note: The above `if` condition works because of lazy evaluation in Python. The `and` statement becomes `False` if the first part is `False`, so there is no need to ever evaluate the second part. Thus a `None` entry in the list gets never asked about its first four characters. "
   ]
  },
  {
   "cell_type": "code",
   "execution_count": null,
   "metadata": {
    "collapsed": true,
    "slideshow": {
     "slide_type": "slide"
    }
   },
   "outputs": [],
   "source": [
    "# and we can put this in a list comprehension as well, it almost reads like \n",
    "# a sentence.\n",
    "\n",
    "[l for l in link_list if l is not None and l.startswith('http')]"
   ]
  },
  {
   "cell_type": "markdown",
   "metadata": {
    "slideshow": {
     "slide_type": "slide"
    }
   },
   "source": [
    "Parsing the Tree\n",
    "================\n",
    "\n"
   ]
  },
  {
   "cell_type": "code",
   "execution_count": null,
   "metadata": {
    "collapsed": true
   },
   "outputs": [],
   "source": [
    "# redifining `s` without any line breaks\n",
    "s = \"\"\"<!DOCTYPE html><html><head><title>This is a title</title></head><body><h3> Test </h3><p>Hello world!</p></body></html>\"\"\"\n",
    "## get bs4 object\n",
    "tree = bs4.BeautifulSoup(s)\n",
    "\n",
    "## get html root node\n",
    "root_node = tree.html\n",
    "\n",
    "## get head from root using contents\n",
    "head = root_node.contents[0]\n",
    "\n",
    "## get body from root\n",
    "body = root_node.contents[1]\n",
    "\n",
    "## could directly access body\n",
    "tree.body"
   ]
  },
  {
   "cell_type": "markdown",
   "metadata": {
    "slideshow": {
     "slide_type": "slide"
    }
   },
   "source": [
    "Quiz:\n",
    "=====\n",
    "\n",
    "* Find the `h3` tag by parsing the tree starting at `body`\n",
    "* Create a list of all __Hall of Fame__ entries listed on the Beautiful Soup webpage\n",
    "    - hint: it is the only unordered list in the page (tag `ul`)\n"
   ]
  },
  {
   "cell_type": "code",
   "execution_count": null,
   "metadata": {
    "collapsed": true,
    "slideshow": {
     "slide_type": "slide"
    }
   },
   "outputs": [],
   "source": [
    "## get h3 tag from body\n"
   ]
  },
  {
   "cell_type": "code",
   "execution_count": null,
   "metadata": {
    "collapsed": true,
    "slideshow": {
     "slide_type": "slide"
    }
   },
   "outputs": [],
   "source": [
    "## use ul as entry point\n",
    "\n",
    "\n",
    "## get hall of fame list from entry point\n",
    "## skip the first entry \n",
    "\n",
    "## reformat into a list containing strings\n",
    "## it is ok to have a list of lists"
   ]
  },
  {
   "cell_type": "markdown",
   "metadata": {
    "slideshow": {
     "slide_type": "slide"
    }
   },
   "source": [
    "`tmp` now is actually a list of lists containing the hall of fame entries. \n",
    "Here is some advanced Python on how to print really just one entry per list item.\n",
    "\n",
    "The cool things about this are: \n",
    "* The use of `\"\"` to just access the `join` function of strings.\n",
    "* The `join` function itself\n",
    "* that you can actually have two nested for loops in a list comprehension"
   ]
  },
  {
   "cell_type": "code",
   "execution_count": null,
   "metadata": {
    "collapsed": true,
    "slideshow": {
     "slide_type": "-"
    }
   },
   "outputs": [],
   "source": [
    "test =  [\"\".join(str(a) for a in sublist) for sublist in tmp]\n",
    "print '\\n'.join(test)"
   ]
  },
  {
   "cell_type": "markdown",
   "metadata": {
    "slideshow": {
     "slide_type": "slide"
    }
   },
   "source": [
    "Advanced Example\n",
    "===============\n",
    "\n",
    "Idea by [Jesse Steinweg-Woods](https://jessesw.com/Data-Science-Skills/)\n",
    "--------------------------------------------------------------------------------"
   ]
  },
  {
   "cell_type": "markdown",
   "metadata": {
    "slideshow": {
     "slide_type": "slide"
    }
   },
   "source": [
    "Scraping data science skills\n",
    "=============================\n",
    "\n",
    "- What skills are in demand for data scientists?\n",
    "- Should we have a lecture on Spark or only on MapReduce?\n",
    "\n",
    "We want to scrape the information from job advertisements for data scientists from indeed.com\n",
    "Let's scrape and find out!"
   ]
  },
  {
   "cell_type": "code",
   "execution_count": 560,
   "metadata": {
    "slideshow": {
     "slide_type": "slide"
    }
   },
   "outputs": [
    {
     "data": {
      "text/plain": [
       "<!DOCTYPE html>\n",
       "<html dir=\"ltr\" lang=\"en\">\n",
       "<head>\n",
       "<meta content=\"text/html;charset=utf-8\" http-equiv=\"content-type\"/>\n",
       "<script src=\"/s/54fc01a/en_US.js\" type=\"text/javascript\"></script>\n",
       "<link href=\"/s/a9511c2/jobsearch_all.css\" rel=\"stylesheet\" type=\"text/css\"/>\n",
       "<link href=\"http://rss.indeed.com/rss?q=data+scientist\" rel=\"alternate\" title=\"Data Scientist Jobs, Employment\" type=\"application/rss+xml\"/>\n",
       "<link href=\"/m/jobs?q=data+scientist\" media=\"only screen and (max-width: 640px)\" rel=\"alternate\"/>\n",
       "<link href=\"/m/jobs?q=data+scientist\" media=\"handheld\" rel=\"alternate\"/>\n",
       "<script type=\"text/javascript\">\n",
       "    \n",
       "    if (typeof window['closureReadyCallbacks'] == 'undefined') {\n",
       "        window['closureReadyCallbacks'] = [];\n",
       "    }\n",
       "\n",
       "    function call_when_jsall_loaded(cb) {\n",
       "        if (window['closureReady']) {\n",
       "            cb();\n",
       "        } else {\n",
       "            window['closureReadyCallbacks'].push(cb);\n",
       "        }\n",
       "    }\n",
       "</script>\n",
       "<meta content=\"1\" name=\"ppstriptst\"/>\n",
       "<script src=\"/s/4488266/jobsearch-all-compiled.js\" type=\"text/javascript\"></script>\n",
       "<script type=\"text/javascript\">\n",
       "\n",
       "var searchUID = '1ci2lvodfbi4id1b';\n",
       "var tk = '1ci2lvodfbi4id1b';\n",
       "\n",
       "var loggedIn = false;\n",
       "var dcmPayload = 'jobse0;jobal0;viewj0;savej0;6927552';\n",
       "var myindeed = true;\n",
       "var userEmail = '';\n",
       "var tellFriendEmail = '';\n",
       "var globalLoginURL = 'https:\\/\\/www.indeed.com\\/account\\/login?dest=%2Fq-data-scientist-jobs.html';\n",
       "var globalRegisterURL = 'https:\\/\\/www.indeed.com\\/account\\/register?dest=%2Fq-data-scientist-jobs.html';\n",
       "var searchKey = 'bebb41335ed80f2a';\n",
       "var searchState = 'q=data+scientist&amp;';\n",
       "var searchQS = 'q=data+scientist';\n",
       "var eventType = 'jobsearch';\n",
       "var locale = 'en_US';\n",
       "function clk(id) { var a = document.getElementById(id); var hr = a.href; var si = a.href.indexOf('&jsa='); if (si > 0) return; var jsh = hr + '&tk=1ci2lvodfbi4id1b&jsa=799'; a.href = jsh; }\n",
       "function sjomd(id) { var a = document.getElementById(id); var hr = a.href; var ocs = hr.indexOf('&oc=1'); if (ocs < 0) return; var oce = ocs + 5; a.href = hr.substring(0, ocs) + hr.substring(oce); }\n",
       "function sjoc(id, sal) { var a = document.getElementById(id); a.href = a.href + '&oc=1&sal='+sal; }\n",
       "function ptk(st,p) {document.cookie = 'PTK=\"tk=1ci2lvodfbi4id1b&type=jobsearch&subtype='+st+(p?'&'+p:'')+'\"; path=/';}\n",
       "function rbptk(st, c, p) { ptk(st, 'cat='+c+(p?'&p='+p:''));}\n",
       "</script>\n",
       "<script type=\"text/javascript\">\n",
       "\tfunction loadJSAsync( ) {\n",
       "\t\tfor ( var i = 0; i < arguments.length; i++ ) {\n",
       "\t\t\tvar url = arguments[i];\n",
       "\t\t\t(function() {\n",
       "\t\t\t\tvar s = document.createElement(\"script\"), el = document.getElementsByTagName(\"script\")[0];\n",
       "\t\t\t\ts.async = true;\n",
       "\t\t\t\ts.src = url;\n",
       "\t\t\t\tel.parentNode.insertBefore(s, el);\n",
       "\t\t\t})();\n",
       "\t\t}\n",
       "\t}\n",
       "</script>\n",
       "<meta content=\"29,032 Data Scientist jobs available on Indeed.com. Apply to Data Scientist, Machine Learning Engineer, Scientist and more!\" name=\"description\"/>\n",
       "<meta content=\"Data Scientist Jobs, Employment,  careers,  employment,  job listings,  job search,  search engine, work in \" name=\"keywords\"/>\n",
       "<meta content=\"origin-when-cross-origin\" name=\"referrer\"/>\n",
       "<link href=\"/q-Data-Scientist-jobs.html\" rel=\"canonical\"/>\n",
       "<link href=\"/jobs?q=data+scientist&amp;start=10\" rel=\"next\"/><script type=\"text/javascript\">\n",
       "    var dcmPayload = 'jobse0;jobal0;viewj0;savej0;6927552';\n",
       "    var indeedCsrfToken = 'bSWdn7dAEgoE0zt9NEbaY6gN07O0oBDG';\n",
       "    var hashedCsrfToken = 'a4b8b4afcc8e780edfc52addcf5ead68';\n",
       "</script>\n",
       "<style type=\"text/css\">\n",
       "    .jasxcustomfonttst-useCustomHostedFontFullPage *{font-family:\"Open Sans\", sans-serif !important}.jasxcustomfonttst-useLato *{font-family:\"Lato\", sans-serif !important}.jasxcustomfonttst-useFira *{font-family:\"Fira Sans\", sans-serif !important}.jasxcustomfonttst-useGibson *{font-family:\"Gibson\", sans-serif !important}.jasxcustomfonttst-useAvenir *{font-family:\"Avenir Next\", sans-serif !important}#accessibilityBanner{position:absolute;left:-10000%;height:50px;width:100%;color:#000;font-size:13px;font-family:Arial;background-color:#F2F2F2;border-width:1px;border-color:#E6E6E6;line-height:50px}#accessibilityText{position:relative;left:12px;white-space:nowrap}#accessibilityClose{position:absolute;right:12px}.icl-Button{box-sizing:border-box;display:inline-block;color:#fff;-webkit-font-smoothing:antialiased;text-decoration:none;text-overflow:ellipsis;white-space:nowrap;-webkit-highlight:none;-webkit-tap-highlight-color:transparent;-webkit-touch-callout:none;-webkit-appearance:none;-moz-appearance:none;appearance:none;-webkit-user-select:none;-moz-user-select:none;-ms-user-select:none;user-select:none;font-family:Helvetica Neue,Helvetica,Arial,Liberation Sans,Roboto,Noto,sans-serif;font-size:1rem;letter-spacing:0;line-height:1.5rem;font-weight:700;line-height:1.125rem}[dir] .icl-Button{background-color:#085ff7;border:.125rem solid #085ff7;border-radius:6.25rem;background-repeat:repeat-x;cursor:pointer;padding-top:1rem;padding-bottom:1rem}[dir=ltr] .icl-Button{margin:0.75rem 0.75rem 0.75rem 0;padding-left:1.5rem;padding-right:1.5rem}[dir=rtl] .icl-Button{margin:0.75rem 0 0.75rem 0.75rem;padding-right:1.5rem;padding-left:1.5rem}[dir] .icl-Button::-moz-focus-inner{border:0}.icl-Button:disabled,.icl-Button:disabled:hover{color:#ccc}[dir] .icl-Button:disabled,[dir] .icl-Button:disabled:hover{cursor:default;background:#fff;border:.125rem solid #ececec}.icl-Button:active,.icl-Button:hover{color:#fff;text-decoration:none}[dir] .icl-Button:active,[dir] .icl-Button:hover{background-color:#1497ff;border-color:#1497ff}.icl-Button--primary{box-sizing:border-box;display:inline-block;color:#fff;-webkit-font-smoothing:antialiased;text-decoration:none;text-overflow:ellipsis;white-space:nowrap;-webkit-highlight:none;-webkit-tap-highlight-color:transparent;-webkit-touch-callout:none;-webkit-appearance:none;-moz-appearance:none;appearance:none;-webkit-user-select:none;-moz-user-select:none;-ms-user-select:none;user-select:none}[dir] .icl-Button--primary{background-color:#085ff7;border:.125rem solid #085ff7;border-radius:6.25rem;background-repeat:repeat-x;cursor:pointer}[dir=ltr] .icl-Button--primary{margin:0.75rem 0.75rem 0.75rem 0}[dir=rtl] .icl-Button--primary{margin:0.75rem 0 0.75rem 0.75rem}[dir] .icl-Button--primary::-moz-focus-inner{border:0}.icl-Button--primary:disabled,.icl-Button--primary:disabled:hover{color:#ccc}[dir] .icl-Button--primary:disabled,[dir] .icl-Button--primary:disabled:hover{cursor:default;background:#fff;border:.125rem solid #ececec}.icl-Button--primary:active,.icl-Button--primary:hover{color:#fff;text-decoration:none}[dir] .icl-Button--primary:active,[dir] .icl-Button--primary:hover{background-color:#1497ff;border-color:#1497ff}.icl-Button--secondary{box-sizing:border-box;display:inline-block;color:#085ff7;-webkit-font-smoothing:antialiased;text-decoration:none;text-overflow:ellipsis;white-space:nowrap;-webkit-highlight:none;-webkit-tap-highlight-color:transparent;-webkit-touch-callout:none;-webkit-appearance:none;-moz-appearance:none;appearance:none;-webkit-user-select:none;-moz-user-select:none;-ms-user-select:none;user-select:none}[dir] .icl-Button--secondary{background-color:#fff;border:.125rem solid #085ff7;border-radius:6.25rem;background-repeat:repeat-x;cursor:pointer}[dir=ltr] .icl-Button--secondary{margin:0.75rem 0.75rem 0.75rem 0}[dir=rtl] .icl-Button--secondary{margin:0.75rem 0 0.75rem 0.75rem}[dir] .icl-Button--secondary::-moz-focus-inner{border:0}.icl-Button--secondary:disabled,.icl-Button--secondary:disabled:hover{color:#ccc}[dir] .icl-Button--secondary:disabled,[dir] .icl-Button--secondary:disabled:hover{cursor:default;background:#fff;border:.125rem solid #ececec}.icl-Button--secondary:active,.icl-Button--secondary:hover{color:#1497ff;text-decoration:none}[dir] .icl-Button--secondary:active,[dir] .icl-Button--secondary:hover{background-color:#fff;border-color:#1497ff}.icl-Button--tertiary{box-sizing:border-box;display:inline-block;color:#085ff7;-webkit-font-smoothing:antialiased;text-decoration:none;text-overflow:ellipsis;white-space:nowrap;-webkit-highlight:none;-webkit-tap-highlight-color:transparent;-webkit-touch-callout:none;-webkit-appearance:none;-moz-appearance:none;appearance:none;-webkit-user-select:none;-moz-user-select:none;-ms-user-select:none;user-select:none}[dir] .icl-Button--tertiary{background-color:#fff;border:.125rem solid #ececec;border-radius:6.25rem;background-repeat:repeat-x;cursor:pointer}[dir=ltr] .icl-Button--tertiary{margin:0.75rem 0.75rem 0.75rem 0}[dir=rtl] .icl-Button--tertiary{margin:0.75rem 0 0.75rem 0.75rem}[dir] .icl-Button--tertiary::-moz-focus-inner{border:0}.icl-Button--tertiary:disabled,.icl-Button--tertiary:disabled:hover{color:#ccc}[dir] .icl-Button--tertiary:disabled,[dir] .icl-Button--tertiary:disabled:hover{cursor:default;background:#fff;border:.125rem solid #ececec}.icl-Button--tertiary:active,.icl-Button--tertiary:hover{color:#1497ff;text-decoration:none}[dir] .icl-Button--tertiary:active,[dir] .icl-Button--tertiary:hover{background-color:#fff;border-color:#ececec}.icl-Button--xl{font-family:Helvetica Neue,Helvetica,Arial,Liberation Sans,Roboto,Noto,sans-serif;font-size:1.25rem;letter-spacing:-.1px;line-height:1.75rem;font-weight:700}[dir] .icl-Button--xl{padding-top:.5rem;padding-bottom:.5rem}[dir=ltr] .icl-Button--xl,[dir=rtl] .icl-Button--xl{padding-left:1.5rem;padding-right:1.5rem}.icl-Button--lg{font-family:Helvetica Neue,Helvetica,Arial,Liberation Sans,Roboto,Noto,sans-serif;font-size:1rem;letter-spacing:0;line-height:1.5rem;font-weight:700;line-height:1.125rem}[dir] .icl-Button--lg{padding-top:1rem;padding-bottom:1rem}[dir=ltr] .icl-Button--lg,[dir=rtl] .icl-Button--lg{padding-left:1.5rem;padding-right:1.5rem}.icl-Button--md{font-family:Helvetica Neue,Helvetica,Arial,Liberation Sans,Roboto,Noto,sans-serif;font-size:.875rem;letter-spacing:0;line-height:1.25rem;font-weight:700;line-height:1.5rem}[dir] .icl-Button--md{padding-top:.5rem;padding-bottom:.5rem}[dir=ltr] .icl-Button--md,[dir=rtl] .icl-Button--md{padding-left:1.5rem;padding-right:1.5rem}.icl-Button--sm{font-family:Helvetica Neue,Helvetica,Arial,Liberation Sans,Roboto,Noto,sans-serif;font-size:.75rem;letter-spacing:0;line-height:1.25rem;font-weight:700;line-height:1.5rem}[dir] .icl-Button--sm{padding-top:.25rem;padding-bottom:.25rem}[dir=ltr] .icl-Button--sm,[dir=rtl] .icl-Button--sm{padding-left:1rem;padding-right:1rem}.icl-Button--xs{font-family:Helvetica Neue,Helvetica,Arial,Liberation Sans,Roboto,Noto,sans-serif;font-size:.625rem;letter-spacing:0;line-height:1rem;font-weight:500;line-height:.875rem}[dir] .icl-Button--xs{padding-top:.125rem;padding-bottom:.125rem;padding-top:0}[dir=ltr] .icl-Button--xs,[dir=rtl] .icl-Button--xs{padding-left:.5rem;padding-right:.5rem}.icl-Button--block{display:block;width:100%;max-width:21.9375rem;overflow:hidden}[dir] .icl-Button--block{margin:.75rem auto}[dir] .icl-Button--group{border-radius:0;box-shadow:0 0 0 transparent}[dir=ltr] .icl-Button--group{float:left;margin:0 0 0 -1px}[dir=rtl] .icl-Button--group{float:right;margin:0 -1px 0 0}[dir] .icl-Button--group:hover{box-shadow:0 0 0 transparent}[dir=ltr] .icl-Button--group:first-child{margin-left:0;border-bottom-left-radius:6px;border-top-left-radius:6px}[dir=rtl] .icl-Button--group:first-child{margin-right:0}[dir=ltr] .icl-Button--group:last-child,[dir=rtl] .icl-Button--group:first-child{border-bottom-right-radius:6px;border-top-right-radius:6px}[dir=rtl] .icl-Button--group:last-child{border-bottom-left-radius:6px;border-top-left-radius:6px}[dir=ltr] .icl-Button--icon,[dir=rtl] .icl-Button--icon{padding-left:10px;padding-right:10px}.icl-Button--responsive{max-width:21.9375rem;width:100%}[dir] .icl-Button--responsive{margin:.75rem 0 0}[dir] .icl-Button--responsive:first-child{margin-top:0}@media only screen and (min-width: 768px){.icl-Button--responsive{width:auto}}.icl-Button--special{box-sizing:border-box;display:inline-block;color:#fff;-webkit-font-smoothing:antialiased;text-decoration:none;text-overflow:ellipsis;white-space:nowrap;-webkit-highlight:none;-webkit-tap-highlight-color:transparent;-webkit-touch-callout:none;-webkit-appearance:none;-moz-appearance:none;appearance:none;-webkit-user-select:none;-moz-user-select:none;-ms-user-select:none;user-select:none}[dir] .icl-Button--special{background-color:#f60;border:.125rem solid #f60;border-radius:6.25rem;background-repeat:repeat-x;cursor:pointer}[dir=ltr] .icl-Button--special{margin:0.75rem 0.75rem 0.75rem 0}[dir=rtl] .icl-Button--special{margin:0.75rem 0 0.75rem 0.75rem}[dir] .icl-Button--special::-moz-focus-inner{border:0}.icl-Button--special:disabled,.icl-Button--special:disabled:hover{color:#ccc}[dir] .icl-Button--special:disabled,[dir] .icl-Button--special:disabled:hover{cursor:default;background:#fff;border:.125rem solid #ececec}.icl-Button--special:active,.icl-Button--special:hover{color:#fff;text-decoration:none}[dir] .icl-Button--special:active,[dir] .icl-Button--special:hover{background-color:#f60;border-color:#f60}.icl-Button--danger{box-sizing:border-box;display:inline-block;color:#fff;-webkit-font-smoothing:antialiased;text-decoration:none;text-overflow:ellipsis;white-space:nowrap;-webkit-highlight:none;-webkit-tap-highlight-color:transparent;-webkit-touch-callout:none;-webkit-appearance:none;-moz-appearance:none;appearance:none;-webkit-user-select:none;-moz-user-select:none;-ms-user-select:none;user-select:none}[dir] .icl-Button--danger{background-color:#db183f;border:.125rem solid #db183f;border-radius:6.25rem;background-repeat:repeat-x;cursor:pointer}[dir=ltr] .icl-Button--danger{margin:0.75rem 0.75rem 0.75rem 0}[dir=rtl] .icl-Button--danger{margin:0.75rem 0 0.75rem 0.75rem}[dir] .icl-Button--danger::-moz-focus-inner{border:0}.icl-Button--danger:disabled,.icl-Button--danger:disabled:hover{color:#ccc}[dir] .icl-Button--danger:disabled,[dir] .icl-Button--danger:disabled:hover{cursor:default;background:#fff;border:.125rem solid #ececec}.icl-Button--danger:active,.icl-Button--danger:hover{color:#fff;text-decoration:none}[dir] .icl-Button--danger:active,[dir] .icl-Button--danger:hover{background-color:#db183f;border-color:#db183f}.icl-Button--working{box-sizing:border-box;display:inline-block;color:#fff;-webkit-font-smoothing:antialiased;text-decoration:none;text-overflow:ellipsis;white-space:nowrap;-webkit-highlight:none;-webkit-tap-highlight-color:transparent;-webkit-touch-callout:none;-webkit-appearance:none;-moz-appearance:none;appearance:none;-webkit-user-select:none;-moz-user-select:none;-ms-user-select:none;user-select:none}[dir] .icl-Button--working{background-color:#085ff7;border:.125rem solid #085ff7;border-radius:6.25rem;background-repeat:repeat-x;cursor:pointer}[dir=ltr] .icl-Button--working{margin:0.75rem 0.75rem 0.75rem 0}[dir=rtl] .icl-Button--working{margin:0.75rem 0 0.75rem 0.75rem}[dir] .icl-Button--working::-moz-focus-inner{border:0}.icl-Button--working:disabled,.icl-Button--working:disabled:hover{color:#ccc}[dir] .icl-Button--working:disabled,[dir] .icl-Button--working:disabled:hover{cursor:default;background:#fff;border:.125rem solid #ececec}.icl-Button--working:active,.icl-Button--working:hover{color:#fff;text-decoration:none}[dir] .icl-Button--working:active,[dir] .icl-Button--working:hover{background-color:#1497ff;border-color:#1497ff}.icl-Button--transparent{box-sizing:border-box;display:inline-block;color:#085ff7;-webkit-font-smoothing:antialiased;text-decoration:none;text-overflow:ellipsis;white-space:nowrap;-webkit-highlight:none;-webkit-tap-highlight-color:transparent;-webkit-touch-callout:none;-webkit-appearance:none;-moz-appearance:none;appearance:none;-webkit-user-select:none;-moz-user-select:none;-ms-user-select:none;user-select:none}[dir] .icl-Button--transparent{background-color:transparent;border:.125rem solid transparent;border-radius:6.25rem;background-repeat:repeat-x;cursor:pointer}[dir=ltr] .icl-Button--transparent{margin:0.75rem 0.75rem 0.75rem 0}[dir=rtl] .icl-Button--transparent{margin:0.75rem 0 0.75rem 0.75rem}[dir] .icl-Button--transparent::-moz-focus-inner{border:0}.icl-Button--transparent:disabled,.icl-Button--transparent:disabled:hover{color:#ccc}[dir] .icl-Button--transparent:disabled,[dir] .icl-Button--transparent:disabled:hover{cursor:default;background:#fff;border:.125rem solid #ececec}.icl-Button--transparent:active,.icl-Button--transparent:hover{color:#085ff7;text-decoration:none}[dir] .icl-Button--transparent:active,[dir] .icl-Button--transparent:hover{background-color:transparent;border-color:transparent}\n",
       "</style>\n",
       "<style type=\"text/css\">\n",
       "    span.salary-legal-disclaimer-icon {\n",
       "    background-image: url('data:image/png;base64,iVBORw0KGgoAAAANSUhEUgAAAA0AAAANCAYAAABy6+R8AAAAAXNSR0IArs4c6QAAAYtJREFUKBVdkkFLAlEUhZ2nRaIgDZHVosX8g2jG2gQF2fgLdNeiIKKtq2hjy1Ao2hQuWtXGbRBtEkIq0qCtbRR3ieQmJyx17HuaNMyDM/fec869783jKZ7/pRSLRV1RlF0Q6/f7YeIH8Q5LtlqtPsbj8R9pV+Qnl8uNa5q2RZoGQcm51jfN2WazuW+apuVNpVIiEolsYzpmcoBoYyiQPxDfqefIJ8CS3+/vRKPRgjySIYTIIw52wHjYarVOvF7vWK/X6wSDwXUartDH0boggV/sORq6GHOBQGCFqWXiRqPRuEYvAw/NPpD0kZuSkAtCsIM0hcjbtm2/qao6z/Rp6pFnWZCFB9XwIxA1YFEmGGCDU+oZp0c21R3EIGVynV0mKS5piLl0W2C4dZHymCpYg59ya/ifZNMZ+HSK1PeGYSSJLy6+y7CMsCzrlSSNoeswrJZKpSP4RQcn04tKpXLjfBGbkBkQkqpzMbBNfc6QA13Xv4b3+Odg+gLpDqL8+Vkg316eS8nWarXn0dv7BZQ1sKEYuSBVAAAAAElFTkSuQmCC');\n",
       "    vertical-align: middle;\n",
       "    display: inline-block;\n",
       "    background-size: 13px 13px;\n",
       "    width: 13px;\n",
       "    height: 13px;\n",
       "}\n",
       "\n",
       "span.salary-legal-disclaimer-icon:hover {\n",
       "    cursor: pointer;\n",
       "}\n",
       "\n",
       ".salary-legal-disclaimer-container-group {\n",
       "    display: none;\n",
       "    position: fixed;\n",
       "    width: 100%;\n",
       "    height: 100%;\n",
       "    left: 0;\n",
       "    top: 0;\n",
       "    background-color: rgba(0, 0, 0, 0.3);\n",
       "    filter: progid:DXImageTransform.Microsoft.Gradient(GradientType=0, StartColorStr=#50000000, EndColorStr=#50000000); /* IE8 */\n",
       "    z-index: 1000;\n",
       "}\n",
       "\n",
       ".salary-legal-disclaimer-modal {\n",
       "    position: absolute;\n",
       "    box-sizing: border-box;\n",
       "    width: 500px;\n",
       "    height: 400px;\n",
       "    left: 0;\n",
       "    right: 0;\n",
       "    top: 0;\n",
       "    bottom: 0;\n",
       "    margin: auto;\n",
       "    background-color: #fff;\n",
       "    padding: 25px;\n",
       "    overflow: auto;\n",
       "    box-shadow: 0 0 8px rgba(0, 0, 0, 0.4);\n",
       "}\n",
       "\n",
       "#salary-legal-disclaimer-container-distribution .salary-legal-disclaimer-modal {\n",
       "    height: 250px;\n",
       "}\n",
       "\n",
       ".salary-legal-disclaimer-modal-close {\n",
       "    position: absolute;\n",
       "    right: 15px;\n",
       "    top: 15px;\n",
       "    width: 16px;\n",
       "    height: 16px;\n",
       "    opacity: .5;\n",
       "    cursor: pointer;\n",
       "}\n",
       "\n",
       ".salary-legal-disclaimer-modal-close:hover {\n",
       "    opacity: 1;\n",
       "}\n",
       "\n",
       ".salary-legal-disclaimer-modal-close:before,\n",
       ".salary-legal-disclaimer-modal-close:after {\n",
       "    display: inline-block;\n",
       "    content: \"\";\n",
       "    position: absolute;\n",
       "    left: 0;\n",
       "    top: 7px;\n",
       "    width: 16px;\n",
       "    height: 2px;\n",
       "    background-color: #666;\n",
       "}\n",
       "\n",
       ".salary-legal-disclaimer-modal-close:before {\n",
       "    -webkit-transform: rotate(45deg);\n",
       "    transform: rotate(45deg);\n",
       "}\n",
       "\n",
       ".salary-legal-disclaimer-modal-close:after {\n",
       "    -webkit-transform: rotate(-45deg);\n",
       "    transform: rotate(-45deg);\n",
       "}\n",
       "\n",
       ".salary-legal-disclaimer-content {\n",
       "    font: 13px/1.4 Arial, sans-serif;\n",
       "    color: black;\n",
       "}\n",
       "\n",
       ".salary-legal-disclaimer-title {\n",
       "    padding-bottom: 25px;\n",
       "    padding-top: 5px;\n",
       "    font-size: 18px;\n",
       "    font-weight: bold;\n",
       "}\n",
       "\n",
       ".salary-legal-disclaimer-link-wrap {\n",
       "    white-space: nowrap;\n",
       "}\n",
       "\n",
       ".salary-legal-disclaimer-link {\n",
       "    color: #0000cc;\n",
       "}</style>\n",
       "<style type=\"text/css\">\n",
       "    #resultsCol { padding-top: 0; }\n",
       "    .searchCount { margin-top: 6px; }\n",
       "    .showing { padding-top: 9px; padding-bottom: 9px; }\n",
       "\n",
       "    .brdr { height: 1px; overflow: hidden; background-color: #ccc; }\n",
       "\n",
       "    /* Tall window sizes */\n",
       "    @media only screen and (min-height:780px){\n",
       "        .showing { padding-bottom: 0; }\n",
       "    }\n",
       "\n",
       "    /* Wide window sizes */\n",
       "    @media only screen and (min-width:1125px){\n",
       "        .brdr  { margin-left: 12px; margin-right: 12px; }\n",
       "    }\n",
       "\n",
       "    a, a:link, .link, .btn, .btn:hover { text-decoration:none; }\n",
       "a:hover, .link:hover { text-decoration:underline; }\n",
       ".dya-container a { text-decoration: underline!important; }</style>\n",
       "<script>\n",
       "        function onLoadHandler() {\n",
       "            \n",
       "                document.js.reset();\n",
       "                jobSeenInit('1ci2lvodfbi4id1b', [{\n",
       "                    'jobClassName': 'result',\n",
       "                    'scanIta': true,\n",
       "                    'containsSponsored': true,\n",
       "                    'context': ''\n",
       "                }]);\n",
       "            \n",
       "            if ( document.radius_update ) { document.radius_update.reset(); }\n",
       "            \n",
       "\n",
       "            initJobsearchUnloadBeacon('1ci2lvodfbi4id1b');\n",
       "        }\n",
       "\n",
       "        initLogInitialUserInteraction('1ci2lvodfbi4id1b', 'serp');\n",
       "\n",
       "        window.onload = onLoadHandler;\n",
       "    </script>\n",
       "<link href=\"android-app://com.indeed.android.jobsearch/https/www.indeed.com/m/jobs?q=data+scientist\" rel=\"alternate\"/>\n",
       "<title>Data Scientist Jobs, Employment | Indeed.com</title>\n",
       "<style type=\"text/css\">\n",
       "    .btn,.sg-btn{display:inline-block;padding:9px 15px;border:1px solid #9a99ac;border-bottom-color:#a2a2a2;-webkit-border-radius:6px;-moz-border-radius:6px;-ms-border-radius:6px;-o-border-radius:6px;border-radius:6px;background-color:#D9D9E2;background-image:-moz-linear-gradient(top, #f8f8f9, #D9D9E2);background-image:-webkit-gradient(linear, 0 0, 0 100%, from(#f8f8f9), to(#D9D9E2));background-image:-webkit-linear-gradient(top, #f8f8f9, #D9D9E2);background-image:linear-gradient(to bottom, #f8f8f9, #D9D9E2);background-repeat:repeat-x;-webkit-box-shadow:0 1px 5px rgba(0,0,0,0.2);-moz-box-shadow:0 1px 5px rgba(0,0,0,0.2);-ms-box-shadow:0 1px 5px rgba(0,0,0,0.2);-o-box-shadow:0 1px 5px rgba(0,0,0,0.2);box-shadow:0 1px 5px rgba(0,0,0,0.2);color:#333;vertical-align:middle;text-align:center;text-decoration:none;text-shadow:0 1px #fff;font-weight:700;font-size:16px;font-family:\"Helvetica Neue\",Helvetica,Arial,\"Lucida Grande\",sans-serif;line-height:22px;filter:progid:DXImageTransform.Microsoft.gradient(startColorstr='#fff8f8f9', endColorstr='#ffe6e6e6', GradientType=0);cursor:pointer;-webkit-user-select:none;-moz-user-select:none;-ms-user-select:none;-o-user-select:none;user-select:none;-webkit-touch-callout:none;-webkit-highlight:none;-webkit-tap-highlight-color:transparent;text-overflow:ellipsis;white-space:nowrap;overflow:hidden}.btn.active,.btn.sg-active,.btn:active,.btn.disabled,.btn.sg-disabled,.btn[disabled],.sg-btn.active,.sg-btn.sg-active,.sg-btn:active,.sg-btn.disabled,.sg-btn.sg-disabled,.sg-btn[disabled]{outline:none;background-color:#f8f8f9;color:#333}.btn:focus,.sg-btn:focus{outline:0;box-shadow:0 0 1px 0 #1642bb;-webkit-transition:box-shadow 0.2s linear;-moz-transition:box-shadow 0.2s linear;transition:box-shadow 0.2s linear}.btn.active,.btn.sg-active,.btn:active,.sg-btn.active,.sg-btn.sg-active,.sg-btn:active{background-color:#f8f8f9;background-image:none;-webkit-box-shadow:inset 0 2px 4px rgba(0,0,0,0.15),0 1px 2px rgba(0,0,0,0.05);-moz-box-shadow:inset 0 2px 4px rgba(0,0,0,0.15),0 1px 2px rgba(0,0,0,0.05);box-shadow:inset 0 2px 4px rgba(0,0,0,0.15),0 1px 2px rgba(0,0,0,0.05)}.btn.disabled,.btn.sg-disabled,.btn[disabled],.sg-btn.disabled,.sg-btn.sg-disabled,.sg-btn[disabled]{background-color:#f8f8f9;background-image:none;-webkit-box-shadow:none;-moz-box-shadow:none;box-shadow:none;opacity:.65;filter:alpha(opacity=65);cursor:default}.btn-primary,.sg-btn-primary{border-color:#1642bb;background-color:#5585f2;background-image:-moz-linear-gradient(top, #6598ff, #2e5ad7);background-image:-webkit-gradient(linear, 0 0, 0 100%, from(#6598ff), to(#2e5ad7));background-image:-webkit-linear-gradient(top, #6598ff, #2e5ad7);background-image:linear-gradient(to bottom, #6598ff, #2e5ad7);background-repeat:repeat-x;color:#F8F8F9;text-shadow:0 -1px #0f2299;-ms-filter:progid:DXImageTransform.Microsoft.dropshadow(OffX=0, OffY=-1, Color=#e80f2299, Positive=true);filter:progid:DXImageTransform.Microsoft.dropshadow(OffX=0, OffY=-1, Color=#e80f2299, Positive=true);filter:progid:DXImageTransform.Microsoft.gradient(startColorstr='#ff6598fe', endColorstr='#ff3c69e0', GradientType=0);zoom:1}.btn-primary.active,.btn-primary.sg-active,.btn-primary:active,.btn-primary.disabled,.btn-primary.sg-disabled,.btn-primary[disabled],.sg-btn-primary.active,.sg-btn-primary.sg-active,.sg-btn-primary:active,.sg-btn-primary.disabled,.sg-btn-primary.sg-disabled,.sg-btn-primary[disabled]{background-color:#2e5ad7;color:#F8F8F9}.btn-primary:focus,.sg-btn-primary:focus{box-shadow:0 0 1px 0 #000}.btn-special,.sg-btn-special{border-color:#ba3200;background-color:#5585f2;background-image:-moz-linear-gradient(top, #f60, #f14200);background-image:-webkit-gradient(linear, 0 0, 0 100%, from(#f60), to(#f14200));background-image:-webkit-linear-gradient(top, #f60, #f14200);background-image:linear-gradient(to bottom, #f60, #f14200);background-repeat:repeat-x;color:#F8F8F9;text-shadow:0 -1px #000;-ms-filter:progid:DXImageTransform.Microsoft.dropshadow(OffX=0, OffY=-1, Color=#e80f2299, Positive=true);filter:progid:DXImageTransform.Microsoft.dropshadow(OffX=0, OffY=-1, Color=#e80f2299, Positive=true);filter:progid:DXImageTransform.Microsoft.gradient(startColorstr='#ff6598fe', endColorstr='#ff3c69e0', GradientType=0);zoom:1}.btn-special.active,.btn-special.sg-active,.btn-special:active,.btn-special.disabled,.btn-special.sg-disabled,.btn-special[disabled],.sg-btn-special.active,.sg-btn-special.sg-active,.sg-btn-special:active,.sg-btn-special.disabled,.sg-btn-special.sg-disabled,.sg-btn-special[disabled]{background-color:#f14200;color:#F8F8F9}.btn-special:focus,.sg-btn-special:focus{box-shadow:0 0 1px 0 #000}.btn-danger,.sg-btn-danger{border-color:#83121b;background-color:#5585f2;background-image:-moz-linear-gradient(top, #d1787f, #b01825);background-image:-webkit-gradient(linear, 0 0, 0 100%, from(#d1787f), to(#b01825));background-image:-webkit-linear-gradient(top, #d1787f, #b01825);background-image:linear-gradient(to bottom, #d1787f, #b01825);background-repeat:repeat-x;color:#F8F8F9;text-shadow:0 -1px #000;-ms-filter:progid:DXImageTransform.Microsoft.dropshadow(OffX=0, OffY=-1, Color=#e80f2299, Positive=true);filter:progid:DXImageTransform.Microsoft.dropshadow(OffX=0, OffY=-1, Color=#e80f2299, Positive=true);filter:progid:DXImageTransform.Microsoft.gradient(startColorstr='#ff6598fe', endColorstr='#ff3c69e0', GradientType=0);zoom:1}.btn-danger.active,.btn-danger.sg-active,.btn-danger:active,.btn-danger.disabled,.btn-danger.sg-disabled,.btn-danger[disabled],.sg-btn-danger.active,.sg-btn-danger.sg-active,.sg-btn-danger:active,.sg-btn-danger.disabled,.sg-btn-danger.sg-disabled,.sg-btn-danger[disabled]{background-color:#b01825;color:#F8F8F9}.btn-danger:focus,.sg-btn-danger:focus{box-shadow:0 0 1px 0 #000}input.btn,input.sg-btn{-webkit-appearance:none}button.btn::-moz-focus-inner,button.sg-btn::-moz-focus-inner{border:0}.btn-sm,.sg-btn-sm,.btn-xs,.sg-bt-xs{padding:6px 12px}.btn-xs,.sg-btn-xs{padding:3px 6px;line-height:15px}.btn-md,.sg-btn-md{padding:6px 6px}.btn-lg,.sg-btn-lg{padding:9px 18px;border-radius:6px;font-size:18px}.btn-block,.sg-btn-block{display:block;margin:9px auto;-webkit-box-sizing:border-box !important;-moz-box-sizing:border-box !important;box-sizing:border-box !important;max-width:352px}.btn-block-compact,.sg-btn-block-compact{margin:2px auto}input.btn-block,input.sg-btn-block,button.btn-block,button.sg-btn-block{width:100%;max-width:351px}.btn-block+.btn-block,.sg-btn-block+.sg-btn-block{margin-top:5px}#buttonContainer .btn,#buttonContainer .sg-btn{margin:0}.btn-icon .cssImage{margin-bottom:-40px;position:relative;top:-27px}.btn-pair{-webkit-box-sizing:border-box !important;-moz-box-sizing:border-box !important;box-sizing:border-box !important;width:49%}#refineresultscol{width:184px}#refineresults{width:180px}#branding-td{width:186px;text-align:center}.ltr #searchCount{margin-right:4px;margin-left:4px}.ltr #resultsCol .sorting{padding-right:4px}.ltr #resultsCol .showing{padding-left:4px}.ltr #jobsearch{padding-left:4px}.rtl #searchCount{margin-left:4px;margin-right:4px}.rtl #resultsCol .sorting{padding-left:4px}.rtl #resultsCol .showing{padding-right:4px}.rtl #jobsearch{padding-right:4px}.jaui,.hasu .gasc,.row,.message,.oocs{padding-left:4px;padding-right:4px}#resumePromo{padding-left:4px;padding-right:4px}#primePromo{padding-left:4px;padding-right:4px}@media only screen and (min-width: 1125px){.ltr #refineresults{padding-left:15px}.ltr #branding img{margin-left:16px;margin-right:28px}.rtl #refineresults{padding-right:15px}.rtl #branding img{margin-right:16px;margin-left:28px}.ltr #searchCount{margin-right:12px;margin-left:12px}.ltr #resultsCol .sorting{padding-right:12px}.ltr #resultsCol .showing{padding-left:12px}.ltr #jobsearch{padding-left:12px}.rtl #searchCount{margin-left:12px;margin-right:12px}.rtl #resultsCol .sorting{padding-left:12px}.rtl #resultsCol .showing{padding-right:12px}.rtl #jobsearch{padding-right:12px}.jaui,.hasu .gasc,.row,.message,.oocs{padding-left:12px;padding-right:12px}#resumePromo{padding-left:12px;padding-right:12px}#primePromo{padding-left:12px;padding-right:12px}#resultsBody{width:1125px}#refineresultscol,#branding-td{width:225px}#refineresults{width:210px}}@media only screen and (min-width: 1250px){#resultsBody{width:1250px}#auxCol{width:315px}#refineresultscol,#branding-td{width:275px}#refineresults{width:260px}.ltr #refineresults{padding-left:15px}.ltr #branding img{margin-left:16px;margin-right:28px}.rtl #refineresults{padding-right:15px}.rtl #branding img{margin-right:16px;margin-left:28px}.ltr #searchCount{margin-right:12px;margin-left:12px}.ltr #resultsCol .sorting{padding-right:12px}.ltr #resultsCol .showing{padding-left:12px}.ltr #jobsearch{padding-left:12px}.rtl #searchCount{margin-left:12px;margin-right:12px}.rtl #resultsCol .sorting{padding-left:12px}.rtl #resultsCol .showing{padding-right:12px}.rtl #jobsearch{padding-right:12px}.jaui,.hasu .gasc,.row,.message,.oocs{padding-left:12px;padding-right:12px}#resumePromo{padding-left:12px;padding-right:12px}#primePromo{padding-left:12px;padding-right:12px}}#branding-td{padding:5px 0 5px 0px}.resultsTop{padding-top:9px}\n",
       "</style>\n",
       "<style>\n",
       "        body.janus{background-color:#f6f6f6}body.janus *,body.janus .jasxcustomfonttst-useAvenir *{font-family:\"Helvetica Neue\",Helvetica,Arial,sans-serif !important;-webkit-font-smoothing:antialiased;-moz-osx-font-smoothing:grayscale;box-sizing:border-box}body.janus a,body.janus a:link{color:#2164f3}body.janus input::-webkit-contacts-auto-fill-button{visibility:hidden;display:none !important;pointer-events:none;position:absolute;right:0}body.janus .origin_site_link a{color:#085ff7}body.janus div#g_nav{border-bottom:2px solid #f6f6f6 !important;height:46px !important;margin-bottom:0}body.janus div#g_nav a{cursor:pointer;color:#4b4b4b !important;font-weight:400}body.janus div#g_nav#inboxLinkNavbar{font-weight:500 !important;font-size:12px !important;line-height:15.6px !important}body.janus div#g_nav .navBi a{font-size:12px;font-weight:500;position:relative;padding:12px 0;text-decoration:none}body.janus div#g_nav .navBi a:after{content:'';border-bottom:2px solid transparent;position:absolute;bottom:1px;left:0;right:0}body.janus div#g_nav .navBi a#userOptionsLabel{color:#2164f3 !important;font-size:12px;padding:12px 0}body.janus div#g_nav .navBi a:hover:after{border-color:#1497ff}body.janus div#g_nav .navBi a.selected{color:#000 !important;font-weight:700}body.janus div#g_nav .navBi a.selected:after{border-color:#2164f3}body.janus div#g_nav #userOptionsLabel{border-radius:15px 15px 0 0;border:2px solid transparent;margin-bottom:0 !important}body.janus div#g_nav #userOptionsLabel b{text-decoration:none}body.janus div#g_nav #userOptionsLabel.active{border-color:#f6f6f6;padding:9px 12px !important}body.janus div#g_nav #userOptions{border:2px solid #f6f6f6;border-radius:15px 0 15px 15px;box-shadow:2px 3px 8px 0 rgba(0,0,0,0.08);padding:4px 0;margin-top:-1px}body.janus div#g_nav #userOptions .userOptionGroupHeader,body.janus div#g_nav #userOptions .userOptionItem a,body.janus div#g_nav #userOptions .userNameRepeat{display:block;min-width:220px;padding:2px 16px}body.janus div#g_nav #userOptions .userOptionGroup{border-top:2px solid #f6f6f6}body.janus div#g_nav table{height:55px;margin-top:-8px}body.janus div#g_nav td{padding:0 !important}body.janus .inwrapBorder{border:0 !important}body.janus .inwrapBorder .inwrapBorderTop{background-color:transparent !important;background-image:none !important;border:0 !important}body.janus .inwrapBorder .input_submit{background-color:#085ff7 !important;border:2px solid #085ff7 !important;color:#fff !important;border-radius:100px !important;font-size:0.75rem;letter-spacing:0;line-height:1.25rem;font-weight:700;line-height:24px;padding:4px 1.5rem !important;min-width:95px;font-weight:500;box-sizing:border-box}body.janus .inwrapBorder .input_submit:hover{background-color:#1497ff !important;border-color:#1497ff !important}body.janus .inwrapBorder .input_submit:disabled{color:#ccc !important;background-color:#fff !important;border-color:#fff !important}body.janus .inwrapBorder .input_submit:hover{border-radius:100px !important}body.janus .inwrapBorder .input_submit.brandAdFollow,body.janus .inwrapBorder .input_submit.followButton{background-image:none !important}body.janus .inwrapBorder input.input_text{border:2px solid #ccc !important;box-sizing:border-box;background-color:#ececec}body.janus .inwrap{border:0 !important}body.janus #jobsearch .sl{background-position:right bottom;background-size:auto 80%;color:#767676;margin-left:10px;padding-right:20px}[dir=\"rtl\"] body.janus #jobsearch .sl{margin-left:0;margin-right:10px;padding-right:0;padding-left:20px;background-image:none}[dir=\"rtl\"] body.janus #jobsearch .sl:after{content:\"\";background-image:url(\"data:image/svg+xml,%3Csvg xmlns='http://www.w3.org/2000/svg' viewBox='3 3 19 19' width='16' height='16'%3E%3Cg%3E%3Cpath fill='#CCC' d='M10 6L8.59 7.41 13.17 12 8.59 16.59 10 18l6-6Z'/%3E%3C/g%3E%3C/svg%3E\");background-repeat:no-repeat;background-size:auto 80%;z-index:-1;transform:rotate(180deg);height:1.275em;width:1.275em;float:left;margin:0 1em}body.janus #jobsearch td.npl{padding:0 !important}body.janus #jobsearch #what_label_top,body.janus #jobsearch #where_label_top{color:#767676;font-weight:500 !important;padding:0 14px 7px !important;display:block;font-size:11px;letter-spacing:.5px}body.janus #jobsearch #what_label_bot,body.janus #jobsearch #where_label_bot,body.janus #jobsearch #what_label,body.janus #jobsearch #where_label{padding:9px 12px 0 !important;display:block;color:#767676;font-size:11px;white-space:normal !important;max-width:220px !important}body.janus #jobsearch .inwrapBorder .input_submit{background-color:#085ff7 !important;border:2px solid #085ff7 !important;color:#fff !important;border-radius:100px !important;font-size:0.75rem;letter-spacing:0;line-height:1.25rem;font-weight:700;line-height:24px;padding:4px 1.5rem !important;min-width:110px}body.janus #jobsearch .inwrapBorder .input_submit:hover{background-color:#1497ff !important;border-color:#1497ff !important}body.janus #jobsearch .inwrapBorder .input_submit:disabled{color:#ccc !important;background-color:#fff !important;border-color:#fff !important}body.janus #jobsearch .inwrapBorder .inwrapBorderTop{border:0 !important}[dir=\"ltr\"] body.janus #jobsearch .inwrapBorder .inwrapBorderTop{margin-left:10px}[dir=\"rtl\"] body.janus #jobsearch .inwrapBorder .inwrapBorderTop{margin-right:10px}body.janus #jobsearch .inwrap #what,body.janus #jobsearch .inwrap #where{width:264px !important;height:40px !important}body.janus #jobsearch .inwrap #what::-ms-clear,body.janus #jobsearch .inwrap #where::-ms-clear{display:none;width:0;height:0}#viewport body.janus #jobsearch .inwrap #what,#viewport body.janus #jobsearch .inwrap #where{width:280px !important}[dir=\"ltr\"] body.janus #jobsearch .inwrap #what{margin-right:2px !important}[dir=\"rtl\"] body.janus #jobsearch .inwrap #what{margin-left:2px !important}body.janus #jobsearch .auxColPad .input_submit{background-color:#fff !important;background-image:none !important;border:2px solid #ececec !important;color:#085ff7 !important;border-radius:100px !important;font-size:0.75rem;letter-spacing:0;line-height:1.25rem;font-weight:700;line-height:24px;padding:4px 1.5rem !important}body.janus #jobsearch .auxColPad .input_submit:hover{color:#1497ff !important;background-color:#fff !important;border-color:#ececec !important}body.janus #jobsearch .headerTipBubble{max-width:500px !important}body.janus [dir] .icl-LegalConsentBanner-action .icl-Button{background:#fff;background-image:none !important;border:2px solid transparent;border-radius:100px !important;box-shadow:none !important;box-sizing:border-box;color:#085ff7;max-width:100% !important;text-shadow:none !important}body.janus [dir] .icl-LegalConsentBanner-action .icl-Button--primary{background-color:#085ff7 !important;border:2px solid #085ff7 !important;color:#fff !important;border-radius:100px !important}body.janus [dir] .icl-LegalConsentBanner-action .icl-Button--primary:hover{background-color:#1497ff !important;border-color:#1497ff !important;box-shadow:none !important;background-image:none !important}body.janus .footerCta.greyBar{background-color:#f6f6f6 !important;border-top:2px solid #f6f6f6;font-size:20px;font-weight:700;padding:16px 0}body.janus .footerCta.greyBar>span{display:block}body.janus .footerCta.greyBar [dir] .icl-Button.cta_button.blue{background-color:#085ff7 !important;border:2px solid #085ff7 !important;color:#fff !important;border-radius:100px !important;font-size:0.875rem;letter-spacing:0;line-height:1.25rem;font-weight:700;line-height:24px;padding:0.5rem 1.5rem !important;box-shadow:none !important;text-shadow:none !important;background-image:none !important}body.janus .footerCta.greyBar [dir] .icl-Button.cta_button.blue:hover{background-color:#1497ff !important;border-color:#1497ff !important}body.janus .footerCta.greyBar [dir] .icl-Button.cta_button.blue:disabled{color:#ccc !important;background-color:#fff !important;border-color:#fff !important}body.janus #resumeCtaFooter,body.janus #updateResumeCtaFooter{height:auto !important}body.janus #resumeCtaFooter>div,body.janus #updateResumeCtaFooter>div{position:static !important}body.janus #what_acdiv.acd{width:calc(100% - 126px)}body.janus .content #what_acdiv.acd{width:calc(100% - 145px)}body.janus .content #acdiv.acd{width:calc(100% - 28px)}body.janus #refineresults{width:275px !important}body.janus #what_acdiv.acd,body.janus #acdiv.acd{border:2px solid #1497ff !important;border-radius:15px;box-shadow:2px 3px 8px 0 rgba(0,0,0,0.08)}body.janus #what_acdiv.acd .aci,body.janus #acdiv.acd .aci{padding:2px 12px}body.janus #what_acdiv.acd .aci:first-child,body.janus #acdiv.acd .aci:first-child{border-radius:13px 13px 0 0}body.janus #what_acdiv.acd .aci:last-child,body.janus #acdiv.acd .aci:last-child{border-radius:0 0 13px 13px}body.janus #what_acdiv.acd .acis,body.janus #acdiv.acd .acis{background-color:#1497ff}body.janus #footer{margin-top:0 !important}body.janus #footer-legal{font-size:11px !important}body.janus #valuePropFooter.bottom-border{border-bottom:2px solid #f6f6f6}body.janus #valuePropFooter .top-border{border-top:2px solid #f6f6f6}body.janus #valuePropFooter .vpfooter-content .vpfooter-btn-section>span:first-child{font-weight:700;margin-bottom:0.25rem}body.janus #valuePropFooter .vpfooter-content .vpfooter-btn-section [dir] .icl-Button.cta_button{box-shadow:none !important;text-shadow:none !important;background-image:none !important}body.janus #valuePropFooter .vpfooter-content .vpfooter-btn-section [dir] .icl-Button.cta_button.blue{background-color:#085ff7 !important;border:2px solid #085ff7 !important;color:#fff !important;border-radius:100px !important;font-size:0.875rem;letter-spacing:0;line-height:1.25rem;font-weight:700;line-height:24px;padding:0.5rem 1.5rem !important}body.janus #valuePropFooter .vpfooter-content .vpfooter-btn-section [dir] .icl-Button.cta_button.blue:hover{background-color:#1497ff !important;border-color:#1497ff !important}body.janus #valuePropFooter .vpfooter-content .vpfooter-btn-section [dir] .icl-Button.cta_button.blue:disabled{color:#ccc !important;background-color:#fff !important;border-color:#fff !important}body.janus #valuePropFooter .vpfooter-content .vpfooter-btn-section [dir] .icl-Button.cta_button.grey{background-color:#fff !important;background-image:none !important;border:2px solid #085ff7 !important;color:#085ff7 !important;border-radius:100px !important;font-size:0.875rem;letter-spacing:0;line-height:1.25rem;font-weight:700;line-height:24px;padding:0.5rem 1.5rem !important}body.janus #valuePropFooter .vpfooter-content .vpfooter-btn-section [dir] .icl-Button.cta_button.grey:hover{color:#1497ff !important;background-color:#fff !important;border-color:#1497ff !important}body.janus #valuePropFooter .vpfooter-content .vpfooter-values .vpimages-true>span{font-size:14px}body.janus #jobsearch .inwrap #what.input_text{background:#fff !important;border:2px solid #ececec !important;border-radius:100px !important;color:#4b4b4b !important;font-family:\"Helvetica Neue\",Helvetica,Arial,\"Liberation Sans\",Roboto,Noto,sans-serif;font-size:0.75rem;letter-spacing:0;line-height:1.25rem;font-weight:400;min-height:36px !important;padding:0.5rem 1rem !important}body.janus #jobsearch .inwrap #what.input_text:focus,body.janus #jobsearch .inwrap #what.input_text:active{border-color:#1497ff !important;outline:0 !important}[dir=\"ltr\"] body.janus #jobsearch .inwrap #what.input_text{border-top-left-radius:100px !important;border-top-right-radius:0 !important;border-bottom-right-radius:0 !important;border-bottom-left-radius:100px !important;padding-right:2.3em !important}[dir=\"rtl\"] body.janus #jobsearch .inwrap #what.input_text{border-top-left-radius:0 !important;border-top-right-radius:100px !important;border-bottom-right-radius:100px !important;border-bottom-left-radius:0 !important;padding-left:2.3em !important}body.janus #jobsearch .inwrap #where.input_text{background:#fff !important;border:2px solid #ececec !important;border-radius:100px !important;color:#4b4b4b !important;font-family:\"Helvetica Neue\",Helvetica,Arial,\"Liberation Sans\",Roboto,Noto,sans-serif;font-size:0.75rem;letter-spacing:0;line-height:1.25rem;font-weight:400;min-height:36px !important;padding:0.5rem 1rem !important}body.janus #jobsearch .inwrap #where.input_text:focus,body.janus #jobsearch .inwrap #where.input_text:active{border-color:#1497ff !important;outline:0 !important}[dir=\"ltr\"] body.janus #jobsearch .inwrap #where.input_text{border-top-left-radius:0 !important;border-top-right-radius:100px !important;border-bottom-right-radius:100px !important;border-bottom-left-radius:0 !important;padding-right:2.5em !important}[dir=\"rtl\"] body.janus #jobsearch .inwrap #where.input_text{border-top-left-radius:100px !important;border-top-right-radius:0 !important;border-bottom-right-radius:0 !important;border-bottom-left-radius:100px !important;padding-left:2.5em !important}body.janus .content #recPromoDisplay a,body.janus .recJobs .viewJobRec a:after,body.janus .recJobs .sjr .ita-inline-job:after,body.janus #jobsearch .sl,body.janus #gajui a,body.janus .srchlst_wrap .srchlst .rsi a,body.janus #promo_link a,body.janus #refineresultscol #recPromoDisplay:after,body.janus #populartable td a{background-image:url(\"data:image/svg+xml,%3Csvg xmlns='http://www.w3.org/2000/svg' viewBox='3 3 19 19' width='16' height='16'%3E%3Cg%3E%3Cpath fill='#CCC' d='M10 6L8.59 7.41 13.17 12 8.59 16.59 10 18l6-6Z'/%3E%3C/g%3E%3C/svg%3E\");background-repeat:no-repeat}body.janus #bviewrecs a,body.janus #bviewmorerecs a,body.janus .content #recPromoDisplay a{background-position:calc(101% - 1px) center}body.janus #promo_link a,body.janus .srchlst_wrap .srchlst .rsi a{background-position:98% center}body.janus #populartable td a{background-position:98% 52%;background-size:14px 14px}body.janus #refineresultscol #recPromoDisplay{position:relative}body.janus #refineresultscol #recPromoDisplay:after{background-position:right center;top:2px;right:100px;bottom:0;width:14px}body.janus #jobsearch .inwrap #where,body.janus #jobsearch .inwrap #what{padding-right:34px !important}body.janus #jobsearch td.npl .inwrap{position:relative}body.janus #jobsearch td.npl:nth-child(1) .inwrap:after,body.janus #jobsearch td.npl:nth-child(2) .inwrap:after{background-position:left center;background-repeat:no-repeat;background-size:contain;content:'';display:block;position:absolute}body.janus #jobsearch td.npl:nth-child(1) .inwrap:after{background-image:url(\"data:image/svg+xml;base64,PHN2ZyB4bWxucz0iaHR0cDovL3d3dy53My5vcmcvMjAwMC9zdmciIHZpZXdCb3g9IjAgMCAyMSAyMCI+PHRpdGxlPkFzc2V0IDE8L3RpdGxlPjxwYXRoIGQ9Ik0yMSAxOC42MmwtNC41Ni00LjU2YTkuMSA5LjEgMCAxIDAtMS4yOCAxLjQ4TDE5LjYyIDIwek05IDE2YTcgNyAwIDEgMSA3LTcgNyA3IDAgMCAxLTcgN3oiIGRhdGEtbmFtZT0iTGF5ZXIgMSIvPjwvc3ZnPg==\")}[dir=\"ltr\"] body.janus #jobsearch td.npl:nth-child(1) .inwrap:after{width:16px;height:16px;top:11px;right:14px}[dir=\"rtl\"] body.janus #jobsearch td.npl:nth-child(1) .inwrap:after{width:16px;height:16px;top:11px;left:14px}body.janus #jobsearch td.npl:nth-child(2) .inwrap:after{background-image:url(\"data:image/svg+xml;base64,PHN2ZyB4bWxucz0iaHR0cDovL3d3dy53My5vcmcvMjAwMC9zdmciIHdpZHRoPSIxOCIgaGVpZ2h0PSIyNyIgdmlld0JveD0iMCAwIDE4IDI3Ij48ZyBmaWxsPSJub25lIiBmaWxsLXJ1bGU9ImV2ZW5vZGQiPjxwYXRoIHN0cm9rZT0iIzAwMCIgc3Ryb2tlLXdpZHRoPSIyIiBkPSJNOSAyNC43MmM1LjMzLTcuNTQgOC0xMi44NCA4LTE1LjcyIDAtNC40Mi0zLjU4LTgtOC04UzEgNC41OCAxIDljMCAyLjg4IDIuNjYgOC4xOCA4IDE1LjcyeiIvPjxjaXJjbGUgY3g9IjkiIGN5PSI5IiByPSIzIiBmaWxsPSIjMDAwIi8+PC9nPjwvc3ZnPg==\")}[dir=\"ltr\"] body.janus #jobsearch td.npl:nth-child(2) .inwrap:after{width:16px;height:16px;top:11px;right:14px}[dir=\"rtl\"] body.janus #jobsearch td.npl:nth-child(2) .inwrap:after{width:16px;height:16px;top:11px;left:14px}body.janus #resumePromo .picard-ico{background-image:url(\"data:image/svg+xml;base64,PHN2ZyB4bWxucz0iaHR0cDovL3d3dy53My5vcmcvMjAwMC9zdmciIHZpZXdCb3g9IjAgMCAyMSAyNCI+PHRpdGxlPmljb25fZGVjb3JhdGl2ZS1wcm9maWxlPC90aXRsZT48cGF0aCBkPSJNMTAuNSAyYTQgNCAwIDEgMS00IDQgNCA0IDAgMCAxIDQtNHptMCAxMGE2IDYgMCAxIDAtNi02IDYgNiAwIDAgMCA2IDZ6TTIuNjMgMjJsMS40Ni01Ljg5QTEuMzYgMS4zNiAwIDAgMSA1LjM0IDE1aC4zNmw0LjgxIDQuNzFMMTUuMzIgMTVoLjM2YTEuMzUgMS4zNSAwIDAgMSAxLjIyIDEuMTFMMTguMzkgMjJ6bTExLjI0LTdsLTMuMzcgMy4yOUw3LjE1IDE1em01IC42MkEzLjM3IDMuMzcgMCAwIDAgMTUuNjYgMTNINS4zNGEzLjM3IDMuMzcgMCAwIDAtMy4yIDIuNjJMMCAyNGgyMXoiIGRhdGEtbmFtZT0iTGF5ZXIgMSIvPjwvc3ZnPg==\");background-size:16px 16px;width:16px;height:16px}body.janus .rbHeader .ws_bold,body.janus #radius_update label,body.janus .rbHeader,body.janus #recentsearches .rsh,body.janus #recPromoDisplay a,body.janus #refineresults span[role=\"heading\"]+div{font-size:14px;font-weight:500;color:#000 !important}body.janus #recPromoDisplay a{color:#2164f3 !important}body.janus .content #recPromoDisplay{margin-bottom:2em !important}body.janus .rbOpen .more_link{margin-top:-8px;margin-bottom:24px}body.janus #refineresults .more_link,body.janus #recentsearches .clearRSControl .sl,body.janus .result-link-bar-container .sl,body.janus .sl.ws_label{font-size:12px;color:#2164f3;font-weight:400}body.janus .row .new{color:#f60 !important}body.janus .nji.recDecoration,body.janus .rsList .nji,body.janus .rsi .nji,body.janus .row .new,body.janus .content #recPromoDisplay .nji.recDecoration,body.janus #recPromoDisplayPageLast .nji.recDecoration,body.janus #serpRecommendations #bviewmorerecs .nji.recDecoration,body.janus #resultsCol #bviewrecs .nji.recDecoration,body.janus #resultsCol #bviewmorerecs .nji.recDecoration,body.janus #job-content #bviewmorerecs .nji.recDecoration{color:#f60 !important;font-size:12px;line-height:1}body.janus #refineresultscol #recPromoDisplay .nji.recDecoration{color:#f60 !important;display:inline-block;font-weight:400 !important;line-height:1 !important;padding:0 4px 1px;position:relative}body.janus #jobsearch .inwrap #what.input_text{background:#fff !important;border:2px solid #ececec !important;border-radius:100px !important;color:#4b4b4b !important;font-family:\"Helvetica Neue\",Helvetica,Arial,\"Liberation Sans\",Roboto,Noto,sans-serif;font-size:0.75rem;letter-spacing:0;line-height:1.25rem;font-weight:400;min-height:36px !important;padding:0.5rem 1rem !important}body.janus #jobsearch .inwrap #what.input_text:focus,body.janus #jobsearch .inwrap #what.input_text:active{border-color:#1497ff !important;outline:0 !important}[dir=\"ltr\"] body.janus #jobsearch .inwrap #what.input_text{border-top-left-radius:100px !important;border-top-right-radius:0 !important;border-bottom-right-radius:0 !important;border-bottom-left-radius:100px !important;padding-right:2.3em !important}[dir=\"rtl\"] body.janus #jobsearch .inwrap #what.input_text{border-top-left-radius:0 !important;border-top-right-radius:100px !important;border-bottom-right-radius:100px !important;border-bottom-left-radius:0 !important;padding-left:2.3em !important}body.janus #jobsearch .inwrap #where.input_text{background:#fff !important;border:2px solid #ececec !important;border-radius:100px !important;color:#4b4b4b !important;font-family:\"Helvetica Neue\",Helvetica,Arial,\"Liberation Sans\",Roboto,Noto,sans-serif;font-size:0.75rem;letter-spacing:0;line-height:1.25rem;font-weight:400;min-height:36px !important;padding:0.5rem 1rem !important}body.janus #jobsearch .inwrap #where.input_text:focus,body.janus #jobsearch .inwrap #where.input_text:active{border-color:#1497ff !important;outline:0 !important}[dir=\"ltr\"] body.janus #jobsearch .inwrap #where.input_text{border-top-left-radius:0 !important;border-top-right-radius:100px !important;border-bottom-right-radius:100px !important;border-bottom-left-radius:0 !important;padding-right:2.5em !important}[dir=\"rtl\"] body.janus #jobsearch .inwrap #where.input_text{border-top-left-radius:100px !important;border-top-right-radius:0 !important;border-bottom-right-radius:0 !important;border-bottom-left-radius:100px !important;padding-left:2.5em !important}body.janus div#g_nav #p_nav{margin-left:20px}body.janus div#g_nav #u_nav{margin-right:18px}body.janus #refineresultscol,body.janus #resultsCol,body.janus #g_nav,body.janus #footerWrapper,body.janus #footer{background-color:#fff}body.janus #refineresultscol .rsList{margin:0 !important}body.janus #refineresultscol .rsList .nji{color:#f60 !important;font-weight:400 !important}body.janus #refineresults{box-sizing:border-box;padding-left:0;padding-right:0}body.janus #refineresults #recPromoDisplay,body.janus #refineresults>div{color:#2d2d2d;padding-left:20px;padding-right:17px}body.janus #refineresults #radius_update{padding-left:20px;padding-right:17px}body.janus #refineresults>div.rbSection{margin-left:4px}body.janus #refineresults>div.rbSection,body.janus #refineresults #radius_update,body.janus #refineresults #recPromoDisplay{margin-bottom:24px;margin-left:3px}body.janus #refineresults span[role=\"heading\"]+div{font-size:14px;font-weight:500;color:#767676;white-space:nowrap;margin-left:3px !important}body.janus #refineresults span[role=\"heading\"]+div .no-wrap{display:block;font-size:12px;margin-top:4px;margin-bottom:24px}body.janus #refineresults span[role=\"heading\"]+div .no-wrap b,body.janus #refineresults span[role=\"heading\"]+div .no-wrap a{font-weight:500 !important}body.janus #refineresults span[role=\"heading\"]+div .no-wrap b{color:#2d2d2d !important}body.janus #refineresults span[role=\"heading\"]+div .no-wrap a:visited{color:#2164f3}body.janus #refineresults h1{padding:0 16px}body.janus #refineresults h1 font{font-size:10px !important;font-weight:400 !important;color:#767676}body.janus #footer{margin:0;padding:1em 24px}body.janus #footerWrapper{width:100%;position:absolute;left:0;right:0}body.janus #resultsCol #bjobalerts{margin-bottom:0 !important}body.janus .footerJaPromoBubble,body.janus #bjobalertswrapper .jaPromoUi{margin-left:16px;margin-right:16px}body.janus #resultsCol #bjobalerts.jaPromoUi{margin-bottom:24px !important}body.janus #branding-td{width:253px !important}body.janus table[role=banner]{width:100%;background-color:#fff;padding-top:24px;padding-bottom:16px;border-bottom:2px solid #f6f6f6}[dir=\"ltr\"] body.janus #refineresultscol,[dir=\"ltr\"] body.janus #resultsCol{border-right:2px solid #f6f6f6}[dir=\"rtl\"] body.janus #refineresultscol,[dir=\"rtl\"] body.janus #resultsCol{border-left:2px solid #f6f6f6}body.janus #resultsCol .row,body.janus #resultsCol .related_searches,body.janus #resultsCol .dupetext,body.janus #footer{border-top:2px solid #f6f6f6}body.janus .rbOpen .more_link{margin-left:2px;margin-top:0 !important}body.janus #refineresultscol #recentsearches{margin-left:0 !important;margin-bottom:24px;padding-left:24px}body.janus #refineresultscol{position:relative}body.janus #refineresultscol #refineresults{padding-top:8px}body.janus #refineresultscol .no-wrap a{color:#2164f3}body.janus #refineresultscol .clearRSControl{margin-bottom:24px}body.janus #radius_update select{padding:4px;width:100%;font-size:12px !important;margin-top:4px}body.janus #resultsCol .row{padding:24px 16px;position:relative;margin-bottom:0}body.janus #resultsCol .row .sjcl,body.janus #resultsCol .row .snip .summary{margin-right:50px}body.janus #resultsCol .row .snip .summary,body.janus #resultsCol .row .ita-snippet{display:block;margin-top:4px !important;margin-bottom:16px}body.janus #resultsCol .row .company,body.janus #resultsCol .row .location,body.janus #resultsCol .row .slNoUnderline,body.janus #resultsCol .row .snip .summary,body.janus #resultsCol .row .ita-snippet,body.janus .result div.row table tr td.snip{font-size:14px}body.janus .div.row table tr td.snip{line-height:1.5 !important}body.janus #resultsCol .jobtitle{margin-bottom:2px;font-weight:700}body.janus #resultsCol h2.jobtitle{margin-right:50px;text-overflow:ellipsis}body.janus #resultsCol .jobtitle a,body.janus #resultsCol .jobtitle{color:#2164f3 !important}body.janus #resultsCol .jobtitle a:visited,body.janus #resultsCol .jobtitle:visited{color:#767676 !important}body.janus .row .iaP .iaLabel{font-weight:500;color:#f60 !important}body.janus .result .company,body.janus [data-tn-element=reviewStars]:link,body.janus [data-tn-element=reviewStars] .slNoUnderline,body.janus .result .snip,body.janus .result .JobTags-list,body.janus .result .summary,body.janus #resultsCol #bjobalerts,body.janus #resultsCol #primePromo,body.janus .rbOpen .more_link span{color:#4b4b4b !important;width:auto}body.janus .result .experience{font-size:0.75rem;line-height:1.33}body.janus .result .experienceHeader{color:#6f6f6f}body.janus .result .experienceList{color:#4b4b4b}body.janus .result .company a,body.janus .result .turnstileLink .slNoUnderline{color:#2d2d2d !important;font-weight:500}body.janus .result .company a{color:#000 !important;font-weight:500}body.janus .result .turnstileLink .slNoUnderline{font-weight:400 !important}body.janus .result .more-link,body.janus .result .more_loc{margin-left:4px;font-size:12px;color:#2164f3}body.janus #resultsCol .related_searches,body.janus #resultsCol .ws_content,body.janus #resultsCol .more_actions,body.janus #resultsCol .dupetext,body.janus #resultsCol .showing{font-size:12px}body.janus #resultsCol .related_searches{padding:24px 16px 0;margin-bottom:0}body.janus #resultsCol .related_searches b{font-weight:700}body.janus #resultsCol .related_searches a{color:#000;border-right:0}body.janus #resultsCol .related_searches .rightBorder{border-right:0;margin-right:0;padding-right:0}body.janus #resultsCol .related_searches .rightBorder:after{content:'-';margin-left:3px;margin-right:3px}body.janus #resultsCol .related_searches .related_searches_list{margin-bottom:24px}body.janus #resultsCol #resumePromo{color:#4b4b4b;margin:0;padding:24px 16px;padding-top:0 !important;margin-top:12px !important;position:relative;font-weight:700}body.janus #resultsCol #resumePromo .new-ico{display:none}body.janus #resultsCol #resumePromo .resume-promo-link{color:#2164f3}body.janus #resultsCol #resumePromo .resume-promo-link b{font-weight:700}body.janus #resultsCol .ws_content,body.janus #resultsCol .more_actions{background:#ececec;border:0 !important;margin-top:16px}body.janus #resultsCol .ws_content a,body.janus #resultsCol .more_actions a{color:#2164f3}body.janus #resultsCol .dupetext{color:#4b4b4b;margin-bottom:0;margin-top:0 !important;padding:16px}body.janus #resultsCol .dupetext a{color:#2164f3;font-weight:700}body.janus #resultsCol #recPromoDisplayPageLast{padding:0 12px;margin:0}body.janus #resultsCol #recPromoDisplayPageLast a{margin-left:4px;color:#2164f3 !important}body.janus #resultsCol .jaui{background-color:#fff;border-top:2px solid #f6f6f6;border-bottom:2px solid #f6f6f6;padding:16px}body.janus #resultsCol .jaui .ico{display:none}body.janus #resultsCol .showing{color:#2d2d2d;margin-bottom:0 !important;padding:0 16px 8px !important;margin-top:8px !important;font-weight:500}body.janus #resultsCol .showing b,body.janus #resultsCol .showing a{font-weight:500 !important}body.janus #resultsCol .showing b{color:#2d2d2d !important}body.janus #resultsCol .showing a{color:#2164f3}body.janus #resultsCol .showing a:visited{color:#2164f3}body.janus #resultsCol #searchCount{margin:0 !important;color:#767676;font-size:12px}body.janus #resultsCol .resultsTop{padding:0;margin-bottom:0}body.janus #resultsCol .pagination{border-bottom:2px solid #f6f6f6 !important;margin-top:-2px !important;margin-bottom:0 !important;padding:24px 16px 32px;color:#767676;font-size:12px;font-weight:500;text-align:left;margin-right:-28px}body.janus #resultsCol .pagination .pn,body.janus #resultsCol .pagination .np,body.janus #resultsCol .pagination b{font-size:16px;font-weight:700}body.janus #resultsCol .pagination b{color:#000;margin-left:4px}body.janus #resultsCol .pagination a{margin-left:4px}body.janus #resultsCol .pagination a,body.janus #resultsCol .pagination a .pn{color:#2164f3 !important}body.janus .lastRow+div+div{margin-bottom:0 !important}body.janus #footer #secondary_nav .gaj_heading{margin-left:-1em;font-weight:700}body.janus #footer #secondary_nav a{color:#000}body.janus #footer #secondary_nav .origin_site_link a{color:#2164f3}body.janus #footer #secondary_nav,body.janus #footer #footer-legal{text-align:left;font-size:11px}body.janus #resultsCol .footerJaPromoBubble{margin-top:0 !important}body.janus #resultsCol #primePromo,body.janus #resultsCol #searchCount,body.janus #resultsCol .messageContainer{padding-left:16px;padding-right:16px}body.janus #resultsCol #primePromo a{color:#2164f3}body.janus #resultsCol .messageContainer .message{color:#000;margin:0;padding:8px 0}body.janus #resultsCol{position:relative;margin-top:8px !important;padding-right:0 !important}body.janus #resultsCol .messageContainer{border-bottom:2px solid #f6f6f6;margin-top:-2px}body.janus #resultsCol .no_results{padding-left:0;width:auto !important}body.janus #resultsCol .bad_query>h2,body.janus #resultsCol #suggested_queries,body.janus #resultsCol #search_suggestions{padding:12px 16px}body.janus .no_results{padding-left:0;width:auto !important}body.janus .no_results .bad_query div{width:auto !important}body.janus .no_results #suggested_queries{border-bottom:2px solid #f6f6f6}body.janus .no_results hr{display:none}body.janus .no_results #recommendations{font-size:14px;font-weight:700;padding:16px 16px 10px}body.janus .no_results #recommendations .row{margin-left:-16px;margin-right:-16px;font-weight:400}body.janus .no_results #recommendations .row.lastRow{border-bottom:2px solid #f6f6f6}body.janus .no_results #recommendations #bviewmorerecs a{color:#000 !important}body.janus #auxCol{padding-top:24px;padding-left:24px}body.janus #auxCol .jaui,body.janus #auxCol #femp_list,body.janus #univsrch-salary-v3 #univsrch-salary-info,body.janus .cmp_display .cmp_info,body.janus .rezcta_display .rezcta_info,body.janus .rightRail{border:0 !important;border-top:6px solid #ffca4f !important;background-color:#fff;box-shadow:none !important;color:#767676;font-size:12px;font-weight:400}body.janus #auxCol .ja_rec_confirm_ui_tst{border:0;border-top:6px solid #ffca4f !important}body.janus #auxCol #tjobalerts,body.janus #auxCol #jobalerts{border-radius:0 !important}body.janus #auxCol .ja_rec_confirm_ui_tst,body.janus #tjobalerts .jobalertlabel,body.janus #jobalerts .jobalertlabel,body.janus #femp_list .femp_header,body.janus #univsrch-salary-v3 #univsrch-salary-title{padding:12px 16px !important;border-bottom:2px solid #f6f6f6;background-color:#fff;font-size:12px;color:#4b4b4b;font-weight:500}body.janus #auxCol .ja_rec_confirm_ui_tst h4,body.janus #auxCol .ja_rec_action_text{font-size:12px;color:#4b4b4b}body.janus #tjobalerts.jaui .member,body.janus #jobalerts.jaui .member,body.janus #femp_list .femp_header,body.janus #univsrch-salary-v3 #univsrch-salary-title{color:#4b4b4b !important;font-weight:500}body.janus #tjobalerts .jobalertlabel,body.janus #jobalerts .jobalertlabel,body.janus #auxCol .ja_rec_confirm_ui_tst h4,body.janus #univsrch-salary-v3 #univsrch-salary-eval,body.janus #femp_list .femp_header,body.janus #univsrch-salary-v3 #univsrch-salary-title{margin:0}body.janus #auxCol .jaui{padding:0}body.janus #ja_active_check,body.janus #tjobalerts .jobalertlabel .ico,body.janus #jobalerts .jobalertlabel .ico{display:none}body.janus #jobalerts #jobalertmessage,body.janus #tjobalerts #tjobalertmessage{padding-top:0 !important}body.janus #tjobalerts #tjobalertmessage,body.janus #jobalerts #jobalertmessage,body.janus #femp_list .femp_item,body.janus #tjobalertswrapper .ja_rec_ui_tst_box,body.janus #jobalertswrapper .ja_rec_ui_tst_box,body.janus #univsrch-salary-v3 #univsrch-salary-eval{background-color:#fff;border:0;color:#767676;font-size:12px;font-weight:400;line-height:1.5;padding:16px}body.janus #tjobalerts #tjobalertmessage a,body.janus #tjobalerts #tjobalertmessage a.jobtitle,body.janus #jobalerts #jobalertmessage a,body.janus #jobalerts #jobalertmessage a.jobtitle,body.janus #femp_list .femp_item a,body.janus #femp_list .femp_item a.jobtitle,body.janus #tjobalertswrapper .ja_rec_ui_tst_box a,body.janus #tjobalertswrapper .ja_rec_ui_tst_box a.jobtitle,body.janus #jobalertswrapper .ja_rec_ui_tst_box a,body.janus #jobalertswrapper .ja_rec_ui_tst_box a.jobtitle,body.janus #univsrch-salary-v3 #univsrch-salary-eval a,body.janus #univsrch-salary-v3 #univsrch-salary-eval a.jobtitle{color:#2164f3 !important;font-weight:500;font-size:12px}body.janus #jobalerts #jobalerttext:not(:empty),body.janus #tjobalerts #tjobalerttext:not(:empty){padding-top:16px;padding-left:16px;padding-right:16px;display:block}body.janus #univsrch-salary-v3 #univsrch-salary-rates>#univsrch-salary-currentsalary.v3{color:#000;font-size:16px}body.janus #jobalerts #jobalertsending,body.janus #tjobalerts #tjobalertsending{margin:16px;display:block}body.janus .jaui .ws_label,body.janus .jaui .ws_label_open,body.janus .jaui .member{color:#2164f3}body.janus .related_searches_right-rail{border:0 !important;border-top:6px solid #ffca4f !important;background-color:#fff;box-shadow:none !important;color:#767676;font-size:12px;font-weight:400;margin-top:2em;width:inherit}body.janus .related_searches_right-rail_title{padding:12px 16px !important;border-bottom:2px solid #f6f6f6;background-color:#fff;font-size:12px;color:#4b4b4b;font-weight:500}body.janus .related_searches_right-rail_list{background-color:#fff;border:0;color:#767676;font-size:12px;font-weight:400;line-height:1.5;padding:16px;padding:16px 16px 20px;margin:0}body.janus .related_searches_right-rail_list .related_searches_right-rail_list-item{list-style-type:none}body.janus .related_searches_right-rail_list .related_searches_right-rail_list-item_with-border{display:inline}body.janus .related_searches_right-rail_list .related_searches_right-rail_list-item_with-border:not(last-child):after{content:'-';margin-left:3px;margin-right:3px}body.janus #jobsearch{padding-left:24px !important}body.janus #jobsearch .label,body.janus #jobsearch .label label,body.janus .lav .jsf .label,body.janus .result .location,body.janus #resultsCol .more_actions ul li .mat{color:#767676}body.janus .footer{height:50px;border-top-width:2px;padding:9px 0}body.janus #footerMainLinks{margin:10px 0 -5px}body.janus #resultsBody .indeed-apply-button{background-color:#fff !important;background-image:none !important;border:2px solid #ececec !important;color:#085ff7 !important;border-radius:100px !important;font-size:0.875rem;letter-spacing:0;line-height:1.25rem;font-weight:700;line-height:24px;padding:0.5rem 1.5rem !important;background-image:none !important;padding:0 !important;box-shadow:none !important;height:auto !important;border-color:#ececec !important}body.janus #resultsBody .indeed-apply-button:hover{color:#1497ff !important;background-color:#fff !important;border-color:#ececec !important}body.janus #resultsBody .indeed-apply-button .indeed-apply-button-inner{background:#fff;background-image:none !important;border:2px solid transparent;border-radius:100px !important;box-shadow:none !important;box-sizing:border-box;color:#085ff7;max-width:100% !important;text-shadow:none !important}body.janus #resultsBody .indeed-apply-button:hover{border-color:#1497ff !important;background-color:none !important;background-image:none !important}body.janus #resultsBody .indeed-apply-button:hover .indeed-apply-button-inner{background-image:none !important}body.janus #resultsBody .indeed-apply-button:hover .indeed-apply-button-label{color:#1497ff}body.janus #resultsBody .indeed-apply-button .indeed-apply-button-label{color:#085ff7;line-height:25px;padding:3px 14px;border-radius:0 !important}body.janus #alertemail,body.janus #talertemail,body.janus #balertemail{background:#fff !important;border:2px solid #ececec !important;border-radius:100px !important;color:#4b4b4b !important;font-family:\"Helvetica Neue\",Helvetica,Arial,\"Liberation Sans\",Roboto,Noto,sans-serif;font-size:0.75rem;letter-spacing:0;line-height:1.25rem;font-weight:400;min-height:36px !important;padding:0.5rem 1rem !important}body.janus #alertemail:focus,body.janus #alertemail:active,body.janus #talertemail:focus,body.janus #talertemail:active,body.janus #balertemail:focus,body.janus #balertemail:active{border-color:#1497ff !important;outline:0 !important}body.janus #resultsCol #balertemail{border-top-left-radius:100px !important;border-top-right-radius:0 !important;border-bottom-right-radius:0 !important;border-bottom-left-radius:100px !important;margin-right:-5px}body.janus #resultsCol #balertsubmit{border-top-left-radius:0 !important;border-top-right-radius:100px !important;border-bottom-right-radius:100px !important;border-bottom-left-radius:0 !important;position:relative;top:0 !important;left:-2px}body.janus #balertsubmit,body.janus #talertsubmit,body.janus #alertsubmit{background-color:#fff !important;background-image:none !important;border:2px solid #ececec !important;color:#085ff7 !important;border-radius:100px !important;font-size:0.75rem;letter-spacing:0;line-height:1.25rem;font-weight:700;line-height:24px;padding:4px 1.5rem !important;min-height:35px;min-width:100px}body.janus #balertsubmit:hover,body.janus #talertsubmit:hover,body.janus #alertsubmit:hover{color:#1497ff !important;background-color:#fff !important;border-color:#ececec !important}body.janus #jobalertmessage .indeed-serp-button,body.janus #tjobalertmessage .indeed-serp-button,body.janus #balertsubmit .indeed-serp-button,body.janus #tjobalertmessage span,body.janus #jobalertmessage span,body.janus #bjobalertmessage span{box-shadow:none !important;text-shadow:none !important;border-radius:0 !important;border:0 !important;font-weight:400 !important;background:none !important;height:auto !important}body.janus .jobalertform-terms-outer-wrapper .jobalertform-terms-inner-wrapper{background:#fff !important;height:auto !important}body.janus #bjobalertmessage .indeed-serp-button{margin-left:4px;margin-top:-1px}body.janus #pageContent .relatedQuerySpacing{border:0;border-bottom:2px solid #f6f6f6;padding:16px;margin:0}body.janus #pageContent .relatedQuerySpacing .grayText{color:#4b4b4b;font-size:12px;margin-bottom:2px}body.janus .rbOpen .rbHeader{padding-left:2px !important}body.janus .rsList li{color:#767676;margin:9px 0 !important}body.janus .rsList li a{color:#2164f3 !important;font-size:12px}body.janus .rbList{margin-left:2px !important;margin-bottom:16px}body.janus .rbList li{position:relative;color:#4b4b4b !important;margin:8px 0 !important;color:#6f6f6f !important}[dir=\"ltr\"] body.janus .rbList li{text-align:right}[dir=\"rtl\"] body.janus .rbList li{text-align:left}body.janus .rbList li a{overflow:hidden;text-overflow:ellipsis;color:#2d2d2d !important;font-weight:400;font-size:12px;max-width:75%}[dir=\"ltr\"] body.janus .rbList li a{float:left;text-align:left;padding-right:12px}[dir=\"rtl\"] body.janus .rbList li a{float:right;text-align:right;padding-left:12px}body.janus #bviewrecs,body.janus #bviewmorerecs{align-items:baseline;display:-ms-flexbox;display:flex;justify-content:space-around;-ms-flex-order:1;order:1}body.janus #bviewrecs .recDecoration,body.janus #bviewmorerecs .recDecoration{display:none;-ms-flex-order:4;order:4}body.janus #bviewrecs a,body.janus #bviewmorerecs a{padding:0 1em;-ms-flex-order:2;order:2;flex-grow:2}body.janus #bviewrecs .nji.recDecoration,body.janus #bviewmorerecs .nji.recDecoration{float:none;-ms-flex-order:3;order:3;position:relative;display:flex;margin:0;font-weight:400}body.janus #bviewrecs .nji.recDecoration::after,body.janus #bviewmorerecs .nji.recDecoration::after{display:block;padding-left:12px;content:url(\"data:image/svg+xml,%3Csvg xmlns='http://www.w3.org/2000/svg' viewBox='3 3 19 19' width='16' height='16'%3E%3Cg%3E%3Cpath fill='#CCC' d='M10 6L8.59 7.41 13.17 12 8.59 16.59 10 18l6-6Z'/%3E%3C/g%3E%3C/svg%3E\");margin-top:-1px}[dir=\"rtl\"] body.janus #bviewrecs .nji.recDecoration::after,[dir=\"rtl\"] body.janus #bviewmorerecs .nji.recDecoration::after{transform:rotate(180deg);margin-top:-3px}body.janus #serpRecommendations{border-top:2px solid #f6f6f6}body.janus #serpRecommendations .brdr{display:none}body.janus #serpRecommendations #bviewmorerecs{border-top:2px solid #f6f6f6;padding:16px 16px 2px}body.janus #serpRecommendations #bviewmorerecs a{color:#000 !important;font-size:16px;font-weight:500 !important}body.janus #serpRecommendations .recTitle{font-size:16px;font-weight:500;padding:0 16px}body.janus #bviewrecs{margin-top:0 !important}body.janus #popover-foreground{border-top:6px solid #ffca4f}body.janus #popover-foreground #popover-form-container{padding-top:0}body.janus #popover-foreground .popover-heading-container{border-bottom:2px solid #f6f6f6;margin:-10px -25px 25px;padding-bottom:15px}body.janus #popover-foreground .popover-heading-container .envelope{display:none}body.janus #popover-foreground #popover-x{margin-top:-18px}body.janus #popover-foreground .popover-heading{margin-left:25px;margin-right:25px;font-size:14px}body.janus #popover-foreground .popover-input{border:2px solid #ccc;border-radius:100px;padding:6px 15px;font-size:14px;box-sizing:border-box;height:37px;width:100%}body.janus #popover-foreground .popover-small.caption{font-size:12px;color:#767676;padding-bottom:4px;display:block}body.janus #popover-foreground .cleanuptst-indeed-serp-button{box-shadow:none !important;text-shadow:none !important;border-radius:0 !important;border:0 !important;font-weight:400 !important;background-image:none !important;background-color:#085ff7 !important;border:2px solid #085ff7;border-radius:100px !important;color:#fff;font-weight:500 !important;padding:2px 24px;font-size:14px}body.janus #popover-foreground .cleanuptst-indeed-serp-button:hover{background-color:#1497ff !important;border-color:#1497ff !important}body.janus #popover-foreground #popover-close-link{font-weight:400 !important}body.janus #postJobClickCta [dir] .icl-Button.icl-Button--primary.cta_button.blue{box-shadow:none !important;text-shadow:none !important;background-image:none !important;background-color:#085ff7 !important;border:2px solid #085ff7 !important;color:#fff !important;border-radius:100px !important;font-size:0.875rem;letter-spacing:0;line-height:1.25rem;font-weight:700;line-height:24px;padding:0.5rem 1.5rem !important}body.janus #postJobClickCta [dir] .icl-Button.icl-Button--primary.cta_button.blue:hover{background-color:#1497ff !important;border-color:#1497ff !important}body.janus #postJobClickCta [dir] .icl-Button.icl-Button--primary.cta_button.blue:disabled{color:#ccc !important;background-color:#fff !important;border-color:#fff !important}body.janus .univsrch-ci-logo{height:98px !important}body.janus .ja_col .ja_rec_ico_white{background-image:url(\"data:image/svg+xml;base64,PD94bWwgdmVyc2lvbj0iMS4wIiBlbmNvZGluZz0iVVRGLTgiPz48c3ZnIHdpZHRoPSIyNHB4IiBoZWlnaHQ9IjE4cHgiIHZpZXdCb3g9IjAgMCAyNCAxOCIgdmVyc2lvbj0iMS4xIiB4bWxucz0iaHR0cDovL3d3dy53My5vcmcvMjAwMC9zdmciIHhtbG5zOnhsaW5rPSJodHRwOi8vd3d3LnczLm9yZy8xOTk5L3hsaW5rIj4gICAgICAgIDx0aXRsZT5JY29uL0RlY29yYXRpdmUvU3Vic2NyaXB0aW9ucy9NRDwvdGl0bGU+ICAgIDxkZXNjPkNyZWF0ZWQgd2l0aCBTa2V0Y2guPC9kZXNjPiAgICA8ZGVmcz48L2RlZnM+ICAgIDxnIGlkPSJEUy0yNjItLS1JY29ucy1Db21wb25lbnQiIHN0cm9rZT0ibm9uZSIgc3Ryb2tlLXdpZHRoPSIxIiBmaWxsPSJub25lIiBmaWxsLXJ1bGU9ImV2ZW5vZGQiIHRyYW5zZm9ybT0idHJhbnNsYXRlKC00MTcuMDAwMDAwLCAtMTgxNC4wMDAwMDApIj4gICAgICAgIDxnIGlkPSJJY29uL0RlY29yYXRpdmUvU3Vic2NyaXB0aW9ucy9NRCIgdHJhbnNmb3JtPSJ0cmFuc2xhdGUoNDE3LjAwMDAwMCwgMTgxMS4wMDAwMDApIj4gICAgICAgICAgICA8cG9seWdvbiBpZD0iU2hhcGUiIHBvaW50cz0iMCAwIDI0IDAgMjQgMjQgMCAyNCI+PC9wb2x5Z29uPiAgICAgICAgICAgIDxwb2x5Z29uIGlkPSJGaWxsLTEiIGZpbGw9IiNGRkQzNUMiIGZpbGwtcnVsZT0iZXZlbm9kZCIgcG9pbnRzPSIwIDMuOTk5OSAxMiAxMy45MTU5IDI0IDMuOTk5OSI+PC9wb2x5Z29uPiAgICAgICAgICAgIDxwYXRoIGQ9Ik0wLDIxIEwyNCwyMSBMMjQsMyBMMCwzIEwwLDIxIFogTTIuNzc3LDUgTDIxLjIyMyw1IEwxMiwxMi43NDQgTDIuNzc3LDUgWiBNMjIsNS42MDMgTDIyLDE5IEwyLDE5IEwyLDUuNjAzIEwxMiwxNCBMMjIsNS42MDMgWiIgaWQ9IkZpbGwtMiIgZmlsbD0iIzAwMDAwMCIgZmlsbC1ydWxlPSJldmVub2RkIj48L3BhdGg+ICAgICAgICA8L2c+ICAgIDwvZz48L3N2Zz4=\");background-size:18px 12px}body.janus .rightRailAd.singleImageAd{background:#fff;border:none;padding:0 0 16px}body.janus .rightRailAd.singleImageAd .sdn{color:#767676 !important}body.janus #univsrch-sal-distribution ul>li.univsrch-sal-highlight{background-color:#ffdc7a}body.janus #univsrch-ci{padding-left:0px;margin-left:16px;margin-top:8px}body.janus #univsrch-ci .univsrch-ci-block{border:2px solid #f6f6f6;border-radius:2px;padding:8px 8px 4px;margin-right:16px}body.janus #univsrch-ci .univsrch-ci-block .univsrch-ci-logo-small{margin-right:8px}body.janus #univsrch-ci .univsrch-ci-block .univsrch-ci-ratings{margin-left:4px}body.janus #univsrch-ci .univsrch-ci-block .univsrch-ci-acme-link a{font-size:12px;line-height:1.5;margin-right:32px}body.janus #univsrch-ci #univsrch-ci-prompt{padding-top:8px;padding-bottom:8px}body.janus #wfh-prompt{font-style:italic;padding-top:8px;padding-bottom:8px;padding-left:15px}body.janus #jobsearch .inwrap #what.input_text{background:#fff !important;border:2px solid #ececec !important;border-radius:100px !important;color:#4b4b4b !important;font-family:\"Helvetica Neue\",Helvetica,Arial,\"Liberation Sans\",Roboto,Noto,sans-serif;font-size:0.75rem;letter-spacing:0;line-height:1.25rem;font-weight:400;min-height:36px !important;padding:0.5rem 1rem !important}body.janus #jobsearch .inwrap #what.input_text:focus,body.janus #jobsearch .inwrap #what.input_text:active{border-color:#1497ff !important;outline:0 !important}[dir=\"ltr\"] body.janus #jobsearch .inwrap #what.input_text{border-top-left-radius:100px !important;border-top-right-radius:0 !important;border-bottom-right-radius:0 !important;border-bottom-left-radius:100px !important;padding-right:2.3em !important}[dir=\"rtl\"] body.janus #jobsearch .inwrap #what.input_text{border-top-left-radius:0 !important;border-top-right-radius:100px !important;border-bottom-right-radius:100px !important;border-bottom-left-radius:0 !important;padding-left:2.3em !important}body.janus #jobsearch .inwrap #where.input_text{background:#fff !important;border:2px solid #ececec !important;border-radius:100px !important;color:#4b4b4b !important;font-family:\"Helvetica Neue\",Helvetica,Arial,\"Liberation Sans\",Roboto,Noto,sans-serif;font-size:0.75rem;letter-spacing:0;line-height:1.25rem;font-weight:400;min-height:36px !important;padding:0.5rem 1rem !important}body.janus #jobsearch .inwrap #where.input_text:focus,body.janus #jobsearch .inwrap #where.input_text:active{border-color:#1497ff !important;outline:0 !important}[dir=\"ltr\"] body.janus #jobsearch .inwrap #where.input_text{border-top-left-radius:0 !important;border-top-right-radius:100px !important;border-bottom-right-radius:100px !important;border-bottom-left-radius:0 !important;padding-right:2.5em !important}[dir=\"rtl\"] body.janus #jobsearch .inwrap #where.input_text{border-top-left-radius:100px !important;border-top-right-radius:0 !important;border-bottom-right-radius:0 !important;border-bottom-left-radius:100px !important;padding-left:2.5em !important}body.janus .lnav td{padding-bottom:0}body.janus .ltr #branding img{margin-left:32px !important;margin-bottom:0 !important;margin-top:10px !important}body.janus div#g_nav table{margin-top:-8px}body.janus table[role=\"banner\"]{padding-bottom:7px !important;padding-top:8px !important}body.janus #jobsearch #what_label_top,body.janus #jobsearch #where_label_top{color:#4b4b4b !important;font-size:12px !important;font-weight:500 !important;line-height:16px !important;padding-bottom:4px !important}body.janus #jobsearch .inwrap #where,body.janus #jobsearch .inwrap #what{background-color:#fff;height:36px !important}body.janus #jobsearch .inwrap #what.input_text{background:#fff !important;border:2px solid #ececec !important;border-radius:100px !important;color:#4b4b4b !important;font-family:\"Helvetica Neue\",Helvetica,Arial,\"Liberation Sans\",Roboto,Noto,sans-serif;font-size:0.75rem;letter-spacing:0;line-height:1.25rem;font-weight:400;min-height:36px !important;padding:0.5rem 1rem !important}body.janus #jobsearch .inwrap #what.input_text:focus,body.janus #jobsearch .inwrap #what.input_text:active{border-color:#1497ff !important;outline:0 !important}[dir=\"ltr\"] body.janus #jobsearch .inwrap #what.input_text{border-top-left-radius:100px !important;border-top-right-radius:0 !important;border-bottom-right-radius:0 !important;border-bottom-left-radius:100px !important;padding-right:2.3em !important}[dir=\"rtl\"] body.janus #jobsearch .inwrap #what.input_text{border-top-left-radius:0 !important;border-top-right-radius:100px !important;border-bottom-right-radius:100px !important;border-bottom-left-radius:0 !important;padding-left:2.3em !important}body.janus #jobsearch .inwrap #where.input_text{background:#fff !important;border:2px solid #ececec !important;border-radius:100px !important;color:#4b4b4b !important;font-family:\"Helvetica Neue\",Helvetica,Arial,\"Liberation Sans\",Roboto,Noto,sans-serif;font-size:0.75rem;letter-spacing:0;line-height:1.25rem;font-weight:400;min-height:36px !important;padding:0.5rem 1rem !important}body.janus #jobsearch .inwrap #where.input_text:focus,body.janus #jobsearch .inwrap #where.input_text:active{border-color:#1497ff !important;outline:0 !important}[dir=\"ltr\"] body.janus #jobsearch .inwrap #where.input_text{border-top-left-radius:0 !important;border-top-right-radius:100px !important;border-bottom-right-radius:100px !important;border-bottom-left-radius:0 !important;padding-right:2.5em !important}[dir=\"rtl\"] body.janus #jobsearch .inwrap #where.input_text{border-top-left-radius:100px !important;border-top-right-radius:0 !important;border-bottom-right-radius:0 !important;border-bottom-left-radius:100px !important;padding-left:2.5em !important}body.janus #jobsearch #what_label_bot,body.janus #jobsearch #where_label_bot,body.janus #jobsearch #what_label,body.janus #jobsearch #where_label{padding-top:4px !important}body.janus #resultsCol #primePromo,body.janus #resultsCol #resumePromo{margin-bottom:0 !important;margin-top:8px !important;padding:8px 16px !important;padding-top:0 !important;border-bottom:2px solid #f6f6f6}body.janus #refineresultscol #refineresults{padding-left:10px !important}body.janus #resultsCol .row{border-top:0 !important;padding:8px 16px !important}body.janus #resultsCol .row .snip .summary{margin-bottom:2px !important}body.janus #resultsCol .jobtitle a:visited,body.janus #resultsCol .jobtitle:visited{color:#5a38d6 !important}body.janus #resultsCol .row .snip .summary{font-size:12px !important}body.janus .result .iaP{display:block;margin-bottom:4px}body.janus .result .iaP .iaLabel{font-weight:400 !important}body.janus #resultsCol .pagination,body.janus #resultsCol .related_searches{border-top:0}body.janus .close-link.closeLink{background-image:url(\"data:image/svg+xml;base64,PHN2ZyB4bWxucz0iaHR0cDovL3d3dy53My5vcmcvMjAwMC9zdmciIHdpZHRoPSIxMiIgaGVpZ2h0PSIxMiI+PGcgZmlsbD0ibm9uZSIgZmlsbC1ydWxlPSJldmVub2RkIiBzdHJva2U9IiMwMDAiIHN0cm9rZS13aWR0aD0iMiI+PHBhdGggZD0iTTEwLjUxIDFMMSAxMC41MU0xIDFsOS41MSA5LjUxIi8+PC9nPjwvc3ZnPg==\");background-position:center;height:12px;width:12px;margin-right:12px;margin-top:12px}body.janus #resultsCol #resumePromo{padding-left:16px !important}body.janus #serpRecommendations .recTitle{position:relative;padding-left:42px !important}body.janus #serpRecommendations .recTitle:before{background-position:left center;background-repeat:no-repeat;background-size:contain;content:'';display:block;position:absolute;background-image:url(\"data:image/svg+xml;base64,PHN2ZyB4bWxucz0naHR0cDovL3d3dy53My5vcmcvMjAwMC9zdmcnIHdpZHRoPScyNCcgaGVpZ2h0PScyMicgdmlld0JveD0nMCAwIDI0IDIyJz48ZyBmaWxsPSdub25lJz48ZyB0cmFuc2Zvcm09J3RyYW5zbGF0ZSgtMzMwIC0xNzU4KXRyYW5zbGF0ZSgzMzAgMTc1OCknPjxwYXRoIGQ9J00xNy43IDE5LjlMMTYuNiAxMy41IDIxLjMgOSAxNC45IDguMSAxMiAyLjMgOS4xIDguMSAyLjcgOSA3LjQgMTMuNSA2LjMgMTkuOSAxMiAxNi45IDE3LjcgMTkuOVonIHN0eWxlPSdzdHJva2Utd2lkdGg6MjtzdHJva2U6IzAwMCcvPjxwb2x5Z29uIHBvaW50cz0nMTIgMTQuNSA5LjEgMTYgOS42IDEyLjggNy4yIDEwLjUgMTAuNSAxMCAxMiA3IDEzLjUgMTAgMTYuOCAxMC41IDE0LjQgMTIuOCAxNC45IDE2JyBmaWxsPScjRkZDQTRGJy8+PC9nPjwvZz48L3N2Zz4K\") !important;width:18px;height:18px;left:16px}body.janus #refineresultscol .more_link span{display:inline-block;overflow:hidden;white-space:nowrap}[dir=\"ltr\"] body.janus #refineresultscol .more_link span{padding-left:24px}[dir=\"rtl\"] body.janus #refineresultscol .more_link span{padding-right:24px}body.janus #refineresultscol .more_link span:before{background-position:left center;background-repeat:no-repeat;background-size:contain;content:'';display:block;position:absolute;background-image:url(\"data:image/svg+xml;base64,PHN2ZyB4bWxucz0iaHR0cDovL3d3dy53My5vcmcvMjAwMC9zdmciIHdpZHRoPSIyMCIgaGVpZ2h0PSIyMCI+PGcgZmlsbD0ibm9uZSIgZmlsbC1ydWxlPSJldmVub2RkIj48cGF0aCBmaWxsPSIjMTk1RkY3IiBkPSJNNSA5aDEwdjJINXoiLz48cGF0aCBmaWxsPSIjMTk1RkY3IiBkPSJNOSAxNVY1aDJ2MTB6Ii8+PGNpcmNsZSBjeD0iMTAiIGN5PSIxMCIgcj0iOSIgc3Ryb2tlPSIjRUNFQ0VDIiBzdHJva2Utd2lkdGg9IjIiLz48L2c+PC9zdmc+\");height:20px;width:20px;margin-top:-3px}[dir=\"ltr\"] body.janus #refineresultscol .more_link span:before{margin-left:-24px}[dir=\"rtl\"] body.janus #refineresultscol .more_link span:before{margin-right:-24px}body.janus .result-link-bar-container .result-link-bar .save-job-link{color:#2164f3 !important;font-size:12px;line-height:1.2}body.janus .result-link-bar-container{display:inline-block;color:transparent}body.janus .result-link-bar .date,body.janus .row .result-link-source,body.janus .row .sponsoredGray,body.janus .row .myjobs-serp-link,body.janus .result-link-bar a[href*='/myjobs?from=serp'],body.janus .row .sdn,body.janus .row .iaP .iaLabel,body.janus .result .more-link,body.janus .result-link-bar-container .sl{border-bottom:0 !important;color:#6f6f6f !important;display:inline-block;font-size:12px;line-height:1.167 !important}body.janus .row .iaP .iaLabel{color:#f60 !important}body.janus .iaP{display:inline-block;font-weight:400;margin-right:10px}body.janus #resultsCol .jobtitle a,body.janus #resultsCol a.jobtitle{color:#000 !important;text-decoration:underline}body.janus #resultsCol .jobtitle a.visited,body.janus #resultsCol a.jobtitle.visited{color:#5a38d6 !important}body.janus #resultsCol .jobtitle a:hover,body.janus #resultsCol a.jobtitle:hover{text-decoration:none}body.janus #recPromoDisplay a{color:#2164f3 !important}body.janus .row .new{border-color:#fff !important;color:#f60 !important}body.janus #refineresultscol #refineresults{padding-left:8px !important;margin-left:0px !important}body.janus #resultsCol{border-right:0 !important;padding-bottom:0 !important}body.janus #resultsCol .messageContainer{border:0 !important}body.janus .vjs-highlight:after,body.janus .vjs-highlight:before{display:none !important}body.janus #footer{border-top:0 !important}body.janus #footerWrapper{border-color:#F6F6F6 !important}body.janus #resultsCol .row.result{margin-right:0 !important;padding-left:12px !important;box-sizing:border-box !important;overflow:hidden !important;border:0px solid transparent !important}[dir=\"ltr\"] body.janus #resultsCol .row.result{border-left:4px solid transparent !important}[dir=\"rtl\"] body.janus #resultsCol .row.result{border-right:4px solid transparent !important}body.janus #resultsCol .row.result .jobtitle{margin-right:0 !important}body.janus #resultsCol .row.result .jobtitle a{display:inline-block !important;text-overflow:ellipsis}[dir=\"ltr\"] body.janus #resultsCol .row.result .sjcl,[dir=\"ltr\"] body.janus #resultsCol .row.result .summary{margin-left:0 !important;margin-right:24px !important}[dir=\"rtl\"] body.janus #resultsCol .row.result .sjcl,[dir=\"rtl\"] body.janus #resultsCol .row.result .summary{margin-right:0 !important;margin-left:24px !important}body.janus #resultsCol .row.result.vjs-highlight{background:#f6f6f6 !important;border-color:#ffca4f !important;border-bottom-color:transparent !important}[dir=\"ltr\"] body.janus #resultsCol .row.result.vjs-highlight{border-right-color:transparent !important}[dir=\"rtl\"] body.janus #resultsCol .row.result.vjs-highlight{border-left-color:transparent !important}body.janus #resultsCol .row.result:hover{border-color:transparent !important}body.janus #resultsCol .row.clickcard{border-bottom-color:transparent !important;border-right-color:transparent !important;border-top-color:transparent !important;border-left-color:transparent !important}body.janus #resultsCol .row.clickcard:hover{border-bottom-color:transparent !important;border-right-color:transparent !important;border-top-color:transparent !important;border-left-color:transparent !important}body.janus #resultsCol .row.clickcard:hover{background-color:#f9f9f9 !important}body.janus #vjs-container{margin-top:24px !important;margin-bottom:24px !important;margin-left:0 !important;border:none !important}body.janus #vjs-container #vjs-header{border-top:8px solid #ffca4f !important;border-bottom:none !important}body.janus #vjs-container #vjs-header .job-footer-button-row{align-items:flex-start;display:flex}body.janus #vjs-container #vjs-header #vjs-cmL{max-height:52px}body.janus #vjs-container .vjs-header-shadow{box-shadow:0 3px 4px 0px rgba(0,0,0,0.15) !important}body.janus #vjs-container .vjs-header-no-shadow{box-shadow:none !important}[lang=\"en\"] body.janus #vjs-container .indeed-apply-button-container{width:48% !important;display:inline-block}body.janus #vjs-container .indeed-apply-widget{display:flex !important}body.janus #vjs-container .indeed-apply-button-placeholder{cursor:pointer}body.janus #vjs-container .indeed-apply-button-container,body.janus #vjs-container a.view_job_link.blue-button{flex:1 0;max-width:50% !important}body.janus #vjs-container .indeed-apply-button,body.janus #vjs-container .indeed-apply-button-placeholder{background:transparent !important;text-align:center;background-color:#f60 !important;border:2px solid #f60 !important;color:#fff !important;border-radius:100px !important;font-size:0.875rem;letter-spacing:0;line-height:1.25rem;font-weight:700;line-height:24px;padding:0.5rem 1.5rem !important;margin:8px 16px 0 0 !important;line-height:1.25rem !important;flex:0 1 100%}body.janus #vjs-container .indeed-apply-button:hover,body.janus #vjs-container .indeed-apply-button-placeholder:hover{background-color:#FF6F09 !important;border-color:#FF6F09 !important}body.janus #vjs-container .indeed-apply-button:disabled,body.janus #vjs-container .indeed-apply-button-placeholder:disabled{color:#ccc !important;background-color:#fff !important;border-color:#fff !important}[lang=\"en\"] body.janus #vjs-container .indeed-apply-button,[lang=\"en\"] body.janus #vjs-container .indeed-apply-button-placeholder{box-sizing:border-box !important;text-align:center;width:calc(100% - 16px) !important}body.janus #vjs-container .indeed-apply-button .indeed-apply-button-inner,body.janus #vjs-container .indeed-apply-button-placeholder .indeed-apply-button-inner{background:none !important;border:0 !important;height:0 !important;padding:0 !important;font:inherit !important;float:none !important}body.janus #vjs-container .indeed-apply-button .indeed-apply-button-inner:hover,body.janus #vjs-container .indeed-apply-button-placeholder .indeed-apply-button-inner:hover{background-color:none !important}body.janus #vjs-container .indeed-apply-button .indeed-apply-button-inner .indeed-apply-button-label,body.janus #vjs-container .indeed-apply-button-placeholder .indeed-apply-button-inner .indeed-apply-button-label{background-image:none !important;box-shadow:none !important;box-sizing:border-box;max-width:100% !important;text-shadow:none !important;color:#fff !important;font-weight:700 !important;padding:0 !important;line-height:22px !important}body.janus #vjs-container .indeed-apply-button .indeed-apply-button-inner .indeed-apply-button-label:hover,body.janus #vjs-container .indeed-apply-button-placeholder .indeed-apply-button-inner .indeed-apply-button-label:hover{background-color:none !important;box-shadow:none !important}body.janus #vjs-container .blue-button{background-color:#085ff7 !important;border:2px solid #085ff7 !important;color:#fff !important;border-radius:100px !important;font-size:0.875rem;letter-spacing:0;line-height:1.25rem;font-weight:700;line-height:24px;padding:0.5rem 1.5rem !important;background-image:none !important;box-shadow:none !important;box-sizing:border-box;max-width:100% !important;text-shadow:none !important;margin:8px 16px 0 0 !important}body.janus #vjs-container .blue-button:hover{background-color:#1497ff !important;border-color:#1497ff !important}body.janus #vjs-container .blue-button:disabled{color:#ccc !important;background-color:#fff !important;border-color:#fff !important}[lang=\"en\"] body.janus #vjs-container .blue-button{width:40% !important}@media only screen and (min-width: 1200px) and (max-width: 1360px){[lang=\"en\"] body.janus #vjs-container .blue-button{width:auto !important}}body.janus #vjs-container #state-picker-container{flex:1 0;display:flex;margin-right:16px}[lang=\"en\"] body.janus #vjs-container #state-picker-container{width:40% !important}@media only screen and (min-width: 1200px) and (max-width: 1360px){[lang=\"en\"] body.janus #vjs-container #state-picker-container{width:auto !important}}body.janus #vjs-container #state-picker-container .state-picker-button{background-color:#fff !important;background-image:none !important;border:2px solid #085ff7 !important;color:#085ff7 !important;border-radius:100px !important;font-size:0.875rem;letter-spacing:0;line-height:1.25rem;font-weight:700;line-height:24px;padding:0.5rem 1.5rem !important;flex:1 0 100%}body.janus #vjs-container #state-picker-container .state-picker-button:hover{color:#1497ff !important;background-color:#fff !important;border-color:#1497ff !important}[lang=\"en\"] body.janus #vjs-container #state-picker-container .state-picker-button{width:100% !important}body.janus #vjs-container #indeed_apply .state-picker-button.dd-target,body.janus #vjs-container #state-picker-container .state-picker-button.dd-target{background-color:#fff !important;background-image:none !important;border:2px solid #ececec !important;color:#085ff7 !important;border-radius:100px !important;font-size:0.875rem;letter-spacing:0;line-height:1.25rem;font-weight:700;line-height:24px;padding:0.5rem 1.5rem !important;background-image:none !important;box-shadow:none !important;min-width:100%;margin-top:8px !important}body.janus #vjs-container #indeed_apply .state-picker-button.dd-target:hover,body.janus #vjs-container #state-picker-container .state-picker-button.dd-target:hover{color:#1497ff !important;background-color:#fff !important;border-color:#ececec !important}body.janus #vjs-container #state-picker-info-container .state-picker-info-body{background:#f6f6f6}body.janus #vjs-container #state-picker-container .state-picker-info-arrow{border-bottom:10px solid #f6f6f6 !important}body.janus #vjs-container #state-picker-container .dd-menu{border:2px solid #ccc;border-radius:15px;background-color:#fff;box-shadow:2px 3px 8px 0 rgba(0,0,0,0.08);color:#4b4b4b;margin-left:15px;margin-top:2px;width:100% !important;margin-bottom:48px}body.janus #vjs-container #state-picker-container .dd-menu .dd-menu-option{background-color:#fff;border:0}body.janus #vjs-container #state-picker-container .dd-menu .dd-menu-option:not(:last-of-type){border-bottom:2px solid #f6f6f6}body.janus #vjs-container #state-picker-container .dd-menu .dd-menu-option:first-child{border-radius:13px 13px 0 0}body.janus #vjs-container #state-picker-container .dd-menu .dd-menu-option:last-child{border-radius:0 0 13px 13px}body.janus #vjs-container #state-picker-container .dd-menu .dd-menu-option:hover{background-color:#f6f6f6 !important}body.janus #auxCol{padding-left:24px !important}body.janus #auxCol #femp_list,body.janus #jobalertswrapper,body.janus #univsrch-salary-v3,body.janus .rightRailAd{margin-left:0 !important}body.janus .indeed-apply-button-placeholder-overlay{position:fixed;display:flex;top:0;left:0;right:0;bottom:0;background-color:rgba(102,102,102,0.6)}body.janus .indeed-apply-button-placeholder-spinner{border:6px solid;border-top:6px solid;width:40px;height:40px;border-color:rgba(102,102,102,0.6);border-top-color:#00c;border-radius:50%;-webkit-animation:spin 1s linear infinite;animation:spin 1s linear infinite;margin:auto;top:0;bottom:0;left:0;right:0}@-webkit-keyframes spin{0%{-webkit-transform:rotate(0deg)}100%{-webkit-transform:rotate(360deg)}}@keyframes spin{0%{transform:rotate(0deg)}100%{transform:rotate(360deg)}}\n",
       "</style>\n",
       "<style>\n",
       "        body.janus #what_acdiv.acd{border:0 !important;border-color:inherit !important}body.janus .z-index-override{z-index:101 !important}body.janus #what_acdiv.acd,body.janus #acdiv.acd,body.janus #acdiv_where_alert.acd{border:0 !important;width:100% !important;z-index:101}body.janus #what_acdiv.acd ul,body.janus #acdiv.acd ul,body.janus #acdiv_where_alert.acd ul{border:2px solid #1497ff !important;border-radius:15px;box-shadow:2px 3px 8px 0 rgba(0,0,0,0.08);overflow:hidden}body.janus #what_acdiv.acd li.ac-active:hover,body.janus #what_acdiv.acd li.ac-active:active,body.janus #acdiv.acd li.ac-active:hover,body.janus #acdiv.acd li.ac-active:active,body.janus #acdiv_where_alert.acd li.ac-active:hover,body.janus #acdiv_where_alert.acd li.ac-active:active{color:#4b4b4b !important}body.janus .ac-active{color:#4b4b4b !important;background-color:#ececec !important}body.janus .ac-row{font-size:.875rem;padding:0.5rem 1rem}body.janus .ac-row .bold{color:#000}\n",
       "</style>\n",
       "</head>\n",
       "<body class=\"ltr jasxcustomfonttst-inactive janus\" data-tn-application=\"jasx\" data-tn-olth=\"41be357fa1c7dc26c5ee98836f8950b3\" data-tn-originlogid=\"1ci2lvodfbi4id1b\" data-tn-originlogtype=\"jobsearch\">\n",
       "<div id=\"accessibilityBanner\"><span id=\"accessibilityText\">Skip to <!-- This is translated before reaching this state --><a class=\"accessibilityMenu\" href=\"#jobPostingsAnchor\" id=\"skipToJobs\">Job Postings</a>, <!-- This is translated before reaching this state --><a class=\"accessibilityMenu\" href=\"#what\" id=\"skipToSearch\">Search</a></span><a id=\"accessibilityClose\">Close</a></div><script type=\"text/javascript\">\n",
       "     createTabBar('1ci2lvodfbi4id1b');\n",
       "   </script>\n",
       "<script>\n",
       "        var vjsStable = true;\n",
       "        var viewJobOnSerp = new indeed.vjs('1ci2lvodfbi4id1b', 'vjs');\n",
       "        var vjk = viewJobOnSerp.getVJK();\n",
       "        var vjFrom = viewJobOnSerp.getFrom();\n",
       "        var vjTk = viewJobOnSerp.getTk();\n",
       "        var vjUrl = viewJobOnSerp.vjUrl(vjk, vjFrom, vjTk);\n",
       "        var showVjOnSerp = vjsStable;\n",
       "        var zrp = false;\n",
       "        if ((zrp || !showVjOnSerp || window.innerWidth < 1200) && vjUrl) {\n",
       "            window.location.replace(vjUrl);\n",
       "        } else if (showVjOnSerp) {\n",
       "            var jobKeysWithInfo = {};\n",
       "            \n",
       "            jobKeysWithInfo['5f03e5a8317c053f'] = true;\n",
       "            \n",
       "            jobKeysWithInfo['b95effe37ea2332e'] = true;\n",
       "            \n",
       "            jobKeysWithInfo['0627f61ffef38b5c'] = true;\n",
       "            \n",
       "            jobKeysWithInfo['078e2988d1456156'] = true;\n",
       "            \n",
       "            jobKeysWithInfo['6480fd397a281f58'] = true;\n",
       "            \n",
       "            jobKeysWithInfo['dd23ebd90ce9f9f8'] = true;\n",
       "            \n",
       "            jobKeysWithInfo['aabe81847b4e12c6'] = true;\n",
       "            \n",
       "            jobKeysWithInfo['bd6a2cf25e7086d4'] = true;\n",
       "            \n",
       "            jobKeysWithInfo['f86102866c231934'] = true;\n",
       "            \n",
       "            jobKeysWithInfo['5eeb144e4901b50c'] = true;\n",
       "            \n",
       "            jobKeysWithInfo['392f7dde2fa222cd'] = true;\n",
       "            \n",
       "            jobKeysWithInfo['6b5e920bdd627e42'] = false;\n",
       "            \n",
       "            jobKeysWithInfo['f459a5ae6a27f2a6'] = true;\n",
       "            \n",
       "            jobKeysWithInfo['89ccb75f044833fb'] = true;\n",
       "            \n",
       "            jobKeysWithInfo['f5ef53db163dadbb'] = true;\n",
       "            \n",
       "            jobKeysWithInfo['b301dee73c1dc5d4'] = true;\n",
       "            \n",
       "            if (vjk && !jobKeysWithInfo.hasOwnProperty(vjk)) {\n",
       "                jobKeysWithInfo[vjk] = true;\n",
       "            }\n",
       "            viewJobOnSerp.preloadDescs(jobKeysWithInfo);\n",
       "            var bindAndRender = function () {\n",
       "                if (showVjOnSerp) {\n",
       "                    viewJobOnSerp.bindJobKeys(jobKeysWithInfo);\n",
       "                    if (vjUrl) {\n",
       "                        var vjFrom = viewJobOnSerp.getFrom();\n",
       "                        var vjTk = viewJobOnSerp.getTk();\n",
       "                        viewJobOnSerp.renderOnJobKey(vjk, vjFrom, vjTk, undefined, function () {\n",
       "                            window.location.replace(vjUrl);\n",
       "                        });\n",
       "                    }\n",
       "                }\n",
       "            }\n",
       "        }\n",
       "    </script>\n",
       "<style type=\"text/css\">\n",
       "    body { margin-top: 0; margin-left: 0; margin-right: 0; padding-top: 0; padding-right: 0; padding-left: 0; }\n",
       "\n",
       "    #g_nav { border-bottom:1px solid #ccc; margin-bottom:9px; }\n",
       "\n",
       "    #g_nav a,\n",
       "    #g_nav a:visited { color: #00c; }\n",
       "\n",
       "    .navBi { display: -moz-inline-box; display: inline-block; padding: 9px 12px; margin: 0; list-style-type: none; }\n",
       "\n",
       "    </style>\n",
       "<div class=\"left\" data-tn-section=\"globalNav\" id=\"g_nav\" role=\"navigation\">\n",
       "<table cellpadding=\"0\" cellspacing=\"0\" width=\"100%\">\n",
       "<tr>\n",
       "<td nowrap=\"\"><style type=\"text/css\">\n",
       "#p_nav a.selected { font-weight: bold; text-decoration:none; color: #000 !important; }\n",
       "</style>\n",
       "<div id=\"p_nav\"><span class=\"navBi\"><a class=\"selected\" href=\"/\" id=\"jobsLink\" title=\"Jobs\">Find Jobs</a></span><span class=\"navBi\"><a href=\"/companies\" onmousedown=\"this.href = appendParamsOnce(this.href, '?from=headercmplink&amp;attributionid=jobsearch')\">Company Reviews</a></span><span class=\"navBi\"><a href=\"/salaries\" onmousedown=\"this.href = appendParamsOnce(this.href, '?from=headercmplink&amp;attributionid=jobsearch')\">Find Salaries</a></span><span class=\"navBi\"><a href=\"/resumes?isid=find-resumes&amp;ikw=SERPtop&amp;co=US&amp;hl=en\" id=\"rezLink\">Find Resumes</a></span><span class=\"navBi\"><a href=\"/hire?hl=en&amp;cc=US\" id=\"empLink\" onclick=\"if ( this.href.match('&amp;isid=employerlink-US-control&amp;ikw=SERPtop') == null ) { this.href += '&amp;isid=employerlink-US-control&amp;ikw=SERPtop' };\">Employers / Post Job</a></span></div>\n",
       "</td>\n",
       "<td align=\"right\" nowrap=\"\"><style type=\"text/css\">\n",
       "    \n",
       "\n",
       "    #navpromo a,\n",
       "    #navpromo a:visited {\n",
       "        color: #f60;\n",
       "    }\n",
       "\n",
       "    \n",
       "    #u_nav .login_unconfirmed,\n",
       "    #u_nav .login_unconfirmed a,\n",
       "    #u_nav .login_unconfirmed a:visited {\n",
       "        color: #c00\n",
       "    }\n",
       "\n",
       "    #u_nav .resume_pending,\n",
       "    #u_nav .resume_pending a,\n",
       "    #u_nav .resume_pending a:visited {\n",
       "        color: #c00\n",
       "    }\n",
       "\n",
       "    #userOptionsLabel {\n",
       "        position: relative;\n",
       "        z-index: 5;\n",
       "    }\n",
       "\n",
       "    #userOptionsLabel b {\n",
       "        cursor: pointer;\n",
       "        text-decoration: underline;\n",
       "        position: relative;\n",
       "        z-index: 5;\n",
       "    }\n",
       "\n",
       "    #userOptionsLabel:active {\n",
       "        outline: none;\n",
       "    }\n",
       "\n",
       "    #userOptionsLabel.active {\n",
       "        padding: 9px 11px;\n",
       "        margin-bottom: -1px;\n",
       "        _margin-bottom: 0px;\n",
       "        border: 1px solid #ccc;\n",
       "        border-top: 0;\n",
       "    }\n",
       "\n",
       "    #userOptionsLabel.active .arrowStub {\n",
       "        border-width: 0 3px 3px;\n",
       "        _border-width: 0px 3px 4px;\n",
       "        border-color: transparent;\n",
       "        border-bottom-color: #666;\n",
       "        top: -2px;\n",
       "        border-style: dashed dashed solid;\n",
       "    }\n",
       "\n",
       "    #userOptionsLabel.active .halfPxlFix {\n",
       "        background: #fff;\n",
       "        bottom: -3px;\n",
       "        height: 6px;\n",
       "        left: 0;\n",
       "        position: absolute;\n",
       "        right: 0;\n",
       "        border: 1px solid #fff;\n",
       "    }\n",
       "\n",
       "    .arrowStub {\n",
       "        position: relative;\n",
       "        border-style: solid dashed dashed;\n",
       "        border-color: transparent;\n",
       "        border-top-color: #666;\n",
       "        display: -moz-inline-box;\n",
       "        display: inline-block;\n",
       "        font-size: 0;\n",
       "        height: 0;\n",
       "        line-height: 0;\n",
       "        width: 0;\n",
       "    left: 4px;\n",
       "        border-top-width: 3px;\n",
       "        border-bottom-width: 0;\n",
       "        border-right-width: 3px;\n",
       "        padding-top: 1px;\n",
       "        top: -1px;\n",
       "    }\n",
       "\n",
       "    #userOptions {\n",
       "        z-index: 2;\n",
       "        visibility: hidden;\n",
       "        position: absolute;\n",
       "    right: 0;\n",
       "        x_right: -1px;\n",
       "        top: 100%;\n",
       "        padding: 9px 15px;\n",
       "        border: 1px solid #ccc;\n",
       "        background: #fff;\n",
       "        min-width: 150px;\n",
       "        _width: 150px;\n",
       "        text-align: left;\n",
       "    }\n",
       "\n",
       "    #userOptions.open {\n",
       "        visibility: visible;\n",
       "    }\n",
       "\n",
       "    .userOptionItem {\n",
       "        margin: 6px 0;\n",
       "    }\n",
       "\n",
       "    .userOptionItem a {\n",
       "        white-space: nowrap;\n",
       "    }\n",
       "\n",
       "    .userOptionGroup {\n",
       "        border-top: 1px solid #e8e8e8;\n",
       "        margin-top: 12px;\n",
       "    }\n",
       "\n",
       "    .userNameRepeat {\n",
       "        color: #a8a8a8;\n",
       "        padding-right: 48px;\n",
       "        font-weight: bold;\n",
       "    }\n",
       "\n",
       "    .userOptionGroupHeader {\n",
       "        font-weight: bold;\n",
       "        margin: 6px 0;\n",
       "    }\n",
       "\n",
       "    </style>\n",
       "<div id=\"u_nav\">\n",
       "<script>\n",
       "\n",
       "function regExpEscape(s) {\n",
       "    return String(s).replace(/([-()\\[\\]{}+?*.$\\^|,:#<!\\\\])/g, '\\\\$1').\n",
       "            replace(/\\x08/g, '\\\\x08');\n",
       "}\n",
       "\n",
       "\n",
       "function appendParamsOnce(url, params) {\n",
       "  var useParams = params.replace(/^(\\?|\\&)/, '');\n",
       "  var anchorRegExp = new RegExp(/#.*$/);\n",
       "  var urlAnchorMatch = url.match(anchorRegExp);\n",
       "\n",
       "  var anchor = urlAnchorMatch == null ? '' : urlAnchorMatch;\n",
       "  url = url.replace(anchorRegExp, '');\n",
       "\n",
       "  if (url.match(new RegExp('[\\\\?|\\\\&]' + regExpEscape(useParams))) == null) {\n",
       "    url += (url.indexOf('?') > 0 ? '&' : '?') + useParams;\n",
       "  }\n",
       "  url += anchor;\n",
       "\n",
       "  return url;\n",
       "}\n",
       "\n",
       "</script>\n",
       "<div id=\"user_actions\">\n",
       "<span class=\"navBi resumeCTAWhiteOutline \">\n",
       "<span class=\"resume-promo\" id=\"navpromo\">\n",
       "<a href=\"/promo/resume\" onclick=\"window.location=this.href + '?from=nav&amp;subfrom=rezprmstd&amp;trk.origin=jobsearch&amp;trk.variant=rezprmstd&amp;trk.pos=nav&amp;trk.tk=1ci2lvodfbi4id1b'; return false;\">Upload your resume</a>\n",
       "</span>\n",
       "</span>\n",
       "<span class=\"navBi\"><a href=\"https://www.indeed.com/account/login?dest=%2Fjobs%3Fq%3Ddata%2Bscientist\" id=\"userOptionsLabel\" rel=\"nofollow\">Sign in</a></span>\n",
       "</div>\n",
       "</div>\n",
       "</td>\n",
       "</tr>\n",
       "</table>\n",
       "</div>\n",
       "<style type=\"text/css\">\n",
       "    .indeedLogo {\n",
       "        margin: 8px 0 0 9px;\n",
       "        border: 0;\n",
       "        width: 166px;\n",
       "        height: 64px;\n",
       "    }\n",
       "    \n",
       "            .indeedLogo {\n",
       "                background: url(\"data:image/svg+xml,%3Csvg xmlns='http://www.w3.org/2000/svg' viewBox='0 0 155 43'%3E%3Cstyle%3E.st0%7Bfill:%232164F3;%7D%3C/style%3E%3Cpath class='st0' d='M147.2 34.1c-.6 1.2-1.3 2.1-2.2 2.6-.9.6-2 .8-3.1.8s-2.2-.3-3.1-.9c-.9-.6-1.7-1.5-2.2-2.7-.5-1.2-.8-2.7-.8-4.4 0-1.6.3-3.1.8-4.3.5-1.2 1.2-2.2 2.2-2.8.9-.7 2-1 3.2-1h.1c1.1 0 2.1.3 3.1 1 .9.6 1.7 1.6 2.3 2.7.6 1.2.8 2.7.8 4.3-.3 2-.5 3.5-1.1 4.7m6.5-25.7c-.5-.6-1.3-.9-2.3-.9-1 0-1.7.3-2.3 1-.5.7-.8 1.6-.8 2.9v9.4c-1.2-1.3-2.5-2.3-3.7-2.9-.8-.4-1.7-.7-2.8-.8-.6-.1-1.2-.1-1.9-.1-3.2 0-5.8 1.1-7.8 3.3-2 2.2-3 5.3-3 9.2 0 1.9.3 3.6.8 5.2s1.2 3 2.2 4.2 2.1 2.1 3.4 2.7c1.3.6 2.7 1 4.3 1 .7 0 1.4-.1 2-.2l1.2-.3c1-.3 1.9-.8 2.7-1.4.8-.6 1.7-1.4 2.6-2.4v.6c0 1.2.3 2 .8 2.7.6.6 1.3.9 2.2.9s1.6-.3 2.2-.9c.6-.6.8-1.5.8-2.7V11.1c.2-1.2-.1-2.1-.6-2.7m-41.5 14.4c1-1.1 2.3-1.6 3.9-1.6 1.7 0 3 .5 4.1 1.6 1 1.1 1.6 2.6 1.8 4.8h-11.7c.2-2.1.8-3.7 1.9-4.8m15 11.6c-.4-.4-.9-.5-1.6-.5-.6 0-1.1.1-1.4.4-.8.7-1.5 1.3-2 1.8-.5.4-1.1.8-1.7 1.2-.6.4-1.2.7-1.8.8-.7.2-1.3.3-2.1.3h-.5c-1-.1-1.9-.3-2.7-.8-1-.5-1.7-1.4-2.3-2.4-.6-1.1-.8-2.5-.9-3.9h12.6c1.7 0 3-.1 3.9-.6.9-.5 1.4-1.5 1.4-3.1 0-1.7-.5-3.4-1.4-5.1-.9-1.6-2.2-3-4.1-4-1.8-1-3.9-1.6-6.5-1.6h-.2c-1.9 0-3.6.3-5.1.9-1.6.6-2.9 1.5-4 2.6-1.1 1.2-1.9 2.5-2.5 4.1-.6 1.6-.9 3.3-.9 5.2 0 4 1.2 7.1 3.5 9.4 2.2 2.2 5.2 3.3 9 3.5h.7c1.8 0 3.4-.2 4.8-.7 1.4-.5 2.6-1 3.5-1.7.9-.7 1.6-1.5 2.1-2.2.5-.8.7-1.4.7-2 .1-.8-.1-1.3-.5-1.6M86.3 22.8c1-1.1 2.3-1.6 3.9-1.6 1.7 0 3 .5 4.1 1.6 1 1.1 1.6 2.6 1.8 4.8H84.4c.3-2.1.9-3.7 1.9-4.8m13.5 11c-.6 0-1.1.1-1.4.4-.8.7-1.5 1.3-2 1.8-.5.4-1 .8-1.6 1.2-.6.4-1.2.7-1.9.8-.6.2-1.3.3-2.1.3h-.5c-1-.1-1.9-.3-2.7-.8-.9-.5-1.7-1.4-2.3-2.4-.6-1.1-.9-2.5-.9-3.9H97c1.7 0 3-.1 3.9-.6.9-.5 1.4-1.5 1.4-3.1 0-1.7-.4-3.4-1.3-5.1-.9-1.6-2.3-3-4.1-4-1.8-1-4-1.6-6.5-1.6h-.2c-1.9 0-3.5.3-5.1.9-1.6.6-2.9 1.5-4 2.6-1.1 1.2-1.9 2.5-2.5 4.1s-.9 3.3-.9 5.2c0 4 1.2 7.1 3.5 9.4 2.2 2.2 5.2 3.3 9 3.5h.7c1.8 0 3.4-.2 4.8-.7 1.4-.5 2.6-1 3.5-1.7.9-.7 1.6-1.5 2.1-2.2.5-.8.7-1.4.7-2 0-.6-.2-1.2-.6-1.5-.4-.4-1-.6-1.6-.6M14 38.3c0 1.4.3 2.4 1 3.1.7.7 1.5 1.1 2.5 1.1 1.1 0 1.9-.4 2.6-1 .7-.7 1-1.7 1-3.1V21.8c-1.7 1-3.6 1.5-5.7 1.5-.4 0-.9 0-1.3-.1L14 38.3m54.2-4.2c-.6 1.2-1.3 2.1-2.3 2.6-.9.6-2 .8-3.1.8s-2.2-.3-3.1-.9c-1-.6-1.7-1.5-2.2-2.7s-.8-2.7-.8-4.4c0-1.6.3-3.1.8-4.3.5-1.2 1.2-2.2 2.2-2.8.9-.7 2-1 3.1-1h.1c1.1 0 2.1.3 3.1 1 1 .6 1.7 1.6 2.3 2.7.5 1.2.8 2.7.8 4.3 0 2-.3 3.5-.9 4.7m6.5-25.7c-.5-.6-1.3-.9-2.2-.9-1 0-1.7.3-2.3 1-.5.7-.8 1.6-.8 2.9v9.3c-1.2-1.3-2.5-2.3-3.8-2.9-.8-.4-1.7-.7-2.8-.8-.6-.1-1.2-.1-1.9-.1-3.2 0-5.8 1.1-7.8 3.3-2 2.2-3 5.3-3 9.2 0 1.9.3 3.6.7 5.2.5 1.6 1.2 3 2.2 4.2 1 1.2 2.1 2.1 3.4 2.7 1.3.6 2.7 1 4.3 1 .7 0 1.4-.1 2-.2l1.2-.3c1-.3 1.9-.8 2.7-1.4.8-.6 1.7-1.4 2.6-2.4v.6c0 1.2.3 2 .9 2.7.6.6 1.3.9 2.2.9.8 0 1.6-.3 2.2-.9.6-.6.8-1.5.8-2.7V11.1c.2-1.2 0-2.1-.6-2.7M31.3 20.3c0-.7-.1-1.4-.4-1.9-.3-.5-.7-.9-1.1-1.2-.5-.3-1-.4-1.5-.4-.9 0-1.7.3-2.2.9-.5.6-.8 1.5-.8 2.7v18.2c0 1.2.3 2.2.8 2.8.6.7 1.4 1 2.3 1 1 0 1.7-.3 2.3-1 .6-.7.8-1.6.8-2.9v-7.9c0-2.6.2-4.3.5-5.3.4-1.2 1.2-2.1 2.1-2.8.9-.7 2-1 3.1-1 1.8 0 3 .6 3.5 1.6.6 1.1.8 2.7.8 4.8v10.5c0 1.2.4 2.2 1 2.8.6.7 1.4 1 2.3 1 .9 0 1.7-.3 2.3-1 .6-.6.9-1.6.9-2.9V26.9c0-1.4-.1-2.5-.2-3.4-.1-.9-.4-1.7-.8-2.5-.7-1.3-1.6-2.3-3-3.1s-2.9-1.1-4.6-1.1c-1.8 0-3.3.4-4.7 1-1.3.7-2.6 1.8-3.7 3.2M14 2.2c-6.3 2.6-10.7 8.2-12.7 15C1 18.5.7 19.7.5 21c0 0-.1 1.3.1 1 .2-.3.3-.8.4-1.1 1-3.2 2.1-6 3.9-8.8 4.3-6.2 11.2-10.2 18.6-8 1.3.5 2.5 1.2 3.8 1.9.2.2 1.9 1.5 1.6.3-.3-.9-1.1-1.7-1.8-2.4C23.3.8 18.3.7 14 2.2M19.6 19c2.6-1.3 3.7-4.4 2.3-7-1.3-2.6-4.5-3.6-7.1-2.3-2.6 1.3-3.6 4.4-2.3 7 1.3 2.6 4.5 3.6 7.1 2.3'/%3E%3C/svg%3E\") no-repeat;\n",
       "                background-size: 155px 43px;\n",
       "            }\n",
       "        \n",
       "#branding img { border: 0; }\n",
       "#jobsearch { margin: 0 }\n",
       ".inwrap { border-right: 1px solid #e8e8e8;border-bottom: 1px solid #e8e8e8;display:inline-block; }\n",
       ".inwrap input { box-sizing: border-box; margin:0; height: 30px; font-family:Arial,sans-serif;border:1px solid #ccc; border-bottom-color:#aaa;border-right-color:#aaa; -webkit-border-radius: 0; -webkit-appearance: none; }\n",
       ".inwrap .input_text { font-size:18px;padding:3px 6px;_margin: -1px 0; }\n",
       ".inwrap .input_submit {color:#614041;font-size:15px;height:30px;background: #e8e8e8; padding:3px 9px;cursor:pointer;_padding:3px;}\n",
       ".inwrap .input_submit:active { background: #ccc; }\n",
       ".lnav  {width:100%;line-height:1;;font-size:10pt;}\n",
       ".jsf .label {font-size:12px; line-height:1.2;padding-top:0;color:#aaa;font-weight:normal;white-space:nowrap;padding-right:1.5em}\n",
       ".jsf .label label {font-weight:normal}\n",
       ".jsf .sl { font-size: 11px; color: #77c; white-space: nowrap; }\n",
       ".npb { padding-bottom: 0; color: #f60; font-weight:bold; }\n",
       ".npl { padding-left: 0 }\n",
       "iframe { display:block; }\n",
       "\n",
       ".acd { position:absolute; width:100%; z-index: 1; }\n",
       "#acdiv { width: 364px; }\n",
       "#what_acdiv { width: 662px; }\n",
       ".acd ul { border: 1px solid #333; background: #fff; padding: 0; margin: 3px 0 0 0; }\n",
       ".acd li { list-style-type: none; font-size: 18px; padding:1px 6px; cursor:pointer; }\n",
       ".acd li.ac-active { background:#36c; color:#fff; }\n",
       "\n",
       "#jobalerts .ws_label,\n",
       "#jobalerts .member { z-index: 1; }\n",
       "#acr td { padding-top:0; padding-bottom:0; }\n",
       "#acr td .h { display:none; }\n",
       "\n",
       "#what { width: 280px; }\n",
       "#where { width: 260px; }\n",
       ".inwrapBorder{border:1px solid #1C4ED9;border-top-color:#2F62F1;border-bottom-color:#133FBB;display:inline-block;width:auto;}\n",
       ".inwrapBorderTop{border-top:1px solid #69F;display:inline-block;background-color:#3163F2;filter:progid:DXImageTransform.Microsoft.gradient(startColorstr='#3163F2',endColorstr='#2B57D5');background:-webkit-gradient(linear,left top,left bottom,from(#3163F2),to(#2B57D5));background:-moz-linear-gradient(top,#3163F2,#2B57D5);background:linear-gradient(top,#3163F2,#2B57D5);}\n",
       ".inwrapBorder .input_submit{background: transparent;border:0;color:#fff;font-family:Arial;font-size:15px;margin:0;padding:4px 9px;cursor:pointer;_padding:3px;}\n",
       ".inwrapBorder a.input_submit{text-decoration: none; display: block;}\n",
       "\n",
       ".inwrapBorder:hover{border-color:#235af6;border-top-color:#4072ff;border-bottom-color:#1e4fd9;}\n",
       ".inwrapBorderTop:hover{border-top-color:#7ba7ff;background-color:#4273ff;filter:progid:DXImageTransform.Microsoft.gradient(startColorstr='#4273ff',endColorstr='#3364f1');background:-webkit-gradient(linear,left top,left bottom,from(#4273ff),to(#3364f1));background:-moz-linear-gradient(top,#4273ff,#3364f1);background:linear-gradient(top,#4273ff,#3364f1);}\n",
       "\n",
       ".inwrapBorder:active{border-color:#536db7;border-top-color:#4b69c1;border-bottom-color:#3753a6;}\n",
       ".inwrapBorder:active .inwrapBorderTop{border-top-color:#6c82c1;background-color:#4b69c1;filter:progid:DXImageTransform.Microsoft.gradient(startColorstr='#4b69c1',endColorstr='#3753a6');background:-webkit-gradient(linear,left top,left bottom,from(#4b69c1),to(#3753a6));background:-moz-linear-gradient(top,#4b69c1,#3753a6);background:linear-gradient(top,#4b69c1,#3753a6);}\n",
       "\n",
       ".roundedCorner {\n",
       "    display: inline-block;\n",
       "    zoom: 1; /* zoom and *display = ie7 hack for display:inline-block */\n",
       "    *display: inline;\n",
       "    vertical-align: baseline;\n",
       "    margin: 0 2px;\n",
       "    outline: none;\n",
       "    cursor: pointer;\n",
       "    text-align: center;\n",
       "    text-decoration: none;\n",
       "    font: 15px/100% Arial, Helvetica, sans-serif;\n",
       "    padding: .5em 2em .55em;\n",
       "    text-shadow: 0 1px 1px rgba(0,0,0,.3);\n",
       "    -webkit-border-radius: .5em;\n",
       "    -moz-border-radius: .5em;\n",
       "    border-radius: .5em;\n",
       "    -webkit-box-shadow: 0 1px 2px rgba(0,0,0,.2);\n",
       "    -moz-box-shadow: 0 1px 2px rgba(0,0,0,.2);\n",
       "    box-shadow: 0 1px 2px rgba(0,0,0,.2);\n",
       "}\n",
       ".roundedCorner:hover {\n",
       "    text-decoration: none;\n",
       "}\n",
       ".roundedCorner:active {\n",
       "    position: relative;\n",
       "    top: 1px;\n",
       "}\n",
       "\n",
       ".bigrounded {\n",
       "    -webkit-border-radius: 2em;\n",
       "    -moz-border-radius: 2em;\n",
       "    border-radius: 2em;\n",
       "}\n",
       ".medium {\n",
       "    font-size: 12px;\n",
       "    padding: .4em 1.5em .42em;\n",
       "}\n",
       ".small {\n",
       "    font-size: 11px;\n",
       "    padding: .2em 1em .275em;\n",
       "}\n",
       "\n",
       ".indeedblue {\n",
       "    color: #d9eef7;\n",
       "    border: solid 1px #1C4ED9;\n",
       "    background: #3163F2;\n",
       "    background: -webkit-gradient(linear, left top, left bottom, from(#2F62F1), to(#133FBB));\n",
       "    background: -moz-linear-gradient(top,  #2F62F1,  #133FBB);\n",
       "    filter:  progid:DXImageTransform.Microsoft.gradient(startColorstr='#2F62F1', endColorstr='#133FBB');\n",
       "}\n",
       ".indeedblue:hover, .indeedblue:focus {\n",
       "    background: #235af6;\n",
       "    background: -webkit-gradient(linear, left top, left bottom, from(#4072ff), to(#1e4fd9));\n",
       "    background: -moz-linear-gradient(top,  #4072ff,  #1e4fd9);\n",
       "    filter:  progid:DXImageTransform.Microsoft.gradient(startColorstr='#4072ff', endColorstr='#1e4fd9');\n",
       "}\n",
       ".indeedblue:active {\n",
       "    color: #d9eef7;\n",
       "    background: -webkit-gradient(linear, left top, left bottom, from(#4b69c1), to(#3753a6));\n",
       "    background: -moz-linear-gradient(top,  #4b69c1,  #3753a6);\n",
       "    filter:  progid:DXImageTransform.Microsoft.gradient(startColorstr='#4b69c1', endColorstr='#3753a6');\n",
       "}\n",
       "</style>\n",
       "<span id=\"hidden_colon\" style=\"display:none\">:</span>\n",
       "<table border=\"0\" cellpadding=\"0\" cellspacing=\"0\" role=\"banner\"><tr><td width=\"1125\"><table cellpadding=\"0\" cellspacing=\"0\" class=\"lnav\">\n",
       "<tr>\n",
       "<td id=\"branding-td\" style=\"vertical-align:top;\"><a href=\"/\" id=\"branding\" onmousedown=\"ptk('logo');\"><img alt=\"one search. all jobs. Indeed\" class=\"indeedLogo\" src=\"data:image/gif;base64,R0lGODlhAQABAJEAAAAAAP///////wAAACH5BAEHAAIALAAAAAABAAEAAAICVAEAOw==\" style=\"margin-bottom:6px;display:block;\" title=\"one search. all jobs. Indeed\"/></a></td>\n",
       "<td style=\"padding-top:3px;\" valign=\"top\">\n",
       "<form action=\"/jobs\" class=\"jsf\" id=\"jobsearch\" method=\"get\" name=\"js\" onsubmit=\"ptk('topsearch');\n",
       "                formAutocompleteCookie(window['autocomplete']);\">\n",
       "<table align=\"left\" cellpadding=\"3\" cellspacing=\"0\">\n",
       "<tr>\n",
       "<td class=\"npb\"><label for=\"what\" id=\"what_label_top\">What</label></td>\n",
       "<td class=\"npb\" colspan=\"3\"><label for=\"where\" id=\"where_label_top\">Where</label></td>\n",
       "</tr>\n",
       "<tr role=\"search\">\n",
       "<td class=\"npl epr\">\n",
       "<span class=\"inwrap\" id=\"what_container\"><input class=\"input_text\" id=\"what\" maxlength=\"512\" name=\"q\" size=\"31\" value=\"data scientist\"/></span>\n",
       "<div style=\"width:250px\"><!-- --></div>\n",
       "<div style=\"position:relative;z-index:2\"><div class=\"acd\" id=\"what_acdiv\"></div></div>\n",
       "</td>\n",
       "<td class=\"npl epr\">\n",
       "<span class=\"inwrap\" id=\"where_container\"><input class=\"input_text\" id=\"where\" maxlength=\"45\" name=\"l\" size=\"27\" value=\"\"/></span>\n",
       "<div style=\"width:200px\"><!-- --></div>\n",
       "<div style=\"position:relative;z-index:2\"><div class=\"acd\" id=\"acdiv\"></div></div>\n",
       "</td>\n",
       "<td class=\"npl\" style=\"width:1px\"><span class=\"inwrapBorder\" style=\"width:auto;padding-right:0;\"><span class=\"inwrapBorderTop\"><input class=\"input_submit\" id=\"fj\" type=\"submit\" value=\"Find Jobs\"/></span></span></td>\n",
       "<td class=\"npl advanced-search\" style=\"width:240px;\"><div style=\"margin-left:12px; display:flex;\"><a class=\"sl\" href=\"/advanced_search?q=data+scientist\">Advanced Job Search</a></div></td>\n",
       "</tr>\n",
       "<tr valign=\"baseline\">\n",
       "<td class=\"label\" id=\"what_label_cell\">\n",
       "<label aria-hidden=\"true\" for=\"what\" id=\"what_label\">job title, keywords or company</label>\n",
       "</td>\n",
       "<td class=\"label\" colspan=\"3\" id=\"where_label_cell\">\n",
       "<label aria-hidden=\"true\" for=\"where\" id=\"where_label\">city, state, or zip</label>\n",
       "</td>\n",
       "</tr>\n",
       "</table>\n",
       "</form>\n",
       "</td>\n",
       "</tr>\n",
       "</table>\n",
       "</td></tr></table>\n",
       "<script type=\"text/javascript\">\n",
       "\n",
       "new AcController('where_ac', 'where_container', 'where', 'acdiv', 'acdiv_list',\n",
       "    '/rpc/suggest?from=serp&tk=1ci2lvodfbi4id1b&version=2', 'l');\n",
       "\n",
       "new AcController('what_ac', 'what_container', 'what', 'what_acdiv', 'what_acdiv_list',\n",
       "    '/rpc/suggest?what=true&from=serp&tk=1ci2lvodfbi4id1b&version=2', 'q');\n",
       "</script>\n",
       "<script type=\"text/javascript\">\n",
       "function rclk(el,jobdata,oc,sal) { var ocstr = oc ? '&onclick=1' : ''; document.cookie='RCLK=\"jk='+jobdata.jk+'&tk=1ci2lvodfbi4id1b&from=web&rd='+jobdata.rd+'&qd=7tdTJLF8oc4dPpT7T_zGvGA3XpPBAN42oEhBbwa0-XP0q_5iKGXhGepJfZBzu_Oom8_I2_U0V0zOa663nHrD6P37mhWlPNmL7vMC2IKNjkt_Y9TBXwbfEsWaw6FpcZQ8&ts=1531246010799&sal='+sal+ocstr+'\"; path=/'; return true;}\n",
       "\n",
       "function vjrclk(jk, qd, rd, oc, vjk, vjtk, jobsearchTk) {\n",
       "  var ocstr = oc ? '&onclick=1' : '';\n",
       "  var jobsearchTk = jobsearchTk ? jobsearchTk : '';\n",
       "  document.cookie = 'RCLK=\"jk=' + jk + '&vjtk=' + vjtk + '&jobsearchTk=' + jobsearchTk + '&rd=' + rd + '&qd=' + qd + '&ts=' + new Date().getTime() + ocstr + '\"; path=/';\n",
       "  return true;\n",
       "}\n",
       "\n",
       "var resumePopover;\n",
       "function updateResumePromoCookie(event) {\n",
       "    var isSpecialKey = event.ctrlKey || event.metaKey || event.shiftKey;\n",
       "    if (window['resumePopoverShowValue'] && !isSpecialKey) {\n",
       "        if (!resumePopover) {\n",
       "            var setYearExpiration = true;\n",
       "            resumePopover = new ResumePopover('1ci2lvodfbi4id1b', '1ci2lvod9bi4i9no', setYearExpiration);\n",
       "        }\n",
       "\n",
       "        resumePopover.updatePopoverCookieValue();\n",
       "        if (false) {\n",
       "            resumePopover.logConditionMet();\n",
       "        }\n",
       "    }\n",
       "    return true;\n",
       "}\n",
       "function zrprclk(el,jobdata,oc) { var ocstr = oc ? '&onclick=1' : ''; document.cookie='RCLK=\"jk='+jobdata.jk+'&tk=1ci2lvodfbi4id1b&from=reconzrp&rd='+jobdata.rd+'&qd=7tdTJLF8oc4dPpT7T_zGvGA3XpPBAN42oEhBbwa0-XP0q_5iKGXhGepJfZBzu_Oom8_I2_U0V0zOa663nHrD6P37mhWlPNmL7vMC2IKNjkt_Y9TBXwbfEsWaw6FpcZQ8&ts=1531246010799'+ocstr+'\"; path=/'; return true;}\n",
       "function prjbottomclk(el,jobdata,oc) { var ocstr = oc ? '&onclick=1' : ''; document.cookie='RCLK=\"jk='+jobdata.jk+'&tk=1ci2lvodfbi4id1b&from=reconserp&rd='+jobdata.rd+'&qd=7tdTJLF8oc4dPpT7T_zGvGA3XpPBAN42oEhBbwa0-XP0q_5iKGXhGepJfZBzu_Oom8_I2_U0V0zOa663nHrD6P37mhWlPNmL7vMC2IKNjkt_Y9TBXwbfEsWaw6FpcZQ8&ts=1531246010799'+ocstr+'\"; path=/'; return true;}\n",
       "\n",
       "\n",
       "var jobmap = {};\n",
       "\n",
       "jobmap[0]= {jk:'f5ef53db163dadbb',efccid: '713388d9484db88c',srcid:'ece3e0f2d111cee9',cmpid:'c794b739ebcb64e5',num:'0',srcname:'Life360',cmp:'Life360',cmpesc:'Life360',cmplnk:'/q-Life360-jobs.html',loc:'San Diego, CA',country:'US',zip:'',city:'San Diego',title:'Data Scientist I\\/II (San Diego, CA)',locid:'15daff915f69f903',rd:'2WKP5Dncumetl6uQHWBI3wfmkRX_hXv5vdGF0Dj9Cb8'};\n",
       "\n",
       "jobmap[1]= {jk:'f459a5ae6a27f2a6',efccid: '195fe71abdd9a87d',srcid:'ebeabfc386f302f7',cmpid:'c10cdfb93c8d00a8',num:'1',srcname:'Indeed',cmp:'AtriumAI',cmpesc:'AtriumAI',cmplnk:'/q-AtriumAI-jobs.html',loc:'San Diego, CA',country:'US',zip:'',city:'San Diego',title:'Data Scientist \\/ Machine Learning Engineer',locid:'15daff915f69f903',rd:'LdTfyXn3BJUQ3DP1gWsaHwfmkRX_hXv5vdGF0Dj9Cb8'};\n",
       "\n",
       "jobmap[2]= {jk:'b95effe37ea2332e',efccid: 'fc795989ca54f422',srcid:'efe5e2d22a1d29e5',cmpid:'de71a49b535e21cb',num:'2',srcname:'IBM',cmp:'IBM',cmpesc:'IBM',cmplnk:'/q-IBM-jobs.html',loc:'Research Triangle Park, NC',country:'US',zip:'',city:'Research Triangle Park',title:'Data Scientist - Entry Level',locid:'400b41534475fdde',rd:'0nbXxlm8yujnNeH6qUX3_PEjTYFBCydOHIJo0jSLt2tC0Xa0m5LB2W65CWONpXaZ'};\n",
       "\n",
       "jobmap[3]= {jk:'5eeb144e4901b50c',efccid: 'caff23281376b83d',srcid:'c6c40f68ed4ae948',cmpid:'fe2d21eef233e94a',num:'3',srcname:'Amazon.com',cmp:'Amazon.com',cmpesc:'Amazon.com',cmplnk:'/q-Amazon.com-jobs.html',loc:'San Diego, CA',country:'US',zip:'',city:'San Diego',title:'Applied Scientist',locid:'15daff915f69f903',rd:'yiFpXy0V5VnR7pRG_LDt7_EjTYFBCydOHIJo0jSLt2v643S2KwFAze-YU5kL_RQ0'};\n",
       "\n",
       "jobmap[4]= {jk:'078e2988d1456156',efccid: 'fe7f767ac69615ed',srcid:'a1a7c287eb38c357',cmpid:'75a3a5a15b202084',num:'4',srcname:'Experian',cmp:'EXPERIAN',cmpesc:'EXPERIAN',cmplnk:'/q-EXPERIAN-jobs.html',loc:'San Diego, CA',country:'US',zip:'',city:'San Diego',title:'Data Scientist',locid:'15daff915f69f903',rd:'UoSLGNYeoaCEbrc4zUQx7_EjTYFBCydOHIJo0jSLt2vnsWMusEadUYGbhcoa7LdW'};\n",
       "\n",
       "jobmap[5]= {jk:'dd23ebd90ce9f9f8',efccid: '2319a306f5a7cfae',srcid:'6cc90e8da252472b',cmpid:'11caadcdc98800d4',num:'5',srcname:'General Dynamics Information Technology',cmp:'General Dynamics Information Technology',cmpesc:'General Dynamics Information Technology',cmplnk:'/q-General-Dynamics-Information-Technology-jobs.html',loc:'San Diego, CA',country:'US',zip:'',city:'San Diego',title:'Data Scientist',locid:'15daff915f69f903',rd:'ypQSWt1Kpk7SEQoWpXENyvEjTYFBCydOHIJo0jSLt2s6Y-yqBPyGuGJJ2wHIo2IB'};\n",
       "\n",
       "jobmap[6]= {jk:'b301dee73c1dc5d4',efccid: 'b85cdfa2d932a4c5',srcid:'a9afee1c844546e9',cmpid:'8b219f1987ef65ea',num:'6',srcname:'ViaSat',cmp:'ViaSat',cmpesc:'ViaSat',cmplnk:'/q-ViaSat-jobs.html',loc:'San Diego, CA',country:'US',zip:'',city:'San Diego',title:'Data Scientist',locid:'15daff915f69f903',rd:'A1kmjcdO9UbIpSbViw6K6vEjTYFBCydOHIJo0jSLt2s6Y-yqBPyGuGJJ2wHIo2IB'};\n",
       "\n",
       "jobmap[7]= {jk:'0627f61ffef38b5c',efccid: 'caff23281376b83d',srcid:'c6c40f68ed4ae948',cmpid:'fe2d21eef233e94a',num:'7',srcname:'Amazon.com',cmp:'Amazon.com',cmpesc:'Amazon.com',cmplnk:'/q-Amazon.com-jobs.html',loc:'San Diego, CA',country:'US',zip:'',city:'San Diego',title:'Machine Learning Scientist',locid:'15daff915f69f903',rd:'gIBhyxjX88CBheNzlvzgWPEjTYFBCydOHIJo0jSLt2v643S2KwFAze-YU5kL_RQ0'};\n",
       "\n",
       "jobmap[8]= {jk:'f86102866c231934',efccid: '16be8deff014957a',srcid:'814ad84ba6d8efed',cmpid:'c1f1c5060ccd43fc',num:'8',srcname:'Motive Interactive',cmp:'Motive Interactive',cmpesc:'Motive Interactive',cmplnk:'/q-Motive-Interactive-jobs.html',loc:'San Diego, CA 92121',country:'US',zip:'92121',city:'San Diego',title:'Data Scientist',locid:'15daff915f69f903',rd:'4END045ptKKmHngt72SuiPEjTYFBCydOHIJo0jSLt2vhZQCZZPRCz0hxOGFCekI-'};\n",
       "\n",
       "jobmap[9]= {jk:'392f7dde2fa222cd',efccid: '71a766791ec0ff83',srcid:'61298e6c21f7cb64',cmpid:'55bec5ffbc6672c8',num:'9',srcname:'Sony Interactive Entertainment PlayStation',cmp:'Sony Interactive Entertainment PlayStation',cmpesc:'Sony Interactive Entertainment PlayStation',cmplnk:'/q-Sony-Interactive-Entertainment-PlayStation-jobs.html',loc:'San Diego, CA',country:'US',zip:'',city:'San Diego',title:'Data Scientist',locid:'15daff915f69f903',rd:'HgqJEbKk5cQW1h3qe3-fi_EjTYFBCydOHIJo0jSLt2v643S2KwFAze-YU5kL_RQ0'};\n",
       "</script>\n",
       "<style type=\"text/css\">\n",
       "            .jobtitle {\n",
       "                font-weight: bold;\n",
       "            }\n",
       "            td.snip b, span.company b, #femp_list .jobtitle, #cmpinfo_list .jobtitle, .jobtitle .new {\n",
       "                font-weight: normal;\n",
       "            }\n",
       "            div.result-link-bar b {\n",
       "                font-weight: bold;\n",
       "            }\n",
       "        </style>\n",
       "<style type=\"text/css\">\n",
       "    div.row table tr td.snip { line-height: 1.4; }\n",
       "</style>\n",
       "<table border=\"0\" cellpadding=\"0\" cellspacing=\"0\" id=\"resultsBody\" role=\"main\"><tr><td>\n",
       "<script type=\"text/javascript\">\n",
       "    window['ree'] = \"pdsssps\";\n",
       "    window['jas'] = \"TaX6CQrS5X\";\n",
       "</script>\n",
       "<style type=\"text/css\">\n",
       "    /* Promos Generic Styling */\n",
       "\n",
       "/* Single Link with text */\n",
       ".basePromo {\n",
       "    margin-top: 8px; margin-bottom: 13px; padding-left: 12px; padding-right: 12px;\n",
       "}\n",
       "\n",
       ".redText {\n",
       "    color: #FF0000;\n",
       "}\n",
       "\n",
       ".bold {\n",
       "    font-weight: bold;\n",
       "}\n",
       "\n",
       ".basePromo.resume {\n",
       "    font-size: 14px;\n",
       "    margin-top: 5px;\n",
       "}\n",
       "\n",
       ".basePromo.resume > img {\n",
       "    height: 20px;\n",
       "    margin-right: 5px;\n",
       "    margin-bottom: 3px;\n",
       "    width: 16px;\n",
       "}</style>\n",
       "<style type=\"text/css\">\n",
       "        @import url(/styles/component/resumematch.css);@import url(/styles/viewjob-footer.css);@import url(/styles/component/dropdown.css);@import url(/styles/component/blue-button.css);@import url(/styles/component/statepicker.css);.icl-Alert,.icl-Alert-body,.icl-Alert-close,.icl-Alert-headline,.icl-Alert-iconContainer,.icl-Alert-text{box-sizing:border-box}.icl-Alert{position:relative;width:100%}[dir] .icl-Alert{padding:1rem}@media (min-width: 48em){[dir] .icl-Alert{text-align:center}}[dir] .icl-Alert--success{background-color:#e6fff6}.icl-Alert--success .icl-Alert-headline{color:#00825f}.icl-Alert--success .icl-Alert-icon{fill:#00b887;width:22px;height:22px;fill-rule:evenodd}.icl-Alert--success .icl-Alert-iconContainer{width:22px;height:22px}[dir] .icl-Alert--info{background-color:#ebfeff}.icl-Alert--info .icl-Alert-headline{color:set-text-color(primary)}.icl-Alert--info .icl-Alert-icon{fill:#085ff7;width:22px;height:22px;fill-rule:evenodd}.icl-Alert--info .icl-Alert-iconContainer{width:22px;height:22px}[dir] .icl-Alert--warning{background-color:#fffbde}.icl-Alert--warning .icl-Alert-headline{color:set-text-color(primary)}.icl-Alert--warning .icl-Alert-icon{fill:#fce356;width:24px;height:22px;fill-rule:evenodd}.icl-Alert--warning .icl-Alert-iconContainer{width:24px;height:22px}[dir] .icl-Alert--danger{background-color:#fff0ef}.icl-Alert--danger .icl-Alert-headline{color:#db183f}.icl-Alert--danger .icl-Alert-icon{fill:#ff575f;width:22px;height:22px;fill-rule:evenodd}.icl-Alert--danger .icl-Alert-iconContainer{width:22px;height:22px}.icl-Alert-text{display:inline-block;vertical-align:middle;max-width:80%}[dir=ltr] .icl-Alert-text{text-align:left}[dir=rtl] .icl-Alert-text{text-align:right}.icl-Alert-headline{font-size:1rem;line-height:1.5rem;font-weight:700}.icl-Alert-body,.icl-Alert-headline{font-family:Helvetica Neue,Helvetica,Arial,Liberation Sans,Roboto,Noto,sans-serif;letter-spacing:0}.icl-Alert-body{font-size:.6875rem;line-height:1rem;font-weight:400}.icl-Alert-body a{color:#085ff7}.icl-Alert-body a,.icl-Alert-body a:active,.icl-Alert-body a:focus,.icl-Alert-body a:hover,.icl-Alert-body a:link,.icl-Alert-body a:visited{text-decoration:none}.icl-Alert-body a:visited{color:#5a38d6}.icl-Alert-body a:active,.icl-Alert-body a:focus,.icl-Alert-body a:hover{color:#1497ff}.icl-Alert-iconContainer{display:inline-block;vertical-align:middle}[dir=ltr] .icl-Alert-iconContainer{margin-right:1rem}[dir=rtl] .icl-Alert-iconContainer{margin-left:1rem}.icl-Alert-close{position:absolute;top:0}[dir] .icl-Alert-close{padding:1rem}[dir=ltr] .icl-Alert-close{right:0}[dir=rtl] .icl-Alert-close{left:0}.icl-Radio,.icl-Radio-control,.icl-Radio-errorText,.icl-Radio-helpText,.icl-Radio-item,.icl-Radio-label,.icl-Radio-legend{box-sizing:border-box}[dir] .icl-Radio{border:none;padding:0}.icl-Radio-legend{font-family:Helvetica Neue,Helvetica,Arial,Liberation Sans,Roboto,Noto,sans-serif;font-size:.875rem;letter-spacing:0;line-height:1.25rem;font-weight:700;color:#2d2d2d}[dir] .icl-Radio-legend{padding:0}.icl-Radio-helpText{font-family:Helvetica Neue,Helvetica,Arial,Liberation Sans,Roboto,Noto,sans-serif;font-size:.6875rem;letter-spacing:0;line-height:1rem;font-weight:500;color:#767676}[dir] .icl-Radio-item{padding-top:.5rem;padding-bottom:.5rem}[dir] .icl-Radio-control{margin:0}[dir=ltr] .icl-Radio-control{margin-right:1rem}[dir=rtl] .icl-Radio-control{margin-left:1rem}.icl-Radio-label{font-family:Helvetica Neue,Helvetica,Arial,Liberation Sans,Roboto,Noto,sans-serif;font-size:.875rem;letter-spacing:0;line-height:1.25rem;font-weight:400;color:#2d2d2d}[dir] .icl-Radio-label{padding-top:.5rem;padding-bottom:.5rem}.icl-Radio-errorText{font-family:Helvetica Neue,Helvetica,Arial,Liberation Sans,Roboto,Noto,sans-serif;font-size:.625rem;letter-spacing:0;line-height:1rem;font-weight:500;color:#db183f}.icl-CloseButton{box-sizing:border-box}[dir] .icl-CloseButton{cursor:pointer;background:none;border:none}[dir=ltr] .icl-CloseButton{float:right}[dir=rtl] .icl-CloseButton{float:left}.icl-Icon{box-sizing:border-box;display:inline-block;vertical-align:middle;height:48px;width:48px}.icl-Icon--input{display:inline-block;position:absolute;height:44px;width:40px;fill:#ccc;bottom:0}.icl-Icon--md{height:24px;width:24px}.icl-Icon--sm{height:18px;width:18px}[dir=ltr] .icl-Icon--right{margin-left:.2rem;right:0}[dir=rtl] .icl-Icon--right{margin-right:.2rem;left:0}[dir=ltr] .icl-Icon--left{margin-right:.2rem}[dir=rtl] .icl-Icon--left{margin-left:.2rem}.icl-Icon--black{fill:#000}.icl-Icon--blue{fill:#00c}.icl-Icon--grey{fill:#6f6f6f}.icl-Icon--orange{fill:#f60}.icl-Icon--white{fill:#fff}#tjobalertswrapper{margin-left:inherit;width:inherit}.resultsTop::after{content:'';clear:both;display:block}#vjs-container{background-color:#fff;border:1px solid #CCC;position:fixed;transition:opacity 150ms ease-in-out;width:440px;top:0;overflow:hidden;z-index:1}@media only screen and (min-width: 1200px){.row .jobtitle{white-space:normal !important}}@media only screen and (min-width: 1280px){#vjs-container{width:504px}}@media only screen and (min-width: 1360px){#vjs-container{width:530px}}@media only screen and (min-width: 1440px){#vjs-container{width:600px}}@media only screen and (min-width: 1740px){#vjs-container{width:790px}}#vjs-header{background:#FFFFFF;height:auto;border-bottom:1px solid #CCC;box-shadow:0 1px 2px rgba(0,0,0,0.05);position:relative;padding:16px 24px 16px 24px}#vjs-header #apply-button-container{margin-top:0;margin-bottom:0}#vjs-header #apply-button-container .job-footer-button-row{margin-top:10px}#vjs-content{overflow-x:auto;height:calc(100% - 140px);padding:0 24px 10px 24px}#vjs-jbspot-content{overflow-x:auto;height:calc(100% - 140px);padding:0 0 10px 24px}#vjs-jbspot-iframe{width:100%;height:100%;border:0}#vjs-footer #apply-button-container{margin-bottom:10px}#vjs-desc{padding:16px 0 24px 0;line-height:1.5}#vjs-jobtitle{color:#000000;line-height:20px;font-size:18px;font-weight:700;margin-bottom:3px;margin-right:30px}#vjs-jobinfo{font-size:11pt;line-height:20px}#vjs-header-jobinfo{display:flex;align-items:center}#vjs-x{position:absolute;top:10px}.ltr #vjs-x{right:10px}.rtl #vjs-x{left:10px}#vjs-footer{margin-bottom:24px;height:90px}#vjs-footer #apply-state-picker-container{margin-bottom:0}#vjs-jobcategory{margin-bottom:2px}.row.vjs-highlight{background:#F5F5F5;border:1px solid #CCC !important;position:relative}.vjs-highlight:before,.vjs-highlight:after{content:\" \";border-style:solid;position:absolute;z-index:101}.vjs-highlight:before{border-color:transparent transparent transparent #ccc;border-width:13px 0 13px 13px;right:-13px;top:calc(50% - 13px)}.vjs-highlight:after{border-color:transparent transparent transparent #f5f5f5;border-width:12px 0 12px 12px;right:-12px;top:calc(50% - 12px)}.vjs-trustworthymsg{color:#666666;font-size:12px;font-family:AvenirNext, regular;line-height:17px;margin-top:5px}.rtl .vjs-highlight:before{border-color:transparent #ccc transparent transparent !important;border-width:13px 13px 13px 0 !important;left:-13px;right:auto}.rtl .vjs-highlight:after{border-color:transparent #f5f5f5 transparent transparent;border-width:12px 12px 12px 0;left:-12px;right:auto}.vjs-expired{color:#900;font-size:13.5pt}#vjs-cmL{max-height:50px;border:1px solid #D7D7D7}[dir=\"ltr\"] #vjs-cmL{margin-right:12px}[dir=\"rtl\"] #vjs-cmL{margin-left:12px}#vjs-img-cmL{max-width:100px;max-height:50px;overflow:hidden}#footerWrapper{position:absolute;left:0;right:0;width:100%;border-top:1px solid #CCC;padding-top:10px}.no-scroll{overflow-x:auto;overflow-y:hidden}#PlaceholderContainer{display:block;margin:8px}.PlaceholderCopy-line,.PlaceholderHeader-jobTitle{display:block;background-color:#e8e8e8}.PlaceholderHeader-company,.PlaceholderHeader-location{display:inline-block;height:12px;background-color:#e8e8e8}.PlaceholderHeader-company{width:18%}.PlaceholderHeader-location{width:40%}.PlaceholderHeader-stars{display:inline-block;height:12px;width:65px;background-image:url(\"/images/stars.png\");background-size:contain}.PlaceholderHeader{padding:20px 0;margin-bottom:20px;border-bottom:1px solid #ccc;min-width:200px}.PlaceholderHeader-jobTitle{height:16px;margin-bottom:12px;width:55%}.PlaceholderHeader-companyLocation{display:block}.PlaceHolderCopy{display:block;margin-bottom:28px;max-width:400px}.PlaceholderCopy-line{height:12px;margin-bottom:8px}.PlaceholderCopy-line--1{width:24%}.PlaceholderCopy-line--2{width:100%}.PlaceholderCopy-line--3{width:90%}.PlaceholderCopy-line--4{width:95%}.PlaceholderCopy-line--5{width:80%}.indeedLogo{width:205px !important}#refineresults{box-sizing:border-box;width:260px;margin-right:20px;margin-left:5px}#resultsCol{width:410px;min-width:410px;padding:6px 28px 9px 0 !important}#branding-td{min-width:290px}@media only screen and (min-width: 1125px){#branding-td{min-width:282px}}@media screen and (min-width: 1366px){#resultsCol{min-width:470px}}@media only screen and (min-width: 1740px){#resultsCol{min-width:586px}}table#pageContent{max-width:1024px;min-height:432px}#auxCol{position:relative !important;width:320px;padding-left:0}#serpRecommendations .row,.row.result{padding:10px;border:1px solid transparent;position:relative}.ltr #serpRecommendations .row,.ltr .row.result{padding-right:28px}.rtl #serpRecommendations .row,.rtl .row.result{padding-left:28px}.ltr #resultsCol .showing{padding-left:10px}@media only screen and (min-width: 1125px){.ltr #branding img{margin-left:16px;margin-right:0}}@media only screen and (min-width: 1250px){.ltr #branding img{margin-left:16px;margin-right:0}}#resumePromo{padding-left:12px}.ita-base-container{min-height:1px;width:1px;text-align:center;font-size:40px;position:absolute;top:0;box-sizing:border-box}.popover{position:fixed;display:none;-webkit-box-shadow:0 1px 3px 0 rgba(0,0,0,0.28);-moz-box-shadow:0 1px 3px 0 rgba(0,0,0,0.28);box-shadow:0 1px 3px 0 rgba(0,0,0,0.28)}#popover-background{position:fixed;z-index:999;background:#000000;width:100%;height:100%;opacity:.30;filter:alpha(opacity=30);top:0;left:0}.ita-base-container>#popover-foreground{max-height:700px;width:750px;text-align:left;z-index:1000;font-size:40px;position:fixed;box-sizing:border-box;padding:25px;background:white;margin:0 auto;overflow-y:auto}#popover-x{float:right;margin:-12px -12px 0 0}.popover-x-span{font-weight:bold;font-size:18px;cursor:pointer}.popover-heading-div{text-align:center;font-size:14px;padding-bottom:15px}#popover-ita-container .btn-primary{color:#F8F8F9 !important}.ita-base-container>#fullpage-div{margin:0 !important}.itaHeader{width:100%;background:white}.itaLogo{display:block;margin-top:9px;margin-left:auto;margin-right:auto;max-height:40px;max-width:159px}.itaClose{text-align:center;font-weight:bold}.itaText{text-align:left;color:#6f6f6f;font-size:90%}.itaLocation{text-align:left;color:#6f6f6f}.itaBold{font-weight:bold}.itaNoFormatting{text-decoration:none}.ita-ctas{text-align:center}.aquo{font-size:140%;font-weight:bold;line-height:0.5;color:#f60}#bvjl{font-size:16px;margin:1em 0 1.5em}.snip .sl,.snip .view_job_link{white-space:nowrap}.row.result{margin-bottom:4px}.clickcard:hover{border:1px solid #d8d8d8 !important;cursor:pointer !important}#jobalertswrapper,#femp_list,#picard-profile-completeness-widget,#univsrch-salary-v3,.rightRailAd{margin-left:12px;width:inherit}.ltr #serpRecommendations .row,.ltr .row.result{margin-right:-24px}.ltr #serpRecommendations .row,.ltr .row.result.vjs-highlight{margin-right:-29px}\n",
       "</style>\n",
       "<table border=\"0\" cellpadding=\"0\" cellspacing=\"0\" id=\"pageContent\" width=\"100%\">\n",
       "<tr valign=\"top\">\n",
       "<td data-tn-section=\"refineBy\" id=\"refineresultscol\">\n",
       "<div id=\"refineresults\">\n",
       "<h1><font size=\"+1\">data scientist jobs</font></h1>\n",
       "<span aria-level=\"2\" role=\"heading\" style=\"height: 0; overflow: hidden; position: absolute;\">Filter results by:</span>\n",
       "<div style=\"margin-left: 6px; margin-bottom: 1em;\">Sort by: <span class=\"no-wrap\"><b>relevance</b> -\n",
       "            <a href=\"/jobs?q=data+scientist&amp;sort=date\" rel=\"nofollow\">date</a></span></div>\n",
       "<div class=\"rbSection rbOpen\" id=\"rb_Salary Estimate\">\n",
       "<div class=\"rbHeader\">\n",
       "<span aria-level=\"3\" class=\"ws_bold\" role=\"heading\">\n",
       "                    Salary Estimate</span>\n",
       "</div>\n",
       "<div class=\"rbsrbo\" id=\"SALARY_rbo\">\n",
       "<ul class=\"rbList\">\n",
       "<li onmousedown=\"rbptk('rb', 'salest', '1');\">\n",
       "<a href=\"/q-data-scientist-$60,000-jobs.html\" rel=\"nofollow\" title=\"$60,000 (22388)\">$60,000</a> (22388)</li>\n",
       "<li onmousedown=\"rbptk('rb', 'salest', '2');\">\n",
       "<a href=\"/q-data-scientist-$80,000-jobs.html\" rel=\"nofollow\" title=\"$80,000 (18085)\">$80,000</a> (18085)</li>\n",
       "<li onmousedown=\"rbptk('rb', 'salest', '3');\">\n",
       "<a href=\"/q-data-scientist-$100,000-jobs.html\" rel=\"nofollow\" title=\"$100,000 (13054)\">$100,000</a> (13054)</li>\n",
       "<li onmousedown=\"rbptk('rb', 'salest', '4');\">\n",
       "<a href=\"/q-data-scientist-$110,000-jobs.html\" rel=\"nofollow\" title=\"$110,000 (10111)\">$110,000</a> (10111)</li>\n",
       "<li onmousedown=\"rbptk('rb', 'salest', '5');\">\n",
       "<a href=\"/q-data-scientist-$130,000-jobs.html\" rel=\"nofollow\" title=\"$130,000 (4861)\">$130,000</a> (4861)</li>\n",
       "</ul>\n",
       "</div>\n",
       "</div>\n",
       "<div class=\"rbSection rbOpen\" id=\"rb_Job Type\">\n",
       "<div class=\"rbHeader\">\n",
       "<span aria-level=\"3\" class=\"ws_bold\" role=\"heading\">\n",
       "                    Job Type</span>\n",
       "</div>\n",
       "<div class=\"rbsrbo\" id=\"JOB_TYPE_rbo\">\n",
       "<ul class=\"rbList\">\n",
       "<li onmousedown=\"rbptk('rb', 'jobtype', '1');\">\n",
       "<a href=\"/jobs?q=data+scientist&amp;jt=fulltime\" rel=\"nofollow\" title=\"Full-time (27717)\">Full-time</a> (27717)</li>\n",
       "<li onmousedown=\"rbptk('rb', 'jobtype', '2');\">\n",
       "<a href=\"/jobs?q=data+scientist&amp;jt=contract\" rel=\"nofollow\" title=\"Contract (1167)\">Contract</a> (1167)</li>\n",
       "<li onmousedown=\"rbptk('rb', 'jobtype', '3');\">\n",
       "<a href=\"/jobs?q=data+scientist&amp;jt=parttime\" rel=\"nofollow\" title=\"Part-time (695)\">Part-time</a> (695)</li>\n",
       "<li onmousedown=\"rbptk('rb', 'jobtype', '4');\">\n",
       "<a href=\"/jobs?q=data+scientist&amp;jt=temporary\" rel=\"nofollow\" title=\"Temporary (338)\">Temporary</a> (338)</li>\n",
       "<li onmousedown=\"rbptk('rb', 'jobtype', '5');\">\n",
       "<a href=\"/jobs?q=data+scientist&amp;jt=internship\" rel=\"nofollow\" title=\"Internship (288)\">Internship</a> (288)</li>\n",
       "<li onmousedown=\"rbptk('rb', 'jobtype', '6');\">\n",
       "<a href=\"/jobs?q=data+scientist&amp;jt=commission\" rel=\"nofollow\" title=\"Commission (68)\">Commission</a> (68)</li>\n",
       "</ul>\n",
       "</div>\n",
       "</div>\n",
       "<div class=\"rbSection rbOpen\" id=\"rb_Location\">\n",
       "<div class=\"rbHeader\">\n",
       "<span aria-level=\"3\" class=\"ws_bold\" role=\"heading\">\n",
       "                    Location</span>\n",
       "</div>\n",
       "<div class=\"rbsrbo\" id=\"LOCATION_rbo\">\n",
       "<ul class=\"rbList\">\n",
       "<li onmousedown=\"rbptk('rb', 'loc', '1');\">\n",
       "<a href=\"/jobs?q=data+scientist&amp;rbl=New+York,+NY&amp;jlid=45f6c4ded55c00bf\" rel=\"nofollow\" title=\"New York, NY (1834)\">New York, NY</a> (1834)</li>\n",
       "<li onmousedown=\"rbptk('rb', 'loc', '2');\">\n",
       "<a href=\"/jobs?q=data+scientist&amp;rbl=San+Francisco,+CA&amp;jlid=6cf5e6d389fd6d6b\" rel=\"nofollow\" title=\"San Francisco, CA (1300)\">San Francisco, CA</a> (1300)</li>\n",
       "<li onmousedown=\"rbptk('rb', 'loc', '3');\">\n",
       "<a href=\"/jobs?q=data+scientist&amp;rbl=Austin,+TX&amp;jlid=d2a39b6d57d82344\" rel=\"nofollow\" title=\"Austin, TX (1210)\">Austin, TX</a> (1210)</li>\n",
       "<li onmousedown=\"rbptk('rb', 'loc', '4');\">\n",
       "<a href=\"/jobs?q=data+scientist&amp;rbl=Seattle,+WA&amp;jlid=1e8a7dce52945215\" rel=\"nofollow\" title=\"Seattle, WA (1105)\">Seattle, WA</a> (1105)</li>\n",
       "<li onmousedown=\"rbptk('rb', 'loc', '5');\">\n",
       "<a href=\"/jobs?q=data+scientist&amp;rbl=Cambridge,+MA&amp;jlid=28b85bba6e466386\" rel=\"nofollow\" title=\"Cambridge, MA (893)\">Cambridge, MA</a> (893)</li>\n",
       "<li class=\"moreLi\" onmousedown=\"rbptk('rb', 'loc', '6');\">\n",
       "<a href=\"/jobs?q=data+scientist&amp;rbl=Boston,+MA&amp;jlid=e167aeb8a259bcac\" rel=\"nofollow\" title=\"Boston, MA (746)\">Boston, MA</a> (746)</li>\n",
       "<li class=\"moreLi\" onmousedown=\"rbptk('rb', 'loc', '7');\">\n",
       "<a href=\"/jobs?q=data+scientist&amp;rbl=Chicago,+IL&amp;jlid=402d6ad50e16c894\" rel=\"nofollow\" title=\"Chicago, IL (541)\">Chicago, IL</a> (541)</li>\n",
       "<li class=\"moreLi\" onmousedown=\"rbptk('rb', 'loc', '8');\">\n",
       "<a href=\"/jobs?q=data+scientist&amp;rbl=San+Diego,+CA&amp;jlid=15daff915f69f903\" rel=\"nofollow\" title=\"San Diego, CA (440)\">San Diego, CA</a> (440)</li>\n",
       "<li class=\"moreLi\" onmousedown=\"rbptk('rb', 'loc', '9');\">\n",
       "<a href=\"/jobs?q=data+scientist&amp;rbl=Redmond,+WA&amp;jlid=a7d60f4fa63c73eb\" rel=\"nofollow\" title=\"Redmond, WA (433)\">Redmond, WA</a> (433)</li>\n",
       "<li class=\"moreLi\" onmousedown=\"rbptk('rb', 'loc', '10');\">\n",
       "<a href=\"/jobs?q=data+scientist&amp;rbl=Washington,+DC&amp;jlid=c08ec92d8c031faa\" rel=\"nofollow\" title=\"Washington, DC (426)\">Washington, DC</a> (426)</li>\n",
       "<li class=\"moreLi\" onmousedown=\"rbptk('rb', 'loc', '11');\">\n",
       "<a href=\"/jobs?q=data+scientist&amp;rbl=Sunnyvale,+CA&amp;jlid=62f8f620fe0679b7\" rel=\"nofollow\" title=\"Sunnyvale, CA (347)\">Sunnyvale, CA</a> (347)</li>\n",
       "<li class=\"moreLi\" onmousedown=\"rbptk('rb', 'loc', '12');\">\n",
       "<a href=\"/jobs?q=data+scientist&amp;rbl=Atlanta,+GA&amp;jlid=966e6327a98f7e81\" rel=\"nofollow\" title=\"Atlanta, GA (345)\">Atlanta, GA</a> (345)</li>\n",
       "<li class=\"moreLi\" onmousedown=\"rbptk('rb', 'loc', '13');\">\n",
       "<a href=\"/jobs?q=data+scientist&amp;rbl=Albuquerque,+NM&amp;jlid=0c54fa8350e60614\" rel=\"nofollow\" title=\"Albuquerque, NM (300)\">Albuquerque, NM</a> (300)</li>\n",
       "<li class=\"moreLi\" onmousedown=\"rbptk('rb', 'loc', '14');\">\n",
       "<a href=\"/jobs?q=data+scientist&amp;rbl=Mountain+View,+CA&amp;jlid=b0a70c53f51e95a6\" rel=\"nofollow\" title=\"Mountain View, CA (300)\">Mountain View, CA</a> (300)</li>\n",
       "</ul>\n",
       "<div class=\"more_link\"><span onclick=\"showAllRefinements('rb_Location'); return false;\" onkeyup=\"if (event.keyCode == 13) showAllRefinements('rb_Location'); return false;\" tabindex=\"0\">more »</span></div></div>\n",
       "</div>\n",
       "<div class=\"rbSection rbOpen\" id=\"rb_Company\">\n",
       "<div class=\"rbHeader\">\n",
       "<span aria-level=\"3\" class=\"ws_bold\" role=\"heading\">\n",
       "                    Company</span>\n",
       "</div>\n",
       "<div class=\"rbsrbo\" id=\"COMPANY_rbo\">\n",
       "<ul class=\"rbList\">\n",
       "<li onmousedown=\"rbptk('rb', 'cmp', '1');\">\n",
       "<a href=\"/jobs?q=data+scientist&amp;rbc=Asuragen&amp;jcid=2f5b2a12422b193d\" rel=\"nofollow\" title=\"Asuragen (918)\">Asuragen</a> (918)</li>\n",
       "<li onmousedown=\"rbptk('rb', 'cmp', '2');\">\n",
       "<a href=\"/jobs?q=data+scientist&amp;rbc=Amazon.com&amp;jcid=fe2d21eef233e94a\" rel=\"nofollow\" title=\"Amazon.com (889)\">Amazon.com</a> (889)</li>\n",
       "<li onmousedown=\"rbptk('rb', 'cmp', '3');\">\n",
       "<a href=\"/jobs?q=data+scientist&amp;rbc=Microsoft&amp;jcid=734cb5a01ee60f80\" rel=\"nofollow\" title=\"Microsoft (569)\">Microsoft</a> (569)</li>\n",
       "<li onmousedown=\"rbptk('rb', 'cmp', '4');\">\n",
       "<a href=\"/jobs?q=data+scientist&amp;rbc=Presbyterian+Healthcare+Services&amp;jcid=2faa77e8dc712650\" rel=\"nofollow\" title=\"Presbyterian Healthcare Services (445)\">Presbyterian Healthcare Services</a> (445)</li>\n",
       "<li onmousedown=\"rbptk('rb', 'cmp', '5');\">\n",
       "<a href=\"/jobs?q=data+scientist&amp;rbc=Ball+Aerospace&amp;jcid=82c5e27e77990fa2\" rel=\"nofollow\" title=\"Ball Aerospace (344)\">Ball Aerospace</a> (344)</li>\n",
       "<li class=\"moreLi\" onmousedown=\"rbptk('rb', 'cmp', '6');\">\n",
       "<a href=\"/jobs?q=data+scientist&amp;rbc=Bristol-Myers+Squibb&amp;jcid=45f7e11d0973ee3a\" rel=\"nofollow\" title=\"Bristol-Myers Squibb (340)\">Bristol-Myers Squibb</a> (340)</li>\n",
       "<li class=\"moreLi\" onmousedown=\"rbptk('rb', 'cmp', '7');\">\n",
       "<a href=\"/jobs?q=data+scientist&amp;rbc=BOEING&amp;jcid=edae4285faf6c2f0\" rel=\"nofollow\" title=\"BOEING (318)\">BOEING</a> (318)</li>\n",
       "<li class=\"moreLi\" onmousedown=\"rbptk('rb', 'cmp', '8');\">\n",
       "<a href=\"/jobs?q=data+scientist&amp;rbc=Pfizer+Inc.&amp;jcid=5e118f74384e090a\" rel=\"nofollow\" title=\"Pfizer Inc. (255)\">Pfizer Inc.</a> (255)</li>\n",
       "<li class=\"moreLi\" onmousedown=\"rbptk('rb', 'cmp', '9');\">\n",
       "<a href=\"/jobs?q=data+scientist&amp;rbc=Walmart+eCommerce&amp;jcid=8c49e99f20f89e48\" rel=\"nofollow\" title=\"Walmart eCommerce (223)\">Walmart eCommerce</a> (223)</li>\n",
       "<li class=\"moreLi\" onmousedown=\"rbptk('rb', 'cmp', '10');\">\n",
       "<a href=\"/jobs?q=data+scientist&amp;rbc=Jacobs&amp;jcid=de56d7554bea5214\" rel=\"nofollow\" title=\"Jacobs (221)\">Jacobs</a> (221)</li>\n",
       "<li class=\"moreLi\" onmousedown=\"rbptk('rb', 'cmp', '11');\">\n",
       "<a href=\"/jobs?q=data+scientist&amp;rbc=Burns+%26+McDonnell&amp;jcid=75aff752794baac1\" rel=\"nofollow\" title=\"Burns &amp; McDonnell (172)\">Burns &amp; McDonnell</a> (172)</li>\n",
       "<li class=\"moreLi\" onmousedown=\"rbptk('rb', 'cmp', '12');\">\n",
       "<a href=\"/jobs?q=data+scientist&amp;rbc=Apple&amp;jcid=c1099851e9794854\" rel=\"nofollow\" title=\"Apple (168)\">Apple</a> (168)</li>\n",
       "<li class=\"moreLi\" onmousedown=\"rbptk('rb', 'cmp', '13');\">\n",
       "<a href=\"/jobs?q=data+scientist&amp;rbc=Google&amp;jcid=a5b4499d9e91a5c6\" rel=\"nofollow\" title=\"Google (148)\">Google</a> (148)</li>\n",
       "<li class=\"moreLi\" onmousedown=\"rbptk('rb', 'cmp', '14');\">\n",
       "<a href=\"/jobs?q=data+scientist&amp;rbc=The+Aerospace+Corporation&amp;jcid=ba923b146fa75d0d\" rel=\"nofollow\" title=\"The Aerospace Corporation (134)\">The Aerospace Corporation</a> (134)</li>\n",
       "<li class=\"moreLi\" onmousedown=\"rbptk('rb', 'cmp', '15');\">\n",
       "<a href=\"/jobs?q=data+scientist&amp;rbc=Booz+Allen+Hamilton&amp;jcid=4e041af1d0af1bc8\" rel=\"nofollow\" title=\"Booz Allen Hamilton (130)\">Booz Allen Hamilton</a> (130)</li>\n",
       "</ul>\n",
       "<div class=\"more_link\"><span onclick=\"showAllRefinements('rb_Company'); return false;\" onkeyup=\"if (event.keyCode == 13) showAllRefinements('rb_Company'); return false;\" tabindex=\"0\">more »</span></div></div>\n",
       "</div>\n",
       "<div class=\"rbSection rbOpen\" id=\"rb_Experience Level\">\n",
       "<div class=\"rbHeader\">\n",
       "<span aria-level=\"3\" class=\"ws_bold\" role=\"heading\">\n",
       "                    Experience Level</span>\n",
       "</div>\n",
       "<div class=\"rbsrbo\" id=\"EXP_LVL_rbo\">\n",
       "<ul class=\"rbList\">\n",
       "<li onmousedown=\"rbptk('rb', 'explvl', '1');\">\n",
       "<a href=\"/jobs?q=data+scientist&amp;explvl=mid_level\" rel=\"nofollow\" title=\"Mid Level (12668)\">Mid Level</a> (12668)</li>\n",
       "<li onmousedown=\"rbptk('rb', 'explvl', '2');\">\n",
       "<a href=\"/jobs?q=data+scientist&amp;explvl=entry_level\" rel=\"nofollow\" title=\"Entry Level (6606)\">Entry Level</a> (6606)</li>\n",
       "<li onmousedown=\"rbptk('rb', 'explvl', '3');\">\n",
       "<a href=\"/jobs?q=data+scientist&amp;explvl=senior_level\" rel=\"nofollow\" title=\"Senior Level (4881)\">Senior Level</a> (4881)</li>\n",
       "</ul>\n",
       "</div>\n",
       "</div>\n",
       "</div>\n",
       "</td>\n",
       "<td id=\"resultsCol\">\n",
       "<div class=\"messageContainer\">\n",
       "<script type=\"text/javascript\">\n",
       "    function setRefineByCookie(refineByTypes) {\n",
       "        var expires = new Date();\n",
       "        expires.setTime(expires.getTime() + (10 * 1000));\n",
       "        for (var i = 0; i < refineByTypes.length; i++) {\n",
       "            setCookie(refineByTypes[i], \"1\", expires);\n",
       "        }\n",
       "    }\n",
       "</script>\n",
       "<p class=\"message\">Tip: Enter your zip code in the \"where\" box to show results in your area.</p>\n",
       "</div>\n",
       "<style type=\"text/css\">\n",
       "    #increased_radius_result {\n",
       "        font-size: 16px;\n",
       "        font-style: italic;\n",
       "    }\n",
       "    #original_radius_result{\n",
       "        font-size: 13px;\n",
       "        font-style: italic;\n",
       "        color: #666666;\n",
       "    }\n",
       "</style>\n",
       "<div class=\"resultsTop\"><div id=\"searchCount\">\n",
       "        Page 1 of 29,032 jobs</div>\n",
       "<div data-tn-section=\"primePromo\" id=\"primePromo\">\n",
       "<span class=\"new\">New!</span> <a href=\"/promo/prime\" onclick=\"this.href = appendParamsOnce( this.href, '?from=serptop&amp;subfrom=primeprmtop&amp;trk.origin=jobsearch&amp;trk.variant=primeprmtop&amp;trk.tk=1ci2lvodfbi4id1b&amp;vertical=TECH&amp;x_isid=serptop&amp;x_ikw=data+scientist&amp;x_sid=serptop&amp;x_kw=data+scientist')\">Join Indeed Prime</a> - Get offers from great tech companies</div></div>\n",
       "<script type=\"text/javascript\">\n",
       "            window['sjl'] = \"HH8fxnNGK\";\n",
       "        </script>\n",
       "<style type=\"text/css\">\n",
       "\t\t.HH8fxnNGK { margin: 0 0 6px 0; padding: 0; _zoom:100%; border: 0; background-color: #fff; }\n",
       "\t\t.HH8fxnNGK .jobtitle { float:left; _float: none; }\n",
       "        .HH8fxnNGK .sdn { color: #CD29C0; }\n",
       "\t\t.NKd2TojC1s .brdr { margin-top: 12px; }\n",
       "\t\t.qyfOAg6bb .brdr { margin-bottom: 12px; }\n",
       "\t\t@media only screen and (min-height:780px) {\n",
       "            .NKd2TojC1s { margin-bottom: 9px; }\n",
       "\t\t\t.qyfOAg6bb .brdr,\n",
       "            .hMMuHWq6S8T,\n",
       "\t\t\t.NKd2TojC1s .brdr { margin-bottom: 9px; margin-top: 9px; }\n",
       "\t\t}\n",
       "\t</style>\n",
       "<style type=\"text/css\">\n",
       "            .result-tab:empty {margin-top: 0;}\n",
       "            .NKd2TojC1s {\n",
       "                margin-bottom: 0;\n",
       "            }\n",
       "            @media only screen and (min-height:780px) {\n",
       "                .NKd2TojC1s {\n",
       "                    margin-bottom: 0;\n",
       "                }\n",
       "            }\n",
       "        </style>\n",
       "<div></div>\n",
       "<a id=\"jobPostingsAnchor\" tabindex=\"-1\"></a>\n",
       "<div class=\"HH8fxnNGK NKd2TojC1s\">\n",
       "<div class=\"row result\" data-advn=\"210908886952977\" data-jk=\"6b5e920bdd627e42\" data-tu=\"\" id=\"pj_6b5e920bdd627e42\">\n",
       "<a class=\"jobtitle turnstileLink\" data-tn-element=\"jobTitle\" href=\"/pagead/clk?mo=r&amp;ad=-6NYlbfkN0DhVAxkc_TxySVbUOs6bxWYWOfhmDTNcVTjFFBAY1FXZ_jbp8Q_DSbxEHI3oKBhlFywPKy8iEN-gkTge5qzwp-X1Msw3NaqMy6FE2IpLrIglm_1vdavGvJTAwL6o3DOLvH9z39-1awJOuOVIhQi536lFJjOafaVGAjXMnubjmlboWg5871pFZxjU5Cq-TOQTW4CNuJikIiHL62uSPDZtBY8Jz4nj37RmfEQvG2KMrxaEzk9XFiPDkUdF64HpSMSjmu85GfP_m8cvRyOlY1MyAdFXeA2KLfJvkPSESEysPRlUUfe792YGcx-xNMmQCk3RcOBJMLQO15ZFCyTDrSLq0ltMEyKUjG5JVG3xmHWx6BD8vaWj48JoVnVpN2UAWbofs_19TgzvcXnam5b5slce3W6_iXuoPx-3v1PJHwcflTzbnLrNVu0b1zDKrCTCAnr1Cc=&amp;vjs=3&amp;p=1&amp;sk=&amp;fvj=0\" id=\"sja1\" onclick=\"setRefineByCookie([]); sjoc('sja1',0); convCtr('SJ')\" onmousedown=\"sjomd('sja1'); clk('sja1');\" rel=\"noopener nofollow\" target=\"_blank\" title=\"Data Scientist I\"><b>Data</b> <b>Scientist</b> I</a>\n",
       "<br/>\n",
       "<div class=\"sjcl\">\n",
       "<div style=\"display: inline\">\n",
       "<span class=\"company\">\n",
       "        zulily in partnership with Indeed Prime</span>\n",
       "</div> - <span class=\"location\">Seattle, WA</span></div>\n",
       "<div class=\"paddedSummaryExperience\">\n",
       "<table border=\"0\" cellpadding=\"0\" cellspacing=\"0\"><tr><td class=\"snip\">\n",
       "<span class=\"summary\">\n",
       "                            Examples of reasonable accommodation include making a change to the application process, providing documents in an alternate format, using a sign language...</span>\n",
       "</td></tr></table>\n",
       "<div class=\"experience\">\n",
       "<span class=\"experienceHeader\">Desired Experience: </span><span class=\"experienceList\">Hive, Data Mining, Machine Learning, R, Python, SQL</span>\n",
       "</div>\n",
       "</div>\n",
       "<div class=\"sjCapt\">\n",
       "<div class=\"result-link-bar-container\">\n",
       "<div class=\"result-link-bar\"><span class=\" sponsoredGray \">Sponsored by <b>Indeed Prime</b></span> - <span class=\"tt_set\" id=\"tt_set_10\"><a class=\"sl resultLink save-job-link \" href=\"#\" id=\"sj_6b5e920bdd627e42\" onclick=\"changeJobState('6b5e920bdd627e42', 'save', 'linkbar', true, ''); return false;\" title=\"Save this job to my.indeed\">save job</a></span><div class=\"edit_note_content\" id=\"editsaved2_6b5e920bdd627e42\" style=\"display:none;\"></div><script>if (!window['sj_result_6b5e920bdd627e42']) {window['sj_result_6b5e920bdd627e42'] = {};}window['sj_result_6b5e920bdd627e42']['showSource'] = false; window['sj_result_6b5e920bdd627e42']['source'] = \"Indeed Prime\"; window['sj_result_6b5e920bdd627e42']['loggedIn'] = false; window['sj_result_6b5e920bdd627e42']['showMyJobsLinks'] = false;window['sj_result_6b5e920bdd627e42']['undoAction'] = \"unsave\";window['sj_result_6b5e920bdd627e42']['jobKey'] = \"6b5e920bdd627e42\"; window['sj_result_6b5e920bdd627e42']['myIndeedAvailable'] = true; window['sj_result_6b5e920bdd627e42']['showMoreActionsLink'] = window['sj_result_6b5e920bdd627e42']['showMoreActionsLink'] || false; window['sj_result_6b5e920bdd627e42']['resultNumber'] = 10; window['sj_result_6b5e920bdd627e42']['jobStateChangedToSaved'] = false; window['sj_result_6b5e920bdd627e42']['searchState'] = \"q=data scientist&amp;\"; window['sj_result_6b5e920bdd627e42']['basicPermaLink'] = \"https://www.indeed.com\"; window['sj_result_6b5e920bdd627e42']['saveJobFailed'] = false; window['sj_result_6b5e920bdd627e42']['removeJobFailed'] = false; window['sj_result_6b5e920bdd627e42']['requestPending'] = false; window['sj_result_6b5e920bdd627e42']['notesEnabled'] = false; window['sj_result_6b5e920bdd627e42']['currentPage'] = \"serp\"; window['sj_result_6b5e920bdd627e42']['sponsored'] = true;window['sj_result_6b5e920bdd627e42']['showSponsor'] = true;window['sj_result_6b5e920bdd627e42']['sponsorName'] = \"Indeed Prime\";window['sj_result_6b5e920bdd627e42']['reportJobButtonEnabled'] = false; window['sj_result_6b5e920bdd627e42']['showMyJobsHired'] = false; window['sj_result_6b5e920bdd627e42']['showSaveForSponsored'] = true; window['sj_result_6b5e920bdd627e42']['showJobAge'] = true;</script></div></div>\n",
       "<div class=\"tab-container\">\n",
       "<div class=\"sign-in-container result-tab\"></div>\n",
       "<div class=\"tellafriend-container result-tab email_job_content\"></div>\n",
       "</div>\n",
       "</div>\n",
       "</div>\n",
       "<div class=\"row result\" data-advn=\"1851882598186819\" data-jk=\"bd6a2cf25e7086d4\" data-tu=\"https://click.appcast.io/jview-te8/a31.png?ent=1&amp;e=83&amp;jid=83_R0024383&amp;org=false&amp;src=22&amp;bid=ubUnnIfdRsq5krX1vsvoZQ==&amp;indeed=sp\" id=\"pj_bd6a2cf25e7086d4\">\n",
       "<a class=\"jobtitle turnstileLink\" data-tn-element=\"jobTitle\" href=\"/pagead/clk?mo=r&amp;ad=-6NYlbfkN0AMJeVuk4ECd5K_1LfpdW7JxefdFJh_RJqhU5XMhpZ8EfxDLCxSSPXlPWaXB-ucFdQ0k4SXNq2wM2BfIscOVjXgBGhmiBv8G6BL2RCKbfjTrAt2Gdt6bQwierE34ZQp6StocDklvzquldd2YKNRQXlx-Yz7gfi9zXAwgXpvr1ZfI8Qea8Q3rvaCY975lOueuToyZ2Xv6pqwRbGf0Wa7SYQib_w851eE9aS5X0zuZtsE8W91YjP5IUF42tbXWtEeb0ege9KuVDKtLwQDnxL4tYgxwtMNhFbV6k5uaeba7g8tLkJyl3u6Xxgj2-V-wNzz5VpQDHER9uvsgnqlZGc1BMVs8dhJpnPYAv16gnhxVa_Ra6YMH6PUfEhbpFXoIryz9EW1lnuma7DkVIHQE3W01qX0ALJbXKY7vDbIN6GtHezAp3TB0upr_cl5DKNP1liMgwHDRPBffROwd6RDPp6C6QHc766FToxg7Ou1cs84U24TnbJSpEv7z5Y3qqQ4CVZA5OHu2nTNjtM4q_tAUOY6ZtcGLuQcIYN1kLFjG1Bd-mq0xXEXnh74SBYhLTzJjgcrC77cXfs-9la6KTMRRgob-ODFdj-n6KC9UN3OjRHHpcifPUvjZpvKtFJq&amp;vjs=3&amp;p=2&amp;sk=&amp;fvj=0\" id=\"sja2\" onclick=\"setRefineByCookie([]); sjoc('sja2',0); convCtr('SJ')\" onmousedown=\"sjomd('sja2'); clk('sja2');\" rel=\"noopener nofollow\" target=\"_blank\" title=\"Data Scientist/Applied Researcher\"><b>Data</b> <b>Scientist</b>/Applied Researcher</a>\n",
       "<br/>\n",
       "<div class=\"sjcl\">\n",
       "<div style=\"display: inline\">\n",
       "<span class=\"company\">\n",
       "<a class=\"turnstileLink\" data-tn-element=\"companyName\" href=\"/cmp/Ebay-Inc.\" onmousedown=\"this.href = appendParamsOnce(this.href, 'from=SERP&amp;campaignid=serp-linkcompanyname&amp;fromjk=bd6a2cf25e7086d4&amp;jcid=0da3ed18c20a248d')\" rel=\"noopener\" target=\"_blank\">\n",
       "        eBay Inc.</a></span>\n",
       "\n",
       "     - <a class=\"turnstileLink slNoUnderline \" data-tn-element=\"reviewStars\" data-tn-variant=\"cmplinktst2\" href=\"/cmp/Ebay-Inc./reviews\" onmousedown=\"this.href = appendParamsOnce(this.href, '?campaignid=cmplinktst2&amp;from=SERP&amp;jt=Data+Scientist%5C%2FApplied+Researcher&amp;fromjk=bd6a2cf25e7086d4&amp;jcid=0da3ed18c20a248d');\" rel=\"noopener\" target=\"_blank\" title=\"Ebay reviews\">\n",
       "<span class=\"ratings\"><span class=\"rating\" style=\"width:51.0px\"><!-- --></span></span>\n",
       "<span class=\"slNoUnderline\">1,421 reviews</span></a>\n",
       "</div> - <span class=\"location\">San Jose, CA</span></div>\n",
       "<div class=\"paddedSummaryExperience\">\n",
       "<table border=\"0\" cellpadding=\"0\" cellspacing=\"0\"><tr><td class=\"snip\">\n",
       "<span class=\"summary\">\n",
       "                            Showcase the spectrum of value in the world’s most diverse ecommerce inventory, by improving whole page relevance, query recommendations, spell corrections...</span>\n",
       "</td></tr></table>\n",
       "<div class=\"experience\">\n",
       "<span class=\"experienceHeader\">Desired Experience: </span><span class=\"experienceList\">Java, Natural Language Processing, Data Mining, Machine Learning, Hadoop, Scala, R, Python</span>\n",
       "</div>\n",
       "</div>\n",
       "<div class=\"sjCapt\">\n",
       "<div class=\"result-link-bar-container\">\n",
       "<div class=\"result-link-bar\"><span class=\" sponsoredGray \">Sponsored</span> - <span class=\"tt_set\" id=\"tt_set_11\"><a class=\"sl resultLink save-job-link \" href=\"#\" id=\"sj_bd6a2cf25e7086d4\" onclick=\"changeJobState('bd6a2cf25e7086d4', 'save', 'linkbar', true, ''); return false;\" title=\"Save this job to my.indeed\">save job</a></span><div class=\"edit_note_content\" id=\"editsaved2_bd6a2cf25e7086d4\" style=\"display:none;\"></div><script>if (!window['sj_result_bd6a2cf25e7086d4']) {window['sj_result_bd6a2cf25e7086d4'] = {};}window['sj_result_bd6a2cf25e7086d4']['showSource'] = false; window['sj_result_bd6a2cf25e7086d4']['source'] = \"eBay Inc.\"; window['sj_result_bd6a2cf25e7086d4']['loggedIn'] = false; window['sj_result_bd6a2cf25e7086d4']['showMyJobsLinks'] = false;window['sj_result_bd6a2cf25e7086d4']['undoAction'] = \"unsave\";window['sj_result_bd6a2cf25e7086d4']['jobKey'] = \"bd6a2cf25e7086d4\"; window['sj_result_bd6a2cf25e7086d4']['myIndeedAvailable'] = true; window['sj_result_bd6a2cf25e7086d4']['showMoreActionsLink'] = window['sj_result_bd6a2cf25e7086d4']['showMoreActionsLink'] || false; window['sj_result_bd6a2cf25e7086d4']['resultNumber'] = 11; window['sj_result_bd6a2cf25e7086d4']['jobStateChangedToSaved'] = false; window['sj_result_bd6a2cf25e7086d4']['searchState'] = \"q=data scientist&amp;\"; window['sj_result_bd6a2cf25e7086d4']['basicPermaLink'] = \"https://www.indeed.com\"; window['sj_result_bd6a2cf25e7086d4']['saveJobFailed'] = false; window['sj_result_bd6a2cf25e7086d4']['removeJobFailed'] = false; window['sj_result_bd6a2cf25e7086d4']['requestPending'] = false; window['sj_result_bd6a2cf25e7086d4']['notesEnabled'] = false; window['sj_result_bd6a2cf25e7086d4']['currentPage'] = \"serp\"; window['sj_result_bd6a2cf25e7086d4']['sponsored'] = true;window['sj_result_bd6a2cf25e7086d4']['showSponsor'] = true;window['sj_result_bd6a2cf25e7086d4']['reportJobButtonEnabled'] = false; window['sj_result_bd6a2cf25e7086d4']['showMyJobsHired'] = false; window['sj_result_bd6a2cf25e7086d4']['showSaveForSponsored'] = true; window['sj_result_bd6a2cf25e7086d4']['showJobAge'] = true;</script></div></div>\n",
       "<div class=\"tab-container\">\n",
       "<div class=\"sign-in-container result-tab\"></div>\n",
       "<div class=\"tellafriend-container result-tab email_job_content\"></div>\n",
       "</div>\n",
       "</div>\n",
       "</div>\n",
       "<div class=\"row result\" data-advn=\"3260291408451365\" data-jk=\"aabe81847b4e12c6\" data-tu=\"\" id=\"pj_aabe81847b4e12c6\">\n",
       "<a class=\"jobtitle turnstileLink\" data-tn-element=\"jobTitle\" href=\"/pagead/clk?mo=r&amp;ad=-6NYlbfkN0DAlBFySETyGrrYsSOOc_f-IH722wpjEpy5wh4m87aiE6v8DbV1s587hzmmBVWT8QA2PE4Q5lut5Tcl_kGvT5ugwu4CR2SOOyDbLmLN2a69xS758bPhEehiGqv0abxb0npATyc6Px-l-Sf82s0hSJdxaSOCZcqKpaGk_TQ4Wso4TNBGPEALH4qVrV4eQnGHayHUr3C6T1haaqunVQ2caX-CUXqE0SAziyaX63VBWjQjaURjJxhfb4ezjwm7TM8M_OorNoIFbMznpJLY7Ipa5Rqrpuy2D6gg2HftZV1g-ia3hzYHMVAtHdmnCdR91yle6GnEAh8BU-vI0RRYxZAcdepsD_0v1aYH3bn2U_z7QyCUxUeKjx5MGyCD59EOyWGcNB7y8y7Krp5Yyw4gKltozEEp4wZE4-e7oTcIjp7oVSaa5AZtsqLim_1eZJ9qS-jT9vM=&amp;vjs=3&amp;p=3&amp;sk=&amp;fvj=1\" id=\"sja3\" onclick=\"setRefineByCookie([]); sjoc('sja3',0); convCtr('SJ')\" onmousedown=\"sjomd('sja3'); clk('sja3');\" rel=\"noopener nofollow\" target=\"_blank\" title=\"Computational Mechanics Scientist\">Computational Mechanics <b>Scientist</b></a>\n",
       "<br/>\n",
       "<div class=\"sjcl\">\n",
       "<div style=\"display: inline\">\n",
       "<span class=\"company\">\n",
       "<a class=\"turnstileLink\" data-tn-element=\"companyName\" href=\"/cmp/Endovantage\" onmousedown=\"this.href = appendParamsOnce(this.href, 'from=SERP&amp;campaignid=serp-linkcompanyname&amp;fromjk=aabe81847b4e12c6&amp;jcid=e65bee99043f5af9')\" rel=\"noopener\" target=\"_blank\">\n",
       "        EndoVantage</a></span>\n",
       "\n",
       "     - <a class=\"turnstileLink slNoUnderline \" data-tn-element=\"reviewStars\" data-tn-variant=\"cmplinktst2\" href=\"/cmp/Endovantage/reviews\" onmousedown=\"this.href = appendParamsOnce(this.href, '?campaignid=cmplinktst2&amp;from=SERP&amp;jt=Computational+Mechanics+Scientist&amp;fromjk=aabe81847b4e12c6&amp;jcid=e65bee99043f5af9');\" rel=\"noopener\" target=\"_blank\" title=\"Endovantage reviews\">\n",
       "<span class=\"ratings\"><span class=\"rating\" style=\"width:51.0px\"><!-- --></span></span>\n",
       "<span class=\"slNoUnderline\">5 reviews</span></a>\n",
       "</div> - <span class=\"location\">Scottsdale, AZ</span></div>\n",
       "<div class=\"paddedSummaryExperience\">\n",
       "<table border=\"0\" cellpadding=\"0\" cellspacing=\"0\"><tr><td class=\"snip\">\n",
       "<span class=\"summary\">\n",
       "                            You will be leading a team of computational engineers, mathematicians, and software developers that are responsible for developing a software framework that...</span>\n",
       "</td></tr></table>\n",
       "<div class=\"experience\">\n",
       "<span class=\"experienceHeader\">Desired Experience: </span><span class=\"experienceList\">Leadership Experience, C/C++</span>\n",
       "</div>\n",
       "</div>\n",
       "<div class=\"sjCapt\">\n",
       "<div class=\"iaP\">\n",
       "<span class=\"iaLabel\"> Easily apply</span>\n",
       "</div>\n",
       "<div class=\"result-link-bar-container\">\n",
       "<div class=\"result-link-bar\"><span class=\" sponsoredGray \">Sponsored</span> - <span class=\"tt_set\" id=\"tt_set_12\"><a class=\"sl resultLink save-job-link \" href=\"#\" id=\"sj_aabe81847b4e12c6\" onclick=\"changeJobState('aabe81847b4e12c6', 'save', 'linkbar', true, ''); return false;\" title=\"Save this job to my.indeed\">save job</a></span><div class=\"edit_note_content\" id=\"editsaved2_aabe81847b4e12c6\" style=\"display:none;\"></div><script>if (!window['sj_result_aabe81847b4e12c6']) {window['sj_result_aabe81847b4e12c6'] = {};}window['sj_result_aabe81847b4e12c6']['showSource'] = false; window['sj_result_aabe81847b4e12c6']['source'] = \"Indeed\"; window['sj_result_aabe81847b4e12c6']['loggedIn'] = false; window['sj_result_aabe81847b4e12c6']['showMyJobsLinks'] = false;window['sj_result_aabe81847b4e12c6']['undoAction'] = \"unsave\";window['sj_result_aabe81847b4e12c6']['jobKey'] = \"aabe81847b4e12c6\"; window['sj_result_aabe81847b4e12c6']['myIndeedAvailable'] = true; window['sj_result_aabe81847b4e12c6']['showMoreActionsLink'] = window['sj_result_aabe81847b4e12c6']['showMoreActionsLink'] || false; window['sj_result_aabe81847b4e12c6']['resultNumber'] = 12; window['sj_result_aabe81847b4e12c6']['jobStateChangedToSaved'] = false; window['sj_result_aabe81847b4e12c6']['searchState'] = \"q=data scientist&amp;\"; window['sj_result_aabe81847b4e12c6']['basicPermaLink'] = \"https://www.indeed.com\"; window['sj_result_aabe81847b4e12c6']['saveJobFailed'] = false; window['sj_result_aabe81847b4e12c6']['removeJobFailed'] = false; window['sj_result_aabe81847b4e12c6']['requestPending'] = false; window['sj_result_aabe81847b4e12c6']['notesEnabled'] = false; window['sj_result_aabe81847b4e12c6']['currentPage'] = \"serp\"; window['sj_result_aabe81847b4e12c6']['sponsored'] = true;window['sj_result_aabe81847b4e12c6']['showSponsor'] = true;window['sj_result_aabe81847b4e12c6']['reportJobButtonEnabled'] = false; window['sj_result_aabe81847b4e12c6']['showMyJobsHired'] = false; window['sj_result_aabe81847b4e12c6']['showSaveForSponsored'] = true; window['sj_result_aabe81847b4e12c6']['showJobAge'] = true;</script></div></div>\n",
       "<div class=\"tab-container\">\n",
       "<div class=\"sign-in-container result-tab\"></div>\n",
       "<div class=\"tellafriend-container result-tab email_job_content\"></div>\n",
       "</div>\n",
       "</div>\n",
       "</div>\n",
       "<div class=\"row sjlast result\" data-advn=\"9363871498051418\" data-jk=\"5f03e5a8317c053f\" data-tu=\"\" id=\"pj_5f03e5a8317c053f\">\n",
       "<a class=\"jobtitle turnstileLink\" data-tn-element=\"jobTitle\" href=\"/pagead/clk?mo=r&amp;ad=-6NYlbfkN0AyzkJn6ZATQYQivcHTaMo6QLDjN-RoDZ7mmq_sdVndEVuHFgmjvPmF0XSt5y8QWE0vhoGgppB52IU1tiVmzZAn6HLeN_D7dN4NuQ7aM_07SjDDEuf_iroBnYcvd_tVr-e6uM4gKSAncCHGf1ROCp7RTgQK8YDlb36ote0JDfFM_pZ_gtmJ_DWX-xClwsamUkvWpxKQ_yMs75244b7A8VfeT8Q8-rmLyhrNT6Z9FUJ7lTZg9fDzuoz3vwwNwpCpG3zB9SSeV31QK2Gtc47qAtoZoNHVJd8e8AFcrK3ClUaRDYzuKaq6onjOlMTb7s4KRqd0XhFnNsBLWLTR0rjGFa6cfsgXKSs8keixcKK4f8ZoQmWeS_UZkfWhK6CoQ-H20avQRyBOCOXqkx8ml565Y-kKVBt8pmXe0CBX82hsWfV02w==&amp;vjs=3&amp;p=4&amp;sk=&amp;fvj=1\" id=\"sja4\" onclick=\"setRefineByCookie([]); sjoc('sja4',1); convCtr('SJ')\" onmousedown=\"sjomd('sja4'); clk('sja4');\" rel=\"noopener nofollow\" target=\"_blank\" title=\"Data Scientist\"><b>Data</b> <b>Scientist</b></a>\n",
       "<br/>\n",
       "<div class=\"sjcl\">\n",
       "<div style=\"display: inline\">\n",
       "<span class=\"company\">\n",
       "<a class=\"turnstileLink\" data-tn-element=\"companyName\" href=\"/cmp/Tufts-Medical-Center\" onmousedown=\"this.href = appendParamsOnce(this.href, 'from=SERP&amp;campaignid=serp-linkcompanyname&amp;fromjk=5f03e5a8317c053f&amp;jcid=5fef92f16580d9bd')\" rel=\"noopener\" target=\"_blank\">\n",
       "        Tufts Medical Center</a></span>\n",
       "\n",
       "     - <a class=\"turnstileLink slNoUnderline \" data-tn-element=\"reviewStars\" data-tn-variant=\"cmplinktst2\" href=\"/cmp/Tufts-Medical-Center/reviews\" onmousedown=\"this.href = appendParamsOnce(this.href, '?campaignid=cmplinktst2&amp;from=SERP&amp;jt=Data+Scientist&amp;fromjk=5f03e5a8317c053f&amp;jcid=5fef92f16580d9bd');\" rel=\"noopener\" target=\"_blank\" title=\"Tufts Medical Center reviews\">\n",
       "<span class=\"ratings\"><span class=\"rating\" style=\"width:44.4px\"><!-- --></span></span>\n",
       "<span class=\"slNoUnderline\">306 reviews</span></a>\n",
       "</div> - <span class=\"location\">Boston, MA 02111</span></div>\n",
       "<div class=\"paddedSummaryExperience\">\n",
       "<table border=\"0\" cellpadding=\"0\" cellspacing=\"0\"><tr><td class=\"snip\">\n",
       "<div>\n",
       "<span class=\"no-wrap\">\n",
       "                $75 - $125 an hour</span>\n",
       "</div>\n",
       "<span class=\"summary\">\n",
       "                            Tufts Medical Center (Tufts MC) and the Clinical and Translational Sciences Institute (CTSI) seek a Data Scientist (DSCA) for a new scientific software...</span>\n",
       "</td></tr></table>\n",
       "<div class=\"experience\">\n",
       "<span class=\"experienceHeader\">Desired Experience: </span><span class=\"experienceList\">Time Management</span>\n",
       "</div>\n",
       "</div>\n",
       "<div class=\"sjCapt\">\n",
       "<div class=\"iaP\">\n",
       "<span class=\"iaLabel\"> Easily apply</span>\n",
       "</div>\n",
       "<div class=\"result-link-bar-container\">\n",
       "<div class=\"result-link-bar\"><span class=\" sponsoredGray \">Sponsored</span> - <span class=\"tt_set\" id=\"tt_set_13\"><a class=\"sl resultLink save-job-link \" href=\"#\" id=\"sj_5f03e5a8317c053f\" onclick=\"changeJobState('5f03e5a8317c053f', 'save', 'linkbar', true, ''); return false;\" title=\"Save this job to my.indeed\">save job</a></span><div class=\"edit_note_content\" id=\"editsaved2_5f03e5a8317c053f\" style=\"display:none;\"></div><script>if (!window['sj_result_5f03e5a8317c053f']) {window['sj_result_5f03e5a8317c053f'] = {};}window['sj_result_5f03e5a8317c053f']['showSource'] = false; window['sj_result_5f03e5a8317c053f']['source'] = \"Indeed\"; window['sj_result_5f03e5a8317c053f']['loggedIn'] = false; window['sj_result_5f03e5a8317c053f']['showMyJobsLinks'] = false;window['sj_result_5f03e5a8317c053f']['undoAction'] = \"unsave\";window['sj_result_5f03e5a8317c053f']['jobKey'] = \"5f03e5a8317c053f\"; window['sj_result_5f03e5a8317c053f']['myIndeedAvailable'] = true; window['sj_result_5f03e5a8317c053f']['showMoreActionsLink'] = window['sj_result_5f03e5a8317c053f']['showMoreActionsLink'] || false; window['sj_result_5f03e5a8317c053f']['resultNumber'] = 13; window['sj_result_5f03e5a8317c053f']['jobStateChangedToSaved'] = false; window['sj_result_5f03e5a8317c053f']['searchState'] = \"q=data scientist&amp;\"; window['sj_result_5f03e5a8317c053f']['basicPermaLink'] = \"https://www.indeed.com\"; window['sj_result_5f03e5a8317c053f']['saveJobFailed'] = false; window['sj_result_5f03e5a8317c053f']['removeJobFailed'] = false; window['sj_result_5f03e5a8317c053f']['requestPending'] = false; window['sj_result_5f03e5a8317c053f']['notesEnabled'] = false; window['sj_result_5f03e5a8317c053f']['currentPage'] = \"serp\"; window['sj_result_5f03e5a8317c053f']['sponsored'] = true;window['sj_result_5f03e5a8317c053f']['showSponsor'] = true;window['sj_result_5f03e5a8317c053f']['reportJobButtonEnabled'] = false; window['sj_result_5f03e5a8317c053f']['showMyJobsHired'] = false; window['sj_result_5f03e5a8317c053f']['showSaveForSponsored'] = true; window['sj_result_5f03e5a8317c053f']['showJobAge'] = true;</script></div></div>\n",
       "<div class=\"tab-container\">\n",
       "<div class=\"sign-in-container result-tab\"></div>\n",
       "<div class=\"tellafriend-container result-tab email_job_content\"></div>\n",
       "</div>\n",
       "</div>\n",
       "</div>\n",
       "</div>\n",
       "<div class=\" row result\" data-jk=\"f5ef53db163dadbb\" data-tn-component=\"organicJob\" data-tu=\"\" id=\"p_f5ef53db163dadbb\">\n",
       "<h2 class=\"jobtitle\" id=\"jl_f5ef53db163dadbb\">\n",
       "<a class=\"turnstileLink\" data-tn-element=\"jobTitle\" href=\"/rc/clk?jk=f5ef53db163dadbb&amp;fccid=c794b739ebcb64e5&amp;vjs=3\" onclick=\"setRefineByCookie([]); return rclk(this,jobmap[0],true,0);\" onmousedown=\"return rclk(this,jobmap[0],0);\" rel=\"noopener nofollow\" target=\"_blank\" title=\"Data Scientist I/II (San Diego, CA)\"><b>Data</b> <b>Scientist</b> I/II (San Diego, CA)</a>\n",
       "</h2>\n",
       "<div style=\"display: inline\">\n",
       "<span class=\"company\">\n",
       "        Life360</span>\n",
       "</div> - <span class=\"location\">San Diego, CA</span><table border=\"0\" cellpadding=\"0\" cellspacing=\"0\">\n",
       "<tr>\n",
       "<td class=\"snip\">\n",
       "<div class=\"paddedSummaryExperience\">\n",
       "<span class=\"summary\">\n",
       "            You’ll work with all sorts of data, including inertial sensors, location, structured and free-form text, in-app events, and third-party datasets (think...</span>\n",
       "<div class=\"experience\">\n",
       "<span class=\"experienceHeader\">Desired Experience: </span><span class=\"experienceList\">TensorFlow, Machine Learning, SQL, Apache, Tableau, Natural Language Processing, Spark, Git, Unit Testing, Python, JIRA, AWS</span>\n",
       "</div>\n",
       "</div>\n",
       "<div class=\"iaP\">\n",
       "<span class=\"iaLabel\"> Easily apply</span>\n",
       "</div>\n",
       "<div class=\"result-link-bar-container\">\n",
       "<div class=\"result-link-bar\"><span class=\"date\">15 hours ago</span> <span class=\"tt_set\" id=\"tt_set_0\">  -  <a class=\"sl resultLink save-job-link \" href=\"#\" id=\"sj_f5ef53db163dadbb\" onclick=\"changeJobState('f5ef53db163dadbb', 'save', 'linkbar', false, ''); return false;\" title=\"Save this job to my.indeed\">save job</a> - <a class=\"sl resultLink more-link \" href=\"#\" id=\"tog_0\" onclick=\"toggleMoreLinks('f5ef53db163dadbb'); return false;\">more...</a></span><div class=\"edit_note_content\" id=\"editsaved2_f5ef53db163dadbb\" style=\"display:none;\"></div><script>if (!window['result_f5ef53db163dadbb']) {window['result_f5ef53db163dadbb'] = {};}window['result_f5ef53db163dadbb']['showSource'] = false; window['result_f5ef53db163dadbb']['source'] = \"Life360\"; window['result_f5ef53db163dadbb']['loggedIn'] = false; window['result_f5ef53db163dadbb']['showMyJobsLinks'] = false;window['result_f5ef53db163dadbb']['undoAction'] = \"unsave\";window['result_f5ef53db163dadbb']['relativeJobAge'] = \"15 hours ago\";window['result_f5ef53db163dadbb']['jobKey'] = \"f5ef53db163dadbb\"; window['result_f5ef53db163dadbb']['myIndeedAvailable'] = true; window['result_f5ef53db163dadbb']['showMoreActionsLink'] = window['result_f5ef53db163dadbb']['showMoreActionsLink'] || true; window['result_f5ef53db163dadbb']['resultNumber'] = 0; window['result_f5ef53db163dadbb']['jobStateChangedToSaved'] = false; window['result_f5ef53db163dadbb']['searchState'] = \"q=data scientist&amp;\"; window['result_f5ef53db163dadbb']['basicPermaLink'] = \"https://www.indeed.com\"; window['result_f5ef53db163dadbb']['saveJobFailed'] = false; window['result_f5ef53db163dadbb']['removeJobFailed'] = false; window['result_f5ef53db163dadbb']['requestPending'] = false; window['result_f5ef53db163dadbb']['notesEnabled'] = true; window['result_f5ef53db163dadbb']['currentPage'] = \"serp\"; window['result_f5ef53db163dadbb']['sponsored'] = false;window['result_f5ef53db163dadbb']['reportJobButtonEnabled'] = false; window['result_f5ef53db163dadbb']['showMyJobsHired'] = false; window['result_f5ef53db163dadbb']['showSaveForSponsored'] = false; window['result_f5ef53db163dadbb']['showJobAge'] = true;</script></div></div>\n",
       "<div class=\"tab-container\">\n",
       "<div class=\"more-links-container result-tab\" id=\"tt_display_0\" style=\"display:none;\"><a class=\"close-link closeLink\" href=\"#\" onclick=\"toggleMoreLinks('f5ef53db163dadbb'); return false;\" title=\"Close\"></a><div class=\"more_actions\" id=\"more_0\"><ul><li><span class=\"mat\">View all <a href=\"/q-Life360-l-San-Diego,-CA-jobs.html\" rel=\"nofollow\">Life360 jobs in San Diego, CA</a> - <a href=\"/l-San-Diego,-CA-jobs.html\">San Diego jobs</a></span></li><li><span class=\"mat\">Salary Search: <a href=\"/salaries/Data-Scientist-Salaries,-San-Diego-CA\" onmousedown=\"this.href = appendParamsOnce(this.href, '?campaignid=serp-more&amp;fromjk=f5ef53db163dadbb&amp;from=serp-more');\">Data Scientist salaries in San Diego, CA</a></span></li><li><span class=\"mat\">Related forums: <a href=\"/forum/loc/SAN-Diego-California.html\">SAN Diego, California</a> - <a href=\"/forum/cmp/Life360.html\">Life360</a></span></li></ul></div></div><div class=\"dya-container result-tab\"></div>\n",
       "<div class=\"tellafriend-container result-tab email_job_content\"></div>\n",
       "<div class=\"sign-in-container result-tab\"></div>\n",
       "<div class=\"notes-container result-tab\"></div>\n",
       "</div>\n",
       "</td>\n",
       "</tr>\n",
       "</table>\n",
       "</div>\n",
       "<div class=\" row result\" data-jk=\"f459a5ae6a27f2a6\" data-tn-component=\"organicJob\" data-tu=\"\" id=\"p_f459a5ae6a27f2a6\">\n",
       "<h2 class=\"jobtitle\" id=\"jl_f459a5ae6a27f2a6\">\n",
       "<a class=\"turnstileLink\" data-tn-element=\"jobTitle\" href=\"/company/Atrium-Insight/jobs/Data-Scientist-f459a5ae6a27f2a6?fccid=8a31c661618cfa2e&amp;vjs=3\" onclick=\"setRefineByCookie([]); return rclk(this,jobmap[1],true,0);\" onmousedown=\"return rclk(this,jobmap[1],0);\" rel=\"noopener nofollow\" target=\"_blank\" title=\"Data Scientist / Machine Learning Engineer\"><b>Data</b> <b>Scientist</b> / Machine Learning Engineer</a>\n",
       "</h2>\n",
       "<div style=\"display: inline\">\n",
       "<span class=\"company\">\n",
       "        AtriumAI</span>\n",
       "</div> - <span class=\"location\">San Diego, CA</span><span>\n",
       "<a class=\"more_loc\" href=\"/addlLoc/redirect?tk=1ci2lvodfbi4id1b&amp;jk=f459a5ae6a27f2a6&amp;dest=%2Fjobs%3Fq%3Ddata%2Bscientist%26rbt%3DData%2BScientist%2B%252F%2BMachine%2BLearning%2BEngineer%26rbc%3DAtriumAI%26jtid%3D4a1d245ec448a819%26jcid%3Dc10cdfb93c8d00a8%26grp%3Dtcl\" onmousedown=\"ptk('addlloc');\" rel=\"nofollow\">\n",
       "            +2 locations</a>\n",
       "</span>\n",
       "<table border=\"0\" cellpadding=\"0\" cellspacing=\"0\">\n",
       "<tr>\n",
       "<td class=\"snip\">\n",
       "<div class=\"paddedSummaryExperience\">\n",
       "<span class=\"summary\">\n",
       "            This role plays a key role working with customers to align strategic goals and objectives with key decisions regarding Machine Learning, Analytics and...</span>\n",
       "<div class=\"experience\">\n",
       "<span class=\"experienceHeader\">Desired Experience: </span><span class=\"experienceList\">TensorFlow, AI, Data Mining, Machine Learning, Data Management, R, Azure, Google Cloud Platform, SQL, Java, Troubleshooting, Python, AWS</span>\n",
       "</div>\n",
       "</div>\n",
       "<div class=\"iaP\">\n",
       "<span class=\"iaLabel\"> Easily apply</span>\n",
       "</div>\n",
       "<div class=\"result-link-bar-container\">\n",
       "<div class=\"result-link-bar\"><span class=\"date\">28 days ago</span> <span class=\"tt_set\" id=\"tt_set_1\">  -  <a class=\"sl resultLink save-job-link \" href=\"#\" id=\"sj_f459a5ae6a27f2a6\" onclick=\"changeJobState('f459a5ae6a27f2a6', 'save', 'linkbar', false, ''); return false;\" title=\"Save this job to my.indeed\">save job</a> - <a class=\"sl resultLink more-link \" href=\"#\" id=\"tog_1\" onclick=\"toggleMoreLinks('f459a5ae6a27f2a6'); return false;\">more...</a></span><div class=\"edit_note_content\" id=\"editsaved2_f459a5ae6a27f2a6\" style=\"display:none;\"></div><script>if (!window['result_f459a5ae6a27f2a6']) {window['result_f459a5ae6a27f2a6'] = {};}window['result_f459a5ae6a27f2a6']['showSource'] = false; window['result_f459a5ae6a27f2a6']['source'] = \"Indeed\"; window['result_f459a5ae6a27f2a6']['loggedIn'] = false; window['result_f459a5ae6a27f2a6']['showMyJobsLinks'] = false;window['result_f459a5ae6a27f2a6']['undoAction'] = \"unsave\";window['result_f459a5ae6a27f2a6']['relativeJobAge'] = \"28 days ago\";window['result_f459a5ae6a27f2a6']['jobKey'] = \"f459a5ae6a27f2a6\"; window['result_f459a5ae6a27f2a6']['myIndeedAvailable'] = true; window['result_f459a5ae6a27f2a6']['showMoreActionsLink'] = window['result_f459a5ae6a27f2a6']['showMoreActionsLink'] || true; window['result_f459a5ae6a27f2a6']['resultNumber'] = 1; window['result_f459a5ae6a27f2a6']['jobStateChangedToSaved'] = false; window['result_f459a5ae6a27f2a6']['searchState'] = \"q=data scientist&amp;\"; window['result_f459a5ae6a27f2a6']['basicPermaLink'] = \"https://www.indeed.com\"; window['result_f459a5ae6a27f2a6']['saveJobFailed'] = false; window['result_f459a5ae6a27f2a6']['removeJobFailed'] = false; window['result_f459a5ae6a27f2a6']['requestPending'] = false; window['result_f459a5ae6a27f2a6']['notesEnabled'] = true; window['result_f459a5ae6a27f2a6']['currentPage'] = \"serp\"; window['result_f459a5ae6a27f2a6']['sponsored'] = false;window['result_f459a5ae6a27f2a6']['reportJobButtonEnabled'] = false; window['result_f459a5ae6a27f2a6']['showMyJobsHired'] = false; window['result_f459a5ae6a27f2a6']['showSaveForSponsored'] = false; window['result_f459a5ae6a27f2a6']['showJobAge'] = true;</script></div></div>\n",
       "<div class=\"tab-container\">\n",
       "<div class=\"more-links-container result-tab\" id=\"tt_display_1\" style=\"display:none;\"><a class=\"close-link closeLink\" href=\"#\" onclick=\"toggleMoreLinks('f459a5ae6a27f2a6'); return false;\" title=\"Close\"></a><div class=\"more_actions\" id=\"more_1\"><ul><li><span class=\"mat\">View all <a href=\"/q-Atriumai-l-San-Diego,-CA-jobs.html\" rel=\"nofollow\">AtriumAI jobs in San Diego, CA</a> - <a href=\"/l-San-Diego,-CA-jobs.html\">San Diego jobs</a></span></li><li><span class=\"mat\">Salary Search: <a href=\"/salaries/Machine-Learning-Engineer-Salaries,-San-Diego-CA\" onmousedown=\"this.href = appendParamsOnce(this.href, '?campaignid=serp-more&amp;fromjk=f459a5ae6a27f2a6&amp;from=serp-more');\">Machine Learning Engineer salaries in San Diego, CA</a></span></li><li><span class=\"mat\">Learn more about working at <a href=\"/cmp/Atrium-Insight\" onmousedown=\"this.href = appendParamsOnce(this.href, '?fromjk=f459a5ae6a27f2a6&amp;from=serp-more&amp;campaignid=serp-more&amp;jcid=c10cdfb93c8d00a8');\">Atriumai</a></span></li><li><span class=\"mat\">Related forums: <a href=\"/forum/loc/SAN-Diego-California.html\">SAN Diego, California</a> - <a href=\"/forum/cmp/Atrium-Insight.html\">Atrium Insight</a></span></li></ul></div></div><div class=\"dya-container result-tab\"></div>\n",
       "<div class=\"tellafriend-container result-tab email_job_content\"></div>\n",
       "<div class=\"sign-in-container result-tab\"></div>\n",
       "<div class=\"notes-container result-tab\"></div>\n",
       "</div>\n",
       "</td>\n",
       "</tr>\n",
       "</table>\n",
       "</div>\n",
       "<div class=\" row result\" data-jk=\"b95effe37ea2332e\" data-tn-component=\"organicJob\" data-tu=\"\" id=\"p_b95effe37ea2332e\">\n",
       "<h2 class=\"jobtitle\" id=\"jl_b95effe37ea2332e\">\n",
       "<a class=\"turnstileLink\" data-tn-element=\"jobTitle\" href=\"/rc/clk?jk=b95effe37ea2332e&amp;fccid=de71a49b535e21cb&amp;vjs=3\" onclick=\"setRefineByCookie([]); return rclk(this,jobmap[2],true,0);\" onmousedown=\"return rclk(this,jobmap[2],0);\" rel=\"noopener nofollow\" target=\"_blank\" title=\"Data Scientist - Entry Level\"><b>Data</b> <b>Scientist</b> - Entry Level</a>\n",
       "</h2>\n",
       "<div style=\"display: inline\">\n",
       "<span class=\"company\">\n",
       "<a href=\"/cmp/IBM\" onmousedown=\"this.href = appendParamsOnce(this.href, 'from=SERP&amp;campaignid=serp-linkcompanyname&amp;fromjk=b95effe37ea2332e&amp;jcid=de71a49b535e21cb')\" rel=\"noopener\" target=\"_blank\">\n",
       "        IBM</a></span>\n",
       "\n",
       "     - <a class=\"turnstileLink slNoUnderline \" data-tn-element=\"reviewStars\" data-tn-variant=\"cmplinktst2\" href=\"/cmp/IBM/reviews\" onmousedown=\"this.href = appendParamsOnce(this.href, '?campaignid=cmplinktst2&amp;from=SERP&amp;jt=Data+Scientist+-+Entry+Level&amp;fromjk=b95effe37ea2332e&amp;jcid=de71a49b535e21cb');\" rel=\"noopener\" target=\"_blank\" title=\"IBM reviews\">\n",
       "<span class=\"ratings\"><span class=\"rating\" style=\"width:44.4px\"><!-- --></span></span>\n",
       "<span class=\"slNoUnderline\">21,957 reviews</span></a>\n",
       "</div> - <span class=\"location\">Research Triangle Park, NC</span><table border=\"0\" cellpadding=\"0\" cellspacing=\"0\">\n",
       "<tr>\n",
       "<td class=\"snip\">\n",
       "<div class=\"paddedSummaryExperience\">\n",
       "<span class=\"summary\">\n",
       "            The data scientist will extract, transform, and combine all incoming data with the goal of discovering a previously hidden insight, which in turn can provide...</span>\n",
       "<div class=\"experience\">\n",
       "<span class=\"experienceHeader\">Desired Experience: </span><span class=\"experienceList\">Natural Language Processing, Spark, Machine Learning, SPSS, R, Python, DB2, Apache</span>\n",
       "</div>\n",
       "</div>\n",
       "<div class=\"result-link-bar-container\">\n",
       "<div class=\"result-link-bar\"><span class=\"date\">3 days ago</span> <span class=\"tt_set\" id=\"tt_set_2\">  -  <a class=\"sl resultLink save-job-link \" href=\"#\" id=\"sj_b95effe37ea2332e\" onclick=\"changeJobState('b95effe37ea2332e', 'save', 'linkbar', false, ''); return false;\" title=\"Save this job to my.indeed\">save job</a> - <a class=\"sl resultLink more-link \" href=\"#\" id=\"tog_2\" onclick=\"toggleMoreLinks('b95effe37ea2332e'); return false;\">more...</a></span><div class=\"edit_note_content\" id=\"editsaved2_b95effe37ea2332e\" style=\"display:none;\"></div><script>if (!window['result_b95effe37ea2332e']) {window['result_b95effe37ea2332e'] = {};}window['result_b95effe37ea2332e']['showSource'] = false; window['result_b95effe37ea2332e']['source'] = \"IBM\"; window['result_b95effe37ea2332e']['loggedIn'] = false; window['result_b95effe37ea2332e']['showMyJobsLinks'] = false;window['result_b95effe37ea2332e']['undoAction'] = \"unsave\";window['result_b95effe37ea2332e']['relativeJobAge'] = \"3 days ago\";window['result_b95effe37ea2332e']['jobKey'] = \"b95effe37ea2332e\"; window['result_b95effe37ea2332e']['myIndeedAvailable'] = true; window['result_b95effe37ea2332e']['showMoreActionsLink'] = window['result_b95effe37ea2332e']['showMoreActionsLink'] || true; window['result_b95effe37ea2332e']['resultNumber'] = 2; window['result_b95effe37ea2332e']['jobStateChangedToSaved'] = false; window['result_b95effe37ea2332e']['searchState'] = \"q=data scientist&amp;\"; window['result_b95effe37ea2332e']['basicPermaLink'] = \"https://www.indeed.com\"; window['result_b95effe37ea2332e']['saveJobFailed'] = false; window['result_b95effe37ea2332e']['removeJobFailed'] = false; window['result_b95effe37ea2332e']['requestPending'] = false; window['result_b95effe37ea2332e']['notesEnabled'] = true; window['result_b95effe37ea2332e']['currentPage'] = \"serp\"; window['result_b95effe37ea2332e']['sponsored'] = false;window['result_b95effe37ea2332e']['reportJobButtonEnabled'] = false; window['result_b95effe37ea2332e']['showMyJobsHired'] = false; window['result_b95effe37ea2332e']['showSaveForSponsored'] = false; window['result_b95effe37ea2332e']['showJobAge'] = true;</script></div></div>\n",
       "<div class=\"tab-container\">\n",
       "<div class=\"more-links-container result-tab\" id=\"tt_display_2\" style=\"display:none;\"><a class=\"close-link closeLink\" href=\"#\" onclick=\"toggleMoreLinks('b95effe37ea2332e'); return false;\" title=\"Close\"></a><div class=\"more_actions\" id=\"more_2\"><ul><li><span class=\"mat\">View all <a href=\"/q-IBM-l-Research-Triangle-Park,-NC-jobs.html\" rel=\"nofollow\">IBM jobs in Research Triangle Park, NC</a> - <a href=\"/l-Research-Triangle-Park,-NC-jobs.html\">Research Triangle Park jobs</a></span></li><li><span class=\"mat\">Salary Search: <a href=\"/salaries/Data-Scientist-Salaries,-Research-Triangle-Park-NC\" onmousedown=\"this.href = appendParamsOnce(this.href, '?campaignid=serp-more&amp;fromjk=b95effe37ea2332e&amp;from=serp-more');\">Data Scientist salaries in Research Triangle Park, NC</a></span></li><li><span class=\"mat\">Learn more about working at <a href=\"/cmp/IBM\" onmousedown=\"this.href = appendParamsOnce(this.href, '?fromjk=b95effe37ea2332e&amp;from=serp-more&amp;campaignid=serp-more&amp;jcid=de71a49b535e21cb');\">IBM</a></span></li><li><span class=\"mat\"><a href=\"/cmp/IBM/faq\" onmousedown=\"this.href = appendParamsOnce(this.href, '?from=serp-more&amp;campaignid=serp-more&amp;fromjk=b95effe37ea2332e&amp;jcid=de71a49b535e21cb');\">IBM questions about work, benefits, interviews and hiring process:</a><ul><li><a href=\"/cmp/IBM/faq/how-often-do-raises-occur-at-ibm-corporation-staff-exchange-oao-technology-solutions?quid=1b760j90qak5ec05\" onmousedown=\"this.href = appendParamsOnce(this.href, '?from=serp-more&amp;campaignid=serp-more&amp;fromjk=b95effe37ea2332e&amp;jcid=de71a49b535e21cb');\">How often do raises occur at IBM Corporation, Staff Exchange / OAO Techn...</a></li><li><a href=\"/cmp/IBM/faq/why-did-you-leave-your-job-at-ibm?quid=1bblrjh7rak92fsb\" onmousedown=\"this.href = appendParamsOnce(this.href, '?from=serp-more&amp;campaignid=serp-more&amp;fromjk=b95effe37ea2332e&amp;jcid=de71a49b535e21cb');\">Why did you leave your job at IBM?</a></li></ul></span></li><li><span class=\"mat\">Related forums: <a href=\"/forum/cmp/IBM.html\">IBM</a></span></li></ul></div></div><div class=\"dya-container result-tab\"></div>\n",
       "<div class=\"tellafriend-container result-tab email_job_content\"></div>\n",
       "<div class=\"sign-in-container result-tab\"></div>\n",
       "<div class=\"notes-container result-tab\"></div>\n",
       "</div>\n",
       "</td>\n",
       "</tr>\n",
       "</table>\n",
       "</div>\n",
       "<div class=\" row result\" data-jk=\"5eeb144e4901b50c\" data-tn-component=\"organicJob\" data-tu=\"\" id=\"p_5eeb144e4901b50c\">\n",
       "<h2 class=\"jobtitle\" id=\"jl_5eeb144e4901b50c\">\n",
       "<a class=\"turnstileLink\" data-tn-element=\"jobTitle\" href=\"/rc/clk?jk=5eeb144e4901b50c&amp;fccid=fe2d21eef233e94a&amp;vjs=3\" onclick=\"setRefineByCookie([]); return rclk(this,jobmap[3],true,0);\" onmousedown=\"return rclk(this,jobmap[3],0);\" rel=\"noopener nofollow\" target=\"_blank\" title=\"Applied Scientist\">Applied <b>Scientist</b></a>\n",
       "</h2>\n",
       "<div style=\"display: inline\">\n",
       "<span class=\"company\">\n",
       "<a href=\"/cmp/Amazon.com\" onmousedown=\"this.href = appendParamsOnce(this.href, 'from=SERP&amp;campaignid=serp-linkcompanyname&amp;fromjk=5eeb144e4901b50c&amp;jcid=fe2d21eef233e94a')\" rel=\"noopener\" target=\"_blank\">\n",
       "        Amazon.com</a></span>\n",
       "\n",
       "     - <a class=\"turnstileLink slNoUnderline \" data-tn-element=\"reviewStars\" data-tn-variant=\"cmplinktst2\" href=\"/cmp/Amazon.com/reviews\" onmousedown=\"this.href = appendParamsOnce(this.href, '?campaignid=cmplinktst2&amp;from=SERP&amp;jt=Applied+Scientist&amp;fromjk=5eeb144e4901b50c&amp;jcid=fe2d21eef233e94a');\" rel=\"noopener\" target=\"_blank\" title=\"Amazon.com reviews\">\n",
       "<span class=\"ratings\"><span class=\"rating\" style=\"width:43.2px\"><!-- --></span></span>\n",
       "<span class=\"slNoUnderline\">25,181 reviews</span></a>\n",
       "</div> - <span class=\"location\">San Diego, CA</span><span>\n",
       "<a class=\"more_loc\" href=\"/addlLoc/redirect?tk=1ci2lvodfbi4id1b&amp;jk=5eeb144e4901b50c&amp;dest=%2Fjobs%3Fq%3Ddata%2Bscientist%26rbt%3DApplied%2BScientist%26rbc%3DAmazon.com%26jtid%3D5450146d1e6c02d5%26jcid%3Dfe2d21eef233e94a%26grp%3Dtcl\" onmousedown=\"ptk('addlloc');\" rel=\"nofollow\">\n",
       "            +7 locations</a>\n",
       "</span>\n",
       "<table border=\"0\" cellpadding=\"0\" cellspacing=\"0\">\n",
       "<tr>\n",
       "<td class=\"snip\">\n",
       "<div class=\"paddedSummaryExperience\">\n",
       "<span class=\"summary\">\n",
       "            Establishing scalable, efficient, automated processes for large scale data analyses, model development, model validation and model implementation\n",
       "</span>\n",
       "<div class=\"experience\">\n",
       "<span class=\"experienceHeader\">Desired Experience: </span><span class=\"experienceList\">Java, Spark, Machine Learning, MATLAB, Perl, SAS, Python, C/C++, SQL</span>\n",
       "</div>\n",
       "</div>\n",
       "<div class=\"result-link-bar-container\">\n",
       "<div class=\"result-link-bar\"><span class=\"date\">4 days ago</span> <span class=\"tt_set\" id=\"tt_set_3\">  -  <a class=\"sl resultLink save-job-link \" href=\"#\" id=\"sj_5eeb144e4901b50c\" onclick=\"changeJobState('5eeb144e4901b50c', 'save', 'linkbar', false, ''); return false;\" title=\"Save this job to my.indeed\">save job</a> - <a class=\"sl resultLink more-link \" href=\"#\" id=\"tog_3\" onclick=\"toggleMoreLinks('5eeb144e4901b50c'); return false;\">more...</a></span><div class=\"edit_note_content\" id=\"editsaved2_5eeb144e4901b50c\" style=\"display:none;\"></div><script>if (!window['result_5eeb144e4901b50c']) {window['result_5eeb144e4901b50c'] = {};}window['result_5eeb144e4901b50c']['showSource'] = false; window['result_5eeb144e4901b50c']['source'] = \"Amazon.com\"; window['result_5eeb144e4901b50c']['loggedIn'] = false; window['result_5eeb144e4901b50c']['showMyJobsLinks'] = false;window['result_5eeb144e4901b50c']['undoAction'] = \"unsave\";window['result_5eeb144e4901b50c']['relativeJobAge'] = \"4 days ago\";window['result_5eeb144e4901b50c']['jobKey'] = \"5eeb144e4901b50c\"; window['result_5eeb144e4901b50c']['myIndeedAvailable'] = true; window['result_5eeb144e4901b50c']['showMoreActionsLink'] = window['result_5eeb144e4901b50c']['showMoreActionsLink'] || true; window['result_5eeb144e4901b50c']['resultNumber'] = 3; window['result_5eeb144e4901b50c']['jobStateChangedToSaved'] = false; window['result_5eeb144e4901b50c']['searchState'] = \"q=data scientist&amp;\"; window['result_5eeb144e4901b50c']['basicPermaLink'] = \"https://www.indeed.com\"; window['result_5eeb144e4901b50c']['saveJobFailed'] = false; window['result_5eeb144e4901b50c']['removeJobFailed'] = false; window['result_5eeb144e4901b50c']['requestPending'] = false; window['result_5eeb144e4901b50c']['notesEnabled'] = true; window['result_5eeb144e4901b50c']['currentPage'] = \"serp\"; window['result_5eeb144e4901b50c']['sponsored'] = false;window['result_5eeb144e4901b50c']['reportJobButtonEnabled'] = false; window['result_5eeb144e4901b50c']['showMyJobsHired'] = false; window['result_5eeb144e4901b50c']['showSaveForSponsored'] = false; window['result_5eeb144e4901b50c']['showJobAge'] = true;</script></div></div>\n",
       "<div class=\"tab-container\">\n",
       "<div class=\"more-links-container result-tab\" id=\"tt_display_3\" style=\"display:none;\"><a class=\"close-link closeLink\" href=\"#\" onclick=\"toggleMoreLinks('5eeb144e4901b50c'); return false;\" title=\"Close\"></a><div class=\"more_actions\" id=\"more_3\"><ul><li><span class=\"mat\">View all <a href=\"/q-Amazon-Com-l-San-Diego,-CA-jobs.html\" rel=\"nofollow\">Amazon.com jobs in San Diego, CA</a> - <a href=\"/l-San-Diego,-CA-jobs.html\">San Diego jobs</a></span></li><li><span class=\"mat\">Salary Search: <a href=\"/salaries/Scientist-Salaries,-San-Diego-CA\" onmousedown=\"this.href = appendParamsOnce(this.href, '?campaignid=serp-more&amp;fromjk=5eeb144e4901b50c&amp;from=serp-more');\">Scientist salaries in San Diego, CA</a></span></li><li><span class=\"mat\">Learn more about working at <a href=\"/cmp/Amazon.com\" onmousedown=\"this.href = appendParamsOnce(this.href, '?fromjk=5eeb144e4901b50c&amp;from=serp-more&amp;campaignid=serp-more&amp;jcid=fe2d21eef233e94a');\">Amazon.com</a></span></li><li><span class=\"mat\"><a href=\"/cmp/Amazon.com/faq\" onmousedown=\"this.href = appendParamsOnce(this.href, '?from=serp-more&amp;campaignid=serp-more&amp;fromjk=5eeb144e4901b50c&amp;jcid=fe2d21eef233e94a');\">Amazon.com questions about work, benefits, interviews and hiring process:</a><ul><li><a href=\"/cmp/Amazon.com/faq/what-would-you-suggest-amazon-com-management-do-to-prevent-others-from-leaving-for-this-reason?quid=1bb857n98brch8lj\" onmousedown=\"this.href = appendParamsOnce(this.href, '?from=serp-more&amp;campaignid=serp-more&amp;fromjk=5eeb144e4901b50c&amp;jcid=fe2d21eef233e94a');\">What would you suggest Amazon.com management do to prevent others from l...</a></li><li><a href=\"/cmp/Amazon.com/faq/if-you-were-to-leave-amazon-com-what-would-be-the-reason?quid=1bb9r3ilcakgj8dv\" onmousedown=\"this.href = appendParamsOnce(this.href, '?from=serp-more&amp;campaignid=serp-more&amp;fromjk=5eeb144e4901b50c&amp;jcid=fe2d21eef233e94a');\">If you were to leave Amazon.com, what would be the reason?</a></li></ul></span></li><li><span class=\"mat\">Related forums: <a href=\"/forum/loc/SAN-Diego-California.html\">SAN Diego, California</a></span></li></ul></div></div><div class=\"dya-container result-tab\"></div>\n",
       "<div class=\"tellafriend-container result-tab email_job_content\"></div>\n",
       "<div class=\"sign-in-container result-tab\"></div>\n",
       "<div class=\"notes-container result-tab\"></div>\n",
       "</div>\n",
       "</td>\n",
       "</tr>\n",
       "</table>\n",
       "</div>\n",
       "<div class=\" row result\" data-jk=\"078e2988d1456156\" data-tn-component=\"organicJob\" data-tu=\"\" id=\"p_078e2988d1456156\">\n",
       "<h2 class=\"jobtitle\" id=\"jl_078e2988d1456156\">\n",
       "<a class=\"turnstileLink\" data-tn-element=\"jobTitle\" href=\"/rc/clk?jk=078e2988d1456156&amp;fccid=efafbed82ace95b2&amp;vjs=3\" onclick=\"setRefineByCookie([]); return rclk(this,jobmap[4],true,0);\" onmousedown=\"return rclk(this,jobmap[4],0);\" rel=\"noopener nofollow\" target=\"_blank\" title=\"Data Scientist\"><b>Data</b> <b>Scientist</b></a>\n",
       "</h2>\n",
       "<div style=\"display: inline\">\n",
       "<span class=\"company\">\n",
       "<a href=\"/cmp/Serasa-Experian\" onmousedown=\"this.href = appendParamsOnce(this.href, 'from=SERP&amp;campaignid=serp-linkcompanyname&amp;fromjk=078e2988d1456156&amp;jcid=75a3a5a15b202084')\" rel=\"noopener\" target=\"_blank\">\n",
       "        EXPERIAN</a></span>\n",
       "\n",
       "     - <a class=\"turnstileLink slNoUnderline \" data-tn-element=\"reviewStars\" data-tn-variant=\"cmplinktst2\" href=\"/cmp/Serasa-Experian/reviews\" onmousedown=\"this.href = appendParamsOnce(this.href, '?campaignid=cmplinktst2&amp;from=SERP&amp;jt=Data+Scientist&amp;fromjk=078e2988d1456156&amp;jcid=75a3a5a15b202084');\" rel=\"noopener\" target=\"_blank\" title=\"Experian reviews\">\n",
       "<span class=\"ratings\"><span class=\"rating\" style=\"width:52.8px\"><!-- --></span></span>\n",
       "<span class=\"slNoUnderline\">296 reviews</span></a>\n",
       "</div> - <span class=\"location\">San Diego, CA</span><table border=\"0\" cellpadding=\"0\" cellspacing=\"0\">\n",
       "<tr>\n",
       "<td class=\"snip\">\n",
       "<div class=\"paddedSummaryExperience\">\n",
       "<span class=\"summary\">\n",
       "            The person filling this position will be part of Experian North America R&amp;D Data Lab concentrating on research and development of novel analytical solutions...</span>\n",
       "<div class=\"experience\">\n",
       "<span class=\"experienceHeader\">Desired Experience: </span><span class=\"experienceList\">Pig, Hive, Machine Learning, R, C/C++, SQL, Natural Language Processing, Software Development, MATLAB, Data Mining, Network, Hadoop, Marketing, HBase, Java, Cassandra, MongoDB, Spark, NoSQL, Python</span>\n",
       "</div>\n",
       "</div>\n",
       "<div class=\"result-link-bar-container\">\n",
       "<div class=\"result-link-bar\"><span class=\"date\">13 days ago</span> <span class=\"tt_set\" id=\"tt_set_4\">  -  <a class=\"sl resultLink save-job-link \" href=\"#\" id=\"sj_078e2988d1456156\" onclick=\"changeJobState('078e2988d1456156', 'save', 'linkbar', false, ''); return false;\" title=\"Save this job to my.indeed\">save job</a> - <a class=\"sl resultLink more-link \" href=\"#\" id=\"tog_4\" onclick=\"toggleMoreLinks('078e2988d1456156'); return false;\">more...</a></span><div class=\"edit_note_content\" id=\"editsaved2_078e2988d1456156\" style=\"display:none;\"></div><script>if (!window['result_078e2988d1456156']) {window['result_078e2988d1456156'] = {};}window['result_078e2988d1456156']['showSource'] = false; window['result_078e2988d1456156']['source'] = \"Experian\"; window['result_078e2988d1456156']['loggedIn'] = false; window['result_078e2988d1456156']['showMyJobsLinks'] = false;window['result_078e2988d1456156']['undoAction'] = \"unsave\";window['result_078e2988d1456156']['relativeJobAge'] = \"13 days ago\";window['result_078e2988d1456156']['jobKey'] = \"078e2988d1456156\"; window['result_078e2988d1456156']['myIndeedAvailable'] = true; window['result_078e2988d1456156']['showMoreActionsLink'] = window['result_078e2988d1456156']['showMoreActionsLink'] || true; window['result_078e2988d1456156']['resultNumber'] = 4; window['result_078e2988d1456156']['jobStateChangedToSaved'] = false; window['result_078e2988d1456156']['searchState'] = \"q=data scientist&amp;\"; window['result_078e2988d1456156']['basicPermaLink'] = \"https://www.indeed.com\"; window['result_078e2988d1456156']['saveJobFailed'] = false; window['result_078e2988d1456156']['removeJobFailed'] = false; window['result_078e2988d1456156']['requestPending'] = false; window['result_078e2988d1456156']['notesEnabled'] = true; window['result_078e2988d1456156']['currentPage'] = \"serp\"; window['result_078e2988d1456156']['sponsored'] = false;window['result_078e2988d1456156']['reportJobButtonEnabled'] = false; window['result_078e2988d1456156']['showMyJobsHired'] = false; window['result_078e2988d1456156']['showSaveForSponsored'] = false; window['result_078e2988d1456156']['showJobAge'] = true;</script></div></div>\n",
       "<div class=\"tab-container\">\n",
       "<div class=\"more-links-container result-tab\" id=\"tt_display_4\" style=\"display:none;\"><a class=\"close-link closeLink\" href=\"#\" onclick=\"toggleMoreLinks('078e2988d1456156'); return false;\" title=\"Close\"></a><div class=\"more_actions\" id=\"more_4\"><ul><li><span class=\"mat\">View all <a href=\"/q-Experian-l-San-Diego,-CA-jobs.html\" rel=\"nofollow\">EXPERIAN jobs in San Diego, CA</a> - <a href=\"/l-San-Diego,-CA-jobs.html\">San Diego jobs</a></span></li><li><span class=\"mat\">Salary Search: <a href=\"/salaries/Data-Scientist-Salaries,-San-Diego-CA\" onmousedown=\"this.href = appendParamsOnce(this.href, '?campaignid=serp-more&amp;fromjk=078e2988d1456156&amp;from=serp-more');\">Data Scientist salaries in San Diego, CA</a></span></li><li><span class=\"mat\">Learn more about working at <a href=\"/cmp/Serasa-Experian\" onmousedown=\"this.href = appendParamsOnce(this.href, '?fromjk=078e2988d1456156&amp;from=serp-more&amp;campaignid=serp-more&amp;jcid=75a3a5a15b202084');\">Experian</a></span></li><li><span class=\"mat\">Related forums: <a href=\"/forum/loc/SAN-Diego-California.html\">SAN Diego, California</a> - <a href=\"/forum/cmp/Serasa-Experian.html\">Serasa Experian</a></span></li></ul></div></div><div class=\"dya-container result-tab\"></div>\n",
       "<div class=\"tellafriend-container result-tab email_job_content\"></div>\n",
       "<div class=\"sign-in-container result-tab\"></div>\n",
       "<div class=\"notes-container result-tab\"></div>\n",
       "</div>\n",
       "</td>\n",
       "</tr>\n",
       "</table>\n",
       "</div>\n",
       "<div class=\" row result\" data-jk=\"dd23ebd90ce9f9f8\" data-tn-component=\"organicJob\" data-tu=\"\" id=\"p_dd23ebd90ce9f9f8\">\n",
       "<h2 class=\"jobtitle\" id=\"jl_dd23ebd90ce9f9f8\">\n",
       "<a class=\"turnstileLink\" data-tn-element=\"jobTitle\" href=\"/rc/clk?jk=dd23ebd90ce9f9f8&amp;fccid=11caadcdc98800d4&amp;vjs=3\" onclick=\"setRefineByCookie([]); return rclk(this,jobmap[5],true,0);\" onmousedown=\"return rclk(this,jobmap[5],0);\" rel=\"noopener nofollow\" target=\"_blank\" title=\"Data Scientist\"><b>Data</b> <b>Scientist</b></a>\n",
       "</h2>\n",
       "<div style=\"display: inline\">\n",
       "<span class=\"company\">\n",
       "<a href=\"/cmp/General-Dynamics-Information-Technology\" onmousedown=\"this.href = appendParamsOnce(this.href, 'from=SERP&amp;campaignid=serp-linkcompanyname&amp;fromjk=dd23ebd90ce9f9f8&amp;jcid=11caadcdc98800d4')\" rel=\"noopener\" target=\"_blank\">\n",
       "        General Dynamics Information Technology</a></span>\n",
       "\n",
       "     - <a class=\"turnstileLink slNoUnderline \" data-tn-element=\"reviewStars\" data-tn-variant=\"cmplinktst2\" href=\"/cmp/General-Dynamics-Information-Technology/reviews\" onmousedown=\"this.href = appendParamsOnce(this.href, '?campaignid=cmplinktst2&amp;from=SERP&amp;jt=Data+Scientist&amp;fromjk=dd23ebd90ce9f9f8&amp;jcid=11caadcdc98800d4');\" rel=\"noopener\" target=\"_blank\" title=\"General Dynamics Information Technology reviews\">\n",
       "<span class=\"ratings\"><span class=\"rating\" style=\"width:43.8px\"><!-- --></span></span>\n",
       "<span class=\"slNoUnderline\">5,830 reviews</span></a>\n",
       "</div> - <span class=\"location\">San Diego, CA</span><span>\n",
       "<a class=\"more_loc\" href=\"/addlLoc/redirect?tk=1ci2lvodfbi4id1b&amp;jk=dd23ebd90ce9f9f8&amp;dest=%2Fjobs%3Fq%3Ddata%2Bscientist%26rbt%3DData%2BScientist%26rbc%3DGeneral%2BDynamics%2BInformation%2BTechnology%26jtid%3D1872a3288ede048a%26jcid%3D11caadcdc98800d4%26grp%3Dtcl\" onmousedown=\"ptk('addlloc');\" rel=\"nofollow\">\n",
       "            +12 locations</a>\n",
       "</span>\n",
       "<table border=\"0\" cellpadding=\"0\" cellspacing=\"0\">\n",
       "<tr>\n",
       "<td class=\"snip\">\n",
       "<div class=\"paddedSummaryExperience\">\n",
       "<span class=\"summary\">\n",
       "            Operating in consultation with program staff and the Government’s biostatistician, the data scientist shall build and disseminate databases and spreadsheets...</span>\n",
       "<div class=\"experience\">\n",
       "<span class=\"experienceHeader\">Desired Experience: </span><span class=\"experienceList\">Statistical Software, R, SAS, Microsoft Office, Microsoft Access, SPSS</span>\n",
       "</div>\n",
       "</div>\n",
       "<div class=\"result-link-bar-container\">\n",
       "<div class=\"result-link-bar\"><span class=\"date\">29 days ago</span> <span class=\"tt_set\" id=\"tt_set_5\">  -  <a class=\"sl resultLink save-job-link \" href=\"#\" id=\"sj_dd23ebd90ce9f9f8\" onclick=\"changeJobState('dd23ebd90ce9f9f8', 'save', 'linkbar', false, ''); return false;\" title=\"Save this job to my.indeed\">save job</a> - <a class=\"sl resultLink more-link \" href=\"#\" id=\"tog_5\" onclick=\"toggleMoreLinks('dd23ebd90ce9f9f8'); return false;\">more...</a></span><div class=\"edit_note_content\" id=\"editsaved2_dd23ebd90ce9f9f8\" style=\"display:none;\"></div><script>if (!window['result_dd23ebd90ce9f9f8']) {window['result_dd23ebd90ce9f9f8'] = {};}window['result_dd23ebd90ce9f9f8']['showSource'] = false; window['result_dd23ebd90ce9f9f8']['source'] = \"General Dynamics Information Technology\"; window['result_dd23ebd90ce9f9f8']['loggedIn'] = false; window['result_dd23ebd90ce9f9f8']['showMyJobsLinks'] = false;window['result_dd23ebd90ce9f9f8']['undoAction'] = \"unsave\";window['result_dd23ebd90ce9f9f8']['relativeJobAge'] = \"29 days ago\";window['result_dd23ebd90ce9f9f8']['jobKey'] = \"dd23ebd90ce9f9f8\"; window['result_dd23ebd90ce9f9f8']['myIndeedAvailable'] = true; window['result_dd23ebd90ce9f9f8']['showMoreActionsLink'] = window['result_dd23ebd90ce9f9f8']['showMoreActionsLink'] || true; window['result_dd23ebd90ce9f9f8']['resultNumber'] = 5; window['result_dd23ebd90ce9f9f8']['jobStateChangedToSaved'] = false; window['result_dd23ebd90ce9f9f8']['searchState'] = \"q=data scientist&amp;\"; window['result_dd23ebd90ce9f9f8']['basicPermaLink'] = \"https://www.indeed.com\"; window['result_dd23ebd90ce9f9f8']['saveJobFailed'] = false; window['result_dd23ebd90ce9f9f8']['removeJobFailed'] = false; window['result_dd23ebd90ce9f9f8']['requestPending'] = false; window['result_dd23ebd90ce9f9f8']['notesEnabled'] = true; window['result_dd23ebd90ce9f9f8']['currentPage'] = \"serp\"; window['result_dd23ebd90ce9f9f8']['sponsored'] = false;window['result_dd23ebd90ce9f9f8']['reportJobButtonEnabled'] = false; window['result_dd23ebd90ce9f9f8']['showMyJobsHired'] = false; window['result_dd23ebd90ce9f9f8']['showSaveForSponsored'] = false; window['result_dd23ebd90ce9f9f8']['showJobAge'] = true;</script></div></div>\n",
       "<div class=\"tab-container\">\n",
       "<div class=\"more-links-container result-tab\" id=\"tt_display_5\" style=\"display:none;\"><a class=\"close-link closeLink\" href=\"#\" onclick=\"toggleMoreLinks('dd23ebd90ce9f9f8'); return false;\" title=\"Close\"></a><div class=\"more_actions\" id=\"more_5\"><ul><li><span class=\"mat\">View all <a href=\"/q-General-Dynamics-Information-Technology-l-San-Diego,-CA-jobs.html\" rel=\"nofollow\">General Dynamics Information Technology jobs in San Diego, CA</a> - <a href=\"/l-San-Diego,-CA-jobs.html\">San Diego jobs</a></span></li><li><span class=\"mat\">Salary Search: <a href=\"/salaries/Data-Scientist-Salaries,-San-Diego-CA\" onmousedown=\"this.href = appendParamsOnce(this.href, '?campaignid=serp-more&amp;fromjk=dd23ebd90ce9f9f8&amp;from=serp-more');\">Data Scientist salaries in San Diego, CA</a></span></li><li><span class=\"mat\">Learn more about working at <a href=\"/cmp/General-Dynamics-Information-Technology\" onmousedown=\"this.href = appendParamsOnce(this.href, '?fromjk=dd23ebd90ce9f9f8&amp;from=serp-more&amp;campaignid=serp-more&amp;jcid=11caadcdc98800d4');\">General Dynamics Information Technology</a></span></li><li><span class=\"mat\"><a href=\"/cmp/General-Dynamics-Information-Technology/faq\" onmousedown=\"this.href = appendParamsOnce(this.href, '?from=serp-more&amp;campaignid=serp-more&amp;fromjk=dd23ebd90ce9f9f8&amp;jcid=11caadcdc98800d4');\">General Dynamics Information Technology questions about work, benefits, interviews and hiring process:</a><ul><li><a href=\"/cmp/General-Dynamics-Information-Technology/faq/if-you-were-to-leave-general-dynamics-information-technology-what-would-be-the-reason?quid=1bcbgcrno5nd0csm\" onmousedown=\"this.href = appendParamsOnce(this.href, '?from=serp-more&amp;campaignid=serp-more&amp;fromjk=dd23ebd90ce9f9f8&amp;jcid=11caadcdc98800d4');\">If you were to leave General Dynamics Information Technology, what would...</a></li><li><a href=\"/cmp/General-Dynamics-Information-Technology/faq/why-did-you-leave-your-job-at-general-dynamics-information-technology?quid=1bba54dtiak4pdjf\" onmousedown=\"this.href = appendParamsOnce(this.href, '?from=serp-more&amp;campaignid=serp-more&amp;fromjk=dd23ebd90ce9f9f8&amp;jcid=11caadcdc98800d4');\">Why did you leave your job at General Dynamics Information Technology?</a></li></ul></span></li><li><span class=\"mat\">Related forums: <a href=\"/forum/loc/SAN-Diego-California.html\">SAN Diego, California</a> - <a href=\"/forum/cmp/General-Dynamics-Information-Technology.html\">General Dynamics Information Technology</a></span></li></ul></div></div><div class=\"dya-container result-tab\"></div>\n",
       "<div class=\"tellafriend-container result-tab email_job_content\"></div>\n",
       "<div class=\"sign-in-container result-tab\"></div>\n",
       "<div class=\"notes-container result-tab\"></div>\n",
       "</div>\n",
       "</td>\n",
       "</tr>\n",
       "</table>\n",
       "</div>\n",
       "<div class=\" row result\" data-jk=\"b301dee73c1dc5d4\" data-tn-component=\"organicJob\" data-tu=\"\" id=\"p_b301dee73c1dc5d4\">\n",
       "<h2 class=\"jobtitle\" id=\"jl_b301dee73c1dc5d4\">\n",
       "<a class=\"turnstileLink\" data-tn-element=\"jobTitle\" href=\"/rc/clk?jk=b301dee73c1dc5d4&amp;fccid=8b219f1987ef65ea&amp;vjs=3\" onclick=\"setRefineByCookie([]); return rclk(this,jobmap[6],true,0);\" onmousedown=\"return rclk(this,jobmap[6],0);\" rel=\"noopener nofollow\" target=\"_blank\" title=\"Data Scientist\"><b>Data</b> <b>Scientist</b></a>\n",
       "</h2>\n",
       "<div style=\"display: inline\">\n",
       "<span class=\"company\">\n",
       "<a href=\"/cmp/Viasat\" onmousedown=\"this.href = appendParamsOnce(this.href, 'from=SERP&amp;campaignid=serp-linkcompanyname&amp;fromjk=b301dee73c1dc5d4&amp;jcid=8b219f1987ef65ea')\" rel=\"noopener\" target=\"_blank\">\n",
       "        ViaSat</a></span>\n",
       "\n",
       "     - <a class=\"turnstileLink slNoUnderline \" data-tn-element=\"reviewStars\" data-tn-variant=\"cmplinktst2\" href=\"/cmp/Viasat/reviews\" onmousedown=\"this.href = appendParamsOnce(this.href, '?campaignid=cmplinktst2&amp;from=SERP&amp;jt=Data+Scientist&amp;fromjk=b301dee73c1dc5d4&amp;jcid=8b219f1987ef65ea');\" rel=\"noopener\" target=\"_blank\" title=\"Viasat reviews\">\n",
       "<span class=\"ratings\"><span class=\"rating\" style=\"width:43.8px\"><!-- --></span></span>\n",
       "<span class=\"slNoUnderline\">164 reviews</span></a>\n",
       "</div> - <span class=\"location\">San Diego, CA</span><span>\n",
       "<a class=\"more_loc\" href=\"/addlLoc/redirect?tk=1ci2lvodfbi4id1b&amp;jk=b301dee73c1dc5d4&amp;dest=%2Fjobs%3Fq%3Ddata%2Bscientist%26rbt%3DData%2BScientist%26rbc%3DViaSat%26jtid%3D1872a3288ede048a%26jcid%3D8b219f1987ef65ea%26grp%3Dtcl\" onmousedown=\"ptk('addlloc');\" rel=\"nofollow\">\n",
       "            +4 locations</a>\n",
       "</span>\n",
       "<table border=\"0\" cellpadding=\"0\" cellspacing=\"0\">\n",
       "<tr>\n",
       "<td class=\"snip\">\n",
       "<div class=\"paddedSummaryExperience\">\n",
       "<span class=\"summary\">\n",
       "            We employ the latest technologies (Spark, Kafka, Impala, Hadoop) to analyze the Petabytes of data our operational systems produce.</span>\n",
       "<div class=\"experience\">\n",
       "<span class=\"experienceHeader\">Desired Experience: </span><span class=\"experienceList\">Machine Learning, Hadoop, Kafka, R, Scala, Big Data, Java, Predictive Analytics, Spark, Data Analysis, MATLAB, Python</span>\n",
       "</div>\n",
       "</div>\n",
       "<div class=\"result-link-bar-container\">\n",
       "<div class=\"result-link-bar\"><span class=\"date\">17 days ago</span> <span class=\"tt_set\" id=\"tt_set_6\">  -  <a class=\"sl resultLink save-job-link \" href=\"#\" id=\"sj_b301dee73c1dc5d4\" onclick=\"changeJobState('b301dee73c1dc5d4', 'save', 'linkbar', false, ''); return false;\" title=\"Save this job to my.indeed\">save job</a> - <a class=\"sl resultLink more-link \" href=\"#\" id=\"tog_6\" onclick=\"toggleMoreLinks('b301dee73c1dc5d4'); return false;\">more...</a></span><div class=\"edit_note_content\" id=\"editsaved2_b301dee73c1dc5d4\" style=\"display:none;\"></div><script>if (!window['result_b301dee73c1dc5d4']) {window['result_b301dee73c1dc5d4'] = {};}window['result_b301dee73c1dc5d4']['showSource'] = false; window['result_b301dee73c1dc5d4']['source'] = \"ViaSat\"; window['result_b301dee73c1dc5d4']['loggedIn'] = false; window['result_b301dee73c1dc5d4']['showMyJobsLinks'] = false;window['result_b301dee73c1dc5d4']['undoAction'] = \"unsave\";window['result_b301dee73c1dc5d4']['relativeJobAge'] = \"17 days ago\";window['result_b301dee73c1dc5d4']['jobKey'] = \"b301dee73c1dc5d4\"; window['result_b301dee73c1dc5d4']['myIndeedAvailable'] = true; window['result_b301dee73c1dc5d4']['showMoreActionsLink'] = window['result_b301dee73c1dc5d4']['showMoreActionsLink'] || true; window['result_b301dee73c1dc5d4']['resultNumber'] = 6; window['result_b301dee73c1dc5d4']['jobStateChangedToSaved'] = false; window['result_b301dee73c1dc5d4']['searchState'] = \"q=data scientist&amp;\"; window['result_b301dee73c1dc5d4']['basicPermaLink'] = \"https://www.indeed.com\"; window['result_b301dee73c1dc5d4']['saveJobFailed'] = false; window['result_b301dee73c1dc5d4']['removeJobFailed'] = false; window['result_b301dee73c1dc5d4']['requestPending'] = false; window['result_b301dee73c1dc5d4']['notesEnabled'] = true; window['result_b301dee73c1dc5d4']['currentPage'] = \"serp\"; window['result_b301dee73c1dc5d4']['sponsored'] = false;window['result_b301dee73c1dc5d4']['reportJobButtonEnabled'] = false; window['result_b301dee73c1dc5d4']['showMyJobsHired'] = false; window['result_b301dee73c1dc5d4']['showSaveForSponsored'] = false; window['result_b301dee73c1dc5d4']['showJobAge'] = true;</script></div></div>\n",
       "<div class=\"tab-container\">\n",
       "<div class=\"more-links-container result-tab\" id=\"tt_display_6\" style=\"display:none;\"><a class=\"close-link closeLink\" href=\"#\" onclick=\"toggleMoreLinks('b301dee73c1dc5d4'); return false;\" title=\"Close\"></a><div class=\"more_actions\" id=\"more_6\"><ul><li><span class=\"mat\">View all <a href=\"/q-Viasat-l-San-Diego,-CA-jobs.html\" rel=\"nofollow\">ViaSat jobs in San Diego, CA</a> - <a href=\"/l-San-Diego,-CA-jobs.html\">San Diego jobs</a></span></li><li><span class=\"mat\">Salary Search: <a href=\"/salaries/Data-Scientist-Salaries,-San-Diego-CA\" onmousedown=\"this.href = appendParamsOnce(this.href, '?campaignid=serp-more&amp;fromjk=b301dee73c1dc5d4&amp;from=serp-more');\">Data Scientist salaries in San Diego, CA</a></span></li><li><span class=\"mat\">Learn more about working at <a href=\"/cmp/Viasat\" onmousedown=\"this.href = appendParamsOnce(this.href, '?fromjk=b301dee73c1dc5d4&amp;from=serp-more&amp;campaignid=serp-more&amp;jcid=8b219f1987ef65ea');\">Viasat</a></span></li><li><span class=\"mat\"><a href=\"/cmp/Viasat/faq\" onmousedown=\"this.href = appendParamsOnce(this.href, '?from=serp-more&amp;campaignid=serp-more&amp;fromjk=b301dee73c1dc5d4&amp;jcid=8b219f1987ef65ea');\">Viasat questions about work, benefits, interviews and hiring process:</a><ul><li><a href=\"/cmp/Viasat/faq/what-would-you-suggest-viasat-management-do-to-prevent-others-from-leaving-for-this-reason?quid=1bbn2l6s6ak92aed\" onmousedown=\"this.href = appendParamsOnce(this.href, '?from=serp-more&amp;campaignid=serp-more&amp;fromjk=b301dee73c1dc5d4&amp;jcid=8b219f1987ef65ea');\">What would you suggest ViaSat management do to prevent others from leavi...</a></li><li><a href=\"/cmp/Viasat/faq/what-is-the-vacation-policy-like-how-many-vacation-days-do-you-get-per-year?quid=1btsakpsq5j768n1\" onmousedown=\"this.href = appendParamsOnce(this.href, '?from=serp-more&amp;campaignid=serp-more&amp;fromjk=b301dee73c1dc5d4&amp;jcid=8b219f1987ef65ea');\">What is the vacation policy like? How many vacation days do you get per ...</a></li></ul></span></li><li><span class=\"mat\">Related forums: <a href=\"/forum/loc/SAN-Diego-California.html\">SAN Diego, California</a> - <a href=\"/forum/cmp/Viasat.html\">Viasat</a></span></li></ul></div></div><div class=\"dya-container result-tab\"></div>\n",
       "<div class=\"tellafriend-container result-tab email_job_content\"></div>\n",
       "<div class=\"sign-in-container result-tab\"></div>\n",
       "<div class=\"notes-container result-tab\"></div>\n",
       "</div>\n",
       "</td>\n",
       "</tr>\n",
       "</table>\n",
       "</div>\n",
       "<div class=\" row result\" data-jk=\"0627f61ffef38b5c\" data-tn-component=\"organicJob\" data-tu=\"\" id=\"p_0627f61ffef38b5c\">\n",
       "<h2 class=\"jobtitle\" id=\"jl_0627f61ffef38b5c\">\n",
       "<a class=\"turnstileLink\" data-tn-element=\"jobTitle\" href=\"/rc/clk?jk=0627f61ffef38b5c&amp;fccid=fe2d21eef233e94a&amp;vjs=3\" onclick=\"setRefineByCookie([]); return rclk(this,jobmap[7],true,0);\" onmousedown=\"return rclk(this,jobmap[7],0);\" rel=\"noopener nofollow\" target=\"_blank\" title=\"Machine Learning Scientist\">Machine Learning <b>Scientist</b></a>\n",
       "</h2>\n",
       "<div style=\"display: inline\">\n",
       "<span class=\"company\">\n",
       "<a href=\"/cmp/Amazon.com\" onmousedown=\"this.href = appendParamsOnce(this.href, 'from=SERP&amp;campaignid=serp-linkcompanyname&amp;fromjk=0627f61ffef38b5c&amp;jcid=fe2d21eef233e94a')\" rel=\"noopener\" target=\"_blank\">\n",
       "        Amazon.com</a></span>\n",
       "\n",
       "     - <a class=\"turnstileLink slNoUnderline \" data-tn-element=\"reviewStars\" data-tn-variant=\"cmplinktst2\" href=\"/cmp/Amazon.com/reviews\" onmousedown=\"this.href = appendParamsOnce(this.href, '?campaignid=cmplinktst2&amp;from=SERP&amp;jt=Machine+Learning+Scientist&amp;fromjk=0627f61ffef38b5c&amp;jcid=fe2d21eef233e94a');\" rel=\"noopener\" target=\"_blank\" title=\"Amazon.com reviews\">\n",
       "<span class=\"ratings\"><span class=\"rating\" style=\"width:43.2px\"><!-- --></span></span>\n",
       "<span class=\"slNoUnderline\">25,181 reviews</span></a>\n",
       "</div> - <span class=\"location\">San Diego, CA</span><span>\n",
       "<a class=\"more_loc\" href=\"/addlLoc/redirect?tk=1ci2lvodfbi4id1b&amp;jk=0627f61ffef38b5c&amp;dest=%2Fjobs%3Fq%3Ddata%2Bscientist%26rbt%3DMachine%2BLearning%2BScientist%26rbc%3DAmazon.com%26jtid%3Db0c03ce435143d15%26jcid%3Dfe2d21eef233e94a%26grp%3Dtcl\" onmousedown=\"ptk('addlloc');\" rel=\"nofollow\">\n",
       "            +5 locations</a>\n",
       "</span>\n",
       "<table border=\"0\" cellpadding=\"0\" cellspacing=\"0\">\n",
       "<tr>\n",
       "<td class=\"snip\">\n",
       "<div class=\"paddedSummaryExperience\">\n",
       "<span class=\"summary\">\n",
       "            · Establishing scalable, efficient, automated processes for large scale data analyses, model development, model validation and model implementation\n",
       "</span>\n",
       "<div class=\"experience\">\n",
       "<span class=\"experienceHeader\">Desired Experience: </span><span class=\"experienceList\">Machine Learning, SQL</span>\n",
       "</div>\n",
       "</div>\n",
       "<div class=\"result-link-bar-container\">\n",
       "<div class=\"result-link-bar\"><span class=\"date\">13 days ago</span> <span class=\"tt_set\" id=\"tt_set_7\">  -  <a class=\"sl resultLink save-job-link \" href=\"#\" id=\"sj_0627f61ffef38b5c\" onclick=\"changeJobState('0627f61ffef38b5c', 'save', 'linkbar', false, ''); return false;\" title=\"Save this job to my.indeed\">save job</a> - <a class=\"sl resultLink more-link \" href=\"#\" id=\"tog_7\" onclick=\"toggleMoreLinks('0627f61ffef38b5c'); return false;\">more...</a></span><div class=\"edit_note_content\" id=\"editsaved2_0627f61ffef38b5c\" style=\"display:none;\"></div><script>if (!window['result_0627f61ffef38b5c']) {window['result_0627f61ffef38b5c'] = {};}window['result_0627f61ffef38b5c']['showSource'] = false; window['result_0627f61ffef38b5c']['source'] = \"Amazon.com\"; window['result_0627f61ffef38b5c']['loggedIn'] = false; window['result_0627f61ffef38b5c']['showMyJobsLinks'] = false;window['result_0627f61ffef38b5c']['undoAction'] = \"unsave\";window['result_0627f61ffef38b5c']['relativeJobAge'] = \"13 days ago\";window['result_0627f61ffef38b5c']['jobKey'] = \"0627f61ffef38b5c\"; window['result_0627f61ffef38b5c']['myIndeedAvailable'] = true; window['result_0627f61ffef38b5c']['showMoreActionsLink'] = window['result_0627f61ffef38b5c']['showMoreActionsLink'] || true; window['result_0627f61ffef38b5c']['resultNumber'] = 7; window['result_0627f61ffef38b5c']['jobStateChangedToSaved'] = false; window['result_0627f61ffef38b5c']['searchState'] = \"q=data scientist&amp;\"; window['result_0627f61ffef38b5c']['basicPermaLink'] = \"https://www.indeed.com\"; window['result_0627f61ffef38b5c']['saveJobFailed'] = false; window['result_0627f61ffef38b5c']['removeJobFailed'] = false; window['result_0627f61ffef38b5c']['requestPending'] = false; window['result_0627f61ffef38b5c']['notesEnabled'] = true; window['result_0627f61ffef38b5c']['currentPage'] = \"serp\"; window['result_0627f61ffef38b5c']['sponsored'] = false;window['result_0627f61ffef38b5c']['reportJobButtonEnabled'] = false; window['result_0627f61ffef38b5c']['showMyJobsHired'] = false; window['result_0627f61ffef38b5c']['showSaveForSponsored'] = false; window['result_0627f61ffef38b5c']['showJobAge'] = true;</script></div></div>\n",
       "<div class=\"tab-container\">\n",
       "<div class=\"more-links-container result-tab\" id=\"tt_display_7\" style=\"display:none;\"><a class=\"close-link closeLink\" href=\"#\" onclick=\"toggleMoreLinks('0627f61ffef38b5c'); return false;\" title=\"Close\"></a><div class=\"more_actions\" id=\"more_7\"><ul><li><span class=\"mat\">View all <a href=\"/q-Amazon-Com-l-San-Diego,-CA-jobs.html\" rel=\"nofollow\">Amazon.com jobs in San Diego, CA</a> - <a href=\"/l-San-Diego,-CA-jobs.html\">San Diego jobs</a></span></li><li><span class=\"mat\">Salary Search: <a href=\"/salaries/Machine-Learning-Engineer-Salaries,-San-Diego-CA\" onmousedown=\"this.href = appendParamsOnce(this.href, '?campaignid=serp-more&amp;fromjk=0627f61ffef38b5c&amp;from=serp-more');\">Machine Learning Engineer salaries in San Diego, CA</a></span></li><li><span class=\"mat\">Learn more about working at <a href=\"/cmp/Amazon.com\" onmousedown=\"this.href = appendParamsOnce(this.href, '?fromjk=0627f61ffef38b5c&amp;from=serp-more&amp;campaignid=serp-more&amp;jcid=fe2d21eef233e94a');\">Amazon.com</a></span></li><li><span class=\"mat\"><a href=\"/cmp/Amazon.com/faq\" onmousedown=\"this.href = appendParamsOnce(this.href, '?from=serp-more&amp;campaignid=serp-more&amp;fromjk=0627f61ffef38b5c&amp;jcid=fe2d21eef233e94a');\">Amazon.com questions about work, benefits, interviews and hiring process:</a><ul><li><a href=\"/cmp/Amazon.com/faq/what-would-you-suggest-amazon-com-management-do-to-prevent-others-from-leaving-for-this-reason?quid=1bb857n98brch8lj\" onmousedown=\"this.href = appendParamsOnce(this.href, '?from=serp-more&amp;campaignid=serp-more&amp;fromjk=0627f61ffef38b5c&amp;jcid=fe2d21eef233e94a');\">What would you suggest Amazon.com management do to prevent others from l...</a></li><li><a href=\"/cmp/Amazon.com/faq/if-you-were-to-leave-amazon-com-what-would-be-the-reason?quid=1bb9r3ilcakgj8dv\" onmousedown=\"this.href = appendParamsOnce(this.href, '?from=serp-more&amp;campaignid=serp-more&amp;fromjk=0627f61ffef38b5c&amp;jcid=fe2d21eef233e94a');\">If you were to leave Amazon.com, what would be the reason?</a></li></ul></span></li><li><span class=\"mat\">Related forums: <a href=\"/forum/loc/SAN-Diego-California.html\">SAN Diego, California</a></span></li></ul></div></div><div class=\"dya-container result-tab\"></div>\n",
       "<div class=\"tellafriend-container result-tab email_job_content\"></div>\n",
       "<div class=\"sign-in-container result-tab\"></div>\n",
       "<div class=\"notes-container result-tab\"></div>\n",
       "</div>\n",
       "</td>\n",
       "</tr>\n",
       "</table>\n",
       "</div>\n",
       "<div class=\" row result\" data-jk=\"f86102866c231934\" data-tn-component=\"organicJob\" data-tu=\"\" id=\"p_f86102866c231934\">\n",
       "<h2 class=\"jobtitle\" id=\"jl_f86102866c231934\">\n",
       "<a class=\"turnstileLink\" data-tn-element=\"jobTitle\" href=\"/rc/clk?jk=f86102866c231934&amp;fccid=c1f1c5060ccd43fc&amp;vjs=3\" onclick=\"setRefineByCookie([]); return rclk(this,jobmap[8],true,0);\" onmousedown=\"return rclk(this,jobmap[8],0);\" rel=\"noopener nofollow\" target=\"_blank\" title=\"Data Scientist\"><b>Data</b> <b>Scientist</b></a>\n",
       "</h2>\n",
       "<div style=\"display: inline\">\n",
       "<span class=\"company\">\n",
       "<a href=\"/cmp/Motive-Interactive\" onmousedown=\"this.href = appendParamsOnce(this.href, 'from=SERP&amp;campaignid=serp-linkcompanyname&amp;fromjk=f86102866c231934&amp;jcid=c1f1c5060ccd43fc')\" rel=\"noopener\" target=\"_blank\">\n",
       "        Motive Interactive</a></span>\n",
       "\n",
       "     - <a class=\"turnstileLink slNoUnderline \" data-tn-element=\"reviewStars\" data-tn-variant=\"cmplinktst2\" href=\"/cmp/Motive-Interactive/reviews\" onmousedown=\"this.href = appendParamsOnce(this.href, '?campaignid=cmplinktst2&amp;from=SERP&amp;jt=Data+Scientist&amp;fromjk=f86102866c231934&amp;jcid=c1f1c5060ccd43fc');\" rel=\"noopener\" target=\"_blank\" title=\"Motive Interactive reviews\">\n",
       "<span class=\"ratings\"><span class=\"rating\" style=\"width:60.0px\"><!-- --></span></span>\n",
       "<span class=\"slNoUnderline\">3 reviews</span></a>\n",
       "</div> - <span class=\"location\">San Diego, CA 92121</span><table border=\"0\" cellpadding=\"0\" cellspacing=\"0\">\n",
       "<tr>\n",
       "<td class=\"snip\">\n",
       "<div class=\"paddedSummaryExperience\">\n",
       "<span class=\"summary\">\n",
       "            • Work with stakeholders including Media buying, Product and Business teams to identify opportunities for leveraging our data to drive business growth\n",
       "</span>\n",
       "<div class=\"experience\">\n",
       "<span class=\"experienceHeader\">Desired Experience: </span><span class=\"experienceList\">TensorFlow, Spark, Machine Learning, Scripting, R, Python, SQL</span>\n",
       "</div>\n",
       "</div>\n",
       "<div class=\"iaP\">\n",
       "<span class=\"iaLabel\"> Easily apply</span>\n",
       "</div>\n",
       "<div class=\"result-link-bar-container\">\n",
       "<div class=\"result-link-bar\"><span class=\"date\">8 days ago</span> <span class=\"tt_set\" id=\"tt_set_8\">  -  <a class=\"sl resultLink save-job-link \" href=\"#\" id=\"sj_f86102866c231934\" onclick=\"changeJobState('f86102866c231934', 'save', 'linkbar', false, ''); return false;\" title=\"Save this job to my.indeed\">save job</a> - <a class=\"sl resultLink more-link \" href=\"#\" id=\"tog_8\" onclick=\"toggleMoreLinks('f86102866c231934'); return false;\">more...</a></span><div class=\"edit_note_content\" id=\"editsaved2_f86102866c231934\" style=\"display:none;\"></div><script>if (!window['result_f86102866c231934']) {window['result_f86102866c231934'] = {};}window['result_f86102866c231934']['showSource'] = false; window['result_f86102866c231934']['source'] = \"Motive Interactive\"; window['result_f86102866c231934']['loggedIn'] = false; window['result_f86102866c231934']['showMyJobsLinks'] = false;window['result_f86102866c231934']['undoAction'] = \"unsave\";window['result_f86102866c231934']['relativeJobAge'] = \"8 days ago\";window['result_f86102866c231934']['jobKey'] = \"f86102866c231934\"; window['result_f86102866c231934']['myIndeedAvailable'] = true; window['result_f86102866c231934']['showMoreActionsLink'] = window['result_f86102866c231934']['showMoreActionsLink'] || true; window['result_f86102866c231934']['resultNumber'] = 8; window['result_f86102866c231934']['jobStateChangedToSaved'] = false; window['result_f86102866c231934']['searchState'] = \"q=data scientist&amp;\"; window['result_f86102866c231934']['basicPermaLink'] = \"https://www.indeed.com\"; window['result_f86102866c231934']['saveJobFailed'] = false; window['result_f86102866c231934']['removeJobFailed'] = false; window['result_f86102866c231934']['requestPending'] = false; window['result_f86102866c231934']['notesEnabled'] = true; window['result_f86102866c231934']['currentPage'] = \"serp\"; window['result_f86102866c231934']['sponsored'] = false;window['result_f86102866c231934']['reportJobButtonEnabled'] = false; window['result_f86102866c231934']['showMyJobsHired'] = false; window['result_f86102866c231934']['showSaveForSponsored'] = false; window['result_f86102866c231934']['showJobAge'] = true;</script></div></div>\n",
       "<div class=\"tab-container\">\n",
       "<div class=\"more-links-container result-tab\" id=\"tt_display_8\" style=\"display:none;\"><a class=\"close-link closeLink\" href=\"#\" onclick=\"toggleMoreLinks('f86102866c231934'); return false;\" title=\"Close\"></a><div class=\"more_actions\" id=\"more_8\"><ul><li><span class=\"mat\">View all <a href=\"/q-Motive-Interactive-l-San-Diego,-CA-jobs.html\" rel=\"nofollow\">Motive Interactive jobs in San Diego, CA</a> - <a href=\"/l-San-Diego,-CA-jobs.html\">San Diego jobs</a></span></li><li><span class=\"mat\">Salary Search: <a href=\"/salaries/Data-Scientist-Salaries,-San-Diego-CA\" onmousedown=\"this.href = appendParamsOnce(this.href, '?campaignid=serp-more&amp;fromjk=f86102866c231934&amp;from=serp-more');\">Data Scientist salaries in San Diego, CA</a></span></li><li><span class=\"mat\">Learn more about working at <a href=\"/cmp/Motive-Interactive\" onmousedown=\"this.href = appendParamsOnce(this.href, '?fromjk=f86102866c231934&amp;from=serp-more&amp;campaignid=serp-more&amp;jcid=c1f1c5060ccd43fc');\">Motive Interactive</a></span></li><li><span class=\"mat\"><a href=\"/cmp/Motive-Interactive/faq\" onmousedown=\"this.href = appendParamsOnce(this.href, '?from=serp-more&amp;campaignid=serp-more&amp;fromjk=f86102866c231934&amp;jcid=c1f1c5060ccd43fc');\">Motive Interactive questions about work, benefits, interviews and hiring process:</a><ul><li><a href=\"/cmp/Motive-Interactive/faq/how-do-you-feel-about-the-future-of-motive-interactive?quid=1b5ntohr9aqgm9hd\" onmousedown=\"this.href = appendParamsOnce(this.href, '?from=serp-more&amp;campaignid=serp-more&amp;fromjk=f86102866c231934&amp;jcid=c1f1c5060ccd43fc');\">How do you feel about the future of Motive Interactive?</a></li><li><a href=\"/cmp/Motive-Interactive/faq/what-tips-or-advice-would-you-give-to-someone-interviewing-at-motive-interactive?quid=1b5ntohr9as0p8t8\" onmousedown=\"this.href = appendParamsOnce(this.href, '?from=serp-more&amp;campaignid=serp-more&amp;fromjk=f86102866c231934&amp;jcid=c1f1c5060ccd43fc');\">What tips or advice would you give to someone interviewing at Motive Int...</a></li></ul></span></li><li><span class=\"mat\">Related forums: <a href=\"/forum/loc/SAN-Diego-California.html\">SAN Diego, California</a> - <a href=\"/forum/cmp/Motive-Interactive.html\">Motive Interactive</a></span></li></ul></div></div><div class=\"dya-container result-tab\"></div>\n",
       "<div class=\"tellafriend-container result-tab email_job_content\"></div>\n",
       "<div class=\"sign-in-container result-tab\"></div>\n",
       "<div class=\"notes-container result-tab\"></div>\n",
       "</div>\n",
       "</td>\n",
       "</tr>\n",
       "</table>\n",
       "</div>\n",
       "<div class=\"lastRow row result\" data-jk=\"392f7dde2fa222cd\" data-tn-component=\"organicJob\" data-tu=\"\" id=\"p_392f7dde2fa222cd\">\n",
       "<h2 class=\"jobtitle\" id=\"jl_392f7dde2fa222cd\">\n",
       "<a class=\"turnstileLink\" data-tn-element=\"jobTitle\" href=\"/rc/clk?jk=392f7dde2fa222cd&amp;fccid=dc156e4b91443100&amp;vjs=3\" onclick=\"setRefineByCookie([]); return rclk(this,jobmap[9],true,0);\" onmousedown=\"return rclk(this,jobmap[9],0);\" rel=\"noopener nofollow\" target=\"_blank\" title=\"Data Scientist\"><b>Data</b> <b>Scientist</b></a>\n",
       "</h2>\n",
       "<div style=\"display: inline\">\n",
       "<span class=\"company\">\n",
       "<a href=\"/cmp/Sony-Interactive-Entertainment\" onmousedown=\"this.href = appendParamsOnce(this.href, 'from=SERP&amp;campaignid=serp-linkcompanyname&amp;fromjk=392f7dde2fa222cd&amp;jcid=55bec5ffbc6672c8')\" rel=\"noopener\" target=\"_blank\">\n",
       "        Sony Interactive Entertainment PlayStation</a></span>\n",
       "\n",
       "     - <a class=\"turnstileLink slNoUnderline \" data-tn-element=\"reviewStars\" data-tn-variant=\"cmplinktst2\" href=\"/cmp/Sony-Interactive-Entertainment/reviews\" onmousedown=\"this.href = appendParamsOnce(this.href, '?campaignid=cmplinktst2&amp;from=SERP&amp;jt=Data+Scientist&amp;fromjk=392f7dde2fa222cd&amp;jcid=55bec5ffbc6672c8');\" rel=\"noopener\" target=\"_blank\" title=\"Sony Interactive Entertainment Playstation reviews\">\n",
       "<span class=\"ratings\"><span class=\"rating\" style=\"width:43.2px\"><!-- --></span></span>\n",
       "<span class=\"slNoUnderline\">20 reviews</span></a>\n",
       "</div> - <span class=\"location\">San Diego, CA</span><table border=\"0\" cellpadding=\"0\" cellspacing=\"0\">\n",
       "<tr>\n",
       "<td class=\"snip\">\n",
       "<div class=\"paddedSummaryExperience\">\n",
       "<span class=\"summary\">\n",
       "            * Develop deep understanding of business challenges and recommend data features and functionality that can contribute to identifying risk and possible fraud.\n",
       "</span>\n",
       "<div class=\"experience\">\n",
       "<span class=\"experienceHeader\">Desired Experience: </span><span class=\"experienceList\">Java, Machine Learning, SPSS, Project Management, Statisical Analysis, SAS, Python</span>\n",
       "</div>\n",
       "</div>\n",
       "<div class=\"result-link-bar-container\">\n",
       "<div class=\"result-link-bar\"><span class=\"date\">25 days ago</span> <span class=\"tt_set\" id=\"tt_set_9\">  -  <a class=\"sl resultLink save-job-link \" href=\"#\" id=\"sj_392f7dde2fa222cd\" onclick=\"changeJobState('392f7dde2fa222cd', 'save', 'linkbar', false, ''); return false;\" title=\"Save this job to my.indeed\">save job</a> - <a class=\"sl resultLink more-link \" href=\"#\" id=\"tog_9\" onclick=\"toggleMoreLinks('392f7dde2fa222cd'); return false;\">more...</a></span><div class=\"edit_note_content\" id=\"editsaved2_392f7dde2fa222cd\" style=\"display:none;\"></div><script>if (!window['result_392f7dde2fa222cd']) {window['result_392f7dde2fa222cd'] = {};}window['result_392f7dde2fa222cd']['showSource'] = false; window['result_392f7dde2fa222cd']['source'] = \"Sony Interactive Entertainment PlayStation\"; window['result_392f7dde2fa222cd']['loggedIn'] = false; window['result_392f7dde2fa222cd']['showMyJobsLinks'] = false;window['result_392f7dde2fa222cd']['undoAction'] = \"unsave\";window['result_392f7dde2fa222cd']['relativeJobAge'] = \"25 days ago\";window['result_392f7dde2fa222cd']['jobKey'] = \"392f7dde2fa222cd\"; window['result_392f7dde2fa222cd']['myIndeedAvailable'] = true; window['result_392f7dde2fa222cd']['showMoreActionsLink'] = window['result_392f7dde2fa222cd']['showMoreActionsLink'] || true; window['result_392f7dde2fa222cd']['resultNumber'] = 9; window['result_392f7dde2fa222cd']['jobStateChangedToSaved'] = false; window['result_392f7dde2fa222cd']['searchState'] = \"q=data scientist&amp;\"; window['result_392f7dde2fa222cd']['basicPermaLink'] = \"https://www.indeed.com\"; window['result_392f7dde2fa222cd']['saveJobFailed'] = false; window['result_392f7dde2fa222cd']['removeJobFailed'] = false; window['result_392f7dde2fa222cd']['requestPending'] = false; window['result_392f7dde2fa222cd']['notesEnabled'] = true; window['result_392f7dde2fa222cd']['currentPage'] = \"serp\"; window['result_392f7dde2fa222cd']['sponsored'] = false;window['result_392f7dde2fa222cd']['reportJobButtonEnabled'] = false; window['result_392f7dde2fa222cd']['showMyJobsHired'] = false; window['result_392f7dde2fa222cd']['showSaveForSponsored'] = false; window['result_392f7dde2fa222cd']['showJobAge'] = true;</script></div></div>\n",
       "<div class=\"tab-container\">\n",
       "<div class=\"more-links-container result-tab\" id=\"tt_display_9\" style=\"display:none;\"><a class=\"close-link closeLink\" href=\"#\" onclick=\"toggleMoreLinks('392f7dde2fa222cd'); return false;\" title=\"Close\"></a><div class=\"more_actions\" id=\"more_9\"><ul><li><span class=\"mat\">View all <a href=\"/q-Sony-Interactive-Entertainment-Playstation-l-San-Diego,-CA-jobs.html\" rel=\"nofollow\">Sony Interactive Entertainment PlayStation jobs in San Diego, CA</a> - <a href=\"/l-San-Diego,-CA-jobs.html\">San Diego jobs</a></span></li><li><span class=\"mat\">Salary Search: <a href=\"/salaries/Data-Scientist-Salaries,-San-Diego-CA\" onmousedown=\"this.href = appendParamsOnce(this.href, '?campaignid=serp-more&amp;fromjk=392f7dde2fa222cd&amp;from=serp-more');\">Data Scientist salaries in San Diego, CA</a></span></li><li><span class=\"mat\">Learn more about working at <a href=\"/cmp/Sony-Interactive-Entertainment\" onmousedown=\"this.href = appendParamsOnce(this.href, '?fromjk=392f7dde2fa222cd&amp;from=serp-more&amp;campaignid=serp-more&amp;jcid=55bec5ffbc6672c8');\">Sony Interactive Entertainment Playstation</a></span></li><li><span class=\"mat\">Related forums: <a href=\"/forum/loc/SAN-Diego-California.html\">SAN Diego, California</a> - <a href=\"/forum/cmp/Sony-Interactive-Entertainment.html\">Sony Interactive Entertainment</a></span></li></ul></div></div><div class=\"dya-container result-tab\"></div>\n",
       "<div class=\"tellafriend-container result-tab email_job_content\"></div>\n",
       "<div class=\"sign-in-container result-tab\"></div>\n",
       "<div class=\"notes-container result-tab\"></div>\n",
       "</div>\n",
       "</td>\n",
       "</tr>\n",
       "</table>\n",
       "</div>\n",
       "<div></div>\n",
       "<div class=\"HH8fxnNGK qyfOAg6bb\">\n",
       "<div class=\"row result\" data-advn=\"8998214180367493\" data-jk=\"6480fd397a281f58\" data-tu=\"\" id=\"pj_6480fd397a281f58\">\n",
       "<a class=\"jobtitle turnstileLink\" data-tn-element=\"jobTitle\" href=\"/pagead/clk?mo=r&amp;ad=-6NYlbfkN0DK5bLlVDORvmeOBsKrVKvHEWIb-aaE3LLkQCBFz7R9UGGisatYBNRHTJyu0rs8Zn0jdDp_izuJ85jWcFXn7yIwIp7Q5Fx-6aajncz7LxBZ8Jn2Yx2Ne5HyKVl7hGeO2p8Tahy_sP2qWZbHbTj-tIu_biPznHULp6fmzGOhKjCl0EtSSBjiz-Pc1UXgCHyVO0yXSK5LfEYpzg2-sM0snTQE7_rWGaWM7rlqKgpz17GOj85CBb-n5-y86EKbDSPWiVkCf_TGwz3mQrQoZ5p3Q4PKybkMKxCehlKy1Ph8GRB3vTy7V4cvl7xxNeyZkgw4Ap2CnGBmwNU701-ejaa1e_S4N4hm-FgZXhoYUJs8FI7P6aV4eSktVdqXgRjY-nkGYfbLGmwx4OxwpTMWm3sYxO_L3wPxTEsKFS1s6Z9O8c5cRTq8zdSKH8W8kr29xXSDaEKfTWowHzHcSA==&amp;vjs=3&amp;p=5&amp;sk=&amp;fvj=1\" id=\"sja5\" onclick=\"setRefineByCookie([]); sjoc('sja5',0); convCtr('SJ')\" onmousedown=\"sjomd('sja5'); clk('sja5');\" rel=\"noopener nofollow\" target=\"_blank\" title=\"Research Scientist - Machine Learning\">Research <b>Scientist</b> - Machine Learning</a>\n",
       "<br/>\n",
       "<div class=\"sjcl\">\n",
       "<div style=\"display: inline\">\n",
       "<span class=\"company\">\n",
       "        Qulab Inc.</span>\n",
       "</div> - <span class=\"location\">Los Angeles, CA 90024</span></div>\n",
       "<div class=\"paddedSummaryExperience\">\n",
       "<table border=\"0\" cellpadding=\"0\" cellspacing=\"0\"><tr><td class=\"snip\">\n",
       "<span class=\"summary\">\n",
       "                            The primary responsibility is developing machine learning and statistical methods for chemistry problems.</span>\n",
       "</td></tr></table>\n",
       "<div class=\"experience\">\n",
       "<span class=\"experienceHeader\">Desired Experience: </span><span class=\"experienceList\">TensorFlow, Laboratory Experience, Machine Learning, Python, C/C++</span>\n",
       "</div>\n",
       "</div>\n",
       "<div class=\"sjCapt\">\n",
       "<div class=\"iaP\">\n",
       "<span class=\"iaLabel\"> Easily apply</span>\n",
       "</div>\n",
       "<div class=\"result-link-bar-container\">\n",
       "<div class=\"result-link-bar\"><span class=\" sponsoredGray \">Sponsored</span> - <span class=\"tt_set\" id=\"tt_set_14\"><a class=\"sl resultLink save-job-link \" href=\"#\" id=\"sj_6480fd397a281f58\" onclick=\"changeJobState('6480fd397a281f58', 'save', 'linkbar', true, ''); return false;\" title=\"Save this job to my.indeed\">save job</a></span><div class=\"edit_note_content\" id=\"editsaved2_6480fd397a281f58\" style=\"display:none;\"></div><script>if (!window['sj_result_6480fd397a281f58']) {window['sj_result_6480fd397a281f58'] = {};}window['sj_result_6480fd397a281f58']['showSource'] = false; window['sj_result_6480fd397a281f58']['source'] = \"Indeed\"; window['sj_result_6480fd397a281f58']['loggedIn'] = false; window['sj_result_6480fd397a281f58']['showMyJobsLinks'] = false;window['sj_result_6480fd397a281f58']['undoAction'] = \"unsave\";window['sj_result_6480fd397a281f58']['jobKey'] = \"6480fd397a281f58\"; window['sj_result_6480fd397a281f58']['myIndeedAvailable'] = true; window['sj_result_6480fd397a281f58']['showMoreActionsLink'] = window['sj_result_6480fd397a281f58']['showMoreActionsLink'] || false; window['sj_result_6480fd397a281f58']['resultNumber'] = 14; window['sj_result_6480fd397a281f58']['jobStateChangedToSaved'] = false; window['sj_result_6480fd397a281f58']['searchState'] = \"q=data scientist&amp;\"; window['sj_result_6480fd397a281f58']['basicPermaLink'] = \"https://www.indeed.com\"; window['sj_result_6480fd397a281f58']['saveJobFailed'] = false; window['sj_result_6480fd397a281f58']['removeJobFailed'] = false; window['sj_result_6480fd397a281f58']['requestPending'] = false; window['sj_result_6480fd397a281f58']['notesEnabled'] = false; window['sj_result_6480fd397a281f58']['currentPage'] = \"serp\"; window['sj_result_6480fd397a281f58']['sponsored'] = true;window['sj_result_6480fd397a281f58']['showSponsor'] = true;window['sj_result_6480fd397a281f58']['reportJobButtonEnabled'] = false; window['sj_result_6480fd397a281f58']['showMyJobsHired'] = false; window['sj_result_6480fd397a281f58']['showSaveForSponsored'] = true; window['sj_result_6480fd397a281f58']['showJobAge'] = true;</script></div></div>\n",
       "<div class=\"tab-container\">\n",
       "<div class=\"sign-in-container result-tab\"></div>\n",
       "<div class=\"tellafriend-container result-tab email_job_content\"></div>\n",
       "</div>\n",
       "</div>\n",
       "</div>\n",
       "<div class=\"row sjlast result\" data-advn=\"4998842014705819\" data-jk=\"89ccb75f044833fb\" data-tu=\"\" id=\"pj_89ccb75f044833fb\">\n",
       "<a class=\"jobtitle turnstileLink\" data-tn-element=\"jobTitle\" href=\"/pagead/clk?mo=r&amp;ad=-6NYlbfkN0D6N_YvCEOtyrASauy5EjKuXlD4b0DhlGZ_7VkOh0nBFnzUO0Ba-o-77q0n_EiIkpeORVvcdUtKUoZT1beIS_Tj6qBlDFioB7SizVSN3h0w64LAIkyhPync3KaLo8n6RKhSf4n9pBv-9vJpIwLc7sanZ_DUJfBqeBsvy6tAjd77XOms5t6paRzLskvV_TACa8pGGhOYi9FrpMb8D3hkAvTtSEVK_o3XbK0aSUln_rSeJhF1ZyfmRj1ewhI3553oOb5iKxLBRs-PFhHQ0JsUBJdXV3EbzO4ma4TW0PyCf0Nh4jDUBpYyCBoHSBJ3t9l94uj45iox-p7zeUwsMjHSSOTIDiuDPVSEO0RHkfRHEuYT_OQoNSLdVaonpYzf2HbwlFfTwyCHt9KJj_SN4KWTFsMjjud5jMNiPI-kG_HesL-n2fNM-oSglxps8OfT3tUAkiQqBv9hK4_e7A==&amp;vjs=3&amp;p=6&amp;sk=&amp;fvj=0\" id=\"sja6\" onclick=\"setRefineByCookie([]); sjoc('sja6',0); convCtr('SJ')\" onmousedown=\"sjomd('sja6'); clk('sja6');\" rel=\"noopener nofollow\" target=\"_blank\" title=\"Artificial Intelligence / Machine Learning Scientist PhD REQUIRED\">Artificial Intelligence / Machine Learning <b>Scientist</b> PhD REQ...</a>\n",
       "<br/>\n",
       "<div class=\"sjcl\">\n",
       "<div style=\"display: inline\">\n",
       "<span class=\"company\">\n",
       "        Signify</span>\n",
       "</div> - <span class=\"location\">Cambridge, MA</span></div>\n",
       "<div class=\"paddedSummaryExperience\">\n",
       "<table border=\"0\" cellpadding=\"0\" cellspacing=\"0\"><tr><td class=\"snip\">\n",
       "<span class=\"summary\">\n",
       "                            Being part of our front-end innovation organization, you will actively scout, keep track of, evaluate, and leverage disruptive technologies, and emerging...</span>\n",
       "</td></tr></table>\n",
       "<div class=\"experience\">\n",
       "<span class=\"experienceHeader\">Desired Experience: </span><span class=\"experienceList\">JavaScript, AI, Machine Learning, Network, C/C++, Java, Natural Language Processing, Data Science, Python</span>\n",
       "</div>\n",
       "</div>\n",
       "<div class=\"sjCapt\">\n",
       "<div class=\"result-link-bar-container\">\n",
       "<div class=\"result-link-bar\"><span class=\" sponsoredGray \">Sponsored</span> - <span class=\"tt_set\" id=\"tt_set_15\"><a class=\"sl resultLink save-job-link \" href=\"#\" id=\"sj_89ccb75f044833fb\" onclick=\"changeJobState('89ccb75f044833fb', 'save', 'linkbar', true, ''); return false;\" title=\"Save this job to my.indeed\">save job</a></span><div class=\"edit_note_content\" id=\"editsaved2_89ccb75f044833fb\" style=\"display:none;\"></div><script>if (!window['sj_result_89ccb75f044833fb']) {window['sj_result_89ccb75f044833fb'] = {};}window['sj_result_89ccb75f044833fb']['showSource'] = false; window['sj_result_89ccb75f044833fb']['source'] = \"Signify\"; window['sj_result_89ccb75f044833fb']['loggedIn'] = false; window['sj_result_89ccb75f044833fb']['showMyJobsLinks'] = false;window['sj_result_89ccb75f044833fb']['undoAction'] = \"unsave\";window['sj_result_89ccb75f044833fb']['jobKey'] = \"89ccb75f044833fb\"; window['sj_result_89ccb75f044833fb']['myIndeedAvailable'] = true; window['sj_result_89ccb75f044833fb']['showMoreActionsLink'] = window['sj_result_89ccb75f044833fb']['showMoreActionsLink'] || false; window['sj_result_89ccb75f044833fb']['resultNumber'] = 15; window['sj_result_89ccb75f044833fb']['jobStateChangedToSaved'] = false; window['sj_result_89ccb75f044833fb']['searchState'] = \"q=data scientist&amp;\"; window['sj_result_89ccb75f044833fb']['basicPermaLink'] = \"https://www.indeed.com\"; window['sj_result_89ccb75f044833fb']['saveJobFailed'] = false; window['sj_result_89ccb75f044833fb']['removeJobFailed'] = false; window['sj_result_89ccb75f044833fb']['requestPending'] = false; window['sj_result_89ccb75f044833fb']['notesEnabled'] = false; window['sj_result_89ccb75f044833fb']['currentPage'] = \"serp\"; window['sj_result_89ccb75f044833fb']['sponsored'] = true;window['sj_result_89ccb75f044833fb']['showSponsor'] = true;window['sj_result_89ccb75f044833fb']['reportJobButtonEnabled'] = false; window['sj_result_89ccb75f044833fb']['showMyJobsHired'] = false; window['sj_result_89ccb75f044833fb']['showSaveForSponsored'] = true; window['sj_result_89ccb75f044833fb']['showJobAge'] = true;</script></div></div>\n",
       "<div class=\"tab-container\">\n",
       "<div class=\"sign-in-container result-tab\"></div>\n",
       "<div class=\"tellafriend-container result-tab email_job_content\"></div>\n",
       "</div>\n",
       "</div>\n",
       "</div>\n",
       "</div><script type=\"text/javascript\">\n",
       "function ptk(st,p) {\n",
       "  document.cookie = 'PTK=\"tk=&type=jobsearch&subtype=' + st + (p ? '&' + p : '')\n",
       "     + (st == 'pagination' ? '&fp=1' : '')\n",
       "    +'\"; path=/';\n",
       "}\n",
       "</script>\n",
       "<script type=\"text/javascript\">\n",
       "function pclk(event) {\n",
       "  var evt = event || window.event;\n",
       "  var target = evt.target || evt.srcElement;\n",
       "  var el = target.nodeType == 1 ? target : target.parentNode;\n",
       "  var tag = el.tagName.toLowerCase();\n",
       "  if (tag == 'span' || tag == 'a') {\n",
       "    ptk('pagination');\n",
       "  }\n",
       "  return true;\n",
       "}\n",
       "function addPPUrlParam(obj) {\n",
       "  var pp = obj.getAttribute('data-pp');\n",
       "  var href = obj.getAttribute('href');\n",
       "  if (pp && href) {\n",
       "    obj.setAttribute('href', href + '&pp=' + pp);\n",
       "  }\n",
       "}\n",
       "</script>\n",
       "<div class=\"pagination\" onmousedown=\"pclk(event);\">Results Page:  <b>1</b>  <a data-pp=\"AAoAAAAAAAAAAAAAAAFA7vYiAQAFbLTaq57hmCJXHH_kxcP1N6xc17bIfjJHgsocm2ZD6g\" href=\"/jobs?q=data+scientist&amp;start=10\" onmousedown=\"addPPUrlParam &amp;&amp; addPPUrlParam(this);\"><span class=\"pn\">2</span></a>  <a data-pp=\"ABQAAAAAAAAAAAAAAAFA7vYiAQEBCAHM6sj9LT5Qa_wC2vruIsMTEc10Lgaxai4lCiiGZk7IED5ZvRTUoTiY6fTxFbuvbXW2tV-sgxCQ\" href=\"/jobs?q=data+scientist&amp;start=20\" onmousedown=\"addPPUrlParam &amp;&amp; addPPUrlParam(this);\"><span class=\"pn\">3</span></a>  <a data-pp=\"AB4AAAAAAAAAAAAAAAFA7vYiAQIBChYGSRxrOvgJD11emSV-2MLaQKFsShHKeEExhK2ifXxsM8a1HhwWkE5VEK6Mj5wZjeHFgu286nA7yHCas_mi5EAkieQX7oA\" href=\"/jobs?q=data+scientist&amp;start=30\" onmousedown=\"addPPUrlParam &amp;&amp; addPPUrlParam(this);\"><span class=\"pn\">4</span></a>  <a data-pp=\"ACgAAAAAAAAAAAAAAAFA7vYiAQIBChYGN0yOCsxOPIpE72caUbR63VcyyDrItMB_uMeW3bLZ19abQYGTH2lJO7d2AbQkDAX0rDIcjhF02BrbYw-b-eqE8qRw4zMyFwOekoHMOqkXU3BCi61018uC\" href=\"/jobs?q=data+scientist&amp;start=40\" onmousedown=\"addPPUrlParam &amp;&amp; addPPUrlParam(this);\"><span class=\"pn\">5</span></a>   <a data-pp=\"AAoAAAAAAAAAAAAAAAFA7vYiAQAFbLTaq57hmCJXHH_kxcP1N6xc17bIfjJHgsocm2ZD6g\" href=\"/jobs?q=data+scientist&amp;start=10\" onmousedown=\"addPPUrlParam &amp;&amp; addPPUrlParam(this);\"><span class=\"pn\"><span class=\"np\">Next »</span></span></a></div>\n",
       "<div class=\"related_searches\">\n",
       "<div class=\"related_searches_list\">\n",
       "<b>People also searched: </b><ul class=\"relatedQueries-listView-pageFirst\"><li class=\"relatedQueries-listItem-pageFirst rightBorder\"><a href=\"/q-Data-Analyst-jobs.html\" onmousedown=\"this.href = appendParamsOnce(this.href, '?from=relatedQueries&amp;saIdx=1&amp;rqf=1&amp;parentQnorm=data+scientist');\">data analyst</a></li><li class=\"relatedQueries-listItem-pageFirst rightBorder\"><a href=\"/q-Data-Science-jobs.html\" onmousedown=\"this.href = appendParamsOnce(this.href, '?from=relatedQueries&amp;saIdx=2&amp;rqf=1&amp;parentQnorm=data+scientist');\">data science</a></li><li class=\"relatedQueries-listItem-pageFirst rightBorder\"><a href=\"/q-Machine-Learning-jobs.html\" onmousedown=\"this.href = appendParamsOnce(this.href, '?from=relatedQueries&amp;saIdx=3&amp;rqf=1&amp;parentQnorm=data+scientist');\">machine learning</a></li><li class=\"relatedQueries-listItem-pageFirst rightBorder\"><a href=\"/q-Data-jobs.html\" onmousedown=\"this.href = appendParamsOnce(this.href, '?from=relatedQueries&amp;saIdx=4&amp;rqf=1&amp;parentQnorm=data+scientist');\">data</a></li><li class=\"relatedQueries-listItem-pageFirst rightBorder\"><a href=\"/q-Software-Engineer-jobs.html\" onmousedown=\"this.href = appendParamsOnce(this.href, '?from=relatedQueries&amp;saIdx=5&amp;rqf=1&amp;parentQnorm=data+scientist');\">software engineer</a></li><li class=\"relatedQueries-listItem-pageFirst rightBorder\"><a href=\"/q-Python-jobs.html\" onmousedown=\"this.href = appendParamsOnce(this.href, '?from=relatedQueries&amp;saIdx=6&amp;rqf=1&amp;parentQnorm=data+scientist');\">python</a></li><li class=\"relatedQueries-listItem-pageFirst rightBorder\"><a href=\"/q-Analyst-jobs.html\" onmousedown=\"this.href = appendParamsOnce(this.href, '?from=relatedQueries&amp;saIdx=7&amp;rqf=1&amp;parentQnorm=data+scientist');\">analyst</a></li><li class=\"relatedQueries-listItem-pageFirst rightBorder\"><a href=\"/q-Business-Analyst-jobs.html\" onmousedown=\"this.href = appendParamsOnce(this.href, '?from=relatedQueries&amp;saIdx=8&amp;rqf=1&amp;parentQnorm=data+scientist');\">business analyst</a></li><li class=\"relatedQueries-listItem-pageFirst rightBorder\"><a href=\"/q-Statistician-jobs.html\" onmousedown=\"this.href = appendParamsOnce(this.href, '?from=relatedQueries&amp;saIdx=9&amp;rqf=1&amp;parentQnorm=data+scientist');\">statistician</a></li><li class=\"relatedQueries-listItem-pageFirst\"><a href=\"/q-Statistics-jobs.html\" onmousedown=\"this.href = appendParamsOnce(this.href, '?from=relatedQueries&amp;saIdx=10&amp;rqf=1&amp;parentQnorm=data+scientist');\">statistics</a></li></ul></div>\n",
       "<style type=\"text/css\">\n",
       "                .relatedQueries-listView-pageFirst {\n",
       "                    list-style-type: none;\n",
       "                    margin: 0;\n",
       "                    padding: 0;\n",
       "                }\n",
       "                .relatedQueries-listItem-pageFirst {\n",
       "                    display: inline-block;\n",
       "                }\n",
       "                .rightBorder {\n",
       "                    border-right: 1px solid #77c;\n",
       "                    margin-right: 5px;\n",
       "                    padding-right: 5px;\n",
       "                }\n",
       "                .related_searches_list > * {\n",
       "                    display: inline;\n",
       "                }\n",
       "            </style>\n",
       "</div> </td>\n",
       "<td id=\"auxCol\" role=\"complementary\">\n",
       "<div id=\"jobalertswrapper\">\n",
       "<div class=\"open jaui \" id=\"jobalerts\">\n",
       "<div class=\"jobalertlabel\">\n",
       "<span class=\"jobalerts_title\" id=\"jobalertlabel\"><span aria-label=\"alert icon\" class=\"ico\" role=\"img\"></span>Be the first to see new <b>data scientist jobs</b></span>\n",
       "</div>\n",
       "<div class=\"jaform\" id=\"jobalertform\">\n",
       "<span class=\"ja_checkmark_ui\" id=\"jobalerttext\"></span><span id=\"jobalertsending\"></span>\n",
       "<div id=\"jobalertmessage\">\n",
       "<form action=\"/alert\" method=\"POST\" onsubmit=\"return addAlertFormSubmit()\">\n",
       "<input name=\"a\" type=\"hidden\" value=\"add\"/>\n",
       "<input name=\"q\" type=\"hidden\" value=\"data scientist\"/>\n",
       "<input name=\"l\" type=\"hidden\" value=\"\"/>\n",
       "<input name=\"radius\" type=\"hidden\" value=\"25\"/>\n",
       "<input name=\"noscript\" type=\"hidden\" value=\"1\"/>\n",
       "<input name=\"tk\" type=\"hidden\" value=\"1ci2lvodfbi4id1b\"/>\n",
       "<input id=\"alertverified\" name=\"verified\" type=\"hidden\" value=\"0\"/>\n",
       "<input name=\"alertparams\" type=\"hidden\" value=\"\"/>\n",
       "<label for=\"alertemail\">My email:</label> <input id=\"alertemail\" maxlength=\"100\" name=\"email\" size=\"25\" type=\"text\" value=\"\"/>\n",
       "<label for=\"recjobalert\" id=\"recjobalertlabel\">\n",
       "<input id=\"recjobalert\" name=\"recjobalert\" type=\"checkbox\"/>\n",
       "<span>Also get an email with jobs recommended just for me</span>\n",
       "</label>\n",
       "<span class=\"indeed-serp-button\"><span class=\"indeed-serp-button-inner\"><input class=\"indeed-serp-button-label\" id=\"alertsubmit\" type=\"submit\" value=\"Activate\"/></span></span>\n",
       "<style type=\"text/css\">\n",
       "    .indeed-serp-button { cursor : pointer !important; display : inline-block !important; padding : 1px !important; height : 31px !important; -moz-border-radius : 7px !important; border-radius : 7px !important; position : relative !important; text-decoration : none !important;background-color:#79788B; filter:progid:DXImageTransform.Microsoft.gradient(startColorstr='#BCBBCD', endColorstr='#79788B', GradientType=0);background-image: -webkit-gradient(linear, center top, center bottom, from(#BCBBCD), to(#79788B)) !important;background-image: -webkit-linear-gradient(top, #BCBBCD, #79788B) !important;background-image: -moz-linear-gradient(top, #BCBBCD, #79788B) !important;background-image: -o-linear-gradient(top, #BCBBCD, #79788B) !important;background-image: -ms-linear-gradient(top, #BCBBCD, #79788B) !important;background-image: linear-gradient(top, #BCBBCD, #79788B) !important;-webkit-box-shadow: 0 1px 2px rgba(0,0,0,0.2) !important;-moz-box-shadow: 0 1px 2px rgba(0,0,0,0.2) !important;box-shadow: 0 1px 2px rgba(0,0,0,0.2) !important; } #indeed-ia-1329175190441-0:link, #indeed-ia-1329175190441-0:visited, #indeed-ia-1329175190441-0:hover, #indeed-ia-1329175190441-0:active { border : 0 !important; text-decoration : none !important; }\n",
       "\n",
       "    .indeed-serp-button:hover { filter:progid:DXImageTransform.Microsoft.gradient(startColorstr='#6D99F6', endColorstr='#1B45A3', GradientType=0);background-image: -webkit-gradient(linear, center top, center bottom, from(#6D99F6), to(#1B45A3)) !important;background-image: -webkit-linear-gradient(top, #6D99F6, #1B45A3) !important;background-image: -moz-linear-gradient(top, #6D99F6, #1B45A3) !important;background-image: -o-linear-gradient(top, #6D99F6, #1B45A3) !important;background-image: -ms-linear-gradient(top, #6D99F6, #1B45A3) !important;background-image: linear-gradient(top, #6D99F6, #1B45A3) !important; }\n",
       "\n",
       "    .indeed-apply-state-clicked .indeed-serp-button,\n",
       "    .indeed-serp-button:active { filter:progid:DXImageTransform.Microsoft.gradient(startColorstr='#B3BACA', endColorstr='#7C8493', GradientType=0);background-image: -webkit-gradient(linear, center top, center bottom, from(#B3BACA), to(#7C8493)) !important;background-image: -webkit-linear-gradient(top, #B3BACA, #7C8493) !important;background-image: -moz-linear-gradient(top, #B3BACA, #7C8493) !important;background-image: -o-linear-gradient(top, #B3BACA, #7C8493) !important;background-image: -ms-linear-gradient(top, #B3BACA, #7C8493) !important;background-image: linear-gradient(top, #B3BACA, #7C8493) !important;-webkit-box-shadow: none !important;-moz-box-shadow: none !important;box-shadow: none !important; }\n",
       "\n",
       "    .indeed-serp-button-inner { display : inline-block !important; height : 31px !important; -moz-border-radius : 6px !important; border-radius : 6px !important; font : 18px 'Helvetica Neue','Helvetica',Arial !important; font-weight : 200 !important; text-decoration : none !important; text-shadow : 0px 1px #F1F1F4 !important;background-color:#D9D9E2;  color: #FF6703;filter:progid:DXImageTransform.Microsoft.gradient(startColorstr='#FAFAFB', endColorstr='#D9D9E2', GradientType=0);background-image: -webkit-gradient(linear, center top, center bottom, from(#FAFAFB), to(#D9D9E2)) !important;background-image: -webkit-linear-gradient(top, #FAFAFB, #D9D9E2) !important;background-image: -moz-linear-gradient(top, #FAFAFB, #D9D9E2) !important;background-image: -o-linear-gradient(top, #FAFAFB, #D9D9E2) !important;background-image: -ms-linear-gradient(top, #FAFAFB, #D9D9E2) !important;background-image: linear-gradient(top, #FAFAFB, #D9D9E2) !important; }\n",
       "\n",
       "    .indeed-serp-button:active .indeed-serp-button-inner { filter:progid:DXImageTransform.Microsoft.gradient(startColorstr='#E8E8E9', endColorstr='#CBCBD3', GradientType=0);background-image: -webkit-gradient(linear, center top, center bottom, from(#E8E8E9), to(#CBCBD3)) !important;background-image: -webkit-linear-gradient(top, #E8E8E9, #CBCBD3) !important;background-image: -moz-linear-gradient(top, #E8E8E9, #CBCBD3) !important;background-image: -o-linear-gradient(top, #E8E8E9, #CBCBD3) !important;background-image: -ms-linear-gradient(top, #E8E8E9, #CBCBD3) !important;background-image: linear-gradient(top, #E8E8E9, #CBCBD3) !important; }\n",
       "\n",
       "    .indeed-serp-button-label {cursor: pointer; text-align : center !important; border:0; background: transparent;font-size: 12px; font-family: Arial, sans-serif; padding:3px 14px 2px 12px; margin:0; line-height: 26px; }\n",
       "\n",
       "    .indeed-serp-button:active .indeed-serp-button-label,\n",
       "    .indeed-apply-state-clicked .indeed-serp-button-label { -ms-filter: \"progid:DXImageTransform.Microsoft.Alpha(Opacity=0.75)\" !important;filter: alpha(opacity=75) !important;-moz-opacity: 0.75 !important;-khtml-opacity: 0.75 !important;opacity: 0.75 !important; }\n",
       "\n",
       "    #alertemail {  height: 27px; line-height: 24px; padding-left: 6px; padding-right: 6px; font-size: 14px; font-family: Arial, sans-serif; }\n",
       "\n",
       "    .jobalertform-terms-outer-wrapper label {  position: fixed;  font-size: 1px;  transform: scale(0.3);  }\n",
       "\n",
       "    .jobalertform-terms-inner-wrapper {  position: relative;  z-index: 20;  width: 50%;  background: #ebebeb;  height: 12px;  }\n",
       "</style>\n",
       "<div class=\"g-recaptcha\" id=\"invisible-recaptcha-div\"></div></form>\n",
       "</div>\n",
       "</div>\n",
       "</div>\n",
       "</div>\n",
       "<script type=\"text/javascript\">\n",
       "\tvar addAlertFormSubmit = function() {\n",
       "\t\tvar email = document.getElementById('alertemail').value;\n",
       "\t\tvar verified = document.getElementById('alertverified').value;\n",
       "\t\tvar recJACheckbox = document.getElementById('recjobalert');\n",
       "\t\tvar tacCheckbox = document.getElementById('termsandconditionscheckbox');\n",
       "\t\tvar recjobalertchecked = recJACheckbox ? recJACheckbox.checked : false;\n",
       "\t\tvar termsandconditionschecked = tacCheckbox ? tacCheckbox.checked : false;\n",
       "\n",
       "\t\treturn addalertdelegate(\n",
       "\t\t\t'data+scientist',\n",
       "\t\t\t'',\n",
       "\t\t\t'',\n",
       "\t\t\temail,\n",
       "\t\t\t'1ci2lvodfbi4id1b',\n",
       "\t\t\tverified,\n",
       "\t\t\ttrue,\n",
       "\t\t\t'661982',\n",
       "\t\t\t'US',\n",
       "\t\t\t'a4b8b4afcc8e780edfc52addcf5ead68',\n",
       "\t\t\trecjobalertchecked,\n",
       "\t\t\tfalse,\n",
       "\t\t\ttermsandconditionschecked,\n",
       "\t\t\ttrue\n",
       "\t\t);\n",
       "\t}\n",
       "</script><div id=\"femp_list\">\n",
       "<div class=\"femp_header\">Company with data scientist jobs</div>\n",
       "<div class=\"femp_item\">\n",
       "<div class=\"femp_logo\">\n",
       "<a href=\"/cmp/Ebay-Inc.\" onmousedown=\"this.href = appendParamsOnce(this.href, 'tk=1ci2lvodfbi4id1b&amp;campaignid=femp&amp;from=femp');\" rel=\"noopener\" target=\"_blank\">\n",
       "<img alt=\"eBay Inc.\" src=\"https://d2q79iu7y748jz.cloudfront.net/s/_logo/478516d5fb5cbdfbef8efb2da5bc9905\" width=\"120\"/>\n",
       "</a>\n",
       "</div>\n",
       "<div class=\"femp_cmp\">\n",
       "<a class=\"femp_cmp_link\" href=\"/cmp/Ebay-Inc.\" onmousedown=\"this.href = appendParamsOnce(this.href, 'tk=1ci2lvodfbi4id1b&amp;campaignid=femp&amp;from=femp');\" rel=\"noopener\" target=\"_blank\">\n",
       "            eBay Inc.</a>\n",
       "</div>\n",
       "<div class=\"femp_desc\">Work at eBay. Change how the world shops and sells.</div>\n",
       "<div class=\"featemp_sjl\" id=\"featemp_sj\" style=\"display: none\">\n",
       "<div id=\"indJobContent\"></div>\n",
       "</div>\n",
       "<script type=\"text/javascript\">\n",
       "        var ind_nr = true;\n",
       "        var ind_pub = '8772657697788355';\n",
       "        var ind_el = 'indJobContent';\n",
       "        var ind_pf = '';\n",
       "        var ind_q = '';\n",
       "        var ind_fcckey = '87c129c70e5fdcfc';\n",
       "        var ind_l = '';\n",
       "        var ind_chnl = 'eBay Inc.';\n",
       "        var ind_n = 3;\n",
       "        var ind_d = '';\n",
       "        var ind_t = 60;\n",
       "        var ind_c = 30;\n",
       "        var ind_rq = 'data scientist';\n",
       "    </script>\n",
       "<script async=\"\" src=\"/jobroll-widget-v3-fc2.js\" type=\"text/javascript\"></script>\n",
       "<div class=\"femp_links\">\n",
       "<div class=\"jobs\"><a href=\"/jobs?q=company%3A%22eBay+Inc.%22&amp;l=\" onmousedown=\"this.href = appendParamsOnce(this.href, '&amp;from=femp');\">Jobs (208)</a></div>\n",
       "<div class=\"reviews\"><a href=\"/cmp/Ebay-Inc./reviews\" onmousedown=\"this.href = appendParamsOnce(this.href, '&amp;campaignid=femp&amp;from=femp');\">Reviews (1,421)</a> <span class=\"ratings\"><span class=\"rating\" style=\"width:51.0px\"><!-- --></span></span>\n",
       "</div>\n",
       "<div class=\"photos\"><a href=\"/cmp/Ebay-Inc./photos\" onmousedown=\"this.href = appendParamsOnce(this.href, '&amp;campaignid=femp&amp;from=femp');\">Photos (20)</a></div>\n",
       "<div class=\"salaries\"><a href=\"/cmp/Ebay-Inc./salaries\" onmousedown=\"this.href = appendParamsOnce(this.href, '&amp;campaignid=femp&amp;from=femp');\">Salaries (3,830)</a></div>\n",
       "</div>\n",
       "</div>\n",
       "</div>\n",
       "<div id=\"univsrch-salary-v3\"><div id=\"univsrch-salary-info\"><div id=\"univsrch-salary-title\">Data Scientist salaries in United States</div><div id=\"univsrch-salary-eval\"><div class=\"v3\" id=\"univsrch-salary-rates\"><p class=\"v3\" id=\"univsrch-salary-currentsalary\"><b>$131,570</b> per year<img id=\"univsrch-salary-stats-logo\" src=\"/images/univsrch/icon_question_mark_grey.png\" style=\"width:15px;\"/></p><div class=\"salary-legal-disclaimer-container-group\" id=\"salary-legal-disclaimer-container-distribution\"><div class=\"salary-legal-disclaimer-modal\"><div class=\"salary-legal-disclaimer-modal-close\"></div><div class=\"salary-legal-disclaimer-content\"><div class=\"salary-legal-disclaimer-title\">Indeed Salary Estimate</div><p>Please note that all salary figures are approximations based upon third party submissions to Indeed. These figures are given to the Indeed users for the purpose of generalized comparison only. Minimum wage may differ by jurisdiction and you should consult the employer for actual salary figures.</p></div></div></div></div><div class=\"v3\" id=\"univsrch-salary-stats\"><p class=\"v3\" id=\"univsrch-salary-stats-para\">Based on 8,986 salaries</p></div><div id=\"univsrch-sal-distribution\"><ul><li style=\"height:66.10534398904608%; width:9.2%; left:0.0%;\"></li><li style=\"height:81.96676461867341%; width:9.2%; left:10.088999999999999%;\"></li><li style=\"height:89.98550399709852%; width:9.2%; left:20.177999999999997%;\"></li><li class=\"univsrch-sal-highlight\" style=\"height:90.0%; width:9.2%; left:30.266999999999996%;\"></li><li style=\"height:83.72871030248633%; width:9.2%; left:40.355999999999995%;\"></li><li style=\"height:73.58348079399681%; width:9.2%; left:50.44499999999999%;\"></li><li style=\"height:61.80791032355214%; width:9.2%; left:60.53399999999999%;\"></li><li style=\"height:50.07006051788877%; width:9.2%; left:70.62299999999999%;\"></li><li style=\"height:39.394527713072414%; width:9.2%; left:80.71199999999999%;\"></li><li style=\"height:30.27120279950867%; width:9.2%; left:90.80099999999999%;\"></li></ul><div class=\"univsrch-sal-min univsrch-sal-caption float-left\"><div class=\"float-left\" style=\"width: 13.07px;\"></div><span>Min<br/>$46,000</span></div><div class=\"univsrch-sal-max univsrch-sal-caption float-right\"><div class=\"float-right\" style=\"width: 13.07px;\"></div><span>Max<br/>$260,000</span></div></div><div id=\"univsrch-salary-link\"><a href=\"/salaries/Data-Scientist-Salaries\" onmousedown=\"this.href = appendParamsOnce(this.href, 'from=serpsalaryblock');\" title=\"Data Scientist salaries by company in United States\">Data Scientist salaries by company in United States</a></div></div></div></div><script type=\"text/javascript\">usBindSalaryWidgetLoggingNew();</script><script id=\"jaFloatScript\" type=\"text/javascript\">\n",
       "      initFloatingBoxes(\"#jobalertswrapper, #related-searches.related_searches_sticky\");\n",
       "    </script>\n",
       "</td></tr>\n",
       "</table>\n",
       "<div class=\"prime-popover\" id=\"prime-popover-background\">\n",
       "</div>\n",
       "<div class=\"prime-popover\" data-logging-url=\"https://www.indeed.com/imgping?type=primepromo&amp;keyword=data scientist&amp;location=&amp;vertical=TECH&amp;promo=primepopover&amp;tk=1ci2lvodfbi4id1b\" id=\"prime-popover-div\">\n",
       "<div id=\"prime-popover-x\">\n",
       "<button aria-label=\"close\" id=\"prime-popover-close-button\"><span>×</span></button>\n",
       "</div>\n",
       "<style type=\"text/css\">\n",
       "    #prime_promo_logos {\n",
       "        width: 620px;\n",
       "        height: 436px;\n",
       "    }\n",
       "\n",
       "    #prime_promo_logos .heading_logo_div {\n",
       "        margin: 30px 0 24px 0;\n",
       "        text-align: center;\n",
       "    }\n",
       "\n",
       "    #prime_promo_logos .heading_logo_div .heading_logo {\n",
       "        max-height: 50px;\n",
       "        vertical-align: middle;\n",
       "    }\n",
       "\n",
       "    #prime_promo_logos .heading {\n",
       "        font-size: 24px;\n",
       "        color: #ff6600;\n",
       "        text-align: center;\n",
       "        line-height: 26px;\n",
       "    }\n",
       "\n",
       "    #prime_promo_logos .subheading {\n",
       "        font-size: 15px;\n",
       "        color: #666666;\n",
       "        text-align: center;\n",
       "        margin-top: 15px;\n",
       "        margin-bottom: 25px;\n",
       "    }\n",
       "\n",
       "    #prime_promo_logos .content {\n",
       "        background: #F8F8F8;\n",
       "    }\n",
       "\n",
       "    #prime_promo_logos .content .legal {\n",
       "        font-size: 11px;\n",
       "        color: #666666;\n",
       "        padding-top: 15px;\n",
       "        padding-bottom: 20px;\n",
       "        text-align: center;\n",
       "    }\n",
       "\n",
       "    #prime_promo_logos .apply_div {\n",
       "        margin-top: 22px;\n",
       "        margin-bottom: 31px;\n",
       "    }\n",
       "\n",
       "    #learnMore {\n",
       "        color: #FFFFFF;\n",
       "        text-decoration: none !important;\n",
       "        font-size: 18px;\n",
       "        font-weight: bold;\n",
       "    }\n",
       "\n",
       "    #learnMore:hover,  #learnMore:focus {\n",
       "        text-decoration: none !important;\n",
       "    }\n",
       "\n",
       "    #prime_promo_logos .logo_div div {\n",
       "        display: inline-block;\n",
       "        width: 144px;\n",
       "        height: 35px;\n",
       "        text-align: center;\n",
       "    }\n",
       "\n",
       "    #prime_promo_logos .logo {\n",
       "        padding: 0 22.5px 0 22.5px;\n",
       "        max-width: 576px;\n",
       "        max-height: 94px;\n",
       "    }\n",
       "\n",
       "    #prime_promo_logos .logo_center_helper {\n",
       "        display: inline-block;\n",
       "        height: 100%;\n",
       "        vertical-align: middle;\n",
       "    }\n",
       "\n",
       "    #learnMore_div {\n",
       "        text-align: center;\n",
       "    }\n",
       "    #hiddenPrimeButton {\n",
       "        height: 0;\n",
       "        border: 0;\n",
       "        width: 0;\n",
       "        padding: 0;\n",
       "    }\n",
       "</style>\n",
       "<div id=\"prime_promo_logos\">\n",
       "<div class=\"heading_logo_div\">\n",
       "<span class=\"logo_center_helper\"></span>\n",
       "<img alt=\"Indeed Prime\" class=\"heading_logo\" src=\"/images/prime/indeed_prime_logo.png\"/>\n",
       "</div>\n",
       "<div class=\"heading\"><b>3 minutes</b> could get you</div>\n",
       "<div class=\"heading\"><b>10 offers</b> from top tech companies</div>\n",
       "<div class=\"apply_div\" id=\"learnMore_div\">\n",
       "<button autofocus=\"\" id=\"hiddenPrimeButton\" tabindex=\"-1\"></button>\n",
       "<a class=\"roundedCorner indeedblue\" href=\"/promo/prime\" id=\"learnMore\" onclick=\"this.href = appendParamsOnce( this.href, '?from=primepopover&amp;subfrom=primepopover&amp;trk.origin=jobsearch&amp;trk.variant=primepopover&amp;trk.tk=1ci2lvodfbi4id1b&amp;vertical=TECH&amp;x_isid=primepopover&amp;x_ikw=data+scientist&amp;x_sid=primepopover&amp;x_kw=data+scientist')\" role=\"button\">Learn More</a>\n",
       "</div>\n",
       "<div class=\"content\">\n",
       "<div class=\"logo_div\">\n",
       "<div>\n",
       "<span class=\"logo_center_helper\"></span>\n",
       "<img alt=\"Dropbox, Evernote, Facebook, Redfin, Twilio, Uber, Slack... and more!\" class=\"logo\" src=\"/images/prime/cmp-logos.png\"/>\n",
       "</div>\n",
       "</div>\n",
       "<div class=\"legal\">Representative Companies Using Indeed Prime</div>\n",
       "</div>\n",
       "</div>\n",
       "</div>\n",
       "<style type=\"text/css\">\n",
       "    #prime-popover-background {\n",
       "        z-index: 2;\n",
       "        background: #000000;\n",
       "        width: 100%;\n",
       "        height: 100%;\n",
       "        opacity: .30;\n",
       "        filter: alpha(opacity=30);\n",
       "        top: 0;\n",
       "    }\n",
       "    #prime-popover-x {\n",
       "        float: right;\n",
       "        margin: 1px 1px 0 0;\n",
       "        cursor: pointer;\n",
       "        font-weight: bold;\n",
       "        font-size: 18px;\n",
       "        color: #666;\n",
       "    }\n",
       "    #prime-popover-close-button {\n",
       "        background:none;\n",
       "        border:none;\n",
       "        font-weight: bold;\n",
       "        font-size: 18px;\n",
       "        color: #666;\n",
       "    }\n",
       "    #prime-popover-close-button:hover {\n",
       "        cursor: pointer;\n",
       "    }\n",
       "    .prime-popover {\n",
       "        position: fixed;\n",
       "        display: none;\n",
       "    }\n",
       "    #prime-popover-div {\n",
       "        z-index: 3;\n",
       "        height: auto;\n",
       "        width: auto;\n",
       "        background: #ffffff;\n",
       "        display: none; /*hide before the cookie check*/\n",
       "        max-width: 620px;\n",
       "    }\n",
       "    \n",
       "    #prime_promo {\n",
       "        background:#ffffff\n",
       "    }\n",
       "</style>\n",
       "<script type=\"text/javascript\">\n",
       "            window['primePopoverShown'] = 'popover';\n",
       "        </script>\n",
       "<script type=\"text/javascript\">\n",
       "        function onClickResumePopoverPromo(uploadLink) {\n",
       "            var setYearExpiration = true;\n",
       "            var resumePopover = new ResumePopover('1ci2lvodfbi4id1b', '1ci2lvod9bi4i9no', setYearExpiration);\n",
       "            resumePopover.onClickPromo(uploadLink);\n",
       "            return true;\n",
       "        }\n",
       "    </script>\n",
       "<div class=\"resume-popover\" id=\"resume-popover-background\"></div>\n",
       "<div class=\"resume-popover\" id=\"resume-popover-div\">\n",
       "<div id=\"resume-popover-x\">\n",
       "<button aria-label=\"close\" id=\"resume-popover-close-button\"><span>×</span></button>\n",
       "</div>\n",
       "<div id=\"postJobClickCta\"><div class=\"postJobClickCta_title\">Let Employers Find You</div><div class=\"postJobClickCta_body\">Every day, thousands of employers search Indeed.com for candidates like you.</div><span dir=\"ltr\"><a class=\"icl-Button icl-Button--primary icl-Button--lg cta_button blue\" href=\"/promo/resume?from=resumePostJobClickCTA&amp;trk.origin=jobsearch\" onclick=\"return onClickResumePopoverPromo('/promo/resume?from=resumePostJobClickCTA&amp;trk.origin=jobsearch');\" target=\"_blank\">Upload Your Resume</a></span></div></div>\n",
       "<link href=\"/s/fb0bd3a/resumepopover.css\" rel=\"stylesheet\" type=\"text/css\"/>\n",
       "<script type=\"text/javascript\">\n",
       "        window['resumePopoverShowValue'] = '1';\n",
       "    </script>\n",
       "<script>\n",
       "var focusHandlers = [];\n",
       "var linkHighlighter = new LinkHighlighter();\n",
       "focusHandlers.push(googBind(linkHighlighter.fadeToOriginalColor, linkHighlighter));\n",
       "var lostFocusHandlers = [];\n",
       "lostFocusHandlers.push(googBind(linkHighlighter.clickedAway, linkHighlighter, \"#551a8b\"));\n",
       "</script>\n",
       "<script>\n",
       "        if (!showVjOnSerp) {\n",
       "            var didYouApplyPrompt = new DidYouApplyPrompt('1ci2lvodfbi4id1b', 60, 'serp',\n",
       "                false);\n",
       "            focusHandlers.push(googBind(didYouApplyPrompt.returnedToPage, didYouApplyPrompt));\n",
       "            lostFocusHandlers.push(googBind(didYouApplyPrompt.leftPage, didYouApplyPrompt));\n",
       "            didYouApplyPrompt.dyaChangeFromCookie();\n",
       "        }\n",
       "    </script>\n",
       "<script>\n",
       "var clickTime = new ClickTime(window.tk, 'serp', 'jobtitle', focusHandlers, lostFocusHandlers);\n",
       "</script>\n",
       "<script type=\"text/javascript\">\n",
       "        if (bindAndRender && typeof bindAndRender === 'function') {\n",
       "            bindAndRender.apply();\n",
       "    \n",
       "        }\n",
       "    </script>\n",
       "<script>usBindRightRailLogging();</script>\n",
       "<script>\n",
       "        window['recaptchaSitekeyV2'] = \"6Lc1uUEUAAAAAPHQRK9uCuJsLbJbUpwmnx5SARHu\";\n",
       "        window['recaptchaSitekeyInvisible'] = \"6Lc5uUEUAAAAAHBFgzyc9no20EC0e7A-_R0QFgww\";\n",
       "    </script>\n",
       "<style type=\"text/css\">\n",
       "    #secondary_nav a,\n",
       "#secondary_nav a:link,\n",
       "#secondary_nav a:visited { color: #77c; text-decoration: none; }\n",
       "#secondary_nav a:hover { text-decoration: underline;  }</style>\n",
       "<!-- jobs -->\n",
       "<div id=\"footerWrapper\" role=\"contentinfo\" style=\"text-align:center;\">\n",
       "<div id=\"footer\" style=\"text-align:left;\">\n",
       "<div class=\"separator_bottom\"></div>\n",
       "<div id=\"secondary_nav\">\n",
       "<div style=\"margin: 1em;\"><span class=\"gaj_heading\">Indeed helps people get jobs:</span> <a class=\"sl\" href=\"/promo/gotajob\" onmousedown=\"null\">Over 10 million stories shared</a></div><a href=\"/\" id=\"jobs_product_link\" title=\"Jobs\">Jobs</a> - <a href=\"/career-advice?isid=jasx_us-en&amp;ikw=jsfooter\" id=\"careeradvice_product_link\" title=\"Career Advice\">Career Advice</a> - <script type=\"text/javascript\">\n",
       "                    var jobsProductLink = document.getElementById('jobs_product_link');\n",
       "                    </script>\n",
       "<a href=\"http://www.hiringlab.org\">Hiring Lab</a> - <a href=\"/find-jobs.jsp\">Browse Jobs</a> - <a href=\"/tools/jobseeker\">Tools</a> - <a href=\"http://www.indeedevents.com/?hl=en_US\">Employer Events</a> - <a href=\"http://www.indeed.jobs\">Work at Indeed</a> - <a href=\"/intl/en/about.html\"><span style=\"white-space: nowrap;\">About</span></a> - <a href=\"https://indeed.zendesk.com/hc/en-us\">Help Center</a>\n",
       "<style type=\"text/css\">\n",
       "                #footer-legal {\n",
       "                    margin-top: 10px;\n",
       "                    font-size: 9pt;\n",
       "                }\n",
       "            </style>\n",
       "<div id=\"footer-legal\">\n",
       "<div class=\"legal-footer\">©2018 Indeed - <a href=\"/legal\">Cookies, Privacy and Terms</a></div></div>\n",
       "</div>\n",
       "</div>\n",
       "<style type=\"text/css\">\n",
       "    /*Need to update this file when there is a update on frontend-icl library, details see ITAD-358*/\n",
       ".icl-Button{box-sizing:border-box;display:inline-block;vertical-align:middle;font-family:Helvetica Neue,Helvetica,Arial,Roboto,Noto,sans-serif;font-size:1.125rem;line-height:1.8rem;font-weight:700;text-decoration:none;text-overflow:ellipsis;white-space:nowrap;filter:progid:DXImageTransform.Microsoft.dropshadow(OffX=0,OffY=-1,Color=#e80f2299,Positive=true);-webkit-appearance:none;-moz-appearance:none;appearance:none;overflow:hidden;-webkit-user-select:none;-moz-user-select:none;-ms-user-select:none;user-select:none;-webkit-touch-callout:none;-webkit-highlight:none;-webkit-tap-highlight-color:transparent}[dir] .icl-Button{padding:.5rem 1.125rem;text-align:center;background-repeat:repeat-x;border:1px solid;border-radius:6px;box-shadow:0 1px 5px rgba(0,0,0,.2);cursor:pointer}[dir=ltr] .icl-Button{margin:12px 12px 12px 0}[dir=rtl] .icl-Button{margin:12px 0 12px 12px}[dir] .icl-Button::-moz-focus-inner{border:0}[dir] .icl-Button:hover{background-image:none;box-shadow:0 1px 5px rgba(0,0,0,.4)}.icl-Button:active{outline:none}[dir] .icl-Button:active{background-image:none;box-shadow:inset 0 2px 4px rgba(0,0,0,.15),0 1px 2px rgba(0,0,0,.05)}.icl-Button:disabled{opacity:.65}[dir] .icl-Button:disabled{background-image:none;box-shadow:none;cursor:default}[dir] .icl-Button:disabled:hover{box-shadow:none}.icl-Button--primary{color:#f8f8f9;filter:progid:DXImageTransform.Microsoft.gradient(startColorstr=\"#ff6598fe\",endColorstr=\"#ff3c69e0\",GradientType=0)}[dir] .icl-Button--primary{text-shadow:0 -1px #0f2299;background-color:#5585f2;background-image:-webkit-linear-gradient(top,#6598ff,#2e5ad7);background-image:linear-gradient(180deg,#6598ff,#2e5ad7);border-color:#1642bb;border-bottom-color:#1642bb}.icl-Button--primary:hover{text-decoration:none}[dir] .icl-Button--primary:active,[dir] .icl-Button--primary:disabled,[dir] .icl-Button--primary:hover{background-color:#2e5ad7}.icl-Button--secondary{color:#333;filter:progid:DXImageTransform.Microsoft.gradient(startColorstr=\"#fff8f8f9\",endColorstr=\"#ffe6e6e6\",GradientType=0)}[dir] .icl-Button--secondary{text-shadow:0 1px #fff;background-color:#d9d9e2;background-image:-webkit-linear-gradient(top,#f8f8f9,#d9d9e2);background-image:linear-gradient(180deg,#f8f8f9,#d9d9e2);border-color:#9a99ac;border-bottom-color:#a2a2a2}.icl-Button--secondary:hover{text-decoration:none}[dir] .icl-Button--secondary:active,[dir] .icl-Button--secondary:disabled,[dir] .icl-Button--secondary:hover{background-color:#f8f8f9}.icl-Button--special{color:#f8f8f9;filter:progid:DXImageTransform.Microsoft.gradient(startColorstr=\"#ff6598fe\",endColorstr=\"#ff3c69e0\",GradientType=0)}[dir] .icl-Button--special{text-shadow:0 -1px #000;background-color:#f14200;background-image:-webkit-linear-gradient(top,#f60,#f14200);background-image:linear-gradient(180deg,#f60,#f14200);border-color:#ba3200;border-bottom-color:#ba3200}.icl-Button--special:hover{text-decoration:none}[dir] .icl-Button--special:active,[dir] .icl-Button--special:disabled,[dir] .icl-Button--special:hover{background-color:#f14200}.icl-Button--danger{color:#f8f8f9;filter:progid:DXImageTransform.Microsoft.gradient(startColorstr=\"#ff6598fe\",endColorstr=\"#ff3c69e0\",GradientType=0)}[dir] .icl-Button--danger{text-shadow:0 -1px #000;background-color:#b01825;background-image:-webkit-linear-gradient(top,#d1787f,#b01825);background-image:linear-gradient(180deg,#d1787f,#b01825);border-color:#83121b;border-bottom-color:#83121b}.icl-Button--danger:hover{text-decoration:none}[dir] .icl-Button--danger:active,[dir] .icl-Button--danger:disabled,[dir] .icl-Button--danger:hover{background-color:#b01825}[dir] .icl-Button--working{border-color:#9a99ac;border-bottom-color:#a2a2a2}.icl-Button--working:hover{text-decoration:none}[dir] .icl-Button--working:disabled{background-color:#f8f8f9}.icl-Button--transparent{color:#00c}[dir] .icl-Button--transparent{text-shadow:none;background:transparent none;border:none;box-shadow:none}.icl-Button--transparent:hover{color:#00c;text-decoration:underline}[dir] .icl-Button--transparent:active,[dir] .icl-Button--transparent:hover{box-shadow:0 0 0 transparent}.icl-Button--transparent:disabled:hover{color:#00c}.icl-Button--block{display:block;width:100%;max-width:351px}[dir] .icl-Button--block{margin:12px auto}.icl-Button--md{font-size:.9375rem;font-weight:600}[dir] .icl-Button--md{padding:.5rem 1rem;border-radius:5px}.icl-Button--sm{font-size:.8125rem;font-weight:500}[dir] .icl-Button--sm{padding:.325rem .8125rem;border-radius:4px}[dir] .icl-Button--group{border-radius:0;box-shadow:0 0 0 transparent}[dir=ltr] .icl-Button--group{float:left;margin:0 0 0 -1px}[dir=rtl] .icl-Button--group{float:right;margin:0 -1px 0 0}[dir] .icl-Button--group:hover{box-shadow:0 0 0 transparent}[dir=ltr] .icl-Button--group:first-child{margin-left:0;border-bottom-left-radius:6px;border-top-left-radius:6px}[dir=rtl] .icl-Button--group:first-child{margin-right:0}[dir=ltr] .icl-Button--group:last-child,[dir=rtl] .icl-Button--group:first-child{border-bottom-right-radius:6px;border-top-right-radius:6px}[dir=rtl] .icl-Button--group:last-child{border-bottom-left-radius:6px;border-top-left-radius:6px}[dir=ltr] .icl-Button--icon,[dir=rtl] .icl-Button--icon{padding-left:10px;padding-right:10px}\n",
       "/*# sourceMappingURL=Button.css.map*/</style>\n",
       "<div id=\"resumeCtaFooter\" style=\"height:64px;\"><div style=\"position:absolute;width:100%;\"><style type=\"text/css\">\n",
       "                    .footerCta {\n",
       "                        text-align:center;\n",
       "                        margin:0px;\n",
       "                        font-size:15px;\n",
       "                        width:100%;\n",
       "                    }\n",
       "\n",
       "                    .footerCta.blueBar {\n",
       "                        background-color:#2164f3;\n",
       "                        color:#ffffff;\n",
       "                    }\n",
       "\n",
       "                    .footerCta.greyBar {\n",
       "                        background-color:#ebebeb;\n",
       "                        color:#000000;\n",
       "                    }\n",
       "\n",
       "                    div.content >table {\n",
       "                        margin-bottom: 4em;\n",
       "                    }\n",
       "                </style><script type=\"text/javascript\">if(null !== call_when_jsall_loaded) {call_when_jsall_loaded(function() {if(!!window.logPromoImpression) {window.logPromoImpression('trk.origin=jobsearch&trk.variant=FooterGrayBelow&trk.pos=below&trk.tk=1ci2lvodfbi4id1b', 'resume');}})}</script><div class=\"footerCta greyBar\">Let Employers Find You  <style type=\"text/css\">\n",
       "        .cta_button {\n",
       "            text-decoration:none !important;\n",
       "            margin: 12px !important;\n",
       "        }\n",
       "\n",
       "        .cta_button.blue  {\n",
       "            color: #f8f8f9 !important;\n",
       "        }\n",
       "\n",
       "        .cta_button.grey {\n",
       "            color: #000000 !important;\n",
       "        }\n",
       "        </style><span dir=\"ltr\"><a class=\"icl-Button icl-Button--primary icl-Button--sm cta_button blue\" href=\"/promo/resume?from=bottomResumeCTAjobsearch&amp;trk.origin=jobsearch\" onclick=\"if(!!window.logPromoClick) {window.logPromoClick('trk.origin=jobsearch&amp;trk.variant=FooterGrayBelow&amp;trk.pos=below&amp;trk.tk=1ci2lvodfbi4id1b', 'resume','/promo/resume?from=bottomResumeCTAjobsearch&amp;trk.origin=jobsearch');}\">Upload Your Resume</a></span></div></div></div></div>\n",
       "</td></tr></table>\n",
       "<script type=\"text/javascript\">\n",
       "        function sm_cv_tag(activityId) {\n",
       "            var ebRand = Math.random()+'';\n",
       "            ebRand = ebRand * 1000000;\n",
       "\n",
       "            var tagContainer = document.body.appendChild(document.createElement(\"div\"));\n",
       "            tagContainer.style.position=\"absolute\";\n",
       "            tagContainer.style.top=\"0\";\n",
       "            tagContainer.style.left=\"0\";\n",
       "            tagContainer.style.width=\"1px\";\n",
       "            tagContainer.style.height=\"1px\";\n",
       "            tagContainer.style.display=\"none\";\n",
       "\n",
       "            var jsTag = document.createElement('script');\n",
       "            jsTag.src = '//bs.serving-sys.com/Serving/ActivityServer.bs?cn=as&ActivityID=' + activityId + '&rnd=' + ebRand;\n",
       "            jsTag.setAttribute('crossorigin', 'anonymous');\n",
       "            jsTag.style.width=\"1px\";\n",
       "            jsTag.style.height=\"1px\";\n",
       "            jsTag.style.border=\"0\";\n",
       "            jsTag.async = 1;\n",
       "\n",
       "            var noScript = document.createElement(\"noscript\");\n",
       "            var noScriptText = '<img width=\"1\" height=\"1\" style=\"border:0\" src=\"//bs.serving-sys.com/Serving/ActivityServer.bs?cn=as&ActivityID=' + activityId + '&ns=1\"/>';\n",
       "\n",
       "            // IE less than 9 and RCs do not support innerHTML on some DOM elements, but supports .text for it\n",
       "            if (((typeof noScript.canHaveHTML) === \"boolean\") && (noScript.canHaveHTML === false)) { // canHaveHTML only exists for IE\n",
       "                noScript.text = noScriptText;\n",
       "            } else {\n",
       "                noScript.innerHTML = noScriptText;\n",
       "            }\n",
       "\n",
       "            tagContainer.appendChild(jsTag);\n",
       "            tagContainer.appendChild(noScript);\n",
       "        }\n",
       "    </script>\n",
       "<script type=\"text/javascript\">\n",
       "<!--\n",
       "logJSVPing('jsv', '1ci2lvodfbi4id1b');\n",
       "function jsall_loaded() {\n",
       "    \n",
       "\n",
       "    initProcessLeftoverDwellEntries();\n",
       "    \n",
       "    detectBrowserState('jobsearch', '1ci2lvodfbi4id1b');\n",
       "\n",
       "    attachSjBlock('');\n",
       "    attachJaBlock('');\n",
       "}\n",
       "if (window['closureReady'] === true) {\n",
       "    jsall_loaded();\n",
       "}\n",
       "//-->\n",
       "</script>\n",
       "<script type=\"text/javascript\">\n",
       "PENDING_ANALYTICS_VARS = window.PENDING_ANALYTICS_VARS || [];\n",
       "PENDING_ANALYTICS_VARS[PENDING_ANALYTICS_VARS.length] = ['_setCustomVar', 5, 'loggedIn', 'false', 3];\n",
       "</script>\n",
       "<script type=\"text/javascript\">\n",
       "        var ga_domains = [];\n",
       "        ga_domains.push('indeed.co.in');ga_domains.push('indeed.lu');ga_domains.push('indeed.fr');ga_domains.push('indeed.de');ga_domains.push('indeed.com.br');ga_domains.push('indeed.co.uk');ga_domains.push('indeed.hk');ga_domains.push('indeed.fi');ga_domains.push('indeed.pt');ga_domains.push('indeed.jp');ga_domains.push('indeed.com');ga_domains.push('indeed.com.sg');ga_domains.push('indeed.nl');ga_domains.push('indeed.com.pk');ga_domains.push('indeed.cl');ga_domains.push('indeed.es');ga_domains.push('indeed.co.ve');ga_domains.push('indeed.ae');ga_domains.push('indeed.com.mx');ga_domains.push('indeed.com.my');ga_domains.push('indeed.ch');ga_domains.push('indeed.com.co');ga_domains.push('indeed.com.ph');ga_domains.push('indeed.co.za');ga_domains.push('indeed.ie');ga_domains.push('indeed.com.au');ga_domains.push('indeed.ca');ga_domains.push('indeed.com.pe');\n",
       "\n",
       "        (function (i, s, o, g, r, a, m) {\n",
       "            i['GoogleAnalyticsObject'] = r;\n",
       "            i[r] = i[r] || function () {\n",
       "                (i[r].q = i[r].q || []).push(arguments)\n",
       "            }, i[r].l = 1 * new Date();\n",
       "            a = s.createElement(o),\n",
       "                    m = s.getElementsByTagName(o)[0];\n",
       "            a.async = 1;\n",
       "            a.src = g;\n",
       "            m.parentNode.insertBefore(a, m)\n",
       "        })(window, document, 'script', '//www.google-analytics.com/analytics.js', 'ga');\n",
       "\n",
       "        var ga = ga || [];\n",
       "        ga('create', 'UA-90780-1', 'auto', {\n",
       "            'allowLinker': true\n",
       "        });\n",
       "        ga('require', 'linkid');\n",
       "        ga('require', 'linker');\n",
       "        ga('linker:autoLink', ga_domains, false, true);\n",
       "        ga('require', 'displayfeatures');\n",
       "        ga('send', 'pageview');\n",
       "\n",
       "        \n",
       "        (function () {\n",
       "            if (window.PENDING_ANALYTICS_VARS && window.PENDING_ANALYTICS_VARS.length > 0) {\n",
       "                for (var i in PENDING_ANALYTICS_VARS) {\n",
       "                    ga('set', PENDING_ANALYTICS_VARS[i][2], PENDING_ANALYTICS_VARS[i][3]);\n",
       "                }\n",
       "            }\n",
       "        })();\n",
       "    </script>\n",
       "<script>\n",
       "    !function(f,b,e,v,n,t,s){if(f.fbq)return;n=f.fbq=function(){n.callMethod?\n",
       "            n.callMethod.apply(n,arguments):n.queue.push(arguments)};if(!f._fbq)f._fbq=n;\n",
       "        n.push=n;n.loaded=!0;n.version='2.0';n.queue=[];t=b.createElement(e);t.async=!0;\n",
       "        t.src=v;s=b.getElementsByTagName(e)[0];s.parentNode.insertBefore(t,s)}(window,\n",
       "            document,'script','https://connect.facebook.net/en_US/fbevents.js');\n",
       "\n",
       "    fbq('init', '579216298929618');\n",
       "    fbq('track', \"PageView\");</script>\n",
       "<noscript><img height=\"1\" src=\"https://www.facebook.com/tr?id=579216298929618&amp;ev=PageView&amp;noscript=1\" style=\"display:none\" width=\"1\"/></noscript>\n",
       "<script>\n",
       "window._comscore = window._comscore || [];\n",
       "window._comscore.push({ c1: \"2\", c2: \"6486505\", c4:\"www.indeed.com/q-data-scientist-jobs.html\", c15:\"1ci2lvod9bi4i9no\"});\n",
       "(function() { var s = document.createElement(\"script\"), el = document.getElementsByTagName(\"script\")[0]; s.async = true; s.src = (document.location.protocol == \"https:\" ? \"https://sb\" : \"http://b\") + \".scorecardresearch.com/beacon.js\"; el.parentNode.insertBefore(s, el); })();\n",
       "</script>\n",
       "<noscript>\n",
       "<img alt=\"\" height=\"0\" src=\"https://sb.scorecardresearch.com/p?c1=2&amp;c2=6486505&amp;c4=www.indeed.com%2Fq-data-scientist-jobs.html&amp;c15=1ci2lvod9bi4i9no&amp;cv=2.0&amp;cj=1\" style=\"display:none\" width=\"0\"/>\n",
       "</noscript>\n",
       "</body>\n",
       "</html>"
      ]
     },
     "execution_count": 560,
     "metadata": {},
     "output_type": "execute_result"
    }
   ],
   "source": [
    "# Fixed url for job postings containing data scientist\n",
    "url = 'http://www.indeed.com/jobs?q=data+scientist&l='\n",
    "# read the website\n",
    "source = urlopen(url).read()\n",
    "# parse html code\n",
    "bs_tree = bs4.BeautifulSoup(source, 'lxml')"
   ]
  },
  {
   "cell_type": "code",
   "execution_count": null,
   "metadata": {
    "collapsed": true,
    "slideshow": {
     "slide_type": "slide"
    }
   },
   "outputs": [],
   "source": [
    "# see how many job postings we found\n",
    "job_count_string = bs_tree.find(id = 'searchCount').contents[0]\n",
    "job_count_string = job_count_string.split()[-1]\n",
    "print(\"Search yielded %s hits.\" % (job_count_string))\n",
    "\n",
    "# not that job_count so far is still a string, \n",
    "# not an integer, and the , separator prevents \n",
    "# us from just casting it to int\n",
    "\n",
    "job_count_digits = [int(d) for d in job_count_string if d.isdigit()]\n",
    "job_count = np.sum([digit*(10**exponent) for digit, exponent in \n",
    "                    zip(job_count_digits[::-1], range(len(job_count_digits)))])\n",
    "\n",
    "print job_count"
   ]
  },
  {
   "cell_type": "code",
   "execution_count": null,
   "metadata": {
    "collapsed": true,
    "slideshow": {
     "slide_type": "slide"
    }
   },
   "outputs": [],
   "source": [
    "# The website is only listing 10 results per page, \n",
    "# so we need to scrape them page after page\n",
    "num_pages = int(np.ceil(job_count/10.0))\n",
    "\n",
    "base_url = 'http://www.indeed.com'\n",
    "job_links = []\n",
    "for i in range(1): #do range(num_pages) if you want them all\n",
    "    if i%10==0:\n",
    "        print num_pages-i\n",
    "    url = 'http://www.indeed.com/jobs?q=data+scientist&start=' + str(i*10)\n",
    "    html_page = urllib2.urlopen(url).read() \n",
    "    bs_tree = bs4.BeautifulSoup(html_page)\n",
    "    job_link_area = bs_tree.find(id = 'resultsCol')\n",
    "    job_postings = job_link_area.findAll(\"div\")\n",
    "    job_postings = [jp for jp in job_postings if not jp.get('class') is None \n",
    "                    and ''.join(jp.get('class')) ==\"rowresult\"]\n",
    "    job_ids = [jp.get('data-jk') for jp in job_postings]\n",
    "    \n",
    "    # go after each link\n",
    "    for id in job_ids:\n",
    "        job_links.append(base_url + '/rc/clk?jk=' + id)\n",
    "\n",
    "    time.sleep(1)\n",
    "\n",
    "print \"We found a lot of jobs: \", len(job_links)"
   ]
  },
  {
   "cell_type": "markdown",
   "metadata": {
    "slideshow": {
     "slide_type": "slide"
    }
   },
   "source": [
    "Some precautions to enable us to restart our search\n",
    "========================="
   ]
  },
  {
   "cell_type": "code",
   "execution_count": null,
   "metadata": {
    "collapsed": true,
    "slideshow": {
     "slide_type": "-"
    }
   },
   "outputs": [],
   "source": [
    "# Save the scraped links\n",
    "#with open('data/scraped_links.pkl', 'wb') as f:\n",
    "#    cPickle.dump(job_links, f)\n",
    "    \n",
    "# Read canned scraped links\n",
    "with open('data/scraped_links.pkl', 'r') as f:\n",
    "    job_links = cPickle.load(f)    "
   ]
  },
  {
   "cell_type": "code",
   "execution_count": null,
   "metadata": {
    "collapsed": true,
    "slideshow": {
     "slide_type": "slide"
    }
   },
   "outputs": [],
   "source": [
    "skill_set = {'mapreduce': 0, 'spark': 0}\n",
    "\n",
    "## write initialization into a file, so we can restart later\n",
    "#with open('scraped_links_restart.pkl', 'wb') as f:\n",
    "#    cPickle.dump((skill_set, 0),f)    "
   ]
  },
  {
   "cell_type": "markdown",
   "metadata": {
    "slideshow": {
     "slide_type": "slide"
    }
   },
   "source": [
    "Python Dictonaries\n",
    "==================\n",
    "\n",
    "* build in data type\n",
    "* uses key: value pairs"
   ]
  },
  {
   "cell_type": "code",
   "execution_count": null,
   "metadata": {
    "collapsed": true,
    "slideshow": {
     "slide_type": "slide"
    }
   },
   "outputs": [],
   "source": [
    "a = {'a': 1, 'b':2}\n",
    "print a\n",
    "\n",
    "#show keys\n",
    "print a.keys()\n",
    "\n",
    "#show values\n",
    "print a.values()\n",
    "\n",
    "#show for loop over all entries\n",
    "# option 1 using zip\n",
    "# this works also for iterating over any\n",
    "# other two lists\n",
    "for k,v in zip(a.keys(), a.values()):\n",
    "    print k,v\n",
    "\n",
    "# option 2 using the dictionary `iteritems()` function\n",
    "for k,v in a.iteritems():\n",
    "    print k,v"
   ]
  },
  {
   "cell_type": "code",
   "execution_count": null,
   "metadata": {
    "collapsed": true,
    "slideshow": {
     "slide_type": "slide"
    }
   },
   "outputs": [],
   "source": [
    "# This code below does the trick, but could be optimized for speed if necessary\n",
    "# e.g. skills are typically listed at the end of the webpage\n",
    "# might not need to split/join the whole webpage, as we already know\n",
    "# which words we are looking for \n",
    "# and could stop after the first occurance of each word\n",
    "\n",
    "with open('data/scraped_links_restart.pkl', 'r') as f:\n",
    "    skill_set, index = cPickle.load(f)\n",
    "    print \"How many websites still to go? \", len(job_links) - index\n",
    "    \n",
    "    "
   ]
  },
  {
   "cell_type": "code",
   "execution_count": null,
   "metadata": {
    "collapsed": true,
    "slideshow": {
     "slide_type": "slide"
    }
   },
   "outputs": [],
   "source": [
    "counter = 0\n",
    "\n",
    "for link in job_links[index:]:\n",
    "    counter +=1  \n",
    "    \n",
    "    try:\n",
    "        html_page = urllib2.urlopen(link).read()\n",
    "    except urllib2.HTTPError:\n",
    "        print \"HTTPError:\"\n",
    "        continue\n",
    "    except urllib2.URLError:\n",
    "        print \"URLError:\"\n",
    "        continue\n",
    "    except socket.error as error:\n",
    "        print \"Connection closed\"\n",
    "        continue\n",
    "\n",
    "    html_text = re.sub(\"[^a-z.+3]\",\" \", html_page.lower()) # replace all but the listed characters\n",
    "        \n",
    "    for key in skill_set.keys():\n",
    "        if key in html_text:  \n",
    "            skill_set[key] +=1\n",
    "            \n",
    "    if counter % 5 == 0:\n",
    "        print len(job_links) - counter - index\n",
    "        print skill_set\n",
    "        with open('scraped_links_restart.pkl','wb') as f:\n",
    "            cPickle.dump((skill_set, index+counter),f)"
   ]
  },
  {
   "cell_type": "code",
   "execution_count": null,
   "metadata": {
    "collapsed": true,
    "slideshow": {
     "slide_type": "slide"
    }
   },
   "outputs": [],
   "source": [
    "print skill_set"
   ]
  },
  {
   "cell_type": "code",
   "execution_count": null,
   "metadata": {
    "collapsed": true,
    "slideshow": {
     "slide_type": "slide"
    }
   },
   "outputs": [],
   "source": [
    "pseries = pd.Series(skill_set)\n",
    "pseries.sort(ascending=False)\n",
    "\n",
    "pseries.plot(kind = 'bar')\n",
    "## set the title to Score Comparison\n",
    "plt.title('Data Science Skills')\n",
    "## set the x label\n",
    "plt.xlabel('Skills')\n",
    "## set the y label\n",
    "plt.ylabel('Count')\n",
    "## show the plot\n",
    "plt.show()"
   ]
  },
  {
   "cell_type": "markdown",
   "metadata": {
    "slideshow": {
     "slide_type": "slide"
    }
   },
   "source": [
    "Another Example\n",
    "================\n",
    "\n",
    "Designed by Katharine Jarmul\n",
    "----------------------------\n",
    "\n",
    "https://github.com/kjam/python-web-scraping-tutorial\n",
    "\n",
    "\n"
   ]
  },
  {
   "cell_type": "markdown",
   "metadata": {
    "slideshow": {
     "slide_type": "slide"
    }
   },
   "source": [
    "Scraping Happy Hours\n",
    "====================\n",
    "\n",
    "Scrape the happy hour list of LA for personal preferences\n",
    "\n",
    "http://www.downtownla.com/3_10_happyHours.asp?action=ALL\n",
    "\n",
    "This example is part of her talk about data scraping at PyCon2014. She is a really good speaker and I enjoyed watching her talk. Check it out: http://www.youtube.com/watch?v=p1iX0uxM1w8"
   ]
  },
  {
   "cell_type": "code",
   "execution_count": null,
   "metadata": {
    "collapsed": true,
    "slideshow": {
     "slide_type": "slide"
    }
   },
   "outputs": [],
   "source": [
    "stuff_i_like = ['burger', 'sushi', 'sweet potato fries', 'BBQ','beer']\n",
    "found_happy_hours = []\n",
    "my_happy_hours = []\n",
    "# First, I'm going to identify the areas of the page I want to look at\n",
    "url = 'http://www.downtownla.com/3_10_happyHours.asp?action=ALL'\n",
    "source = urllib2.urlopen(url).read()\n",
    "tables = bs4.BeautifulSoup(source)"
   ]
  },
  {
   "cell_type": "code",
   "execution_count": null,
   "metadata": {
    "collapsed": true,
    "slideshow": {
     "slide_type": "slide"
    }
   },
   "outputs": [],
   "source": [
    "# Then, I'm going to sort out the *exact* parts of the page\n",
    "# that match what I'm looking for...\n",
    "for t in tables.findAll('p', {'class': 'calendar_EventTitle'}):\n",
    "    text = t.text\n",
    "    for s in t.findNextSiblings():\n",
    "        text += '\\n' + s.text\n",
    "    found_happy_hours.append(text)\n",
    "\n",
    "print \"The scraper found %d happy hours!\" % len(found_happy_hours)"
   ]
  },
  {
   "cell_type": "code",
   "execution_count": null,
   "metadata": {
    "collapsed": true,
    "slideshow": {
     "slide_type": "slide"
    }
   },
   "outputs": [],
   "source": [
    "# Now I'm going to loop through the food I like\n",
    "# and see if any of the happy hour descriptions match\n",
    "for food in stuff_i_like:\n",
    "    for hh in found_happy_hours:\n",
    "        # checking for text AND making sure I don't have duplicates\n",
    "        if food in hh and hh not in my_happy_hours:\n",
    "            print \"YAY! I found some %s!\" % food\n",
    "            my_happy_hours.append(hh)\n",
    "\n",
    "print \"I think you might like %d of them, yipeeeee!\" % len(my_happy_hours)"
   ]
  },
  {
   "cell_type": "code",
   "execution_count": null,
   "metadata": {
    "collapsed": true,
    "slideshow": {
     "slide_type": "slide"
    }
   },
   "outputs": [],
   "source": [
    "# Now, let's make a mail message we can read:\n",
    "message = 'Hey Katharine,\\n\\n\\n'\n",
    "message += 'OMG, I found some stuff for you in Downtown, take a look.\\n\\n'\n",
    "message += '==============================\\n'.join(my_happy_hours)\n",
    "message = message.encode('utf-8')\n",
    "# To read more about encoding:\n",
    "# http://diveintopython.org/xml_processing/unicode.html\n",
    "message = message.replace('\\t', '').replace('\\r', '')\n",
    "message += '\\n\\nXOXO,\\n Your Py Script'\n",
    "\n",
    "#print message"
   ]
  },
  {
   "cell_type": "markdown",
   "metadata": {
    "slideshow": {
     "slide_type": "slide"
    }
   },
   "source": [
    "Getting Data with an API\n",
    "=========================\n",
    "\n",
    "* API: application programming interface\n",
    "* some sites try to make your life easier\n",
    "* Twitter, New York Times, ImDB, rotten Tomatoes, Yelp, ..."
   ]
  },
  {
   "cell_type": "markdown",
   "metadata": {
    "slideshow": {
     "slide_type": "slide"
    }
   },
   "source": [
    "Rotten Tomatoes\n",
    "===============\n",
    "\n",
    "![The Wizard of Oz](images/wiz_oz.png \"The wizard of Oz\")\n",
    "\n",
    "http://www.rottentomatoes.com/top/\n"
   ]
  },
  {
   "cell_type": "markdown",
   "metadata": {
    "slideshow": {
     "slide_type": "slide"
    }
   },
   "source": [
    "API keys\n",
    "=========\n",
    "\n",
    "* required for data access\n",
    "* identifies application (you)\n",
    "* monitors usage\n",
    "* limits rates"
   ]
  },
  {
   "cell_type": "markdown",
   "metadata": {
    "slideshow": {
     "slide_type": "slide"
    }
   },
   "source": [
    "Rotten Tomatoes Key\n",
    "===================\n",
    "\n",
    "http://developer.rottentomatoes.com/member/register"
   ]
  },
  {
   "cell_type": "code",
   "execution_count": null,
   "metadata": {
    "collapsed": true
   },
   "outputs": [],
   "source": [
    "import json\n",
    "import requests\n",
    "\n",
    "api_key = rottenTomatoes_key()\n",
    "\n",
    "url = 'http://api.rottentomatoes.com/api/public/v1.0/lists/dvds/top_rentals.json?apikey=' + api_key\n",
    "data = urllib2.urlopen(url).read()\n",
    "#print data"
   ]
  },
  {
   "cell_type": "markdown",
   "metadata": {
    "slideshow": {
     "slide_type": "slide"
    }
   },
   "source": [
    "JSON\n",
    "======\n",
    "\n",
    "* JavaScript Object Notation\n",
    "* human readable\n",
    "* transmit attribute-value pairs"
   ]
  },
  {
   "cell_type": "code",
   "execution_count": null,
   "metadata": {
    "collapsed": true,
    "slideshow": {
     "slide_type": "slide"
    }
   },
   "outputs": [],
   "source": [
    "a = {'a': 1, 'b':2}\n",
    "s = json.dumps(a)\n",
    "a2 = json.loads(s)\n",
    "\n",
    "## a is a dictionary\n",
    "print a\n",
    "## vs s is a string containing a in JSON encoding\n",
    "print s\n",
    "## reading back the keys are now in unicode\n",
    "print a2"
   ]
  },
  {
   "cell_type": "code",
   "execution_count": null,
   "metadata": {
    "collapsed": true,
    "slideshow": {
     "slide_type": "slide"
    }
   },
   "outputs": [],
   "source": [
    "## create dictionary from JSON \n",
    "dataDict = json.loads(data)\n",
    "\n",
    "## expore dictionary\n",
    "print dataDict.keys()\n",
    "\n",
    "## there is a key named `movies` containing a list of movies as a value\n",
    "movies = dataDict['movies']\n",
    "\n",
    "## each element of the list `movies` is a dictionary\n",
    "print movies[0].keys()\n",
    "\n",
    "## one of the keys is called `ratings`\n",
    "## the value is yet another dictionary\n",
    "print movies[0]['ratings'].keys()\n",
    "\n",
    "## so we made it all the way to find the critics score\n",
    "print movies[0]['ratings']['critics_score']\n"
   ]
  },
  {
   "cell_type": "markdown",
   "metadata": {
    "slideshow": {
     "slide_type": "slide"
    }
   },
   "source": [
    "Quiz\n",
    "=====\n",
    "\n",
    "* build a list with critics scores\n",
    "* build a list with audience scores"
   ]
  },
  {
   "cell_type": "code",
   "execution_count": null,
   "metadata": {
    "collapsed": true,
    "slideshow": {
     "slide_type": "slide"
    }
   },
   "outputs": [],
   "source": [
    "# critics scores list\n",
    "\n",
    "\n",
    "# audience scores list\n"
   ]
  },
  {
   "cell_type": "markdown",
   "metadata": {
    "slideshow": {
     "slide_type": "skip"
    }
   },
   "source": [
    "The following code shows how to create a pandas data frame with the data we gathered from the webpage.\n",
    "Beware of the `set_index()` function in pandas. Per default it does not change the actual data frame! You need to either reassign the output or set the `inplace` argument to `True`."
   ]
  },
  {
   "cell_type": "code",
   "execution_count": null,
   "metadata": {
    "collapsed": true,
    "slideshow": {
     "slide_type": "slide"
    }
   },
   "outputs": [],
   "source": [
    "## create pandas data frame with critics and audience score\n",
    "scores = pd.DataFrame(data=[critics_scores, audience_scores]).transpose()\n",
    "scores.columns = ['critics', 'audience']\n",
    "\n",
    "## also create a list with all movie titles\n",
    "movie_titles = [m['title'] for m in movies]\n",
    "\n",
    "## set index of dataFrame BEWARE of inplace!\n",
    "scores.set_index([movie_titles])\n",
    "\n",
    "## the line above does not changes scores!\n",
    "## You need to either reassign\n",
    "\n",
    "scores = scores.set_index([movie_titles])\n",
    "\n",
    "## or set the inplace argument to True\n",
    "scores.set_index([movie_titles], inplace=True)\n",
    "scores.head(3)"
   ]
  },
  {
   "cell_type": "code",
   "execution_count": null,
   "metadata": {
    "collapsed": true,
    "slideshow": {
     "slide_type": "slide"
    }
   },
   "outputs": [],
   "source": [
    "## create a bar plot with the data\n",
    "## notice that we are using the data frame itself and call its plot function\n",
    "scores.plot(kind = 'bar')\n",
    "\n",
    "## set the title to Score Comparison\n",
    "plt.title('Score Comparison')\n",
    "\n",
    "## set the x label\n",
    "plt.xlabel('Movies')\n",
    "\n",
    "## set the y label\n",
    "plt.ylabel('Scores')"
   ]
  },
  {
   "cell_type": "code",
   "execution_count": null,
   "metadata": {
    "collapsed": true,
    "slideshow": {
     "slide_type": "slide"
    }
   },
   "outputs": [],
   "source": [
    "## show the plot\n",
    "plt.show()"
   ]
  },
  {
   "cell_type": "markdown",
   "metadata": {
    "slideshow": {
     "slide_type": "slide"
    }
   },
   "source": [
    "Twitter Example:\n",
    "================\n",
    "\n",
    "* API a bit more complicated\n",
    "* libraries make life easier\n",
    "* python-twitter\n",
    "\n",
    "https://github.com/bear/python-twitter\n",
    "\n",
    "What we are going to do is scrape Joe's twitter account, and then filter it for the interesting tweets. Defining interesting as tweets that have be re-tweeted at least 10 times. \n"
   ]
  },
  {
   "cell_type": "code",
   "execution_count": null,
   "metadata": {
    "collapsed": true,
    "slideshow": {
     "slide_type": "slide"
    }
   },
   "outputs": [],
   "source": [
    "import twitter\n",
    "\n",
    "## define the necessary keys\n",
    "cKey = twitterAPI_key()\n",
    "cSecret = twitterAPI_secret()\n",
    "aKey = twitterAPI_access_token_key()\n",
    "aSecret = twitterAPI_access_token_secret()\n",
    "\n",
    "## create the api object with the twitter-python library\n",
    "api = twitter.Api(consumer_key=cKey, consumer_secret=cSecret, access_token_key=aKey, access_token_secret=aSecret)\n"
   ]
  },
  {
   "cell_type": "code",
   "execution_count": null,
   "metadata": {
    "collapsed": true,
    "slideshow": {
     "slide_type": "slide"
    }
   },
   "outputs": [],
   "source": [
    "## get the user timeline with screen_name = 'stat110'\n",
    "twitter_statuses = api.GetUserTimeline(screen_name = 'stat110')\n",
    "\n",
    "## create a data frame\n",
    "## first get a list of panda Series or dict\n",
    "pdSeriesList = [pd.Series(t.AsDict()) for t in twitter_statuses]\n",
    "\n",
    "## then create the data frame\n",
    "data = pd.DataFrame(pdSeriesList)\n",
    "\n",
    "data.head(2)"
   ]
  },
  {
   "cell_type": "code",
   "execution_count": null,
   "metadata": {
    "collapsed": true,
    "slideshow": {
     "slide_type": "slide"
    }
   },
   "outputs": [],
   "source": [
    "## filter tweets with enough retweet_count\n",
    "maybe_interesting = data[data.retweet_count>20]\n",
    "\n",
    "## get the text of these tweets\n",
    "tweet_text = maybe_interesting.text\n",
    "\n",
    "## print them out\n",
    "text = tweet_text.values\n",
    "\n",
    "for t in text:\n",
    "    print '######'\n",
    "    print t"
   ]
  },
  {
   "cell_type": "markdown",
   "metadata": {
    "slideshow": {
     "slide_type": "skip"
    }
   },
   "source": [
    "Extracting columns:\n",
    "===================\n",
    "\n",
    "__Warning:__ The returned column `tweet_text` is a `view` on the data\n",
    "    \n",
    "* it is not a copy\n",
    "* you change the Series => you change the DataFrame\n",
    "\n",
    "Below is another example of such a view:"
   ]
  },
  {
   "cell_type": "code",
   "execution_count": null,
   "metadata": {
    "collapsed": true,
    "slideshow": {
     "slide_type": "skip"
    }
   },
   "outputs": [],
   "source": [
    "## create a view for favorite_count on maybe_interesting\n",
    "view = maybe_interesting['favorite_count']\n",
    "print '-----------------'\n",
    "print \"This is view:\"\n",
    "print view\n",
    "## change a value\n",
    "view[8] = 9999\n",
    "\n",
    "## look at original frame\n",
    "print '-----------------'\n",
    "print \"This is view after changing view[8]\"\n",
    "print view\n",
    "\n",
    "print '-----------------'\n",
    "print \"This is maybe_interesting after changing view[8]\"\n",
    "print \"It changed too!\"\n",
    "print maybe_interesting['favorite_count']\n",
    "\n",
    "## to avoid this you can use copy\n",
    "independent_data = maybe_interesting['favorite_count'].copy()\n",
    "independent_data[10] = 999\n",
    "print '-----------------'\n",
    "print \"This is independent_data after changed at 10:\"\n",
    "print independent_data\n",
    "print '-----------------'\n",
    "print \"This is maybe_interesting after changing independent_data:\"\n",
    "print \"It did not change because we only changed a copy of it\"\n",
    "print maybe_interesting['favorite_count']"
   ]
  },
  {
   "cell_type": "markdown",
   "metadata": {
    "collapsed": true,
    "slideshow": {
     "slide_type": "slide"
    }
   },
   "source": [
    "What we covered today:\n",
    "============\n",
    "\n",
    "* Pandas data frames\n",
    "* Guidelines for friendly scraping\n",
    "* Scraping html sites\n",
    "* Scraping with Api's\n",
    "* Basic data cleanup\n"
   ]
  },
  {
   "cell_type": "markdown",
   "metadata": {
    "slideshow": {
     "slide_type": "slide"
    }
   },
   "source": [
    "Further material\n",
    "================\n",
    "\n",
    "* I highly recommend Katharine Jarmul's scraping tutorials\n",
    "* For example [this one](https://www.youtube.com/watch?v=p1iX0uxM1w8)\n",
    "* Pandas has extensive [documentation](http://pandas.pydata.org/pandas-docs/stable/)\n",
    "* Especially the [tem minutes to pandas chapter](http://pandas.pydata.org/pandas-docs/stable/10min.html)\n",
    "\n",
    "* [Greg Reda](http://www.gregreda.com/2013/10/26/using-pandas-on-the-movielens-dataset/) did a lot more pandas examples for the movie lens data set"
   ]
  }
 ],
 "metadata": {
  "celltoolbar": "Slideshow",
  "kernelspec": {
   "display_name": "Python 3",
   "language": "python",
   "name": "python3"
  },
  "language_info": {
   "codemirror_mode": {
    "name": "ipython",
    "version": 3
   },
   "file_extension": ".py",
   "mimetype": "text/x-python",
   "name": "python",
   "nbconvert_exporter": "python",
   "pygments_lexer": "ipython3",
   "version": "3.6.3"
  }
 },
 "nbformat": 4,
 "nbformat_minor": 1
}
